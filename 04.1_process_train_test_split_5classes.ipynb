{
 "cells": [
  {
   "cell_type": "code",
   "execution_count": 2,
   "metadata": {},
   "outputs": [
    {
     "name": "stderr",
     "output_type": "stream",
     "text": [
      "/nfs/ksdata/tran/miniconda3/envs/python_3.8/lib/python3.8/site-packages/tqdm/auto.py:21: TqdmWarning: IProgress not found. Please update jupyter and ipywidgets. See https://ipywidgets.readthedocs.io/en/stable/user_install.html\n",
      "  from .autonotebook import tqdm as notebook_tqdm\n"
     ]
    }
   ],
   "source": [
    "import os\n",
    "\n",
    "import numpy as np\n",
    "import pandas as pd\n",
    "\n",
    "import torch\n",
    "import torchvision\n",
    "\n",
    "import matplotlib.pyplot as plt\n",
    "import lightning as L\n",
    "\n",
    "import torch.nn as nn\n",
    "import torch.nn.functional as F\n",
    "import torch.optim as optim\n",
    "\n",
    "from sklearn.model_selection import train_test_split\n"
   ]
  },
  {
   "cell_type": "code",
   "execution_count": 3,
   "metadata": {},
   "outputs": [
    {
     "name": "stderr",
     "output_type": "stream",
     "text": [
      "Seed set to 42\n"
     ]
    },
    {
     "data": {
      "text/plain": [
       "42"
      ]
     },
     "execution_count": 3,
     "metadata": {},
     "output_type": "execute_result"
    }
   ],
   "source": [
    "TEST = True\n",
    "\n",
    "random_seed = 42\n",
    "L.seed_everything(random_seed)"
   ]
  },
  {
   "cell_type": "code",
   "execution_count": 4,
   "metadata": {},
   "outputs": [],
   "source": [
    "TRAIN_SIZE, VAL_SIZE, TEST_SIZE = 0.8, 0.1, 0.1"
   ]
  },
  {
   "cell_type": "markdown",
   "metadata": {},
   "source": [
    "## TRAIN TEST SPLIT"
   ]
  },
  {
   "cell_type": "code",
   "execution_count": 8,
   "metadata": {},
   "outputs": [],
   "source": [
    "fft_file = \"dataset/processed_data_5classes/torso_fft.npy\"\n",
    "label_file = \"dataset/processed_data_5classes/torso_label.npy\""
   ]
  },
  {
   "cell_type": "code",
   "execution_count": 9,
   "metadata": {},
   "outputs": [],
   "source": [
    "dataset_path = \"dataset/processed_data_5classes\"\n",
    "prefix = \"torso_\"\n",
    "postfix = \"_fft\"\n",
    "\n",
    "fft_train_file = os.path.join(dataset_path, prefix + \"train\" + postfix + \".npy\")\n",
    "label_train_file = os.path.join(dataset_path, prefix + \"train_label.npy\")\n",
    "\n",
    "fft_val_file = os.path.join(dataset_path, prefix + \"val\" + postfix + \".npy\")\n",
    "label_val_file = os.path.join(dataset_path, prefix + \"val_label.npy\")\n",
    "\n",
    "fft_test_file = os.path.join(dataset_path, prefix + \"test\" + postfix + \".npy\")\n",
    "label_test_file = os.path.join(dataset_path, prefix + \"test_label.npy\")\n"
   ]
  },
  {
   "cell_type": "code",
   "execution_count": 10,
   "metadata": {},
   "outputs": [],
   "source": [
    "fft_data = np.load(fft_file)\n",
    "label = np.load(label_file)"
   ]
  },
  {
   "cell_type": "code",
   "execution_count": 11,
   "metadata": {},
   "outputs": [
    {
     "data": {
      "text/plain": [
       "(112248,)"
      ]
     },
     "execution_count": 11,
     "metadata": {},
     "output_type": "execute_result"
    }
   ],
   "source": [
    "label.shape"
   ]
  },
  {
   "cell_type": "code",
   "execution_count": 13,
   "metadata": {},
   "outputs": [
    {
     "name": "stdout",
     "output_type": "stream",
     "text": [
      "train_data.shape, train_label.shape (89798, 6, 257) (89798,)\n",
      "val_data.shape, val_label.shape (11225, 6, 257) (11225,)\n",
      "test_data.shape, test_label.shape (11225, 6, 257) (11225,)\n"
     ]
    }
   ],
   "source": [
    "\n",
    "train_val_data, test_data, train_val_label, test_label = \\\n",
    "    train_test_split(fft_data, label, test_size=TEST_SIZE, stratify=label, shuffle=True)\n",
    "\n",
    "train_data, val_data, train_label, val_label = \\\n",
    "    train_test_split(train_val_data, train_val_label, test_size=VAL_SIZE / (TRAIN_SIZE + VAL_SIZE), stratify=train_val_label, shuffle=True)\n",
    "\n",
    "print(\"train_data.shape, train_label.shape\", train_data.shape, train_label.shape)\n",
    "print(\"val_data.shape, val_label.shape\", val_data.shape, val_label.shape)\n",
    "print(\"test_data.shape, test_label.shape\", test_data.shape, test_label.shape)"
   ]
  },
  {
   "cell_type": "code",
   "execution_count": 14,
   "metadata": {},
   "outputs": [],
   "source": [
    "np.save(fft_train_file, train_data)\n",
    "np.save(label_train_file, train_label)\n",
    "np.save(fft_val_file, val_data)\n",
    "np.save(label_val_file, val_label)\n",
    "np.save(fft_test_file, test_data)\n",
    "np.save(label_test_file, test_label)"
   ]
  },
  {
   "cell_type": "code",
   "execution_count": null,
   "metadata": {},
   "outputs": [],
   "source": []
  },
  {
   "cell_type": "code",
   "execution_count": null,
   "metadata": {},
   "outputs": [],
   "source": []
  }
 ],
 "metadata": {
  "kernelspec": {
   "display_name": "Python 3 (ipykernel)",
   "language": "python",
   "name": "python3"
  },
  "language_info": {
   "codemirror_mode": {
    "name": "ipython",
    "version": 3
   },
   "file_extension": ".py",
   "mimetype": "text/x-python",
   "name": "python",
   "nbconvert_exporter": "python",
   "pygments_lexer": "ipython3",
   "version": "3.8.18"
  }
 },
 "nbformat": 4,
 "nbformat_minor": 4
}
