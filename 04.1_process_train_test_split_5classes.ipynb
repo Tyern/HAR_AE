{
 "cells": [
  {
   "cell_type": "code",
   "execution_count": 58,
   "metadata": {},
   "outputs": [],
   "source": [
    "import os\n",
    "\n",
    "import numpy as np\n",
    "import pandas as pd\n",
    "\n",
    "import torch\n",
    "import torchvision\n",
    "\n",
    "import matplotlib.pyplot as plt\n",
    "import lightning as L\n",
    "\n",
    "import torch.nn as nn\n",
    "import torch.nn.functional as F\n",
    "import torch.optim as optim\n",
    "\n",
    "from sklearn.model_selection import train_test_split\n"
   ]
  },
  {
   "cell_type": "code",
   "execution_count": 59,
   "metadata": {},
   "outputs": [
    {
     "name": "stderr",
     "output_type": "stream",
     "text": [
      "Seed set to 42\n"
     ]
    },
    {
     "data": {
      "text/plain": [
       "42"
      ]
     },
     "execution_count": 59,
     "metadata": {},
     "output_type": "execute_result"
    }
   ],
   "source": [
    "TEST = True\n",
    "\n",
    "random_seed = 42\n",
    "L.seed_everything(random_seed)"
   ]
  },
  {
   "cell_type": "code",
   "execution_count": 60,
   "metadata": {},
   "outputs": [],
   "source": [
    "TRAIN_SIZE, VAL_SIZE, TEST_SIZE = 0.8, 0.1, 0.1"
   ]
  },
  {
   "cell_type": "markdown",
   "metadata": {},
   "source": [
    "## TRAIN TEST SPLIT"
   ]
  },
  {
   "cell_type": "code",
   "execution_count": 61,
   "metadata": {},
   "outputs": [],
   "source": [
    "dataset_path = os.path.join(\"dataset\", \"processed_concat_data\")"
   ]
  },
  {
   "cell_type": "code",
   "execution_count": 62,
   "metadata": {},
   "outputs": [],
   "source": [
    "fft_file = os.path.join(dataset_path, \"torso_fft.npy\")\n",
    "label_file = os.path.join(dataset_path, \"torso_label.npy\")"
   ]
  },
  {
   "cell_type": "code",
   "execution_count": 63,
   "metadata": {},
   "outputs": [],
   "source": [
    "prefix = \"torso_\"\n",
    "postfix = \"_fft\"\n",
    "\n",
    "train_val_test_10000_5classes_file = os.path.join(dataset_path, prefix + \"train_val_test\" + postfix + \".npz\")\n",
    "train_val_test_10000_5classes_choice_idx_file = os.path.join(dataset_path, prefix + \"train_val_test_choice_idx\" + postfix + \".npz\")\n",
    "\n",
    "# fft_train_file = os.path.join(dataset_path, prefix + \"train\" + postfix + \".npy\")\n",
    "# label_train_file = os.path.join(dataset_path, prefix + \"train_label.npy\")\n",
    "\n",
    "# fft_val_file = os.path.join(dataset_path, prefix + \"val\" + postfix + \".npy\")\n",
    "# label_val_file = os.path.join(dataset_path, prefix + \"val_label.npy\")\n",
    "\n",
    "# fft_test_file = os.path.join(dataset_path, prefix + \"test\" + postfix + \".npy\")\n",
    "# label_test_file = os.path.join(dataset_path, prefix + \"test_label.npy\")\n"
   ]
  },
  {
   "cell_type": "code",
   "execution_count": 64,
   "metadata": {},
   "outputs": [],
   "source": [
    "fft_data = np.load(fft_file)\n",
    "label = np.load(label_file)"
   ]
  },
  {
   "cell_type": "code",
   "execution_count": 81,
   "metadata": {},
   "outputs": [
    {
     "data": {
      "text/plain": [
       "(array([1., 2., 3., 4., 5.]),\n",
       " array([26036, 26000,  8690, 24399, 33686], dtype=int64))"
      ]
     },
     "execution_count": 81,
     "metadata": {},
     "output_type": "execute_result"
    }
   ],
   "source": [
    "np.unique(label, return_counts=True)"
   ]
  },
  {
   "cell_type": "code",
   "execution_count": 65,
   "metadata": {},
   "outputs": [],
   "source": [
    "fft_data_down_samp_list = []\n",
    "label_samp_list = []\n",
    "choice_samp_list = []\n",
    "\n",
    "for i in range(1, 1+5):\n",
    "    one_class_idx = np.where(label == i)[0]\n",
    "    choice_idx_list = np.random.choice(\n",
    "        one_class_idx, \n",
    "        min(10000, len(one_class_idx)), \n",
    "        replace=False)\n",
    "    \n",
    "    label_samp_list.append(label[choice_idx_list])\n",
    "\n",
    "    fft_data_down_samp_list.append(fft_data[choice_idx_list])\n",
    "    choice_samp_list.append(choice_idx_list)\n",
    "\n",
    "choice_samp = np.concatenate(choice_samp_list, axis=0)\n",
    "fft_data_down_samp = np.concatenate(fft_data_down_samp_list, axis=0)\n",
    "label_samp = np.concatenate(label_samp_list, axis=0)"
   ]
  },
  {
   "cell_type": "code",
   "execution_count": 66,
   "metadata": {},
   "outputs": [
    {
     "name": "stdout",
     "output_type": "stream",
     "text": [
      "(48690, 6, 257) (48690,)\n"
     ]
    }
   ],
   "source": [
    "print(fft_data_down_samp.shape, label_samp.shape)"
   ]
  },
  {
   "cell_type": "code",
   "execution_count": 67,
   "metadata": {},
   "outputs": [
    {
     "name": "stdout",
     "output_type": "stream",
     "text": [
      "train_data.shape, train_label.shape (38952, 6, 257) (38952,)\n",
      "val_data.shape, val_label.shape (4869, 6, 257) (4869,)\n",
      "test_data.shape, test_label.shape (4869, 6, 257) (4869,)\n"
     ]
    }
   ],
   "source": [
    "\n",
    "train_val_data, test_data, train_val_label, test_label, train_val_choice, test_choice = \\\n",
    "    train_test_split(fft_data_down_samp, label_samp, choice_samp, test_size=TEST_SIZE, stratify=label_samp, shuffle=True)\n",
    "\n",
    "train_data, val_data, train_label, val_label, train_choice, val_choice = \\\n",
    "    train_test_split(train_val_data, train_val_label, train_val_choice, test_size=VAL_SIZE / (TRAIN_SIZE + VAL_SIZE), stratify=train_val_label, shuffle=True)\n",
    "\n",
    "print(\"train_data.shape, train_label.shape\", train_data.shape, train_label.shape)\n",
    "print(\"val_data.shape, val_label.shape\", val_data.shape, val_label.shape)\n",
    "print(\"test_data.shape, test_label.shape\", test_data.shape, test_label.shape)"
   ]
  },
  {
   "cell_type": "code",
   "execution_count": 82,
   "metadata": {},
   "outputs": [
    {
     "data": {
      "text/plain": [
       "(array([1., 2., 4., 5.]), array([16036, 16000, 14399, 23686], dtype=int64))"
      ]
     },
     "execution_count": 82,
     "metadata": {},
     "output_type": "execute_result"
    }
   ],
   "source": [
    "additional_choice_idx_list = np.delete(np.arange(len(label)), choice_samp, axis=0)\n",
    "np.unique(label[additional_choice_idx_list], return_counts=True)\n"
   ]
  },
  {
   "cell_type": "code",
   "execution_count": 83,
   "metadata": {},
   "outputs": [],
   "source": [
    "additional_fft_data_list = []\n",
    "additional_label_list = []\n",
    "additional_choice_list = []\n",
    "\n",
    "for i in range(1, 1+5):\n",
    "    one_class_idx = np.where(label[additional_choice_idx_list] == i)[0]\n",
    "\n",
    "    choice_idx_list = np.random.choice(\n",
    "        one_class_idx, \n",
    "        min(5000, len(one_class_idx)), \n",
    "        replace=False)\n",
    "    \n",
    "    additional_label_list.append((label[additional_choice_idx_list])[choice_idx_list])\n",
    "    additional_fft_data_list.append(fft_data[additional_choice_idx_list][choice_idx_list])\n",
    "    additional_choice_list.append(additional_choice_idx_list[choice_idx_list])\n",
    "\n",
    "additional_choice = np.concatenate(additional_choice_list, axis=0)\n",
    "additional_fft_data = np.concatenate(additional_fft_data_list, axis=0)\n",
    "additional_label = np.concatenate(additional_label_list, axis=0)"
   ]
  },
  {
   "cell_type": "code",
   "execution_count": null,
   "metadata": {},
   "outputs": [],
   "source": []
  },
  {
   "cell_type": "code",
   "execution_count": 35,
   "metadata": {},
   "outputs": [],
   "source": [
    "# np.save(fft_train_file, train_data)\n",
    "# np.save(label_train_file, train_label)\n",
    "# np.save(fft_val_file, val_data)\n",
    "# np.save(label_val_file, val_label)\n",
    "# np.save(fft_test_file, test_data)\n",
    "# np.save(label_test_file, test_label)"
   ]
  },
  {
   "cell_type": "code",
   "execution_count": 84,
   "metadata": {},
   "outputs": [],
   "source": [
    "np.savez(train_val_test_10000_5classes_file, \n",
    "         train_data=train_data, \n",
    "         train_label=train_label,\n",
    "         val_data=val_data,\n",
    "         val_label=val_label,\n",
    "         test_data=test_data,\n",
    "         test_label=test_label,\n",
    "         additional_data=additional_fft_data,\n",
    "         additional_label=additional_label)\n",
    "\n",
    "np.savez(train_val_test_10000_5classes_choice_idx_file,\n",
    "         train_choice=train_choice,\n",
    "         val_choice=val_choice,\n",
    "         test_choice=test_choice,\n",
    "         additional_choice=additional_choice)"
   ]
  },
  {
   "cell_type": "code",
   "execution_count": null,
   "metadata": {},
   "outputs": [],
   "source": []
  }
 ],
 "metadata": {
  "kernelspec": {
   "display_name": "Python 3 (ipykernel)",
   "language": "python",
   "name": "python3"
  },
  "language_info": {
   "codemirror_mode": {
    "name": "ipython",
    "version": 3
   },
   "file_extension": ".py",
   "mimetype": "text/x-python",
   "name": "python",
   "nbconvert_exporter": "python",
   "pygments_lexer": "ipython3",
   "version": "3.11.5"
  }
 },
 "nbformat": 4,
 "nbformat_minor": 4
}
