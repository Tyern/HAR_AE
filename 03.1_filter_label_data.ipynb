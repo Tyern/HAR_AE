{
 "cells": [
  {
   "cell_type": "code",
   "execution_count": null,
   "metadata": {},
   "outputs": [],
   "source": [
    "import os\n",
    "\n",
    "import numpy as np\n",
    "import pandas as pd\n",
    "\n",
    "import torch\n",
    "import torchvision\n",
    "\n",
    "import matplotlib.pyplot as plt\n",
    "import lightning as L\n",
    "\n",
    "import torch.nn as nn\n",
    "import torch.nn.functional as F\n",
    "import torch.optim as optim\n",
    "\n",
    "from sklearn.model_selection import train_test_split\n"
   ]
  },
  {
   "cell_type": "code",
   "execution_count": null,
   "metadata": {},
   "outputs": [],
   "source": [
    "TEST = True\n",
    "\n",
    "random_seed = 42\n",
    "L.seed_everything(random_seed)"
   ]
  },
  {
   "cell_type": "code",
   "execution_count": null,
   "metadata": {},
   "outputs": [],
   "source": [
    "TRAIN_SIZE, VAL_SIZE, TEST_SIZE = 0.7, 0.15, 0.15"
   ]
  },
  {
   "cell_type": "code",
   "execution_count": null,
   "metadata": {},
   "outputs": [],
   "source": [
    "fft_file = \"dataset/processed_data/torso_fft.npy\"\n",
    "label_file = \"dataset/processed_data/torso_label.npy\"\n",
    "\n",
    "label_list = [\"still\", \"walking\", \"run\", \"bike\", \"bus\", \"car\", \"train\", \"subway\"]"
   ]
  },
  {
   "cell_type": "code",
   "execution_count": null,
   "metadata": {},
   "outputs": [],
   "source": [
    "fft_data = np.load(fft_file)\n",
    "label_data = np.load(label_file)"
   ]
  },
  {
   "cell_type": "code",
   "execution_count": null,
   "metadata": {},
   "outputs": [],
   "source": [
    "activity_range = list(range(1, 8+1))\n",
    "\n",
    "label_idx = np.array([not any(x - x[0]) for x in label_data])\n",
    "print(\"label_idx\", label_idx)"
   ]
  },
  {
   "cell_type": "code",
   "execution_count": null,
   "metadata": {},
   "outputs": [],
   "source": [
    "data_filtered = fft_data[label_idx]\n",
    "label_filtered = label_data[label_idx]"
   ]
  },
  {
   "cell_type": "code",
   "execution_count": null,
   "metadata": {},
   "outputs": [],
   "source": [
    "print(\"data_filtered.shape\", data_filtered.shape)\n",
    "print(\"label_filtered.shape\", label_filtered.shape)"
   ]
  },
  {
   "cell_type": "code",
   "execution_count": null,
   "metadata": {},
   "outputs": [],
   "source": [
    "label = label_filtered[:, 0]\n",
    "label"
   ]
  },
  {
   "cell_type": "code",
   "execution_count": null,
   "metadata": {},
   "outputs": [],
   "source": [
    "activity_range = list(range(1, 5+1)) # filter first 5 activity, ignore the others\n",
    "\n",
    "label_filter_idx = list(map(lambda x: x in activity_range, label))\n",
    "\n",
    "label_filtered = label[label_filter_idx]\n",
    "label_filtered_data = data_filtered[label_filter_idx]"
   ]
  },
  {
   "cell_type": "code",
   "execution_count": null,
   "metadata": {},
   "outputs": [],
   "source": [
    "save_folder = os.path.join(\"dataset\", \"processed_data_5classes\")\n",
    "\n",
    "np.save(os.path.join(save_folder, \"torso_fft.npy\") , label_filtered_data)\n",
    "np.save(os.path.join(save_folder, \"torso_label.npy\"), label_filtered)"
   ]
  }
 ],
 "metadata": {
  "language_info": {
   "name": "python"
  },
  "orig_nbformat": 4
 },
 "nbformat": 4,
 "nbformat_minor": 2
}
