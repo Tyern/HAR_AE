{
 "cells": [
  {
   "cell_type": "code",
   "execution_count": 10,
   "metadata": {},
   "outputs": [],
   "source": [
    "import os\n",
    "import sys\n",
    "import json\n",
    "import glob\n",
    "\n",
    "import numpy as np\n",
    "import pandas as pd\n",
    "\n",
    "import torch\n",
    "import torchvision\n",
    "\n",
    "import matplotlib.pyplot as plt\n",
    "import lightning as L\n",
    "\n",
    "import torch.nn as nn\n",
    "import torch.nn.functional as F\n",
    "import torch.optim as optim\n",
    "\n",
    "from data_module.data_module import FFTDataModule\n",
    "from model.AE_model import AECNN1DModel"
   ]
  },
  {
   "cell_type": "code",
   "execution_count": 2,
   "metadata": {},
   "outputs": [
    {
     "name": "stderr",
     "output_type": "stream",
     "text": [
      "Seed set to 42\n"
     ]
    },
    {
     "data": {
      "text/plain": [
       "42"
      ]
     },
     "execution_count": 2,
     "metadata": {},
     "output_type": "execute_result"
    }
   ],
   "source": [
    "PREDICT = True\n",
    "\n",
    "random_seed = 42\n",
    "L.seed_everything(random_seed)"
   ]
  },
  {
   "cell_type": "code",
   "execution_count": 3,
   "metadata": {},
   "outputs": [],
   "source": [
    "n_epochs = 20000\n",
    "patience = n_epochs//100\n",
    "\n",
    "optimizer_param_dict = {\n",
    "    \"Adam\": (optim.Adam, {\n",
    "        \"lr\": 0.001,\n",
    "    }),\n",
    "    \"SGD\": (optim.SGD, {\n",
    "        \"lr\": 0.001,\n",
    "        \"momentum\": 0.5,\n",
    "    }),\n",
    "}\n",
    "batch_size = 512\n",
    "optimizer, optimizer_param = optimizer_param_dict[\"Adam\"]\n",
    "dataset_path = \"/nfs/ksdata/tran/HAR_AE/dataset/processed_concat_data\"\n",
    "\n",
    "log_save_dir = \"lightning_logs/14_AE_5classes\""
   ]
  },
  {
   "cell_type": "code",
   "execution_count": 4,
   "metadata": {},
   "outputs": [],
   "source": [
    "from lightning.pytorch.callbacks.early_stopping import EarlyStopping\n",
    "from lightning.pytorch.callbacks import ModelCheckpoint\n",
    "from lightning.pytorch.loggers import TensorBoardLogger, CSVLogger\n",
    "from lightning.pytorch.utilities.model_summary import ModelSummary\n",
    "\n",
    "def train_one_model(net, model_name):\n",
    "    \n",
    "    tensorboard_logger = TensorBoardLogger(save_dir=log_save_dir, name=model_name,)\n",
    "    csv_logger = CSVLogger(save_dir=log_save_dir, name=model_name,)\n",
    "    checkpoint_callback = ModelCheckpoint(\n",
    "        dirpath=None,\n",
    "        save_top_k=1,\n",
    "        monitor=\"val_mse\",\n",
    "        mode=\"min\",\n",
    "        filename=\"sample_{epoch:02d}-{step:02d}-{val_loss:02f}\"\n",
    "    )\n",
    "\n",
    "    trainer = L.Trainer(\n",
    "        logger=[tensorboard_logger, csv_logger],\n",
    "        callbacks=[EarlyStopping(monitor=\"val_mse\", patience=patience), checkpoint_callback],\n",
    "        max_epochs=n_epochs,\n",
    "        check_val_every_n_epoch=10,\n",
    "        accelerator=\"auto\"\n",
    "        )\n",
    "\n",
    "    data_module = FFTDataModule(dataset_path=dataset_path, batch_size=batch_size)\n",
    "\n",
    "    trainer.fit(model=net, datamodule=data_module)\n",
    "    trainer_test_dict = trainer.logged_metrics\n",
    "    \n",
    "    trainer.test(model=net, datamodule=data_module)\n",
    "    trainer_test_dict.update(trainer.logged_metrics)\n",
    "\n",
    "    for key in trainer_test_dict.keys():\n",
    "        trainer_test_dict[key] = trainer_test_dict[key].item()\n",
    "    \n",
    "    with open(os.path.join(trainer.logger.log_dir, \"result.json\"), \"w\") as f:\n",
    "        json.dump(trainer_test_dict, f, indent=4)"
   ]
  },
  {
   "cell_type": "code",
   "execution_count": 5,
   "metadata": {},
   "outputs": [],
   "source": [
    "run_filter_list = [ # CNN filter, Linear filter\n",
    "    ((16, 32), (256, 128)),\n",
    "    ((32, 64), (256, 128)),\n",
    "    ((64, 128), (256, 128)),\n",
    "    ((16, 32, 64), (256, 128)),\n",
    "    ((32, 64, 128), (256, 128)),\n",
    "    ((16, 32), (512, 256)),\n",
    "    ((32, 64), (512, 256)),\n",
    "    ((64, 128), (512, 256)),\n",
    "    ((16, 32, 64), (512, 256)),\n",
    "    ((32, 64, 128), (512, 256)),\n",
    "    ((16, 32), (128, 64)),\n",
    "    ((32, 64), (128, 64)),\n",
    "    ((64, 128), (128, 64)),\n",
    "    ((16, 32, 64), (128, 64)),\n",
    "    ((32, 64, 128), (128, 64)),\n",
    "    ((16, 32), (256, 128, 64)),\n",
    "    ((32, 64), (256, 128, 64)),\n",
    "    ((64, 128), (256, 128, 64)),\n",
    "    ((16, 32, 64), (256, 128, 64)),\n",
    "    ((32, 64, 128), (256, 128, 64)),\n",
    "    ((16, 32), (512, 256, 128)),\n",
    "    ((32, 64), (512, 256, 128)),\n",
    "    ((64, 128), (512, 256, 128)),\n",
    "    ((16, 32, 64), (512, 256, 128)),\n",
    "    ((32, 64, 128), (512, 256, 128)),\n",
    "    ((16, 32), (128, 64, 32)),\n",
    "    ((32, 64), (128, 64, 32)),\n",
    "    ((64, 128), (128, 64, 32)),\n",
    "    ((16, 32, 64), (128, 64, 32)),\n",
    "    ((32, 64, 128), (128, 64, 32)),\n",
    "]"
   ]
  },
  {
   "cell_type": "code",
   "execution_count": 6,
   "metadata": {},
   "outputs": [],
   "source": [
    "import argparse\n",
    "\n",
    "parser = argparse.ArgumentParser(description=\"\", formatter_class=argparse.ArgumentDefaultsHelpFormatter)\n",
    "\n",
    "parser.add_argument(\"--idx\", type=int, default=0,\n",
    "                    help=f\"learning pattern min=0, max={len(run_filter_list) - 1}\")\n",
    "\n",
    "if os.path.basename(sys.argv[0]) == 'ipykernel_launcher.py':\n",
    "    args = parser.parse_args(args=[])\n",
    "else:\n",
    "    args = parser.parse_args()"
   ]
  },
  {
   "cell_type": "code",
   "execution_count": 7,
   "metadata": {},
   "outputs": [],
   "source": [
    "def create_model(cnn_filters, linear_filters):\n",
    "    assert len(cnn_filters) > 0 and len(linear_filters) > 0\n",
    "\n",
    "    first_input_channel = 6\n",
    "    cnn_channel_param = [(first_input_channel, cnn_filters[0], 8, 0, 3)]\n",
    "    for cnn_filter_idx in range(len(cnn_filters) - 1):\n",
    "        in_c, out_c = cnn_filters[cnn_filter_idx], cnn_filters[cnn_filter_idx + 1]\n",
    "        cnn_channel_param.append((in_c, out_c, 8, 0, 3))\n",
    "\n",
    "    linear_channel_param = linear_filters\n",
    "    net = AECNN1DModel(\n",
    "        optimizer = optimizer,\n",
    "        optimizer_param = optimizer_param, \n",
    "        cnn_channel_param = cnn_channel_param,\n",
    "        linear_channel_param = linear_channel_param,\n",
    "    )\n",
    "\n",
    "    return net\n",
    "    "
   ]
  },
  {
   "cell_type": "code",
   "execution_count": 9,
   "metadata": {},
   "outputs": [],
   "source": [
    "if not PREDICT:\n",
    "    cnn_filters, linear_filters = run_filter_list[args.idx]\n",
    "    net = create_model(cnn_filters, linear_filters)\n",
    "    model_summary = ModelSummary(net, max_depth=6)\n",
    "    print(model_summary)\n",
    "\n",
    "    train_one_model(net, model_name=f\"pattern_{args.idx}\")\n"
   ]
  },
  {
   "cell_type": "code",
   "execution_count": 12,
   "metadata": {},
   "outputs": [],
   "source": [
    "def calculate_rc(linear_filters):\n",
    "    last_linear_node = linear_filters[-1]\n",
    "    rc = 100 * last_linear_node / ( 257 * 6 )\n",
    "    return rc"
   ]
  },
  {
   "cell_type": "code",
   "execution_count": 28,
   "metadata": {},
   "outputs": [
    {
     "data": {
      "image/png": "[encoded data removed]",
      "text/plain": [
       "<Figure size 600x400 with 1 Axes>"
      ]
     },
     "metadata": {},
     "output_type": "display_data"
    }
   ],
   "source": [
    "if PREDICT:\n",
    "    result_list = []\n",
    "    \n",
    "    for run_idx, run_filter in enumerate(run_filter_list):\n",
    "        result_file_path = os.path.join(log_save_dir, f\"pattern_{run_idx}\", \"version_0\", \"result.json\")\n",
    "        with open(result_file_path) as f:\n",
    "            result_dict = json.load(f)\n",
    "\n",
    "        cnn_filters, linear_filters = run_filter\n",
    "        rc = calculate_rc(linear_filters)\n",
    "\n",
    "        result_list.append((rc, result_dict[\"test_mse\"]))\n",
    "\n",
    "    fig, ax = plt.subplots(figsize=(6, 4))\n",
    "\n",
    "    x = [_[0] for _ in result_list]\n",
    "    y = [_[1] for _ in result_list]\n",
    "    \n",
    "    ax.scatter(x, y, color=\"red\")\n",
    "    fig.suptitle(\"AutoEncoder: MSE and compression rate depend on propose model\")\n",
    "    ax.set_xlabel(\"compression rate (%)\")\n",
    "    ax.set_ylabel(\"MSE\")\n",
    "\n",
    "    for run_idx, run_filter in enumerate(run_filter_list):\n",
    "        ax.annotate(str(run_idx), (x[run_idx], y[run_idx]))\n"
   ]
  },
  {
   "cell_type": "code",
   "execution_count": 29,
   "metadata": {},
   "outputs": [
    {
     "name": "stdout",
     "output_type": "stream",
     "text": [
      "((64, 128), (256, 128))\n",
      "((64, 128), (256, 128, 64))\n",
      "((64, 128), (128, 64, 32))\n"
     ]
    }
   ],
   "source": [
    "print(run_filter_list[2])\n",
    "print(run_filter_list[17])\n",
    "print(run_filter_list[27])"
   ]
  },
  {
   "cell_type": "code",
   "execution_count": null,
   "metadata": {},
   "outputs": [],
   "source": []
  }
 ],
 "metadata": {
  "interpreter": {
   "hash": "ce20693ee18325632b860fb71df90bb6db110e9db4cb480753762aeffe35e52c"
  },
  "kernelspec": {
   "display_name": "Python 3 (ipykernel)",
   "language": "python",
   "name": "python3"
  },
  "language_info": {
   "codemirror_mode": {
    "name": "ipython",
    "version": 3
   },
   "file_extension": ".py",
   "mimetype": "text/x-python",
   "name": "python",
   "nbconvert_exporter": "python",
   "pygments_lexer": "ipython3",
   "version": "3.8.18"
  }
 },
 "nbformat": 4,
 "nbformat_minor": 4
}
