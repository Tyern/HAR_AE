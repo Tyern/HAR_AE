{
 "cells": [
  {
   "cell_type": "code",
   "execution_count": 78,
   "metadata": {},
   "outputs": [],
   "source": [
    "import os\n",
    "import sys\n",
    "import json\n",
    "\n",
    "import numpy as np\n",
    "import pandas as pd\n",
    "\n",
    "import torch\n",
    "import torchvision\n",
    "\n",
    "import matplotlib.pyplot as plt\n",
    "import lightning as L\n",
    "\n",
    "import torch.nn as nn\n",
    "import torch.nn.functional as F\n",
    "import torch.optim as optim\n",
    "\n",
    "import seaborn as sns\n",
    "from sklearn.metrics import confusion_matrix, accuracy_score, f1_score\n",
    "\n",
    "from data_module.data_module import FFTDataModule\n",
    "from model.enc_classifier_model import AE1DClassifier\n",
    "from model.AE_model import AECNN1DModel"
   ]
  },
  {
   "cell_type": "code",
   "execution_count": 2,
   "metadata": {},
   "outputs": [
    {
     "name": "stderr",
     "output_type": "stream",
     "text": [
      "Seed set to 42\n"
     ]
    },
    {
     "data": {
      "text/plain": [
       "42"
      ]
     },
     "execution_count": 2,
     "metadata": {},
     "output_type": "execute_result"
    }
   ],
   "source": [
    "random_seed = 42\n",
    "L.seed_everything(random_seed)"
   ]
  },
  {
   "cell_type": "code",
   "execution_count": 6,
   "metadata": {},
   "outputs": [],
   "source": [
    "n_epochs = 20000\n",
    "patience = n_epochs//100\n",
    "\n",
    "optimizer_param_dict = {\n",
    "    \"Adam\": (optim.Adam, {\n",
    "        \"lr\": 0.001,\n",
    "    }),\n",
    "    \"SGD\": (optim.SGD, {\n",
    "        \"lr\": 0.001,\n",
    "        \"momentum\": 0.5,\n",
    "    }),\n",
    "}\n",
    "batch_size = 512\n",
    "optimizer, optimizer_param = optimizer_param_dict[\"Adam\"]\n",
    "dataset_path = \"/nfs/ksdata/tran/HAR_AE/dataset/processed_concat_data\"\n",
    "AE1D_ckpt_path = \"lightning_logs/14_AE_5classes/pattern_27/version_0/checkpoints/sample_epoch=3419-step=68400-val_loss=0.000000.ckpt\"\n",
    "\n",
    "log_save_dir = \"lightning_logs/15_enc_classify_5classes_AEpattern27\""
   ]
  },
  {
   "cell_type": "code",
   "execution_count": null,
   "metadata": {},
   "outputs": [],
   "source": [
    "print(\" ----------------------start training---------------------------\")\n",
    "from lightning.pytorch.callbacks.early_stopping import EarlyStopping\n",
    "from lightning.pytorch.callbacks import ModelCheckpoint\n",
    "from lightning.pytorch.loggers import TensorBoardLogger, CSVLogger\n",
    "from lightning.pytorch.utilities.model_summary import ModelSummary\n",
    "\n",
    "def train_one_model(net, model_name):\n",
    "    tensorboard_logger = TensorBoardLogger(save_dir=log_save_dir, name=model_name,)\n",
    "    csv_logger = CSVLogger(save_dir=log_save_dir, name=model_name,)\n",
    "    checkpoint_callback = ModelCheckpoint(\n",
    "        dirpath=None,\n",
    "        save_top_k=1,\n",
    "        monitor=\"val_loss\",\n",
    "        mode=\"min\",\n",
    "        filename=\"sample_{epoch:02d}-{step:02d}-{val_loss:02f}\"\n",
    "    )\n",
    "    \n",
    "    trainer = L.Trainer(\n",
    "        logger=[tensorboard_logger, csv_logger],\n",
    "        callbacks=[EarlyStopping(monitor=\"val_loss\", patience=patience), checkpoint_callback],\n",
    "        max_epochs=n_epochs,\n",
    "        check_val_every_n_epoch=10,\n",
    "        accelerator=\"auto\"\n",
    "        )\n",
    "    \n",
    "    data_module = FFTDataModule(dataset_path=dataset_path, batch_size=batch_size)\n",
    "    \n",
    "    trainer.fit(model=net, datamodule=data_module)\n",
    "    trainer_test_dict = trainer.logged_metrics\n",
    "    \n",
    "    trainer.test(model=net, datamodule=data_module)\n",
    "    trainer_test_dict.update(trainer.logged_metrics)\n",
    "\n",
    "    for key in trainer_test_dict.keys():\n",
    "        trainer_test_dict[key] = trainer_test_dict[key].item()\n",
    "    \n",
    "    with open(os.path.join(trainer.logger.log_dir, \"result.json\"), \"w\") as f:\n",
    "        json.dump(trainer_test_dict, f)"
   ]
  },
  {
   "cell_type": "code",
   "execution_count": 7,
   "metadata": {},
   "outputs": [],
   "source": [
    "run_filter_list = [\n",
    "    {\"linear_channel_param\": [128, 64], \"is_dropout\": False, },\n",
    "    {\"linear_channel_param\": [64, 32], \"is_dropout\": False, },\n",
    "    {\"linear_channel_param\": [128, 64], \"is_dropout\": True, },\n",
    "    {\"linear_channel_param\": [64, 32], \"is_dropout\": True, },\n",
    "]"
   ]
  },
  {
   "cell_type": "code",
   "execution_count": 10,
   "metadata": {},
   "outputs": [],
   "source": [
    "import argparse\n",
    "\n",
    "parser = argparse.ArgumentParser(description=\"\", formatter_class=argparse.ArgumentDefaultsHelpFormatter)\n",
    "\n",
    "parser.add_argument(\"--idx\", type=int, default=0,\n",
    "                    help=f\"learning pattern min=0, max={len(run_filter_list) - 1}\")\n",
    "\n",
    "if os.path.basename(sys.argv[0]) == 'ipykernel_launcher.py':\n",
    "    args = parser.parse_args(args=[])\n",
    "else:\n",
    "    args = parser.parse_args()"
   ]
  },
  {
   "cell_type": "code",
   "execution_count": null,
   "metadata": {},
   "outputs": [],
   "source": [
    "cnn_filters, linear_filters = run_filter_list[args.idx]\n",
    "net = AE1DClassifier(\n",
    "    AE1D_ckpt_path = AE1D_ckpt_path,\n",
    "    optimizer = optimizer,\n",
    "    optimizer_param = optimizer_param, \n",
    "    out_features = 5,\n",
    "    **run_filter_list[args.idx],\n",
    ")\n",
    "model_summary = ModelSummary(net, max_depth=6)\n",
    "print(model_summary)\n",
    "\n",
    "train_one_model(net, model_name=f\"pattern_{args.idx}\")"
   ]
  },
  {
   "cell_type": "code",
   "execution_count": 76,
   "metadata": {},
   "outputs": [
    {
     "name": "stderr",
     "output_type": "stream",
     "text": [
      "Trainer will use only 1 of 2 GPUs because it is running inside an interactive / notebook environment. You may try to set `Trainer(devices=2)` but please note that multi-GPU inside interactive / notebook environments is considered experimental and unstable. Your mileage may vary.\n",
      "/nfs/ksdata/tran/miniconda3/envs/python_3.8/lib/python3.8/site-packages/lightning/fabric/plugins/environments/slurm.py:191: The `srun` command is available on your system but is not used. HINT: If your intention is to run Lightning on SLURM, prepend your python command with `srun` like so: srun python /nfs/ksdata/tran/miniconda3/envs/python_3.8/lib/pyth ...\n",
      "GPU available: True (cuda), used: True\n",
      "TPU available: False, using: 0 TPU cores\n",
      "IPU available: False, using: 0 IPUs\n",
      "HPU available: False, using: 0 HPUs\n",
      "LOCAL_RANK: 0 - CUDA_VISIBLE_DEVICES: [0,1]\n"
     ]
    },
    {
     "name": "stdout",
     "output_type": "stream",
     "text": [
      "Testing DataLoader 0: 100%|██████████████████████| 10/10 [00:00<00:00, 170.30it/s]\n",
      "────────────────────────────────────────────────────────────────────────────────────────────────────────────────────────\n",
      "       Test metric             DataLoader 0\n",
      "────────────────────────────────────────────────────────────────────────────────────────────────────────────────────────\n",
      "        test_acc            0.9496816396713257\n",
      "        test_loss           0.15908975899219513\n",
      "────────────────────────────────────────────────────────────────────────────────────────────────────────────────────────\n"
     ]
    },
    {
     "name": "stderr",
     "output_type": "stream",
     "text": [
      "LOCAL_RANK: 0 - CUDA_VISIBLE_DEVICES: [0,1]\n",
      "/nfs/ksdata/tran/miniconda3/envs/python_3.8/lib/python3.8/site-packages/lightning/pytorch/trainer/connectors/data_connector.py:441: The 'predict_dataloader' does not have many workers which may be a bottleneck. Consider increasing the value of the `num_workers` argument` to `num_workers=55` in the `DataLoader` to improve performance.\n"
     ]
    },
    {
     "name": "stdout",
     "output_type": "stream",
     "text": [
      "Predicting DataLoader 0: 100%|███████████████████| 10/10 [00:00<00:00, 136.08it/s]\n"
     ]
    }
   ],
   "source": [
    "checkpoint_path = \"lightning_logs/15_enc_classify_5classes/pattern_0/version_2/checkpoints/sample_epoch=419-step=8400-val_loss=0.153993.ckpt\"\n",
    "\n",
    "net = AE1DClassifier.load_from_checkpoint(checkpoint_path)\n",
    "data_module = FFTDataModule.load_from_checkpoint(checkpoint_path)\n",
    "\n",
    "trainer = L.Trainer(\n",
    "    accelerator=\"auto\"\n",
    ")\n",
    "trainer.test(model=net, datamodule=data_module)\n",
    "pred = trainer.predict(model=net, datamodule=data_module)\n",
    "gt = list(map(lambda x: x[1], iter(data_module.predict_dataloader())))"
   ]
  },
  {
   "cell_type": "code",
   "execution_count": 79,
   "metadata": {},
   "outputs": [
    {
     "name": "stdout",
     "output_type": "stream",
     "text": [
      "Accuracy 0.9496816594783323\n",
      "F1 0.9513554109236905\n",
      "[[978   7   0   6   9]\n",
      " [ 26 962   1   8   3]\n",
      " [  1   4 863   1   0]\n",
      " [ 26   6   0 964   4]\n",
      " [137   0   0   6 857]]\n"
     ]
    },
    {
     "data": {
      "text/plain": [
       "[Text(0.5, 23.52222222222222, 'Predict'),\n",
       " Text(50.722222222222214, 0.5, 'Ground truth'),\n",
       " [Text(0.5, 0, 'still'),\n",
       "  Text(1.5, 0, 'walking'),\n",
       "  Text(2.5, 0, 'run'),\n",
       "  Text(3.5, 0, 'bike'),\n",
       "  Text(4.5, 0, 'bus')],\n",
       " [Text(0, 0.5, 'still'),\n",
       "  Text(0, 1.5, 'walking'),\n",
       "  Text(0, 2.5, 'run'),\n",
       "  Text(0, 3.5, 'bike'),\n",
       "  Text(0, 4.5, 'bus')]]"
      ]
     },
     "execution_count": 79,
     "metadata": {},
     "output_type": "execute_result"
    },
    {
     "data": {
      "image/png": "[encoded data removed]",
      "text/plain": [
       "<Figure size 640x480 with 2 Axes>"
      ]
     },
     "metadata": {},
     "output_type": "display_data"
    }
   ],
   "source": [
    "pred_ravel = np.concatenate(list(map(lambda x: x.numpy(), pred)))\n",
    "gt_ravel = np.concatenate(list(map(lambda x: x.numpy(), gt)))\n",
    "\n",
    "accuracy = accuracy_score(gt_ravel, pred_ravel)\n",
    "print(\"Accuracy\", accuracy)\n",
    "\n",
    "f1 = f1=f1_score(gt_ravel, pred_ravel, average=\"macro\")\n",
    "print(\"F1\", f1)\n",
    "\n",
    "cf = confusion_matrix(gt_ravel, pred_ravel)\n",
    "\n",
    "print(cf)\n",
    "label_list = [\"still\", \"walking\", \"run\", \"bike\", \"bus\"]\n",
    "s = sns.heatmap(cf, annot=True, fmt='g')\n",
    "s.set(xlabel=\"Predict\", ylabel=\"Ground truth\", xticklabels=label_list, yticklabels=label_list)"
   ]
  },
  {
   "cell_type": "code",
   "execution_count": null,
   "metadata": {},
   "outputs": [],
   "source": []
  }
 ],
 "metadata": {
  "kernelspec": {
   "display_name": "Python 3 (ipykernel)",
   "language": "python",
   "name": "python3"
  },
  "language_info": {
   "codemirror_mode": {
    "name": "ipython",
    "version": 3
   },
   "file_extension": ".py",
   "mimetype": "text/x-python",
   "name": "python",
   "nbconvert_exporter": "python",
   "pygments_lexer": "ipython3",
   "version": "3.8.18"
  }
 },
 "nbformat": 4,
 "nbformat_minor": 4
}
