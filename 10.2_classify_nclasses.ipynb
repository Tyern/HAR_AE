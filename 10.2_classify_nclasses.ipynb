{
 "cells": [
  {
   "cell_type": "code",
   "execution_count": 1,
   "metadata": {},
   "outputs": [
    {
     "name": "stderr",
     "output_type": "stream",
     "text": [
      "/nfs/ksdata/tran/miniconda3/envs/python_3.8/lib/python3.8/site-packages/tqdm/auto.py:21: TqdmWarning: IProgress not found. Please update jupyter and ipywidgets. See https://ipywidgets.readthedocs.io/en/stable/user_install.html\n",
      "  from .autonotebook import tqdm as notebook_tqdm\n"
     ]
    }
   ],
   "source": [
    "import os\n",
    "import json\n",
    "import sys\n",
    "import glob\n",
    "\n",
    "import numpy as np\n",
    "import pandas as pd\n",
    "\n",
    "import torch\n",
    "import torchvision\n",
    "\n",
    "import matplotlib.pyplot as plt\n",
    "import lightning as L\n",
    "\n",
    "import torch.nn as nn\n",
    "import torch.nn.functional as F\n",
    "import torch.optim as optim\n",
    "\n",
    "import seaborn as sns\n",
    "from sklearn.metrics import confusion_matrix, accuracy_score, f1_score\n",
    "\n",
    "from data_module.data_module import ALDataModule_v1\n",
    "from model.classifier_model import Classifier1DMaxPoolBNModel, Classifier1D\n",
    "from utils.model_utils import unwrap_model\n",
    "\n",
    "from config.data_param_config import data_merge_config\n",
    "from config.optimizer_param_config import optimizer_param_dict\n",
    "from config.channel_param_config import channel_param_dict\n"
   ]
  },
  {
   "cell_type": "code",
   "execution_count": 2,
   "metadata": {},
   "outputs": [],
   "source": [
    "import argparse\n",
    "\n",
    "parser = argparse.ArgumentParser(description=\"\", formatter_class=argparse.ArgumentDefaultsHelpFormatter)\n",
    "\n",
    "parser.add_argument(\"-tl\", \"--train_limit_data\", type=int, default=-1,\n",
    "                    help=f\"Used for limit the number of data in train data, -1 mean no limit\")\n",
    "\n",
    "parser.add_argument(\"-cn\", \"--class_num\", type=int, default=6,\n",
    "                    help=f\"Number of class num use to train\")\n",
    "\n",
    "parser.add_argument(\"-m\", \"--model_name\", type=str,\n",
    "                    help=f\"Config name of model used for training\")\n",
    "\n",
    "parser.add_argument(\"--data_merge_param\", type=str, default=None,\n",
    "                    help=f\"Data merge config name, find in config/data_param_config\")\n",
    "\n",
    "parser.add_argument(\"-r\", \"--random_seed\", type=int, default=42,\n",
    "                    help=f\"Random Seed\")\n",
    "\n",
    "parser.add_argument(\"--eval_mode\", type=int, default=0,\n",
    "                    help=f\"Eval all models\")\n",
    "\n",
    "if os.path.basename(sys.argv[0]) == 'ipykernel_launcher.py':\n",
    "    args = parser.parse_args(args=[\"-m\", \"4cnnmp_128\"])\n",
    "else:\n",
    "    args = parser.parse_args()"
   ]
  },
  {
   "cell_type": "code",
   "execution_count": 3,
   "metadata": {},
   "outputs": [
    {
     "name": "stderr",
     "output_type": "stream",
     "text": [
      "Seed set to 42\n"
     ]
    },
    {
     "data": {
      "text/plain": [
       "42"
      ]
     },
     "execution_count": 3,
     "metadata": {},
     "output_type": "execute_result"
    }
   ],
   "source": [
    "L.seed_everything(args.random_seed)"
   ]
  },
  {
   "cell_type": "code",
   "execution_count": 15,
   "metadata": {},
   "outputs": [
    {
     "name": "stdout",
     "output_type": "stream",
     "text": [
      "   | Name     | Type        | Params | In sizes      | Out sizes    \n",
      "--------------------------------------------------------------------------\n",
      "0  | cnn      | Sequential  | 283 K  | [10, 6, 257]  | [10, 256, 1] \n",
      "1  | cnn.0    | Conv1d      | 1.8 K  | [10, 6, 257]  | [10, 32, 249]\n",
      "2  | cnn.1    | MaxPool1d   | 0      | [10, 32, 249] | [10, 32, 83] \n",
      "3  | cnn.2    | BatchNorm1d | 64     | [10, 32, 83]  | [10, 32, 83] \n",
      "4  | cnn.3    | ReLU        | 0      | [10, 32, 83]  | [10, 32, 83] \n",
      "5  | cnn.4    | Conv1d      | 18.5 K | [10, 32, 83]  | [10, 64, 75] \n",
      "6  | cnn.5    | MaxPool1d   | 0      | [10, 64, 75]  | [10, 64, 25] \n",
      "7  | cnn.6    | BatchNorm1d | 128    | [10, 64, 25]  | [10, 64, 25] \n",
      "8  | cnn.7    | ReLU        | 0      | [10, 64, 25]  | [10, 64, 25] \n",
      "9  | cnn.8    | Conv1d      | 65.7 K | [10, 64, 25]  | [10, 128, 18]\n",
      "10 | cnn.9    | MaxPool1d   | 0      | [10, 128, 18] | [10, 128, 6] \n",
      "11 | cnn.10   | BatchNorm1d | 256    | [10, 128, 6]  | [10, 128, 6] \n",
      "12 | cnn.11   | ReLU        | 0      | [10, 128, 6]  | [10, 128, 6] \n",
      "13 | cnn.12   | Conv1d      | 196 K  | [10, 128, 6]  | [10, 256, 1] \n",
      "14 | cnn.13   | BatchNorm1d | 512    | [10, 256, 1]  | [10, 256, 1] \n",
      "15 | cnn.14   | ReLU        | 0      | [10, 256, 1]  | [10, 256, 1] \n",
      "16 | linear   | Sequential  | 34.2 K | [10, 256]     | [10, 8]      \n",
      "17 | linear.0 | Linear      | 32.9 K | [10, 256]     | [10, 128]    \n",
      "18 | linear.1 | BatchNorm1d | 256    | [10, 128]     | [10, 128]    \n",
      "19 | linear.2 | ReLU        | 0      | [10, 128]     | [10, 128]    \n",
      "20 | linear.3 | Linear      | 1.0 K  | [10, 128]     | [10, 8]      \n",
      "--------------------------------------------------------------------------\n",
      "317 K     Trainable params\n",
      "0         Non-trainable params\n",
      "317 K     Total params\n",
      "1.272     Total estimated model params size (MB)\n"
     ]
    }
   ],
   "source": [
    "from lightning.pytorch.utilities.model_summary import ModelSummary\n",
    "\n",
    "net = Classifier1DMaxPoolBNModel(\n",
    "    **channel_param_dict[args.model_name],).to(\"cpu\")\n",
    "\n",
    "model_summary = ModelSummary(net, max_depth=6)\n",
    "print(model_summary)"
   ]
  },
  {
   "cell_type": "code",
   "execution_count": 16,
   "metadata": {},
   "outputs": [],
   "source": [
    "n_epochs = 20000\n",
    "patience = n_epochs//100\n",
    "\n",
    "batch_size = 512\n",
    "optimizer, optimizer_param = optimizer_param_dict[\"Adam\"]\n",
    "dataset_path = f\"dataset/processed_concat_data_{args.class_num}_labels\"\n",
    "\n",
    "log_save_dir = \"lightning_logs\"\n",
    "log_save_name = f\"10.2_classify/{args.model_name}-{args.class_num}-{args.data_merge_param}-{args.train_limit_data}-{args.random_seed}\""
   ]
  },
  {
   "cell_type": "code",
   "execution_count": null,
   "metadata": {},
   "outputs": [],
   "source": [
    "data_module = ALDataModule_v1(dataset_path=dataset_path, batch_size=512, prefix=\"torso_\", postfix=\"_fft\")\n",
    "data_module.limit_and_set_train_data(data_module._train_data, data_module._train_label, limit_number=args.train_limit_data)\n",
    "if args.data_merge_param:\n",
    "    label_merge_dict = data_merge_config[args.data_merge_param]\n",
    "    print(\"before merge train\", np.unique(data_module.train_label, return_counts=True))\n",
    "    print(\"before merge val\", np.unique(data_module.val_label, return_counts=True))\n",
    "    print(\"before merge test\", np.unique(data_module.test_label, return_counts=True))\n",
    "    data_module.set_train_val_test_pred_merge_data(\n",
    "        data_module.train_data,\n",
    "        data_module.train_label,\n",
    "        data_module.val_data,\n",
    "        data_module.val_label,\n",
    "        data_module.test_data,\n",
    "        data_module.test_label,\n",
    "        label_merge_dict,\n",
    "        train_limit_number = args.train_limit_data,\n",
    "        val_limit_number=1000,\n",
    "        test_limit_number=1000,\n",
    "        seed=42)\n",
    "    print(\"after merge train\", np.unique(data_module.train_label, return_counts=True))\n",
    "    print(\"after merge val\", np.unique(data_module.val_label, return_counts=True))\n",
    "    print(\"after merge test\", np.unique(data_module.test_label, return_counts=True))"
   ]
  },
  {
   "cell_type": "code",
   "execution_count": null,
   "metadata": {},
   "outputs": [],
   "source": [
    "L.seed_everything(args.random_seed)\n",
    "\n",
    "if args.data_merge_param:\n",
    "    net = Classifier1DMaxPoolBNModel(\n",
    "        optimizer = optimizer,\n",
    "        optimizer_param = optimizer_param, \n",
    "        **channel_param_dict[args.model_name],\n",
    "        out_class_num = len(data_merge_config[args.data_merge_param]),\n",
    "    )\n",
    "else:\n",
    "    net = Classifier1DMaxPoolBNModel(\n",
    "        optimizer = optimizer,\n",
    "        optimizer_param = optimizer_param, \n",
    "        **channel_param_dict[args.model_name],\n",
    "        out_class_num = args.class_num,\n",
    "    )"
   ]
  },
  {
   "cell_type": "code",
   "execution_count": null,
   "metadata": {},
   "outputs": [],
   "source": [
    "print(\" ----------------------start training---------------------------\")\n",
    "from lightning.pytorch.callbacks.early_stopping import EarlyStopping\n",
    "from lightning.pytorch.callbacks import ModelCheckpoint\n",
    "from lightning.pytorch.loggers import TensorBoardLogger, CSVLogger\n",
    "\n",
    "tensorboard_logger = TensorBoardLogger(save_dir=log_save_dir, name=log_save_name,)\n",
    "csv_logger = CSVLogger(save_dir=log_save_dir, name=log_save_name,)\n",
    "checkpoint_callback = ModelCheckpoint(\n",
    "    dirpath=None,\n",
    "    save_top_k=1,\n",
    "    monitor=\"val_loss\",\n",
    "    mode=\"min\",\n",
    "    filename=\"sample_{epoch:02d}-{step:02d}-{val_loss:02f}\"\n",
    ")\n",
    "\n",
    "trainer = L.Trainer(\n",
    "    logger=[tensorboard_logger, csv_logger],\n",
    "    callbacks=[EarlyStopping(monitor=\"val_loss\", patience=patience), checkpoint_callback],\n",
    "    max_epochs=n_epochs,\n",
    "    check_val_every_n_epoch=10,\n",
    "    accelerator=\"gpu\", \n",
    "    )\n",
    "\n",
    "print(\"np.unique(data_module.train_label, return_counts=True)\", np.unique(data_module.train_label, return_counts=True))\n",
    "\n",
    "trainer.fit(model=net, datamodule=data_module)\n",
    "trainer_test_dict = trainer.logged_metrics\n",
    "\n",
    "trainer.test(model=net, datamodule=data_module)\n",
    "trainer_test_dict.update(trainer.logged_metrics)\n",
    "\n",
    "print(\"trainer.logger.log_dir\", trainer.logger.log_dir)\n",
    "\n",
    "for key in trainer_test_dict.keys():\n",
    "    trainer_test_dict[key] = trainer_test_dict[key].item()\n",
    "\n",
    "with open(os.path.join(trainer.logger.log_dir, \"result.json\"), \"w\") as f:\n",
    "    json.dump(trainer_test_dict, f, indent=4)\n",
    "\n",
    "with open(os.path.join(trainer.logger.log_dir, \"argparse_params.json\"), \"w\") as f:\n",
    "    json.dump(args.__dict__, f, indent=4)"
   ]
  },
  {
   "cell_type": "code",
   "execution_count": 15,
   "metadata": {
    "scrolled": true
   },
   "outputs": [
    {
     "name": "stdout",
     "output_type": "stream",
     "text": [
      "10.2_classify/4cnn_128-8-1-1000-42\n",
      "10.2_classify/4cnn_128-8-1-1000-42 lightning_logs/10.2_classify/4cnn_128-8-1-1000-42/version_0/checkpoints/sample_epoch=39-step=120-val_loss=0.270295.ckpt\n"
     ]
    },
    {
     "name": "stderr",
     "output_type": "stream",
     "text": [
      "Trainer will use only 1 of 2 GPUs because it is running inside an interactive / notebook environment. You may try to set `Trainer(devices=2)` but please note that multi-GPU inside interactive / notebook environments is considered experimental and unstable. Your mileage may vary.\n",
      "GPU available: True (cuda), used: True\n",
      "TPU available: False, using: 0 TPU cores\n",
      "IPU available: False, using: 0 IPUs\n",
      "HPU available: False, using: 0 HPUs\n"
     ]
    },
    {
     "name": "stdout",
     "output_type": "stream",
     "text": [
      "limit_and_set_train_data limit_number= 1000\n",
      "limit_filter_data_by_class limit_number= 1000\n",
      "limit_filter_data_by_class:  (array([1., 2., 3., 4., 5., 6., 7., 8.]), array([1000, 1000, 1000, 1000, 1000, 1000, 1000, 1000]))\n",
      "before merge train (array([1., 2., 3., 4., 5., 6., 7., 8.]), array([1000, 1000, 1000, 1000, 1000, 1000, 1000, 1000]))\n",
      "before merge val (array([1., 2., 3., 4., 5., 6., 7., 8.]), array([1000, 1001,  869, 1000, 1000, 1000, 1000, 1000]))\n",
      "before merge test (array([1., 2., 3., 4., 5., 6., 7., 8.]), array([1000, 1000,  869, 1000, 1000, 1000, 1000, 1000]))\n",
      "set_train_val_test_pred_merge_data\n",
      "limit_filter_data_by_class limit_number= 1000\n",
      "limit_filter_data_by_class:  (array([1., 2., 3., 4., 5.]), array([1000, 1000, 1000, 1000, 1000]))\n",
      "limit_filter_data_by_class limit_number= 1000\n",
      "limit_filter_data_by_class:  (array([1., 2., 3., 4., 5.]), array([1000, 1000,  869, 1000, 1000]))\n",
      "limit_filter_data_by_class limit_number= 1000\n",
      "limit_filter_data_by_class:  (array([1., 2., 3., 4., 5.]), array([1000, 1000,  869, 1000, 1000]))\n"
     ]
    },
    {
     "name": "stderr",
     "output_type": "stream",
     "text": [
      "LOCAL_RANK: 0 - CUDA_VISIBLE_DEVICES: [0,1]\n"
     ]
    },
    {
     "name": "stdout",
     "output_type": "stream",
     "text": [
      "Testing DataLoader 0: 100%|██████████████████████████████████| 10/10 [00:00<00:00, 145.51it/s]\n"
     ]
    },
    {
     "name": "stderr",
     "output_type": "stream",
     "text": [
      "LOCAL_RANK: 0 - CUDA_VISIBLE_DEVICES: [0,1]\n",
      "/nfs/ksdata/tran/miniconda3/envs/python_3.8/lib/python3.8/site-packages/lightning/pytorch/trainer/connectors/data_connector.py:441: The 'predict_dataloader' does not have many workers which may be a bottleneck. Consider increasing the value of the `num_workers` argument` to `num_workers=55` in the `DataLoader` to improve performance.\n"
     ]
    },
    {
     "name": "stdout",
     "output_type": "stream",
     "text": [
      "Predicting DataLoader 0: 100%|███████████████████████████████| 10/10 [00:00<00:00, 128.39it/s]\n",
      "10.2_classify/4cnn_128-8-1-5000-42\n",
      "10.2_classify/4cnn_128-8-1-5000-42 lightning_logs/10.2_classify/4cnn_128-8-1-5000-42/version_0/checkpoints/sample_epoch=09-step=130-val_loss=0.217190.ckpt\n",
      "limit_and_set_train_data limit_number= 5000\n",
      "limit_filter_data_by_class limit_number= 5000\n",
      "limit_filter_data_by_class:  (array([1., 2., 3., 4., 5., 6., 7., 8.]), array([5000, 5000, 5000, 5000, 5000, 5000, 5000, 5000]))\n",
      "before merge train (array([1., 2., 3., 4., 5., 6., 7., 8.]), array([5000, 5000, 5000, 5000, 5000, 5000, 5000, 5000]))\n",
      "before merge val (array([1., 2., 3., 4., 5., 6., 7., 8.]), array([1000, 1001,  869, 1000, 1000, 1000, 1000, 1000]))\n",
      "before merge test (array([1., 2., 3., 4., 5., 6., 7., 8.]), array([1000, 1000,  869, 1000, 1000, 1000, 1000, 1000]))\n",
      "set_train_val_test_pred_merge_data\n",
      "limit_filter_data_by_class limit_number= 5000\n"
     ]
    },
    {
     "name": "stderr",
     "output_type": "stream",
     "text": [
      "Trainer will use only 1 of 2 GPUs because it is running inside an interactive / notebook environment. You may try to set `Trainer(devices=2)` but please note that multi-GPU inside interactive / notebook environments is considered experimental and unstable. Your mileage may vary.\n",
      "/nfs/ksdata/tran/miniconda3/envs/python_3.8/lib/python3.8/site-packages/lightning/fabric/plugins/environments/slurm.py:191: The `srun` command is available on your system but is not used. HINT: If your intention is to run Lightning on SLURM, prepend your python command with `srun` like so: srun python /nfs/ksdata/tran/miniconda3/envs/python_3.8/lib/pyth ...\n",
      "GPU available: True (cuda), used: True\n",
      "TPU available: False, using: 0 TPU cores\n",
      "IPU available: False, using: 0 IPUs\n",
      "HPU available: False, using: 0 HPUs\n"
     ]
    },
    {
     "name": "stdout",
     "output_type": "stream",
     "text": [
      "limit_filter_data_by_class:  (array([1., 2., 3., 4., 5.]), array([5000, 5000, 5000, 5000, 5000]))\n",
      "limit_filter_data_by_class limit_number= 1000\n",
      "limit_filter_data_by_class:  (array([1., 2., 3., 4., 5.]), array([1000, 1000,  869, 1000, 1000]))\n",
      "limit_filter_data_by_class limit_number= 1000\n",
      "limit_filter_data_by_class:  (array([1., 2., 3., 4., 5.]), array([1000, 1000,  869, 1000, 1000]))\n"
     ]
    },
    {
     "name": "stderr",
     "output_type": "stream",
     "text": [
      "LOCAL_RANK: 0 - CUDA_VISIBLE_DEVICES: [0,1]\n",
      "/nfs/ksdata/tran/miniconda3/envs/python_3.8/lib/python3.8/site-packages/lightning/pytorch/trainer/connectors/data_connector.py:441: The 'test_dataloader' does not have many workers which may be a bottleneck. Consider increasing the value of the `num_workers` argument` to `num_workers=55` in the `DataLoader` to improve performance.\n"
     ]
    },
    {
     "name": "stdout",
     "output_type": "stream",
     "text": [
      "Testing DataLoader 0: 100%|██████████████████████████████████| 10/10 [00:00<00:00, 153.43it/s]\n"
     ]
    },
    {
     "name": "stderr",
     "output_type": "stream",
     "text": [
      "LOCAL_RANK: 0 - CUDA_VISIBLE_DEVICES: [0,1]\n",
      "/nfs/ksdata/tran/miniconda3/envs/python_3.8/lib/python3.8/site-packages/lightning/pytorch/trainer/connectors/data_connector.py:441: The 'predict_dataloader' does not have many workers which may be a bottleneck. Consider increasing the value of the `num_workers` argument` to `num_workers=55` in the `DataLoader` to improve performance.\n"
     ]
    },
    {
     "name": "stdout",
     "output_type": "stream",
     "text": [
      "Predicting DataLoader 0: 100%|███████████████████████████████| 10/10 [00:00<00:00, 179.18it/s]\n",
      "10.2_classify/4cnn_64-8-1-1000-42\n",
      "10.2_classify/4cnn_64-8-1-1000-42 lightning_logs/10.2_classify/4cnn_64-8-1-1000-42/version_0/checkpoints/sample_epoch=39-step=120-val_loss=0.244989.ckpt\n"
     ]
    },
    {
     "name": "stderr",
     "output_type": "stream",
     "text": [
      "Trainer will use only 1 of 2 GPUs because it is running inside an interactive / notebook environment. You may try to set `Trainer(devices=2)` but please note that multi-GPU inside interactive / notebook environments is considered experimental and unstable. Your mileage may vary.\n",
      "/nfs/ksdata/tran/miniconda3/envs/python_3.8/lib/python3.8/site-packages/lightning/fabric/plugins/environments/slurm.py:191: The `srun` command is available on your system but is not used. HINT: If your intention is to run Lightning on SLURM, prepend your python command with `srun` like so: srun python /nfs/ksdata/tran/miniconda3/envs/python_3.8/lib/pyth ...\n",
      "GPU available: True (cuda), used: True\n",
      "TPU available: False, using: 0 TPU cores\n",
      "IPU available: False, using: 0 IPUs\n",
      "HPU available: False, using: 0 HPUs\n"
     ]
    },
    {
     "name": "stdout",
     "output_type": "stream",
     "text": [
      "limit_and_set_train_data limit_number= 1000\n",
      "limit_filter_data_by_class limit_number= 1000\n",
      "limit_filter_data_by_class:  (array([1., 2., 3., 4., 5., 6., 7., 8.]), array([1000, 1000, 1000, 1000, 1000, 1000, 1000, 1000]))\n",
      "before merge train (array([1., 2., 3., 4., 5., 6., 7., 8.]), array([1000, 1000, 1000, 1000, 1000, 1000, 1000, 1000]))\n",
      "before merge val (array([1., 2., 3., 4., 5., 6., 7., 8.]), array([1000, 1001,  869, 1000, 1000, 1000, 1000, 1000]))\n",
      "before merge test (array([1., 2., 3., 4., 5., 6., 7., 8.]), array([1000, 1000,  869, 1000, 1000, 1000, 1000, 1000]))\n",
      "set_train_val_test_pred_merge_data\n",
      "limit_filter_data_by_class limit_number= 1000\n",
      "limit_filter_data_by_class:  (array([1., 2., 3., 4., 5.]), array([1000, 1000, 1000, 1000, 1000]))\n",
      "limit_filter_data_by_class limit_number= 1000\n",
      "limit_filter_data_by_class:  (array([1., 2., 3., 4., 5.]), array([1000, 1000,  869, 1000, 1000]))\n",
      "limit_filter_data_by_class limit_number= 1000\n",
      "limit_filter_data_by_class:  (array([1., 2., 3., 4., 5.]), array([1000, 1000,  869, 1000, 1000]))\n"
     ]
    },
    {
     "name": "stderr",
     "output_type": "stream",
     "text": [
      "LOCAL_RANK: 0 - CUDA_VISIBLE_DEVICES: [0,1]\n",
      "/nfs/ksdata/tran/miniconda3/envs/python_3.8/lib/python3.8/site-packages/lightning/pytorch/trainer/connectors/data_connector.py:441: The 'test_dataloader' does not have many workers which may be a bottleneck. Consider increasing the value of the `num_workers` argument` to `num_workers=55` in the `DataLoader` to improve performance.\n"
     ]
    },
    {
     "name": "stdout",
     "output_type": "stream",
     "text": [
      "Testing DataLoader 0: 100%|██████████████████████████████████| 10/10 [00:00<00:00, 100.18it/s]\n"
     ]
    },
    {
     "name": "stderr",
     "output_type": "stream",
     "text": [
      "LOCAL_RANK: 0 - CUDA_VISIBLE_DEVICES: [0,1]\n",
      "/nfs/ksdata/tran/miniconda3/envs/python_3.8/lib/python3.8/site-packages/lightning/pytorch/trainer/connectors/data_connector.py:441: The 'predict_dataloader' does not have many workers which may be a bottleneck. Consider increasing the value of the `num_workers` argument` to `num_workers=55` in the `DataLoader` to improve performance.\n"
     ]
    },
    {
     "name": "stdout",
     "output_type": "stream",
     "text": [
      "Predicting DataLoader 0: 100%|███████████████████████████████| 10/10 [00:00<00:00, 143.02it/s]\n",
      "10.2_classify/4cnn_64-8-1-5000-42\n",
      "10.2_classify/4cnn_64-8-1-5000-42 lightning_logs/10.2_classify/4cnn_64-8-1-5000-42/version_0/checkpoints/sample_epoch=29-step=390-val_loss=0.196677.ckpt\n",
      "limit_and_set_train_data limit_number= 5000\n",
      "limit_filter_data_by_class limit_number= 5000\n",
      "limit_filter_data_by_class:  (array([1., 2., 3., 4., 5., 6., 7., 8.]), array([5000, 5000, 5000, 5000, 5000, 5000, 5000, 5000]))\n",
      "before merge train (array([1., 2., 3., 4., 5., 6., 7., 8.]), array([5000, 5000, 5000, 5000, 5000, 5000, 5000, 5000]))\n",
      "before merge val (array([1., 2., 3., 4., 5., 6., 7., 8.]), array([1000, 1001,  869, 1000, 1000, 1000, 1000, 1000]))\n",
      "before merge test (array([1., 2., 3., 4., 5., 6., 7., 8.]), array([1000, 1000,  869, 1000, 1000, 1000, 1000, 1000]))\n",
      "set_train_val_test_pred_merge_data\n",
      "limit_filter_data_by_class limit_number= 5000\n"
     ]
    },
    {
     "name": "stderr",
     "output_type": "stream",
     "text": [
      "Trainer will use only 1 of 2 GPUs because it is running inside an interactive / notebook environment. You may try to set `Trainer(devices=2)` but please note that multi-GPU inside interactive / notebook environments is considered experimental and unstable. Your mileage may vary.\n",
      "/nfs/ksdata/tran/miniconda3/envs/python_3.8/lib/python3.8/site-packages/lightning/fabric/plugins/environments/slurm.py:191: The `srun` command is available on your system but is not used. HINT: If your intention is to run Lightning on SLURM, prepend your python command with `srun` like so: srun python /nfs/ksdata/tran/miniconda3/envs/python_3.8/lib/pyth ...\n",
      "GPU available: True (cuda), used: True\n",
      "TPU available: False, using: 0 TPU cores\n",
      "IPU available: False, using: 0 IPUs\n",
      "HPU available: False, using: 0 HPUs\n"
     ]
    },
    {
     "name": "stdout",
     "output_type": "stream",
     "text": [
      "limit_filter_data_by_class:  (array([1., 2., 3., 4., 5.]), array([5000, 5000, 5000, 5000, 5000]))\n",
      "limit_filter_data_by_class limit_number= 1000\n",
      "limit_filter_data_by_class:  (array([1., 2., 3., 4., 5.]), array([1000, 1000,  869, 1000, 1000]))\n",
      "limit_filter_data_by_class limit_number= 1000\n",
      "limit_filter_data_by_class:  (array([1., 2., 3., 4., 5.]), array([1000, 1000,  869, 1000, 1000]))\n"
     ]
    },
    {
     "name": "stderr",
     "output_type": "stream",
     "text": [
      "LOCAL_RANK: 0 - CUDA_VISIBLE_DEVICES: [0,1]\n",
      "/nfs/ksdata/tran/miniconda3/envs/python_3.8/lib/python3.8/site-packages/lightning/pytorch/trainer/connectors/data_connector.py:441: The 'test_dataloader' does not have many workers which may be a bottleneck. Consider increasing the value of the `num_workers` argument` to `num_workers=55` in the `DataLoader` to improve performance.\n"
     ]
    },
    {
     "name": "stdout",
     "output_type": "stream",
     "text": [
      "Testing DataLoader 0: 100%|██████████████████████████████████| 10/10 [00:00<00:00, 116.86it/s]\n"
     ]
    },
    {
     "name": "stderr",
     "output_type": "stream",
     "text": [
      "LOCAL_RANK: 0 - CUDA_VISIBLE_DEVICES: [0,1]\n",
      "/nfs/ksdata/tran/miniconda3/envs/python_3.8/lib/python3.8/site-packages/lightning/pytorch/trainer/connectors/data_connector.py:441: The 'predict_dataloader' does not have many workers which may be a bottleneck. Consider increasing the value of the `num_workers` argument` to `num_workers=55` in the `DataLoader` to improve performance.\n"
     ]
    },
    {
     "name": "stdout",
     "output_type": "stream",
     "text": [
      "Predicting DataLoader 0: 100%|███████████████████████████████| 10/10 [00:00<00:00, 189.58it/s]\n"
     ]
    }
   ],
   "source": [
    "args.eval_mode = 1\n",
    "if args.eval_mode:\n",
    "    log_save_dir = \"lightning_logs\"\n",
    "    log_save_name = \"10.2_classify/{}-{}-{}-{}-{}\"\n",
    "    args.data_merge_param = \"1\"\n",
    "    result_save_dict = {}\n",
    "    raw_result_save_dict = {}\n",
    "\n",
    "    for args.model_name in \"4cnn_128 4cnn_64\".split(\" \"):\n",
    "        for args.class_num in [8]:\n",
    "            for args.train_limit_data in \"1000 5000\".split(\" \"):\n",
    "                args.train_limit_data = int(args.train_limit_data)\n",
    "                for args.random_seed in \"42\".split():\n",
    "                    \n",
    "                    save_model_folder = log_save_name.format(args.model_name, args.class_num, args.data_merge_param, args.train_limit_data, args.random_seed)\n",
    "                    save_model_dir = os.path.join(log_save_dir, save_model_folder)\n",
    "                    print(save_model_folder)\n",
    "                    weight = glob.glob(os.path.join(save_model_dir, \"version_0\", \"checkpoints\", \"*.ckpt\"))[0]\n",
    "                    print(save_model_folder, weight)\n",
    "    \n",
    "                    net = Classifier1DMaxPoolBNModel.load_from_checkpoint(weight)\n",
    "                        \n",
    "                    data_module = ALDataModule_v1.load_from_checkpoint(weight)\n",
    "                    data_module.limit_and_set_train_data(data_module._train_data, data_module._train_label, limit_number=args.train_limit_data)\n",
    "                    if args.data_merge_param:\n",
    "                        label_merge_dict = data_merge_config[args.data_merge_param]\n",
    "                        print(\"before merge train\", np.unique(data_module.train_label, return_counts=True))\n",
    "                        print(\"before merge val\", np.unique(data_module.val_label, return_counts=True))\n",
    "                        print(\"before merge test\", np.unique(data_module.test_label, return_counts=True))\n",
    "                        data_module.set_train_val_test_pred_merge_data(\n",
    "                            data_module.train_data,\n",
    "                            data_module.train_label,\n",
    "                            data_module.val_data,\n",
    "                            data_module.val_label,\n",
    "                            data_module.test_data,\n",
    "                            data_module.test_label,\n",
    "                            label_merge_dict,\n",
    "                            train_limit_number = args.train_limit_data,\n",
    "                            val_limit_number=1000,\n",
    "                            test_limit_number=1000,\n",
    "                            seed=42)\n",
    "    \n",
    "                    trainer = L.Trainer()\n",
    "                    trainer.test(model=net, datamodule=data_module, verbose=False)\n",
    "                    test_acc = trainer.logged_metrics[\"test_acc\"]\n",
    "                    result_save_dict[save_model_folder] = test_acc\n",
    "\n",
    "                    output = trainer.predict(model=net, datamodule=data_module)\n",
    "                    pred = torch.argmax(torch.concat(output), dim=1)\n",
    "                    gt = list(map(lambda x: x[1], iter(data_module.test_dataloader())))\n",
    "        \n",
    "                    pred_ravel = pred.numpy()\n",
    "                    gt_ravel = np.concatenate(list(map(lambda x: x.numpy(), gt)))\n",
    "        \n",
    "                    cf = confusion_matrix(gt_ravel, pred_ravel)\n",
    "                    raw_result_save_dict[save_model_folder] = cf.tolist()\n"
   ]
  },
  {
   "cell_type": "code",
   "execution_count": 16,
   "metadata": {},
   "outputs": [
    {
     "data": {
      "text/plain": [
       "{'10.2_classify/4cnn_128-8-1-1000-42': [[976, 0, 0, 6, 18],\n",
       "  [39, 913, 0, 39, 9],\n",
       "  [3, 4, 859, 3, 0],\n",
       "  [25, 6, 0, 944, 25],\n",
       "  [168, 2, 0, 11, 819]],\n",
       " '10.2_classify/4cnn_128-8-1-5000-42': [[991, 0, 0, 2, 7],\n",
       "  [47, 938, 0, 12, 3],\n",
       "  [4, 5, 859, 1, 0],\n",
       "  [33, 12, 1, 944, 10],\n",
       "  [210, 2, 0, 6, 782]],\n",
       " '10.2_classify/4cnn_64-8-1-1000-42': [[943, 1, 0, 8, 48],\n",
       "  [24, 944, 0, 23, 9],\n",
       "  [3, 7, 857, 2, 0],\n",
       "  [20, 13, 0, 952, 15],\n",
       "  [115, 4, 0, 19, 862]],\n",
       " '10.2_classify/4cnn_64-8-1-5000-42': [[972, 4, 0, 2, 22],\n",
       "  [26, 956, 1, 13, 4],\n",
       "  [3, 5, 861, 0, 0],\n",
       "  [29, 6, 0, 954, 11],\n",
       "  [130, 6, 0, 11, 853]]}"
      ]
     },
     "execution_count": 16,
     "metadata": {},
     "output_type": "execute_result"
    }
   ],
   "source": [
    "raw_result_save_dict"
   ]
  },
  {
   "cell_type": "code",
   "execution_count": 17,
   "metadata": {},
   "outputs": [],
   "source": [
    "with open(\"save_data/classifier_merge5_result.json\", \"w\") as f:\n",
    "    json.dump(raw_result_save_dict, f, indent=2)"
   ]
  },
  {
   "cell_type": "code",
   "execution_count": 14,
   "metadata": {},
   "outputs": [
    {
     "name": "stderr",
     "output_type": "stream",
     "text": [
      "/tmp/ipykernel_44487/4051846858.py:26: UserWarning: The figure layout has changed to tight\n",
      "  plt.tight_layout()\n"
     ]
    },
    {
     "data": {
      "image/png": "[encoded data removed]",
      "text/plain": [
       "<Figure size 400x250 with 1 Axes>"
      ]
     },
     "metadata": {},
     "output_type": "display_data"
    }
   ],
   "source": [
    "if args.eval_mode:\n",
    "    fig, ax = plt.subplots(layout='constrained', figsize=(4, 2.5))\n",
    "    args.random_seed = 42\n",
    "    args.train_limit_data = \"5000\"\n",
    "    args.data_merge_param = \"1\"\n",
    "    \n",
    "    for args.class_num in [8]:\n",
    "        x = []\n",
    "        for args.model_name in \"4cnn_64 4cnn_128\".split(\" \"):\n",
    "            save_model_folder = log_save_name.format(args.model_name, args.class_num, args.data_merge_param, args.train_limit_data, args.random_seed)\n",
    "            x.append(round(result_save_dict[save_model_folder].item(), 3))\n",
    "\n",
    "        ax.plot(x, label=f\"{args.class_num} classes\", marker=\"o\")\n",
    "        for i, j in enumerate(x):\n",
    "            ax.annotate(str(j),xy=(i-0.04,j+0.01))\n",
    "        \n",
    "    # ax.set_title(f'Accuracy of Classifier class_num={args.class_num} train_data_number={args.train_limit_data}')\n",
    "    \n",
    "    ax.set_ylabel('Accuracy')\n",
    "    ax.set_xlabel('Model name')\n",
    "    \n",
    "    ax.set_xticks([0, 1], [\"4cnn_64\", \"4cnn_128\"])\n",
    "    ax.set_ylim(0.6, 1)\n",
    "    \n",
    "    ax.legend()\n",
    "    plt.tight_layout()"
   ]
  },
  {
   "cell_type": "code",
   "execution_count": null,
   "metadata": {},
   "outputs": [],
   "source": []
  }
 ],
 "metadata": {
  "kernelspec": {
   "display_name": "Python 3 (ipykernel)",
   "language": "python",
   "name": "python3"
  },
  "language_info": {
   "codemirror_mode": {
    "name": "ipython",
    "version": 3
   },
   "file_extension": ".py",
   "mimetype": "text/x-python",
   "name": "python",
   "nbconvert_exporter": "python",
   "pygments_lexer": "ipython3",
   "version": "3.8.18"
  }
 },
 "nbformat": 4,
 "nbformat_minor": 4
}
