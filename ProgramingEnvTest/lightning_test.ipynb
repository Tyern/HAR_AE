{
 "cells": [
  {
   "cell_type": "code",
   "execution_count": 66,
   "metadata": {},
   "outputs": [],
   "source": [
    "import torch\n",
    "import torchvision\n",
    "\n",
    "import matplotlib.pyplot as plt\n",
    "import lightning as L\n",
    "\n",
    "import torch.nn as nn\n",
    "import torch.nn.functional as F\n",
    "import torch.optim as optim"
   ]
  },
  {
   "cell_type": "code",
   "execution_count": 67,
   "metadata": {},
   "outputs": [],
   "source": [
    "import os\n",
    "\n",
    "proxy = 'http://proxy-k.ecl.ntt.co.jp:8080'\n",
    "\n",
    "os.environ['http_proxy'] = proxy \n",
    "os.environ['HTTP_PROXY'] = proxy\n",
    "os.environ['https_proxy'] = proxy\n",
    "os.environ['HTTPS_PROXY'] = proxy"
   ]
  },
  {
   "cell_type": "code",
   "execution_count": 68,
   "metadata": {},
   "outputs": [
    {
     "name": "stderr",
     "output_type": "stream",
     "text": [
      "Seed set to 1\n"
     ]
    },
    {
     "data": {
      "text/plain": [
       "1"
      ]
     },
     "execution_count": 68,
     "metadata": {},
     "output_type": "execute_result"
    }
   ],
   "source": [
    "TEST = False\n",
    "\n",
    "n_epochs = 3\n",
    "batch_size_train = 64\n",
    "batch_size_test = 1000\n",
    "learning_rate = 0.01\n",
    "momentum = 0.5\n",
    "log_interval = 10\n",
    "\n",
    "random_seed = 1\n",
    "L.seed_everything(random_seed)"
   ]
  },
  {
   "cell_type": "code",
   "execution_count": 69,
   "metadata": {},
   "outputs": [],
   "source": [
    "from lightning.pytorch.utilities.types import EVAL_DATALOADERS, TRAIN_DATALOADERS\n",
    "\n",
    "\n",
    "class DataModule(L.LightningDataModule):\n",
    "    def __init__(self):\n",
    "        super().__init__()\n",
    "        self.save_hyperparameters()\n",
    "    \n",
    "    def setup(self, stage=None):\n",
    "        self.train_set = torchvision.datasets.MNIST(\n",
    "            '/files/', train=True, download=True,\n",
    "            transform=torchvision.transforms.Compose([\n",
    "            torchvision.transforms.ToTensor(),\n",
    "            torchvision.transforms.Normalize(\n",
    "                (0.1307,), (0.3081,))\n",
    "            ]))\n",
    "        \n",
    "        self.test_set = torchvision.datasets.MNIST(\n",
    "            '/files/', train=False, download=True,\n",
    "            transform=torchvision.transforms.Compose([\n",
    "            torchvision.transforms.ToTensor(),\n",
    "            torchvision.transforms.Normalize(\n",
    "                (0.1307,), (0.3081,))\n",
    "            ]))\n",
    "        \n",
    "    def train_dataloader(self) -> TRAIN_DATALOADERS:\n",
    "        return torch.utils.data.DataLoader(\n",
    "            self.train_set, batch_size=batch_size_train, shuffle=True)\n",
    "    \n",
    "    def val_dataloader(self) -> EVAL_DATALOADERS:\n",
    "        return torch.utils.data.DataLoader(\n",
    "            self.test_set, batch_size=batch_size_test, shuffle=False)\n",
    "\n",
    "    def test_dataloader(self) -> EVAL_DATALOADERS:\n",
    "        return torch.utils.data.DataLoader(\n",
    "            self.test_set, batch_size=batch_size_test, shuffle=False)"
   ]
  },
  {
   "cell_type": "code",
   "execution_count": 70,
   "metadata": {},
   "outputs": [],
   "source": [
    "if TEST:\n",
    "    data_module = DataModule()\n",
    "    data_module.setup()\n",
    "\n",
    "    print(data_module.train_set[0])"
   ]
  },
  {
   "cell_type": "code",
   "execution_count": 71,
   "metadata": {},
   "outputs": [],
   "source": [
    "if TEST:\n",
    "    image, y = data_module.train_set[0]\n",
    "    random_output = torch.rand(1,10)\n",
    "\n",
    "    print(\"image.shape\", image.shape)\n",
    "    plt.imshow(image[0])\n",
    "\n",
    "    print(\"y\", type(y), y)"
   ]
  },
  {
   "cell_type": "code",
   "execution_count": 72,
   "metadata": {},
   "outputs": [],
   "source": [
    "if TEST:\n",
    "    # NllLoss vs CrossEntLoss\n",
    "    target = torch.tensor([y])\n",
    "    print(\"random_output.shape\", random_output.shape)\n",
    "    print(\"target.shape\", target.shape)\n",
    "\n",
    "    output = F.log_softmax(random_output)\n",
    "    print(\"output.shape\", output.shape)\n",
    "\n",
    "    loss = F.nll_loss(output, target)\n",
    "    print(\"loss.shape\", loss.shape)\n",
    "    print(\"loss\", loss)\n",
    "\n",
    "    loss = F.cross_entropy(output, target)\n",
    "    print(\"loss.shape\", loss.shape)\n",
    "    print(\"loss\", loss)\n"
   ]
  },
  {
   "cell_type": "code",
   "execution_count": 73,
   "metadata": {},
   "outputs": [],
   "source": [
    "if TEST:\n",
    "    target = torch.tensor([y])\n",
    "    output = F.log_softmax(random_output)\n",
    "\n",
    "    print(target, output)\n",
    "    print(torch.argmax(output, dim=1) == target)\n",
    "    "
   ]
  },
  {
   "cell_type": "code",
   "execution_count": 74,
   "metadata": {},
   "outputs": [],
   "source": [
    "from typing import Any\n",
    "from lightning.pytorch.utilities.types import STEP_OUTPUT, OptimizerLRScheduler\n",
    "\n",
    "class Net(L.LightningModule):\n",
    "    def __init__(self):\n",
    "        super().__init__()\n",
    "        self.save_hyperparameters()\n",
    "        self.example_input_array = torch.rand(10, 1, 28, 28)\n",
    "\n",
    "        self.conv1 = nn.Conv2d(1, 10, kernel_size=5)\n",
    "        self.conv2 = nn.Conv2d(10, 20, kernel_size=5)\n",
    "        self.conv2_drop = nn.Dropout2d()\n",
    "        self.fc1 = nn.Linear(320, 50)\n",
    "        self.fc2 = nn.Linear(50, 10)\n",
    "\n",
    "    def forward(self, x):\n",
    "        x = F.relu(F.max_pool2d(self.conv1(x), 2))\n",
    "        x = F.relu(F.max_pool2d(self.conv2_drop(self.conv2(x)), 2))\n",
    "        x = x.view(-1, 320)\n",
    "        x = F.relu(self.fc1(x))\n",
    "        x = F.dropout(x, training=self.training)\n",
    "        x = self.fc2(x)\n",
    "        return F.log_softmax(x)\n",
    "    \n",
    "    def configure_optimizers(self) -> OptimizerLRScheduler:\n",
    "        return optim.SGD(self.parameters(), lr=learning_rate,\n",
    "                      momentum=momentum)\n",
    "    \n",
    "    def training_step(self, batch, batch_idx) -> STEP_OUTPUT:\n",
    "        x, y = batch\n",
    "        output = self.forward(x)\n",
    "        loss = F.nll_loss(output, y)\n",
    "\n",
    "        self.log(\"train_loss\", loss)\n",
    "        return loss\n",
    "    \n",
    "    def validation_step(self,  batch, batch_idx) -> STEP_OUTPUT:\n",
    "        x, y = batch\n",
    "        output = self.forward(x)\n",
    "        loss = F.nll_loss(output, y)\n",
    "        self.log(\"val_loss\", loss)\n",
    "\n",
    "        acc = (torch.argmax(output, dim=1) == y).sum()/len(y)\n",
    "        self.log(\"val_acc\", acc)\n",
    "\n",
    "    def test_step(self,  batch, batch_idx) -> STEP_OUTPUT:\n",
    "        x, y = batch\n",
    "        output = self.forward(x)\n",
    "        loss = F.nll_loss(output, y)\n",
    "        self.log(\"test_loss\", loss)\n",
    "\n",
    "        acc = (torch.argmax(output, dim=1) == y).sum()/len(y)\n",
    "        self.log(\"test_acc\", acc)\n"
   ]
  },
  {
   "cell_type": "code",
   "execution_count": 75,
   "metadata": {},
   "outputs": [],
   "source": [
    "net = Net()\n",
    "data_module = DataModule() "
   ]
  },
  {
   "cell_type": "code",
   "execution_count": 76,
   "metadata": {},
   "outputs": [
    {
     "name": "stderr",
     "output_type": "stream",
     "text": [
      "GPU available: True (cuda), used: True\n",
      "TPU available: False, using: 0 TPU cores\n",
      "IPU available: False, using: 0 IPUs\n",
      "HPU available: False, using: 0 HPUs\n"
     ]
    },
    {
     "name": "stderr",
     "output_type": "stream",
     "text": [
      "LOCAL_RANK: 0 - CUDA_VISIBLE_DEVICES: [0]\n",
      "C:\\Users\\1001002996\\AppData\\Local\\Temp\\ipykernel_13964\\1767351907.py:23: UserWarning: Implicit dimension choice for log_softmax has been deprecated. Change the call to include dim=X as an argument.\n",
      "  return F.log_softmax(x)\n",
      "\n",
      "  | Name       | Type      | Params | In sizes         | Out sizes       \n",
      "-------------------------------------------------------------------------------\n",
      "0 | conv1      | Conv2d    | 260    | [10, 1, 28, 28]  | [10, 10, 24, 24]\n",
      "1 | conv2      | Conv2d    | 5.0 K  | [10, 10, 12, 12] | [10, 20, 8, 8]  \n",
      "2 | conv2_drop | Dropout2d | 0      | [10, 20, 8, 8]   | [10, 20, 8, 8]  \n",
      "3 | fc1        | Linear    | 16.1 K | [10, 320]        | [10, 50]        \n",
      "4 | fc2        | Linear    | 510    | [10, 50]         | [10, 10]        \n",
      "-------------------------------------------------------------------------------\n",
      "21.8 K    Trainable params\n",
      "0         Non-trainable params\n",
      "21.8 K    Total params\n",
      "0.087     Total estimated model params size (MB)\n"
     ]
    },
    {
     "name": "stdout",
     "output_type": "stream",
     "text": [
      "Sanity Checking DataLoader 0:  50%|█████     | 1/2 [00:00<?, ?it/s]"
     ]
    },
    {
     "name": "stderr",
     "output_type": "stream",
     "text": [
      "c:\\Users\\1001002996\\AppData\\Local\\miniconda3\\Lib\\site-packages\\lightning\\pytorch\\trainer\\connectors\\data_connector.py:441: The 'val_dataloader' does not have many workers which may be a bottleneck. Consider increasing the value of the `num_workers` argument` to `num_workers=15` in the `DataLoader` to improve performance.\n"
     ]
    },
    {
     "name": "stdout",
     "output_type": "stream",
     "text": [
      "                                                                           "
     ]
    },
    {
     "name": "stderr",
     "output_type": "stream",
     "text": [
      "c:\\Users\\1001002996\\AppData\\Local\\miniconda3\\Lib\\site-packages\\lightning\\pytorch\\trainer\\connectors\\data_connector.py:441: The 'train_dataloader' does not have many workers which may be a bottleneck. Consider increasing the value of the `num_workers` argument` to `num_workers=15` in the `DataLoader` to improve performance.\n"
     ]
    },
    {
     "name": "stdout",
     "output_type": "stream",
     "text": [
      "Epoch 2: 100%|██████████| 938/938 [00:12<00:00, 77.68it/s, v_num=2]"
     ]
    },
    {
     "name": "stderr",
     "output_type": "stream",
     "text": [
      "`Trainer.fit` stopped: `max_epochs=3` reached.\n"
     ]
    },
    {
     "name": "stdout",
     "output_type": "stream",
     "text": [
      "Epoch 2: 100%|██████████| 938/938 [00:12<00:00, 77.59it/s, v_num=2]"
     ]
    },
    {
     "name": "stderr",
     "output_type": "stream",
     "text": [
      "LOCAL_RANK: 0 - CUDA_VISIBLE_DEVICES: [0]\n",
      "c:\\Users\\1001002996\\AppData\\Local\\miniconda3\\Lib\\site-packages\\lightning\\pytorch\\trainer\\connectors\\data_connector.py:441: The 'test_dataloader' does not have many workers which may be a bottleneck. Consider increasing the value of the `num_workers` argument` to `num_workers=15` in the `DataLoader` to improve performance.\n"
     ]
    },
    {
     "name": "stdout",
     "output_type": "stream",
     "text": [
      "\n",
      "Testing DataLoader 0: 100%|██████████| 10/10 [00:00<00:00, 10.33it/s]\n",
      "────────────────────────────────────────────────────────────────────────────────────────────────────────────────────────\n",
      "       Test metric             DataLoader 0\n",
      "────────────────────────────────────────────────────────────────────────────────────────────────────────────────────────\n",
      "        test_acc            0.9704999923706055\n",
      "        test_loss           0.09313544631004333\n",
      "────────────────────────────────────────────────────────────────────────────────────────────────────────────────────────\n"
     ]
    },
    {
     "data": {
      "text/plain": [
       "[{'test_loss': 0.09313544631004333, 'test_acc': 0.9704999923706055}]"
      ]
     },
     "execution_count": 76,
     "metadata": {},
     "output_type": "execute_result"
    }
   ],
   "source": [
    "trainer = L.Trainer(max_epochs=n_epochs)\n",
    "trainer.fit(model=net, datamodule=data_module)\n",
    "trainer.test(model=net, datamodule=data_module)"
   ]
  },
  {
   "cell_type": "code",
   "execution_count": null,
   "metadata": {},
   "outputs": [],
   "source": []
  }
 ],
 "metadata": {
  "kernelspec": {
   "display_name": "base",
   "language": "python",
   "name": "python3"
  },
  "language_info": {
   "codemirror_mode": {
    "name": "ipython",
    "version": 3
   },
   "file_extension": ".py",
   "mimetype": "text/x-python",
   "name": "python",
   "nbconvert_exporter": "python",
   "pygments_lexer": "ipython3",
   "version": "3.11.5"
  }
 },
 "nbformat": 4,
 "nbformat_minor": 2
}
