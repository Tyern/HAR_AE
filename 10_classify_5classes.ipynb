{
 "cells": [
  {
   "cell_type": "code",
   "execution_count": 1,
   "metadata": {},
   "outputs": [
    {
     "name": "stderr",
     "output_type": "stream",
     "text": [
      "/nfs/ksdata/tran/miniconda3/envs/python_3.8/lib/python3.8/site-packages/tqdm/auto.py:21: TqdmWarning: IProgress not found. Please update jupyter and ipywidgets. See https://ipywidgets.readthedocs.io/en/stable/user_install.html\n",
      "  from .autonotebook import tqdm as notebook_tqdm\n"
     ]
    }
   ],
   "source": [
    "import os\n",
    "import json\n",
    "import sys\n",
    "\n",
    "import numpy as np\n",
    "import pandas as pd\n",
    "\n",
    "import torch\n",
    "import torchvision\n",
    "\n",
    "import matplotlib.pyplot as plt\n",
    "import lightning as L\n",
    "\n",
    "import torch.nn as nn\n",
    "import torch.nn.functional as F\n",
    "import torch.optim as optim\n",
    "\n",
    "from data_module.data_module import ALDataModule_v1\n",
    "from model.classifier_model import Classifier1D\n",
    "\n",
    "import seaborn as sns\n",
    "from sklearn.metrics import confusion_matrix, accuracy_score, f1_score"
   ]
  },
  {
   "cell_type": "code",
   "execution_count": 2,
   "metadata": {},
   "outputs": [],
   "source": [
    "import argparse\n",
    "\n",
    "parser = argparse.ArgumentParser(description=\"\", formatter_class=argparse.ArgumentDefaultsHelpFormatter)\n",
    "\n",
    "parser.add_argument(\"-tl\", \"--train_limit_data\", type=int, default=-1,\n",
    "                    help=f\"Used for limit the number of data in train data, -1 mean no limit\")\n",
    "\n",
    "if os.path.basename(sys.argv[0]) == 'ipykernel_launcher.py':\n",
    "    args = parser.parse_args(args=[])\n",
    "else:\n",
    "    args = parser.parse_args()"
   ]
  },
  {
   "cell_type": "code",
   "execution_count": 3,
   "metadata": {},
   "outputs": [],
   "source": [
    "TEST = False\n",
    "\n",
    "random_seed = 42\n",
    "lin_gyr_dataset_path = \"dataset/processed_concat_data\"\n"
   ]
  },
  {
   "cell_type": "code",
   "execution_count": 5,
   "metadata": {},
   "outputs": [
    {
     "name": "stdout",
     "output_type": "stream",
     "text": [
      "   | Name     | Type        | Params | In sizes     | Out sizes   \n",
      "------------------------------------------------------------------------\n",
      "0  | cnn      | Sequential  | 18.0 K | [10, 6, 257] | [10, 64, 26]\n",
      "1  | cnn.0    | Conv1d      | 1.6 K  | [10, 6, 257] | [10, 32, 84]\n",
      "2  | cnn.1    | ReLU        | 0      | [10, 32, 84] | [10, 32, 84]\n",
      "3  | cnn.2    | Dropout     | 0      | [10, 32, 84] | [10, 32, 84]\n",
      "4  | cnn.3    | Conv1d      | 16.4 K | [10, 32, 84] | [10, 64, 26]\n",
      "5  | cnn.4    | ReLU        | 0      | [10, 64, 26] | [10, 64, 26]\n",
      "6  | cnn.5    | Dropout     | 0      | [10, 64, 26] | [10, 64, 26]\n",
      "7  | linear   | Sequential  | 460 K  | [10, 1664]   | [10, 5]     \n",
      "8  | linear.0 | Linear      | 426 K  | [10, 1664]   | [10, 256]   \n",
      "9  | linear.1 | BatchNorm1d | 512    | [10, 256]    | [10, 256]   \n",
      "10 | linear.2 | ReLU        | 0      | [10, 256]    | [10, 256]   \n",
      "11 | linear.3 | Linear      | 32.9 K | [10, 256]    | [10, 128]   \n",
      "12 | linear.4 | BatchNorm1d | 256    | [10, 128]    | [10, 128]   \n",
      "13 | linear.5 | ReLU        | 0      | [10, 128]    | [10, 128]   \n",
      "14 | linear.6 | Linear      | 645    | [10, 128]    | [10, 5]     \n",
      "------------------------------------------------------------------------\n",
      "478 K     Trainable params\n",
      "0         Non-trainable params\n",
      "478 K     Total params\n",
      "1.914     Total estimated model params size (MB)\n"
     ]
    }
   ],
   "source": [
    "from lightning.pytorch.utilities.model_summary import ModelSummary\n",
    "\n",
    "net = Classifier1D(\n",
    "    cnn_channel_param = [\n",
    "        (6, 32, 8, 0, 3),\n",
    "        (32, 64, 8, 0, 3)\n",
    "    ],\n",
    "    linear_channel_param = [\n",
    "        256, 128\n",
    "    ],\n",
    "    out_class_num=5,).to(\"cpu\")\n",
    "\n",
    "model_summary = ModelSummary(net, max_depth=6)\n",
    "print(model_summary)"
   ]
  },
  {
   "cell_type": "code",
   "execution_count": 6,
   "metadata": {},
   "outputs": [],
   "source": [
    "n_epochs = 20000\n",
    "patience = n_epochs//100\n",
    "\n",
    "optimizer_param_dict = {\n",
    "    \"Adam\": (optim.Adam, {\n",
    "        \"lr\": 0.001,\n",
    "    }),\n",
    "    \"SGD\": (optim.SGD, {\n",
    "        \"lr\": 0.001,\n",
    "        \"momentum\": 0.5,\n",
    "    }),\n",
    "}\n",
    "optimizer, optimizer_param = optimizer_param_dict[\"SGD\"]\n",
    "dataset_path = lin_gyr_dataset_path\n",
    "\n",
    "log_save_dir = \"lightning_logs\"\n",
    "log_save_name = \"10_classify_5classes_10000data\""
   ]
  },
  {
   "cell_type": "code",
   "execution_count": null,
   "metadata": {},
   "outputs": [],
   "source": [
    "print(\" ----------------------start training---------------------------\")\n",
    "from lightning.pytorch.callbacks.early_stopping import EarlyStopping\n",
    "from lightning.pytorch.callbacks import ModelCheckpoint\n",
    "from lightning.pytorch.loggers import TensorBoardLogger, CSVLogger\n",
    "\n",
    "tensorboard_logger = TensorBoardLogger(save_dir=log_save_dir, name=log_save_name,)\n",
    "csv_logger = CSVLogger(save_dir=log_save_dir, name=log_save_name,)\n",
    "checkpoint_callback = ModelCheckpoint(\n",
    "    dirpath=None,\n",
    "    save_top_k=1,\n",
    "    monitor=\"val_loss\",\n",
    "    mode=\"min\",\n",
    "    filename=\"sample_{epoch:02d}-{step:02d}-{val_loss:02f}\"\n",
    ")\n",
    "\n",
    "trainer = L.Trainer(\n",
    "    logger=[tensorboard_logger, csv_logger],\n",
    "    callbacks=[EarlyStopping(monitor=\"val_loss\", patience=patience), checkpoint_callback],\n",
    "    max_epochs=n_epochs,\n",
    "    check_val_every_n_epoch=10,\n",
    "    accelerator=\"gpu\", \n",
    "    devices=4, \n",
    "    strategy=\"ddp\"\n",
    "    )\n",
    "\n",
    "net = Classifier1D(\n",
    "    optimizer = optimizer,\n",
    "    optimizer_param = optimizer_param, \n",
    "    cnn_channel_param = [\n",
    "        (6, 32, 8, 0, 3),\n",
    "        (32, 64, 8, 0, 3)\n",
    "    ],\n",
    "    linear_channel_param = [\n",
    "        256, 128\n",
    "    ],\n",
    "    out_class_num = 5,\n",
    ")\n",
    "\n",
    "data_module = ALDataModule_v1(dataset_path=dataset_path, batch_size=512, prefix=\"torso_\", postfix=\"_fft\")\n",
    "data_module.limit_and_set_train_data(data_module._train_data, data_module._train_label, limit_number=args.train_limit_data)\n",
    "\n",
    "print(\"np.unique(data_module.train_label, return_counts=True)\", np.unique(data_module.train_label, return_counts=True))\n",
    "\n",
    "trainer.fit(model=net, datamodule=data_module)\n",
    "trainer_test_dict = trainer.logged_metrics\n",
    "\n",
    "trainer.test(model=net, datamodule=data_module)\n",
    "trainer_test_dict.update(trainer.logged_metrics)\n",
    "\n",
    "for key in trainer_test_dict.keys():\n",
    "    trainer_test_dict[key] = trainer_test_dict[key].item()\n",
    "\n",
    "with open(os.path.join(trainer.logger.log_dir, \"result.json\"), \"w\") as f:\n",
    "    json.dump(trainer_test_dict, f, indent=4)\n",
    "\n",
    "with open(os.path.join(trainer.logger.log_dir, \"argparse_params.json\"), \"w\") as f:\n",
    "    json.dump(args.__dict__, f, indent=4)"
   ]
  },
  {
   "cell_type": "code",
   "execution_count": null,
   "metadata": {},
   "outputs": [],
   "source": []
  },
  {
   "cell_type": "code",
   "execution_count": 15,
   "metadata": {},
   "outputs": [
    {
     "name": "stderr",
     "output_type": "stream",
     "text": [
      "Trainer will use only 1 of 2 GPUs because it is running inside an interactive / notebook environment. You may try to set `Trainer(devices=2)` but please note that multi-GPU inside interactive / notebook environments is considered experimental and unstable. Your mileage may vary.\n",
      "/nfs/ksdata/tran/miniconda3/envs/python_3.8/lib/python3.8/site-packages/lightning/fabric/plugins/environments/slurm.py:191: The `srun` command is available on your system but is not used. HINT: If your intention is to run Lightning on SLURM, prepend your python command with `srun` like so: srun python /nfs/ksdata/tran/miniconda3/envs/python_3.8/lib/pyth ...\n",
      "GPU available: True (cuda), used: True\n",
      "TPU available: False, using: 0 TPU cores\n",
      "IPU available: False, using: 0 IPUs\n",
      "HPU available: False, using: 0 HPUs\n"
     ]
    },
    {
     "name": "stdout",
     "output_type": "stream",
     "text": [
      "set_normal_train\n"
     ]
    },
    {
     "name": "stderr",
     "output_type": "stream",
     "text": [
      "LOCAL_RANK: 0 - CUDA_VISIBLE_DEVICES: [0,1]\n",
      "/nfs/ksdata/tran/miniconda3/envs/python_3.8/lib/python3.8/site-packages/lightning/pytorch/trainer/connectors/data_connector.py:441: The 'test_dataloader' does not have many workers which may be a bottleneck. Consider increasing the value of the `num_workers` argument` to `num_workers=55` in the `DataLoader` to improve performance.\n"
     ]
    },
    {
     "name": "stdout",
     "output_type": "stream",
     "text": [
      "Testing DataLoader 0: 100%|████████████████████| 10/10 [00:00<00:00, 112.10it/s]\n",
      "────────────────────────────────────────────────────────────────────────────────────────────────────────────────────────\n",
      "       Test metric             DataLoader 0\n",
      "────────────────────────────────────────────────────────────────────────────────────────────────────────────────────────\n",
      "        test_acc            0.9673444032669067\n",
      "        test_loss           0.11694872379302979\n",
      "────────────────────────────────────────────────────────────────────────────────────────────────────────────────────────\n"
     ]
    },
    {
     "name": "stderr",
     "output_type": "stream",
     "text": [
      "LOCAL_RANK: 0 - CUDA_VISIBLE_DEVICES: [0,1]\n",
      "/nfs/ksdata/tran/miniconda3/envs/python_3.8/lib/python3.8/site-packages/lightning/pytorch/trainer/connectors/data_connector.py:441: The 'predict_dataloader' does not have many workers which may be a bottleneck. Consider increasing the value of the `num_workers` argument` to `num_workers=55` in the `DataLoader` to improve performance.\n"
     ]
    },
    {
     "name": "stdout",
     "output_type": "stream",
     "text": [
      "Predicting DataLoader 0: 100%|█████████████████| 10/10 [00:00<00:00, 205.49it/s]\n"
     ]
    }
   ],
   "source": [
    "checkpoint_path = \"/nfs/ksdata/tran/HAR_AE/lightning_logs/10_classify_5classes_10000data/version_29/checkpoints/sample_epoch=18279-step=36560-val_loss=0.118641.ckpt\"\n",
    "\n",
    "data_module = ALDataModule_v1.load_from_checkpoint(checkpoint_path)\n",
    "data_module.set_normal_train()\n",
    "net = Classifier1D.load_from_checkpoint(checkpoint_path)\n",
    "\n",
    "trainer = L.Trainer()\n",
    "\n",
    "\n",
    "trainer.test(model=net, datamodule=data_module)\n",
    "output = trainer.predict(model=net, datamodule=data_module)\n",
    "pred = torch.argmax(torch.concat(output), dim=1)\n",
    "gt = list(map(lambda x: x[1], iter(data_module.test_dataloader())))"
   ]
  },
  {
   "cell_type": "code",
   "execution_count": 14,
   "metadata": {},
   "outputs": [
    {
     "name": "stdout",
     "output_type": "stream",
     "text": [
      "Accuracy 0.9636475662353666\n",
      "F1 0.9647597908469319\n",
      "[[983   5   0   8   4]\n",
      " [ 28 955   1  10   6]\n",
      " [  1   3 861   4   0]\n",
      " [ 23   4   0 967   6]\n",
      " [ 69   0   0   5 926]]\n"
     ]
    },
    {
     "data": {
      "text/plain": [
       "[Text(0.5, 23.52222222222222, 'Predict'),\n",
       " Text(50.722222222222214, 0.5, 'Ground truth'),\n",
       " [Text(0.5, 0, 'still'),\n",
       "  Text(1.5, 0, 'walking'),\n",
       "  Text(2.5, 0, 'run'),\n",
       "  Text(3.5, 0, 'bike'),\n",
       "  Text(4.5, 0, 'bus')],\n",
       " [Text(0, 0.5, 'still'),\n",
       "  Text(0, 1.5, 'walking'),\n",
       "  Text(0, 2.5, 'run'),\n",
       "  Text(0, 3.5, 'bike'),\n",
       "  Text(0, 4.5, 'bus')]]"
      ]
     },
     "execution_count": 14,
     "metadata": {},
     "output_type": "execute_result"
    },
    {
     "data": {
      "image/png": "[encoded data removed]",
      "text/plain": [
       "<Figure size 640x480 with 2 Axes>"
      ]
     },
     "metadata": {},
     "output_type": "display_data"
    }
   ],
   "source": [
    "pred_ravel = pred.numpy()\n",
    "gt_ravel = np.concatenate(list(map(lambda x: x.numpy(), gt)))\n",
    "\n",
    "accuracy = accuracy_score(gt_ravel, pred_ravel)\n",
    "print(\"Accuracy\", accuracy)\n",
    "\n",
    "f1 = f1=f1_score(gt_ravel, pred_ravel, average=\"macro\")\n",
    "print(\"F1\", f1)\n",
    "\n",
    "cf = confusion_matrix(gt_ravel, pred_ravel)\n",
    "\n",
    "print(cf)\n",
    "label_list = [\"still\", \"walking\", \"run\", \"bike\", \"bus\"]\n",
    "s = sns.heatmap(cf, annot=True, fmt='g')\n",
    "s.set(xlabel=\"Predict\", ylabel=\"Ground truth\", xticklabels=label_list, yticklabels=label_list)"
   ]
  },
  {
   "cell_type": "code",
   "execution_count": null,
   "metadata": {},
   "outputs": [],
   "source": []
  }
 ],
 "metadata": {
  "kernelspec": {
   "display_name": "Python 3 (ipykernel)",
   "language": "python",
   "name": "python3"
  },
  "language_info": {
   "codemirror_mode": {
    "name": "ipython",
    "version": 3
   },
   "file_extension": ".py",
   "mimetype": "text/x-python",
   "name": "python",
   "nbconvert_exporter": "python",
   "pygments_lexer": "ipython3",
   "version": "3.8.18"
  }
 },
 "nbformat": 4,
 "nbformat_minor": 4
}
