{
 "cells": [
  {
   "cell_type": "code",
   "execution_count": 1,
   "metadata": {
    "scrolled": true
   },
   "outputs": [
    {
     "name": "stderr",
     "output_type": "stream",
     "text": [
      "/nfs/ksdata/tran/miniconda3/envs/python_3.8/lib/python3.8/site-packages/tqdm/auto.py:21: TqdmWarning: IProgress not found. Please update jupyter and ipywidgets. See https://ipywidgets.readthedocs.io/en/stable/user_install.html\n",
      "  from .autonotebook import tqdm as notebook_tqdm\n"
     ]
    }
   ],
   "source": [
    "import os\n",
    "import json\n",
    "import sys\n",
    "import glob\n",
    "import re\n",
    "import gc\n",
    "\n",
    "import numpy as np\n",
    "import pandas as pd\n",
    "\n",
    "import torch\n",
    "import torchvision\n",
    "\n",
    "import matplotlib.pyplot as plt\n",
    "import lightning as L\n",
    "from lightning.pytorch.utilities.model_summary import ModelSummary\n",
    "\n",
    "import torch.nn as nn\n",
    "import torch.nn.functional as F\n",
    "import torch.optim as optim\n",
    "from sklearn.metrics import confusion_matrix, accuracy_score, f1_score\n",
    "\n",
    "from data_module.data_module import ALDataModule_v1, FFTDataModule\n",
    "from utils.data_utils import limit_filter_data_by_class\n",
    "from utils.model_utils import reset_weight_model\n",
    "\n",
    "from model.classifier_model import Classifier1DMaxPoolBNModel, Classifier1D\n",
    "from utils.model_utils import unwrap_model\n",
    "\n",
    "from config.optimizer_param_config import optimizer_param_dict\n",
    "from config.channel_param_config import channel_param_dict\n",
    "\n"
   ]
  },
  {
   "cell_type": "code",
   "execution_count": 14,
   "metadata": {},
   "outputs": [],
   "source": [
    "import argparse\n",
    "\n",
    "parser = argparse.ArgumentParser(description=\"\", formatter_class=argparse.ArgumentDefaultsHelpFormatter)\n",
    "\n",
    "parser.add_argument('-ck', \"--save_model_folder\", type=str, default=\"20_AL_train_unbalance/4cnn_64-8-1000-4-10-300-64\",\n",
    "                    help=f\"AL learning model\")\n",
    "parser.add_argument('-m', \"--method\", type=str, default=\"random\",\n",
    "                    help=f\":: select run method from [random, sampling]\")\n",
    "\n",
    "parser.add_argument(\"-ss\", \"--sampling_size\", type=int, default=100,\n",
    "                    help=f\"sampler size to take from additional dataset. normally < 5000, Not effective for method `full`\")\n",
    "\n",
    "parser.add_argument(\"-tl\", \"--train_limit_data\", type=int, default=None,\n",
    "                    help=f\"Used for limit the number of data in train data, -1 mean no limit\")\n",
    "\n",
    "parser.add_argument(\"-cn\", \"--class_num\", type=int, default=None,\n",
    "                    help=f\"Number of class num use to train\")\n",
    "\n",
    "parser.add_argument(\"--target_class\", type=int, default=None,\n",
    "                    help=f\"Number of class num use to train\")\n",
    "\n",
    "parser.add_argument(\"--target_class_data_num\", type=int, default=None,\n",
    "                    help=f\"Number of data for the target class to train\")\n",
    "\n",
    "parser.add_argument(\"--filter_unselected_data_num\", type=int, default=5000,\n",
    "                    help=f\"Used for get the size of additional dataset\")\n",
    "\n",
    "parser.add_argument(\"--reset_weight\", type=int, default=1,\n",
    "                    help=f\"Reset weight before training. If not reset, we will continue learning from the checkpoint\")\n",
    "\n",
    "parser.add_argument(\"-r\", \"--random_seed\", type=int, default=64,\n",
    "                    help=f\"Random Seed\")\n",
    "\n",
    "parser.add_argument(\"--eval_mode\", type=int, default=0,\n",
    "                    help=f\"Eval all models\")\n",
    "\n",
    "parser.add_argument(\"--patience\", type=int, default=None,\n",
    "                    help=f\"Early stopping patience\")\n",
    "\n",
    "if os.path.basename(sys.argv[0]) == 'ipykernel_launcher.py':\n",
    "    args = parser.parse_args(args=[])\n",
    "else:\n",
    "    args = parser.parse_args()"
   ]
  },
  {
   "cell_type": "code",
   "execution_count": 15,
   "metadata": {},
   "outputs": [
    {
     "name": "stderr",
     "output_type": "stream",
     "text": [
      "Seed set to 42\n"
     ]
    },
    {
     "data": {
      "text/plain": [
       "42"
      ]
     },
     "execution_count": 15,
     "metadata": {},
     "output_type": "execute_result"
    }
   ],
   "source": [
    "L.seed_everything(42)"
   ]
  },
  {
   "cell_type": "code",
   "execution_count": 16,
   "metadata": {},
   "outputs": [
    {
     "name": "stdout",
     "output_type": "stream",
     "text": [
      "4cnn_64-8-1000-4-10-300-64\n"
     ]
    }
   ],
   "source": [
    "# save_model_folder = os.path.basename(args.save_model_folder)\n",
    "save_model_folder = os.path.basename(args.save_model_folder)\n",
    "print(save_model_folder)\n",
    "match = re.match(r\"[a-z0-9_]+-(\\d+)-(\\d+)-(\\d+)-(\\d+)-(\\d+)-\\d+\", save_model_folder)\n",
    "\n",
    "args.class_num = int(match.group(1))\n",
    "args.train_limit_data = int(match.group(2))\n",
    "args.target_class = int(match.group(3))\n",
    "args.target_class_data_num = int(match.group(4))\n",
    "args.patience = int(match.group(5))\n"
   ]
  },
  {
   "cell_type": "code",
   "execution_count": 17,
   "metadata": {},
   "outputs": [],
   "source": [
    "n_epochs = 2000000\n",
    "patience = n_epochs//5000\n",
    "batch_size = 512\n",
    "\n",
    "optimizer, optimizer_param = optimizer_param_dict[\"Adam\"]\n",
    "dataset_path = f\"dataset/processed_concat_data_{args.class_num}_labels\"\n",
    "reset_str = \"_reset\" if args.reset_weight else \"\"\n",
    "\n",
    "log_save_dir = \"lightning_logs\" \n",
    "log_save_name = f\"20.2_AL_train_unbalance/{save_model_folder}_{args.method}_{args.sampling_size}_{args.random_seed}_{reset_str}\""
   ]
  },
  {
   "cell_type": "code",
   "execution_count": 18,
   "metadata": {},
   "outputs": [
    {
     "name": "stdout",
     "output_type": "stream",
     "text": [
      "limit_and_set_train_data limit_number= 1000\n",
      "reduce_one_class_number target_class= 4 target_class_data_num= 10\n",
      "reduce_one_class_number target_class= 4 target_class_data_num= 10\n",
      "reduce_one_class_number target_class= 4 target_class_data_num= 10\n",
      "(array([1., 2., 3., 4., 5., 6., 7., 8.]), array([1000, 1000, 1000,   10, 1000, 1000, 1000, 1000]))\n",
      "(array([1., 2., 3., 4., 5., 6., 7., 8.]), array([1000, 1001,  869,   10, 1000, 1000, 1000, 1000]))\n",
      "(array([1., 2., 3., 4., 5., 6., 7., 8.]), array([1000, 1000,  869,   10, 1000, 1000, 1000, 1000]))\n"
     ]
    }
   ],
   "source": [
    "data_module = ALDataModule_v1(dataset_path=dataset_path, batch_size=512, prefix=\"torso_\", postfix=\"_fft\", sampler_size=args.sampling_size)\n",
    "data_module.limit_and_set_train_data(data_module._train_data, data_module._train_label, limit_number=args.train_limit_data)\n",
    "train_data, train_label = data_module.reduce_one_class_number(data_module.train_data, data_module.train_label, target_class=args.target_class, target_class_data_num=args.target_class_data_num)\n",
    "val_data, val_label = data_module.reduce_one_class_number(data_module.val_data, data_module.val_label, target_class=args.target_class, target_class_data_num=args.target_class_data_num)\n",
    "test_data, test_label = data_module.reduce_one_class_number(data_module.test_data, data_module.test_label, target_class=args.target_class, target_class_data_num=args.target_class_data_num)\n",
    "\n",
    "data_module.set_train_val_test_pred_data(\n",
    "    train_data = train_data,\n",
    "    train_label = train_label,\n",
    "    val_data = val_data,\n",
    "    val_label = val_label,\n",
    "    test_data = test_data,\n",
    "    test_label = test_label,\n",
    "    pred_data = test_data,\n",
    ")\n",
    "\n",
    "print(np.unique(data_module.train_label, return_counts=True))\n",
    "print(np.unique(data_module.val_label, return_counts=True))\n",
    "print(np.unique(data_module.test_label, return_counts=True))\n"
   ]
  },
  {
   "cell_type": "code",
   "execution_count": 19,
   "metadata": {},
   "outputs": [
    {
     "name": "stdout",
     "output_type": "stream",
     "text": [
      "   | Name     | Type        | Params | In sizes     | Out sizes   \n",
      "------------------------------------------------------------------------\n",
      "0  | cnn      | Sequential  | 316 K  | [10, 6, 257] | [10, 256, 1]\n",
      "1  | cnn.0    | Conv1d      | 1.6 K  | [10, 6, 257] | [10, 32, 84]\n",
      "2  | cnn.1    | BatchNorm1d | 64     | [10, 32, 84] | [10, 32, 84]\n",
      "3  | cnn.2    | ReLU        | 0      | [10, 32, 84] | [10, 32, 84]\n",
      "4  | cnn.3    | Conv1d      | 18.5 K | [10, 32, 84] | [10, 64, 26]\n",
      "5  | cnn.4    | BatchNorm1d | 128    | [10, 64, 26] | [10, 64, 26]\n",
      "6  | cnn.5    | ReLU        | 0      | [10, 64, 26] | [10, 64, 26]\n",
      "7  | cnn.6    | Conv1d      | 65.7 K | [10, 64, 26] | [10, 128, 7]\n",
      "8  | cnn.7    | BatchNorm1d | 256    | [10, 128, 7] | [10, 128, 7]\n",
      "9  | cnn.8    | ReLU        | 0      | [10, 128, 7] | [10, 128, 7]\n",
      "10 | cnn.9    | Conv1d      | 229 K  | [10, 128, 7] | [10, 256, 1]\n",
      "11 | cnn.10   | BatchNorm1d | 512    | [10, 256, 1] | [10, 256, 1]\n",
      "12 | cnn.11   | ReLU        | 0      | [10, 256, 1] | [10, 256, 1]\n",
      "13 | linear   | Sequential  | 17.1 K | [10, 256]    | [10, 8]     \n",
      "14 | linear.0 | Linear      | 16.4 K | [10, 256]    | [10, 64]    \n",
      "15 | linear.1 | BatchNorm1d | 128    | [10, 64]     | [10, 64]    \n",
      "16 | linear.2 | ReLU        | 0      | [10, 64]     | [10, 64]    \n",
      "17 | linear.3 | Linear      | 520    | [10, 64]     | [10, 8]     \n",
      "------------------------------------------------------------------------\n",
      "333 K     Trainable params\n",
      "0         Non-trainable params\n",
      "333 K     Total params\n",
      "1.334     Total estimated model params size (MB)\n"
     ]
    }
   ],
   "source": [
    "checkpoint_path = glob.glob(os.path.join(log_save_dir, args.save_model_folder, \"version_0\", \"checkpoints\", \"*.ckpt\"))[0]\n",
    "\n",
    "net = Classifier1DMaxPoolBNModel.load_from_checkpoint(checkpoint_path)\n",
    "\n",
    "model_summary = ModelSummary(net, max_depth=6)\n",
    "print(model_summary)"
   ]
  },
  {
   "cell_type": "code",
   "execution_count": 20,
   "metadata": {},
   "outputs": [],
   "source": [
    "def process_tl_and_additional_ds(data_module):\n",
    "    assert args.train_limit_data + args.filter_unselected_data_num < np.max(np.unique(data_module._train_label, return_counts=True)[1])\n",
    "    print(\"data_module.choice_limited_list\", data_module.choice_limited_list[:100])\n",
    "    \n",
    "    unselected_train_idx = list(set(range(len(data_module._train_label))) - set(data_module.choice_limited_list))\n",
    "    unselected_train_data = data_module._train_data[unselected_train_idx]\n",
    "    unselected_train_label = data_module._train_label[unselected_train_idx]\n",
    "\n",
    "    filter_data, filter_label, choice_idx = limit_filter_data_by_class(unselected_train_data, unselected_train_label, args.filter_unselected_data_num)\n",
    "    \n",
    "    return filter_data, filter_label, choice_idx\n",
    "    "
   ]
  },
  {
   "cell_type": "code",
   "execution_count": 21,
   "metadata": {},
   "outputs": [],
   "source": [
    "def proceed_output_target_class(data_module, data, label, net_output):\n",
    "    print(\"proceed_output_target_class\")\n",
    "    assert len(data) == len(label)\n",
    "    if isinstance(net_output, list):\n",
    "        output_concat = torch.concat(net_output)\n",
    "    else:\n",
    "        output_concat = net_output\n",
    "\n",
    "    scores = output_concat[:, args.target_class - 1].numpy()\n",
    "    ranks = np.argsort(scores)\n",
    "    ranks = ranks[::-1]\n",
    "    data_module.sampling_rank = ranks\n",
    "    \n",
    "    data_module._uncertainty_data = data[data_module.sampling_rank][:data_module.hparams.sampler_size]\n",
    "    data_module._uncertainty_label = label[data_module.sampling_rank][:data_module.hparams.sampler_size]\n",
    "\n",
    "    data_module._train_uncertainty_data = np.concatenate([data_module.train_data, data_module._uncertainty_data])\n",
    "    data_module._train_uncertainty_label = np.concatenate([data_module.train_label, data_module._uncertainty_label])\n",
    "    \n",
    "    data_module.set_only_train_data(data_module._train_uncertainty_data, data_module._train_uncertainty_label)\n",
    "    "
   ]
  },
  {
   "cell_type": "code",
   "execution_count": 22,
   "metadata": {
    "scrolled": true
   },
   "outputs": [
    {
     "name": "stdout",
     "output_type": "stream",
     "text": [
      "data_module.choice_limited_list [18207, 21088, 13538, 24705, 34880, 21925, 14404, 9094, 32657, 30380, 12545, 24022, 24330, 34504, 34879, 35477, 62488, 39917, 22509, 18939, 31666, 47173, 48642, 59923, 6524, 25754, 62475, 25899, 6322, 25043, 6660, 57311, 54786, 13251, 53951, 8460, 42308, 38349, 4044, 8293, 22989, 22196, 42633, 23904, 27225, 41230, 8652, 50565, 39802, 49424, 23847, 32370, 34822, 55309, 10695, 60813, 18516, 52538, 57173, 7160, 44307, 20179, 3847, 23509, 39620, 55641, 49521, 43229, 12342, 31557, 26505, 2134, 30794, 32841, 61763, 14799, 9330, 46006, 17702, 31651, 50077, 26710, 5622, 23181, 8230, 53307, 40925, 34497, 17857, 4003, 30870, 35409, 4326, 55199, 10855, 5741, 8256, 50065, 51993, 22666]\n",
      "limit_and_set_train_data limit_number= 5000\n",
      "limit_filter_data_by_class:  (array([1., 2., 3., 4., 5., 6., 7., 8.]), array([5000, 5000, 5000, 5000, 5000, 5000, 5000, 5000]))\n",
      "set_random_set\n",
      "data_module.sampling_rank [ 5274 20930 39651 ... 20079 34789 10637]\n",
      "(array([1., 2., 3., 4., 5., 6., 7., 8.]), array([1007, 1012, 1018,   20, 1015, 1010, 1013, 1015]))\n"
     ]
    }
   ],
   "source": [
    "assert args.method in [ \"sampling\",  \"random\",  \"full\"  ]\n",
    "\n",
    "if args.method == \"sampling\":\n",
    "    # Add to training dataset the uncertainty data for later training\n",
    "    _additional_data, _additional_label, _additional_choice_idx = process_tl_and_additional_ds(data_module)\n",
    "    \n",
    "    data_module.set_train_val_test_pred_data(pred_data=_additional_data)\n",
    "    \n",
    "    trainer = L.Trainer()\n",
    "    output = trainer.predict(model=net, datamodule=data_module)\n",
    "    \n",
    "    proceed_output_target_class(data_module, _additional_data, _additional_label, output)\n",
    "    print(\"data_module.sampling_rank\", data_module.sampling_rank[:100])\n",
    "\n",
    "elif args.method == \"random\":\n",
    "    _additional_data, _additional_label, _additional_choice_idx = process_tl_and_additional_ds(data_module)\n",
    "    \n",
    "    data_module.set_random_set(data=_additional_data, label=_additional_label)\n",
    "    print(\"data_module.sampling_rank\", data_module.random_rank)\n",
    "    print(np.unique(data_module.train_label, return_counts=True))\n",
    "    "
   ]
  },
  {
   "cell_type": "code",
   "execution_count": 23,
   "metadata": {},
   "outputs": [
    {
     "name": "stdout",
     "output_type": "stream",
     "text": [
      "(array([1., 2., 3., 4., 5., 6., 7., 8.]), array([1007, 1012, 1018,   20, 1015, 1010, 1013, 1015]))\n"
     ]
    }
   ],
   "source": [
    "print(np.unique(data_module.train_label, return_counts=True))"
   ]
  },
  {
   "cell_type": "code",
   "execution_count": 88,
   "metadata": {},
   "outputs": [
    {
     "name": "stderr",
     "output_type": "stream",
     "text": [
      "Seed set to 42\n"
     ]
    },
    {
     "name": "stdout",
     "output_type": "stream",
     "text": [
      "reset <class 'torch.nn.modules.conv.Conv1d'>\n",
      "reset <class 'torch.nn.modules.batchnorm.BatchNorm1d'>\n",
      "reset <class 'torch.nn.modules.conv.Conv1d'>\n",
      "reset <class 'torch.nn.modules.batchnorm.BatchNorm1d'>\n",
      "reset <class 'torch.nn.modules.conv.Conv1d'>\n",
      "reset <class 'torch.nn.modules.batchnorm.BatchNorm1d'>\n",
      "reset <class 'torch.nn.modules.conv.Conv1d'>\n",
      "reset <class 'torch.nn.modules.batchnorm.BatchNorm1d'>\n",
      "reset <class 'torch.nn.modules.linear.Linear'>\n",
      "reset <class 'torch.nn.modules.batchnorm.BatchNorm1d'>\n",
      "reset <class 'torch.nn.modules.linear.Linear'>\n"
     ]
    }
   ],
   "source": [
    "## Reset net weight before training\n",
    "L.seed_everything(args.random_seed)\n",
    "if args.reset_weight:\n",
    "    reset_weight_model(net, verbose=1)"
   ]
  },
  {
   "cell_type": "code",
   "execution_count": null,
   "metadata": {},
   "outputs": [],
   "source": [
    "if not args.eval_mode:\n",
    "    print(\" ----------------------start training---------------------------\")\n",
    "    from lightning.pytorch.callbacks.early_stopping import EarlyStopping\n",
    "    from lightning.pytorch.callbacks import ModelCheckpoint\n",
    "    from lightning.pytorch.loggers import TensorBoardLogger, CSVLogger\n",
    "    \n",
    "    tensorboard_logger = TensorBoardLogger(save_dir=log_save_dir, name=log_save_name,)\n",
    "    # csv_logger = CSVLogger(save_dir=log_save_dir, name=log_save_name,)\n",
    "    checkpoint_callback = ModelCheckpoint(\n",
    "        dirpath=None,\n",
    "        save_top_k=1,\n",
    "        monitor=\"val_loss\",\n",
    "        mode=\"min\",\n",
    "        filename=\"sample_{epoch:02d}-{step:02d}-{val_loss:02f}\"\n",
    "    )\n",
    "    \n",
    "    trainer = L.Trainer(\n",
    "        logger=[tensorboard_logger],\n",
    "        callbacks=[EarlyStopping(monitor=\"val_loss\", patience=patience), checkpoint_callback],\n",
    "        max_epochs=n_epochs,\n",
    "        check_val_every_n_epoch=10,\n",
    "        accelerator=\"gpu\", \n",
    "        devices=4, \n",
    "        strategy=\"ddp\"\n",
    "        )\n",
    "    \n",
    "    trainer.fit(model=net, datamodule=data_module)\n",
    "    trainer_test_dict = trainer.logged_metrics\n",
    "    \n",
    "    trainer.test(model=net, datamodule=data_module)\n",
    "    trainer_test_dict.update(trainer.logged_metrics)\n",
    "    \n",
    "    for key in trainer_test_dict.keys():\n",
    "        trainer_test_dict[key] = trainer_test_dict[key].item()\n",
    "    \n",
    "    with open(os.path.join(trainer.logger.log_dir, \"result.json\"), \"w\") as f:\n",
    "        json.dump(trainer_test_dict, f, indent=4)\n",
    "    \n",
    "    with open(os.path.join(trainer.logger.log_dir, \"argparse_params.json\"), \"w\") as f:\n",
    "        json.dump(args.__dict__, f, indent=4)"
   ]
  },
  {
   "cell_type": "code",
   "execution_count": 24,
   "metadata": {
    "scrolled": true
   },
   "outputs": [],
   "source": [
    "# args.eval_mode = 1\n",
    "if args.eval_mode:\n",
    "    reset_str = \"\"\n",
    "    lightning_save_dir = f\"lightning_logs/20.2_AL_train_unbalance/\"\n",
    "    result_save_dict = {}\n",
    "\n",
    "    for folder_path in glob.glob(os.path.join(lightning_save_dir, \"*\")):\n",
    "        folder_name = os.path.basename(folder_path)\n",
    "        # save_model_folder = os.path.basename(args.save_model_folder)\n",
    "        \n",
    "        match = re.match(r\"[a-z0-9_]+-(\\d+)-(\\d+)-(\\d+)-(\\d+)-(\\d+)-\\d+_(\\w+)_(\\d+)_(\\d+)_(_reset)?\", folder_name)\n",
    "        \n",
    "        args.class_num = int(match.group(1))\n",
    "        args.train_limit_data = int(match.group(2))\n",
    "        args.target_class = int(match.group(3))\n",
    "        args.target_class_data_num = int(match.group(4))\n",
    "        args.patience = int(match.group(5))\n",
    "        args.method = match.group(6)\n",
    "        args.sampling_size = int(match.group(7))\n",
    "        args.random_seed = int( match.group(8))\n",
    "        dataset_path = f\"dataset/processed_concat_data_{args.class_num}_labels\"\n",
    "        \n",
    "        weight = glob.glob(os.path.join(folder_path, \"version_0\", \"checkpoints\", \"*.ckpt\"))[0]\n",
    "        L.seed_everything(42)\n",
    "        data_module = ALDataModule_v1(dataset_path=dataset_path, batch_size=512, prefix=\"torso_\", postfix=\"_fft\", sampler_size=args.sampling_size)\n",
    "        data_module.set_normal_train()\n",
    "        # data_module.limit_and_set_train_data(data_module._train_data, data_module._train_label, limit_number=args.train_limit_data)\n",
    "        # train_data, train_label = data_module.reduce_one_class_number(data_module.train_data, data_module.train_label, target_class=args.target_class, target_class_data_num=args.target_class_data_num)\n",
    "        # val_data, val_label = data_module.reduce_one_class_number(data_module.val_data, data_module.val_label, target_class=args.target_class, target_class_data_num=args.target_class_data_num)\n",
    "        # test_data, test_label = data_module.reduce_one_class_number(data_module.test_data, data_module.test_label, target_class=args.target_class, target_class_data_num=args.target_class_data_num)\n",
    "        \n",
    "        # data_module.set_train_val_test_pred_data(\n",
    "        #     train_data = train_data,\n",
    "        #     train_label = train_label,\n",
    "        #     val_data = val_data,\n",
    "        #     val_label = val_label,\n",
    "        #     test_data = test_data,\n",
    "        #     test_label = test_label,\n",
    "        #     pred_data = test_data,\n",
    "        # )\n",
    "        \n",
    "        print(np.unique(data_module.train_label, return_counts=True))\n",
    "        print(np.unique(data_module.val_label, return_counts=True))\n",
    "        print(np.unique(data_module.test_label, return_counts=True))\n",
    "\n",
    "\n",
    "        net = Classifier1DMaxPoolBNModel.load_from_checkpoint(weight)\n",
    "\n",
    "        trainer = L.Trainer()\n",
    "        trainer.test(model=net, datamodule=data_module, verbose=False)\n",
    "        test_acc = trainer.logged_metrics[\"test_acc\"]\n",
    "\n",
    "        # Calculate target class accuracy\n",
    "        output = trainer.predict(model=net, datamodule=data_module)\n",
    "        pred = torch.argmax(torch.concat(output), dim=1)\n",
    "        gt = list(map(lambda x: x[1], iter(data_module.test_dataloader())))\n",
    "        gt_ravel = np.concatenate(list(map(lambda x: x.numpy(), gt)))\n",
    "        target_class_idx = gt_ravel == args.target_class - 1\n",
    "        \n",
    "        pred_ravel = pred.numpy()\n",
    "        target_class_pred_idx = pred_ravel == args.target_class - 1\n",
    "        target_class_tpr = np.sum(target_class_pred_idx&target_class_idx) / np.sum(target_class_idx)\n",
    "        result_save_dict[folder_name] = test_acc.item(), target_class_tpr\n",
    "\n",
    "        gc.collect()\n",
    "\n",
    "    print(result_save_dict)\n"
   ]
  },
  {
   "cell_type": "code",
   "execution_count": 88,
   "metadata": {},
   "outputs": [],
   "source": [
    "dataset_path = f\"dataset/processed_concat_data_{args.class_num}_labels\"\n",
    "\n",
    "log_save_dir = \"lightning_logs\"\n",
    "log_save_name = \"20_AL_train_unbalance/{}-{}-{}-{}-{}-{}-{}\"\n",
    "\n"
   ]
  },
  {
   "cell_type": "code",
   "execution_count": 89,
   "metadata": {},
   "outputs": [],
   "source": [
    "def create_data_module():\n",
    "    L.seed_everything(42)\n",
    "    print(\"args.target_class, args.target_class_data_num\", args.target_class, args.target_class_data_num)\n",
    "    data_module = ALDataModule_v1(dataset_path=dataset_path, batch_size=512, prefix=\"torso_\", postfix=\"_fft\")\n",
    "    data_module.limit_and_set_train_data(data_module._train_data, data_module._train_label, limit_number=args.train_limit_data)\n",
    "    train_data, train_label = data_module.reduce_one_class_number(data_module.train_data, data_module.train_label, target_class=args.target_class, target_class_data_num=args.target_class_data_num)\n",
    "    val_data, val_label = data_module.reduce_one_class_number(data_module.val_data, data_module.val_label, target_class=args.target_class, target_class_data_num=args.target_class_data_num)\n",
    "    test_data, test_label = data_module.reduce_one_class_number(data_module.test_data, data_module.test_label, target_class=args.target_class, target_class_data_num=args.target_class_data_num)\n",
    "    \n",
    "    data_module.set_train_val_test_pred_data(\n",
    "        train_data = train_data,\n",
    "        train_label = train_label,\n",
    "        val_data = val_data,\n",
    "        val_label = val_label,\n",
    "        test_data = test_data,\n",
    "        test_label = test_label,\n",
    "        pred_data = test_data,\n",
    "    )\n",
    "    \n",
    "    print(np.unique(data_module.train_label, return_counts=True))\n",
    "    print(np.unique(data_module.val_label, return_counts=True))\n",
    "    print(np.unique(data_module.test_label, return_counts=True))\n",
    "\n",
    "    return data_module"
   ]
  },
  {
   "cell_type": "code",
   "execution_count": 90,
   "metadata": {},
   "outputs": [],
   "source": [
    "def get_acc_from_save_folder(save_model_folder):\n",
    "    save_model_dir = os.path.join(log_save_dir, save_model_folder)\n",
    "    \n",
    "    weight = glob.glob(os.path.join(save_model_dir, \"version_0\", \"checkpoints\", \"*.ckpt\"))[0]\n",
    "\n",
    "    net = Classifier1DMaxPoolBNModel.load_from_checkpoint(weight)\n",
    "    # data_module = create_data_module()\n",
    "    data_module = ALDataModule_v1(dataset_path=dataset_path, batch_size=512, prefix=\"torso_\", postfix=\"_fft\")\n",
    "    data_module.set_normal_train()\n",
    "    \n",
    "    trainer = L.Trainer()\n",
    "    trainer.test(model=net, datamodule=data_module, verbose=False)\n",
    "    test_acc = trainer.logged_metrics[\"test_acc\"]\n",
    "\n",
    "    # Calculate target class TPR\n",
    "    output = trainer.predict(model=net, datamodule=data_module)\n",
    "    pred = torch.argmax(torch.concat(output), dim=1)\n",
    "    gt = list(map(lambda x: x[1], iter(data_module.test_dataloader())))\n",
    "    \n",
    "    gt_ravel = np.concatenate(list(map(lambda x: x.numpy(), gt)))\n",
    "    target_class_idx = gt_ravel == args.target_class - 1\n",
    "    \n",
    "    pred_ravel = pred.numpy()\n",
    "    target_class_pred_idx = pred_ravel == args.target_class - 1\n",
    "    target_class_tpr = np.sum(target_class_pred_idx&target_class_idx) / np.sum(target_class_idx)\n",
    "\n",
    "    print(target_class_tpr)\n",
    "    print(\"Error number\", (gt_ravel!=pred_ravel).sum())\n",
    "\n",
    "    return test_acc, target_class_tpr"
   ]
  },
  {
   "cell_type": "code",
   "execution_count": 91,
   "metadata": {
    "scrolled": true
   },
   "outputs": [
    {
     "name": "stderr",
     "output_type": "stream",
     "text": [
      "Trainer will use only 1 of 2 GPUs because it is running inside an interactive / notebook environment. You may try to set `Trainer(devices=2)` but please note that multi-GPU inside interactive / notebook environments is considered experimental and unstable. Your mileage may vary.\n",
      "GPU available: True (cuda), used: True\n",
      "TPU available: False, using: 0 TPU cores\n",
      "IPU available: False, using: 0 IPUs\n",
      "HPU available: False, using: 0 HPUs\n"
     ]
    },
    {
     "name": "stdout",
     "output_type": "stream",
     "text": [
      "set_normal_train\n"
     ]
    },
    {
     "name": "stderr",
     "output_type": "stream",
     "text": [
      "LOCAL_RANK: 0 - CUDA_VISIBLE_DEVICES: [0,1]\n"
     ]
    },
    {
     "name": "stdout",
     "output_type": "stream",
     "text": [
      "Testing DataLoader 0: 100%|██████████████████████████████████████████████| 16/16 [00:00<00:00, 150.23it/s]\n"
     ]
    },
    {
     "name": "stderr",
     "output_type": "stream",
     "text": [
      "LOCAL_RANK: 0 - CUDA_VISIBLE_DEVICES: [0,1]\n"
     ]
    },
    {
     "name": "stdout",
     "output_type": "stream",
     "text": [
      "Predicting DataLoader 0: 100%|███████████████████████████████████████████| 16/16 [00:00<00:00, 174.88it/s]\n",
      "0.8768699654775605\n",
      "Error number 1588\n",
      "test_acc, target_class_tpr tensor(0.7982) 0.8768699654775605\n"
     ]
    },
    {
     "name": "stderr",
     "output_type": "stream",
     "text": [
      "Trainer will use only 1 of 2 GPUs because it is running inside an interactive / notebook environment. You may try to set `Trainer(devices=2)` but please note that multi-GPU inside interactive / notebook environments is considered experimental and unstable. Your mileage may vary.\n",
      "GPU available: True (cuda), used: True\n",
      "TPU available: False, using: 0 TPU cores\n",
      "IPU available: False, using: 0 IPUs\n",
      "HPU available: False, using: 0 HPUs\n"
     ]
    },
    {
     "name": "stdout",
     "output_type": "stream",
     "text": [
      "set_normal_train\n"
     ]
    },
    {
     "name": "stderr",
     "output_type": "stream",
     "text": [
      "LOCAL_RANK: 0 - CUDA_VISIBLE_DEVICES: [0,1]\n"
     ]
    },
    {
     "name": "stdout",
     "output_type": "stream",
     "text": [
      "Testing DataLoader 0: 100%|██████████████████████████████████████████████| 16/16 [00:00<00:00, 110.93it/s]\n"
     ]
    },
    {
     "name": "stderr",
     "output_type": "stream",
     "text": [
      "LOCAL_RANK: 0 - CUDA_VISIBLE_DEVICES: [0,1]\n"
     ]
    },
    {
     "name": "stdout",
     "output_type": "stream",
     "text": [
      "Predicting DataLoader 0: 100%|███████████████████████████████████████████| 16/16 [00:00<00:00, 168.20it/s]\n",
      "0.9010356731875719\n",
      "Error number 1661\n",
      "test_acc, target_class_tpr tensor(0.7889) 0.9010356731875719\n"
     ]
    },
    {
     "name": "stderr",
     "output_type": "stream",
     "text": [
      "Trainer will use only 1 of 2 GPUs because it is running inside an interactive / notebook environment. You may try to set `Trainer(devices=2)` but please note that multi-GPU inside interactive / notebook environments is considered experimental and unstable. Your mileage may vary.\n",
      "GPU available: True (cuda), used: True\n",
      "TPU available: False, using: 0 TPU cores\n",
      "IPU available: False, using: 0 IPUs\n",
      "HPU available: False, using: 0 HPUs\n"
     ]
    },
    {
     "name": "stdout",
     "output_type": "stream",
     "text": [
      "set_normal_train\n"
     ]
    },
    {
     "name": "stderr",
     "output_type": "stream",
     "text": [
      "LOCAL_RANK: 0 - CUDA_VISIBLE_DEVICES: [0,1]\n"
     ]
    },
    {
     "name": "stdout",
     "output_type": "stream",
     "text": [
      "Testing DataLoader 0: 100%|██████████████████████████████████████████████| 16/16 [00:00<00:00, 116.06it/s]\n"
     ]
    },
    {
     "name": "stderr",
     "output_type": "stream",
     "text": [
      "LOCAL_RANK: 0 - CUDA_VISIBLE_DEVICES: [0,1]\n"
     ]
    },
    {
     "name": "stdout",
     "output_type": "stream",
     "text": [
      "Predicting DataLoader 0: 100%|███████████████████████████████████████████| 16/16 [00:00<00:00, 182.80it/s]\n",
      "0.9482163406214039\n",
      "Error number 1787\n",
      "test_acc, target_class_tpr tensor(0.7729) 0.9482163406214039\n"
     ]
    },
    {
     "name": "stderr",
     "output_type": "stream",
     "text": [
      "Trainer will use only 1 of 2 GPUs because it is running inside an interactive / notebook environment. You may try to set `Trainer(devices=2)` but please note that multi-GPU inside interactive / notebook environments is considered experimental and unstable. Your mileage may vary.\n",
      "GPU available: True (cuda), used: True\n",
      "TPU available: False, using: 0 TPU cores\n",
      "IPU available: False, using: 0 IPUs\n",
      "HPU available: False, using: 0 HPUs\n"
     ]
    },
    {
     "name": "stdout",
     "output_type": "stream",
     "text": [
      "set_normal_train\n"
     ]
    },
    {
     "name": "stderr",
     "output_type": "stream",
     "text": [
      "LOCAL_RANK: 0 - CUDA_VISIBLE_DEVICES: [0,1]\n"
     ]
    },
    {
     "name": "stdout",
     "output_type": "stream",
     "text": [
      "Testing DataLoader 0: 100%|██████████████████████████████████████████████| 16/16 [00:00<00:00, 114.31it/s]\n"
     ]
    },
    {
     "name": "stderr",
     "output_type": "stream",
     "text": [
      "LOCAL_RANK: 0 - CUDA_VISIBLE_DEVICES: [0,1]\n"
     ]
    },
    {
     "name": "stdout",
     "output_type": "stream",
     "text": [
      "Predicting DataLoader 0: 100%|███████████████████████████████████████████| 16/16 [00:00<00:00, 136.36it/s]\n",
      "0.9746835443037974\n",
      "Error number 1476\n",
      "test_acc, target_class_tpr tensor(0.8124) 0.9746835443037974\n"
     ]
    },
    {
     "name": "stderr",
     "output_type": "stream",
     "text": [
      "Trainer will use only 1 of 2 GPUs because it is running inside an interactive / notebook environment. You may try to set `Trainer(devices=2)` but please note that multi-GPU inside interactive / notebook environments is considered experimental and unstable. Your mileage may vary.\n",
      "GPU available: True (cuda), used: True\n",
      "TPU available: False, using: 0 TPU cores\n",
      "IPU available: False, using: 0 IPUs\n",
      "HPU available: False, using: 0 HPUs\n"
     ]
    },
    {
     "name": "stdout",
     "output_type": "stream",
     "text": [
      "set_normal_train\n"
     ]
    },
    {
     "name": "stderr",
     "output_type": "stream",
     "text": [
      "LOCAL_RANK: 0 - CUDA_VISIBLE_DEVICES: [0,1]\n"
     ]
    },
    {
     "name": "stdout",
     "output_type": "stream",
     "text": [
      "Testing DataLoader 0: 100%|██████████████████████████████████████████████| 16/16 [00:00<00:00, 153.56it/s]\n"
     ]
    },
    {
     "name": "stderr",
     "output_type": "stream",
     "text": [
      "LOCAL_RANK: 0 - CUDA_VISIBLE_DEVICES: [0,1]\n"
     ]
    },
    {
     "name": "stdout",
     "output_type": "stream",
     "text": [
      "Predicting DataLoader 0: 100%|███████████████████████████████████████████| 16/16 [00:00<00:00, 135.28it/s]\n",
      "0.9643268124280783\n",
      "Error number 1423\n",
      "test_acc, target_class_tpr tensor(0.8192) 0.9643268124280783\n"
     ]
    },
    {
     "name": "stderr",
     "output_type": "stream",
     "text": [
      "Trainer will use only 1 of 2 GPUs because it is running inside an interactive / notebook environment. You may try to set `Trainer(devices=2)` but please note that multi-GPU inside interactive / notebook environments is considered experimental and unstable. Your mileage may vary.\n",
      "GPU available: True (cuda), used: True\n",
      "TPU available: False, using: 0 TPU cores\n",
      "IPU available: False, using: 0 IPUs\n",
      "HPU available: False, using: 0 HPUs\n"
     ]
    },
    {
     "name": "stdout",
     "output_type": "stream",
     "text": [
      "set_normal_train\n"
     ]
    },
    {
     "name": "stderr",
     "output_type": "stream",
     "text": [
      "LOCAL_RANK: 0 - CUDA_VISIBLE_DEVICES: [0,1]\n"
     ]
    },
    {
     "name": "stdout",
     "output_type": "stream",
     "text": [
      "Testing DataLoader 0: 100%|██████████████████████████████████████████████| 16/16 [00:00<00:00, 115.02it/s]\n"
     ]
    },
    {
     "name": "stderr",
     "output_type": "stream",
     "text": [
      "LOCAL_RANK: 0 - CUDA_VISIBLE_DEVICES: [0,1]\n"
     ]
    },
    {
     "name": "stdout",
     "output_type": "stream",
     "text": [
      "Predicting DataLoader 0: 100%|███████████████████████████████████████████| 16/16 [00:00<00:00, 169.10it/s]\n",
      "0.0\n",
      "Error number 2640\n",
      "test_acc, target_class_tpr tensor(0.6645) 0.0\n"
     ]
    },
    {
     "name": "stderr",
     "output_type": "stream",
     "text": [
      "Trainer will use only 1 of 2 GPUs because it is running inside an interactive / notebook environment. You may try to set `Trainer(devices=2)` but please note that multi-GPU inside interactive / notebook environments is considered experimental and unstable. Your mileage may vary.\n",
      "GPU available: True (cuda), used: True\n",
      "TPU available: False, using: 0 TPU cores\n",
      "IPU available: False, using: 0 IPUs\n",
      "HPU available: False, using: 0 HPUs\n"
     ]
    },
    {
     "name": "stdout",
     "output_type": "stream",
     "text": [
      "set_normal_train\n"
     ]
    },
    {
     "name": "stderr",
     "output_type": "stream",
     "text": [
      "LOCAL_RANK: 0 - CUDA_VISIBLE_DEVICES: [0,1]\n"
     ]
    },
    {
     "name": "stdout",
     "output_type": "stream",
     "text": [
      "Testing DataLoader 0: 100%|██████████████████████████████████████████████| 16/16 [00:00<00:00, 148.75it/s]\n"
     ]
    },
    {
     "name": "stderr",
     "output_type": "stream",
     "text": [
      "LOCAL_RANK: 0 - CUDA_VISIBLE_DEVICES: [0,1]\n"
     ]
    },
    {
     "name": "stdout",
     "output_type": "stream",
     "text": [
      "Predicting DataLoader 0: 100%|███████████████████████████████████████████| 16/16 [00:00<00:00, 140.07it/s]\n",
      "0.176\n",
      "Error number 2185\n",
      "test_acc, target_class_tpr tensor(0.7223) 0.176\n"
     ]
    },
    {
     "name": "stderr",
     "output_type": "stream",
     "text": [
      "Trainer will use only 1 of 2 GPUs because it is running inside an interactive / notebook environment. You may try to set `Trainer(devices=2)` but please note that multi-GPU inside interactive / notebook environments is considered experimental and unstable. Your mileage may vary.\n",
      "GPU available: True (cuda), used: True\n",
      "TPU available: False, using: 0 TPU cores\n",
      "IPU available: False, using: 0 IPUs\n",
      "HPU available: False, using: 0 HPUs\n"
     ]
    },
    {
     "name": "stdout",
     "output_type": "stream",
     "text": [
      "set_normal_train\n"
     ]
    },
    {
     "name": "stderr",
     "output_type": "stream",
     "text": [
      "LOCAL_RANK: 0 - CUDA_VISIBLE_DEVICES: [0,1]\n"
     ]
    },
    {
     "name": "stdout",
     "output_type": "stream",
     "text": [
      "Testing DataLoader 0: 100%|██████████████████████████████████████████████| 16/16 [00:00<00:00, 148.38it/s]\n"
     ]
    },
    {
     "name": "stderr",
     "output_type": "stream",
     "text": [
      "LOCAL_RANK: 0 - CUDA_VISIBLE_DEVICES: [0,1]\n"
     ]
    },
    {
     "name": "stdout",
     "output_type": "stream",
     "text": [
      "Predicting DataLoader 0: 100%|███████████████████████████████████████████| 16/16 [00:00<00:00, 185.09it/s]\n",
      "0.002\n",
      "Error number 2461\n",
      "test_acc, target_class_tpr tensor(0.6873) 0.002\n"
     ]
    },
    {
     "name": "stderr",
     "output_type": "stream",
     "text": [
      "Trainer will use only 1 of 2 GPUs because it is running inside an interactive / notebook environment. You may try to set `Trainer(devices=2)` but please note that multi-GPU inside interactive / notebook environments is considered experimental and unstable. Your mileage may vary.\n",
      "GPU available: True (cuda), used: True\n",
      "TPU available: False, using: 0 TPU cores\n",
      "IPU available: False, using: 0 IPUs\n",
      "HPU available: False, using: 0 HPUs\n"
     ]
    },
    {
     "name": "stdout",
     "output_type": "stream",
     "text": [
      "set_normal_train\n"
     ]
    },
    {
     "name": "stderr",
     "output_type": "stream",
     "text": [
      "LOCAL_RANK: 0 - CUDA_VISIBLE_DEVICES: [0,1]\n"
     ]
    },
    {
     "name": "stdout",
     "output_type": "stream",
     "text": [
      "Testing DataLoader 0: 100%|██████████████████████████████████████████████| 16/16 [00:00<00:00, 144.92it/s]\n"
     ]
    },
    {
     "name": "stderr",
     "output_type": "stream",
     "text": [
      "LOCAL_RANK: 0 - CUDA_VISIBLE_DEVICES: [0,1]\n"
     ]
    },
    {
     "name": "stdout",
     "output_type": "stream",
     "text": [
      "Predicting DataLoader 0: 100%|███████████████████████████████████████████| 16/16 [00:00<00:00, 182.89it/s]\n",
      "0.639\n",
      "Error number 1841\n",
      "test_acc, target_class_tpr tensor(0.7660) 0.639\n"
     ]
    },
    {
     "name": "stderr",
     "output_type": "stream",
     "text": [
      "Trainer will use only 1 of 2 GPUs because it is running inside an interactive / notebook environment. You may try to set `Trainer(devices=2)` but please note that multi-GPU inside interactive / notebook environments is considered experimental and unstable. Your mileage may vary.\n",
      "GPU available: True (cuda), used: True\n",
      "TPU available: False, using: 0 TPU cores\n",
      "IPU available: False, using: 0 IPUs\n",
      "HPU available: False, using: 0 HPUs\n"
     ]
    },
    {
     "name": "stdout",
     "output_type": "stream",
     "text": [
      "set_normal_train\n"
     ]
    },
    {
     "name": "stderr",
     "output_type": "stream",
     "text": [
      "LOCAL_RANK: 0 - CUDA_VISIBLE_DEVICES: [0,1]\n"
     ]
    },
    {
     "name": "stdout",
     "output_type": "stream",
     "text": [
      "Testing DataLoader 0: 100%|██████████████████████████████████████████████| 16/16 [00:00<00:00, 111.04it/s]\n"
     ]
    },
    {
     "name": "stderr",
     "output_type": "stream",
     "text": [
      "LOCAL_RANK: 0 - CUDA_VISIBLE_DEVICES: [0,1]\n"
     ]
    },
    {
     "name": "stdout",
     "output_type": "stream",
     "text": [
      "Predicting DataLoader 0: 100%|███████████████████████████████████████████| 16/16 [00:00<00:00, 191.70it/s]\n",
      "0.625\n",
      "Error number 1793\n",
      "test_acc, target_class_tpr tensor(0.7721) 0.625\n"
     ]
    },
    {
     "name": "stderr",
     "output_type": "stream",
     "text": [
      "Trainer will use only 1 of 2 GPUs because it is running inside an interactive / notebook environment. You may try to set `Trainer(devices=2)` but please note that multi-GPU inside interactive / notebook environments is considered experimental and unstable. Your mileage may vary.\n",
      "GPU available: True (cuda), used: True\n",
      "TPU available: False, using: 0 TPU cores\n",
      "IPU available: False, using: 0 IPUs\n",
      "HPU available: False, using: 0 HPUs\n"
     ]
    },
    {
     "name": "stdout",
     "output_type": "stream",
     "text": [
      "set_normal_train\n"
     ]
    },
    {
     "name": "stderr",
     "output_type": "stream",
     "text": [
      "LOCAL_RANK: 0 - CUDA_VISIBLE_DEVICES: [0,1]\n"
     ]
    },
    {
     "name": "stdout",
     "output_type": "stream",
     "text": [
      "Testing DataLoader 0: 100%|██████████████████████████████████████████████| 16/16 [00:00<00:00, 150.28it/s]\n"
     ]
    },
    {
     "name": "stderr",
     "output_type": "stream",
     "text": [
      "LOCAL_RANK: 0 - CUDA_VISIBLE_DEVICES: [0,1]\n"
     ]
    },
    {
     "name": "stdout",
     "output_type": "stream",
     "text": [
      "Predicting DataLoader 0: 100%|███████████████████████████████████████████| 16/16 [00:00<00:00, 182.30it/s]\n",
      "0.0\n",
      "Error number 2241\n",
      "test_acc, target_class_tpr tensor(0.7152) 0.0\n"
     ]
    },
    {
     "name": "stderr",
     "output_type": "stream",
     "text": [
      "Trainer will use only 1 of 2 GPUs because it is running inside an interactive / notebook environment. You may try to set `Trainer(devices=2)` but please note that multi-GPU inside interactive / notebook environments is considered experimental and unstable. Your mileage may vary.\n",
      "GPU available: True (cuda), used: True\n",
      "TPU available: False, using: 0 TPU cores\n",
      "IPU available: False, using: 0 IPUs\n",
      "HPU available: False, using: 0 HPUs\n"
     ]
    },
    {
     "name": "stdout",
     "output_type": "stream",
     "text": [
      "set_normal_train\n"
     ]
    },
    {
     "name": "stderr",
     "output_type": "stream",
     "text": [
      "LOCAL_RANK: 0 - CUDA_VISIBLE_DEVICES: [0,1]\n"
     ]
    },
    {
     "name": "stdout",
     "output_type": "stream",
     "text": [
      "Testing DataLoader 0: 100%|██████████████████████████████████████████████| 16/16 [00:00<00:00, 123.21it/s]\n"
     ]
    },
    {
     "name": "stderr",
     "output_type": "stream",
     "text": [
      "LOCAL_RANK: 0 - CUDA_VISIBLE_DEVICES: [0,1]\n"
     ]
    },
    {
     "name": "stdout",
     "output_type": "stream",
     "text": [
      "Predicting DataLoader 0: 100%|███████████████████████████████████████████| 16/16 [00:00<00:00, 170.86it/s]\n",
      "0.0\n",
      "Error number 2419\n",
      "test_acc, target_class_tpr tensor(0.6926) 0.0\n"
     ]
    },
    {
     "name": "stderr",
     "output_type": "stream",
     "text": [
      "Trainer will use only 1 of 2 GPUs because it is running inside an interactive / notebook environment. You may try to set `Trainer(devices=2)` but please note that multi-GPU inside interactive / notebook environments is considered experimental and unstable. Your mileage may vary.\n",
      "GPU available: True (cuda), used: True\n",
      "TPU available: False, using: 0 TPU cores\n",
      "IPU available: False, using: 0 IPUs\n",
      "HPU available: False, using: 0 HPUs\n"
     ]
    },
    {
     "name": "stdout",
     "output_type": "stream",
     "text": [
      "set_normal_train\n"
     ]
    },
    {
     "name": "stderr",
     "output_type": "stream",
     "text": [
      "LOCAL_RANK: 0 - CUDA_VISIBLE_DEVICES: [0,1]\n"
     ]
    },
    {
     "name": "stdout",
     "output_type": "stream",
     "text": [
      "Testing DataLoader 0: 100%|██████████████████████████████████████████████| 16/16 [00:00<00:00, 117.94it/s]\n"
     ]
    },
    {
     "name": "stderr",
     "output_type": "stream",
     "text": [
      "LOCAL_RANK: 0 - CUDA_VISIBLE_DEVICES: [0,1]\n"
     ]
    },
    {
     "name": "stdout",
     "output_type": "stream",
     "text": [
      "Predicting DataLoader 0: 100%|███████████████████████████████████████████| 16/16 [00:00<00:00, 140.43it/s]\n",
      "0.053\n",
      "Error number 2146\n",
      "test_acc, target_class_tpr tensor(0.7273) 0.053\n"
     ]
    },
    {
     "name": "stderr",
     "output_type": "stream",
     "text": [
      "Trainer will use only 1 of 2 GPUs because it is running inside an interactive / notebook environment. You may try to set `Trainer(devices=2)` but please note that multi-GPU inside interactive / notebook environments is considered experimental and unstable. Your mileage may vary.\n",
      "GPU available: True (cuda), used: True\n",
      "TPU available: False, using: 0 TPU cores\n",
      "IPU available: False, using: 0 IPUs\n",
      "HPU available: False, using: 0 HPUs\n"
     ]
    },
    {
     "name": "stdout",
     "output_type": "stream",
     "text": [
      "set_normal_train\n"
     ]
    },
    {
     "name": "stderr",
     "output_type": "stream",
     "text": [
      "LOCAL_RANK: 0 - CUDA_VISIBLE_DEVICES: [0,1]\n"
     ]
    },
    {
     "name": "stdout",
     "output_type": "stream",
     "text": [
      "Testing DataLoader 0: 100%|██████████████████████████████████████████████| 16/16 [00:00<00:00, 107.68it/s]\n"
     ]
    },
    {
     "name": "stderr",
     "output_type": "stream",
     "text": [
      "LOCAL_RANK: 0 - CUDA_VISIBLE_DEVICES: [0,1]\n"
     ]
    },
    {
     "name": "stdout",
     "output_type": "stream",
     "text": [
      "Predicting DataLoader 0: 100%|███████████████████████████████████████████| 16/16 [00:00<00:00, 166.46it/s]\n",
      "0.018\n",
      "Error number 2326\n",
      "test_acc, target_class_tpr tensor(0.7044) 0.018\n"
     ]
    },
    {
     "name": "stderr",
     "output_type": "stream",
     "text": [
      "Trainer will use only 1 of 2 GPUs because it is running inside an interactive / notebook environment. You may try to set `Trainer(devices=2)` but please note that multi-GPU inside interactive / notebook environments is considered experimental and unstable. Your mileage may vary.\n",
      "GPU available: True (cuda), used: True\n",
      "TPU available: False, using: 0 TPU cores\n",
      "IPU available: False, using: 0 IPUs\n",
      "HPU available: False, using: 0 HPUs\n"
     ]
    },
    {
     "name": "stdout",
     "output_type": "stream",
     "text": [
      "set_normal_train\n"
     ]
    },
    {
     "name": "stderr",
     "output_type": "stream",
     "text": [
      "LOCAL_RANK: 0 - CUDA_VISIBLE_DEVICES: [0,1]\n"
     ]
    },
    {
     "name": "stdout",
     "output_type": "stream",
     "text": [
      "Testing DataLoader 0: 100%|██████████████████████████████████████████████| 16/16 [00:00<00:00, 149.97it/s]\n"
     ]
    },
    {
     "name": "stderr",
     "output_type": "stream",
     "text": [
      "LOCAL_RANK: 0 - CUDA_VISIBLE_DEVICES: [0,1]\n"
     ]
    },
    {
     "name": "stdout",
     "output_type": "stream",
     "text": [
      "Predicting DataLoader 0: 100%|███████████████████████████████████████████| 16/16 [00:00<00:00, 166.58it/s]\n",
      "0.281\n",
      "Error number 1974\n",
      "test_acc, target_class_tpr tensor(0.7491) 0.281\n"
     ]
    }
   ],
   "source": [
    "if args.eval_mode:\n",
    "    sampling_folder_list = \"20_AL_train_unbalance/4cnn_64-8-1000-3-10-300-64 20_AL_train_unbalance/4cnn_64-8-1000-3-20-300-42 20_AL_train_unbalance/4cnn_64-8-1000-3-30-400-64 20_AL_train_unbalance/4cnn_64-8-1000-3-50-200-64 20_AL_train_unbalance/4cnn_64-8-1000-3-100-400-42 20_AL_train_unbalance/4cnn_64-8-1000-4-10-400-64 20_AL_train_unbalance/4cnn_64-8-1000-4-20-300-64 20_AL_train_unbalance/4cnn_64-8-1000-4-30-200-64 20_AL_train_unbalance/4cnn_64-8-1000-4-50-400-42 20_AL_train_unbalance/4cnn_64-8-1000-4-100-300-64 20_AL_train_unbalance/4cnn_64-8-1000-5-10-400-64 20_AL_train_unbalance/4cnn_64-8-1000-5-20-200-42 20_AL_train_unbalance/4cnn_64-8-1000-5-30-300-64 20_AL_train_unbalance/4cnn_64-8-1000-5-50-400-42 20_AL_train_unbalance/4cnn_64-8-1000-5-100-300-64\".split(\" \")\n",
    "    args.model_name = \"4cnn_64\"\n",
    "    \n",
    "    for args.target_class in [3, 4, 5]:\n",
    "        for args.target_class_data_num in \"10 20 30 50 100\".split(\" \"):\n",
    "            args.target_class_data_num = int(args.target_class_data_num)\n",
    "            for args.random_seed in \"42 64\".split(\" \"):\n",
    "                for args.patience in \"200 300 400\".split(\" \"):\n",
    "                    save_model_folder = log_save_name.format(args.model_name, args.class_num, args.train_limit_data, args.target_class, args.target_class_data_num, args.patience, args.random_seed)\n",
    "    \n",
    "                    if save_model_folder in sampling_folder_list:\n",
    "                        test_acc, target_class_tpr = get_acc_from_save_folder(save_model_folder)\n",
    "                        print(\"test_acc, target_class_tpr\", test_acc, target_class_tpr)\n",
    "\n",
    "                        all_keys = list(result_save_dict.keys())\n",
    "                        for key in all_keys:\n",
    "                            if key.startswith(os.path.basename(save_model_folder)):\n",
    "                                # result_save_dict[folder_name] = test_acc.item(), target_class_tpr\n",
    "                                match = re.match(r\"(^[a-z0-9_]+-\\d+-\\d+-\\d+-\\d+-\\d+-\\d+_\\w+_)\\d+(_\\d+_(_reset)?$)\", key)\n",
    "                                key_0number = match.group(1) + \"0\" + match.group(2)\n",
    "                                result_save_dict[key_0number] = test_acc.item(), target_class_tpr\n",
    "    "
   ]
  },
  {
   "cell_type": "code",
   "execution_count": 92,
   "metadata": {},
   "outputs": [],
   "source": [
    "if args.eval_mode:\n",
    "    result_save_dict_f = result_save_dict\n",
    "    with open(f\"0217_{reset_str}_result.json\", \"w\") as f:\n",
    "        json.dump(result_save_dict_f, f, indent=4)"
   ]
  },
  {
   "cell_type": "code",
   "execution_count": 93,
   "metadata": {},
   "outputs": [
    {
     "name": "stdout",
     "output_type": "stream",
     "text": [
      "4cnn_64-8-1000-3-50-200-64_random_10_64__reset\n",
      "4cnn_64-8-1000-3-50-200-64_random_10_64_\n",
      "4cnn_64-8-1000-3-50-200-64_random_20_64__reset\n",
      "4cnn_64-8-1000-3-50-200-64_random_20_64_\n",
      "4cnn_64-8-1000-3-50-200-64_random_30_64__reset\n",
      "4cnn_64-8-1000-3-50-200-64_random_30_64_\n",
      "4cnn_64-8-1000-3-50-200-64_random_50_64__reset\n",
      "4cnn_64-8-1000-3-50-200-64_random_50_64_\n",
      "4cnn_64-8-1000-3-50-200-64_random_100_64__reset\n",
      "4cnn_64-8-1000-3-50-200-64_random_100_64_\n",
      "4cnn_64-8-1000-3-50-200-64_random_0_64__reset\n",
      "4cnn_64-8-1000-3-50-200-64_random_0_64_\n",
      "360\n"
     ]
    }
   ],
   "source": [
    "for key in result_save_dict_f.keys():\n",
    "    x = \"4cnn_64-8-1000-3-50-200-64_random\"\n",
    "    if key.startswith(x): print(key)\n",
    "\n",
    "print(len(result_save_dict_f))"
   ]
  },
  {
   "cell_type": "code",
   "execution_count": 97,
   "metadata": {},
   "outputs": [
    {
     "data": {
      "image/png": "[encoded data removed]",
      "text/plain": [
       "<Figure size 1000x1200 with 10 Axes>"
      ]
     },
     "metadata": {},
     "output_type": "display_data"
    }
   ],
   "source": [
    "if args.eval_mode:\n",
    "    fig, axs = plt.subplots(5, 2, figsize=(10, 12))\n",
    "    \n",
    "    color1_list = [\"blue\", \"red\",]\n",
    "    color2_list = [\"cyan\", \"orange\",]\n",
    "    \n",
    "    args.class_num = 8\n",
    "    args.train_limit_data = 1000\n",
    "    args.target_class = 4\n",
    "    args.target_class_data_num = 100\n",
    "    args.patience = \"*\"\n",
    "    args.random_seed = 64\n",
    "    reset_str = \"_reset\"\n",
    "\n",
    "    # fig.suptitle(f'Active Learning of {args.class_num} classes; target_class={args.target_class}; target_class_number={args.target_class_data_num}')\n",
    "    \n",
    "    for ax_r_idx, args.target_class_data_num in enumerate(\"10 20 30 50 100\".split(\" \"), 0):\n",
    "        args.target_class_data_num = int(args.target_class_data_num)\n",
    "            \n",
    "        for color1, color2, args.method in zip(color1_list, color2_list, [\"random\", \"sampling\"]):\n",
    "            sampling_size_list = \"0 10 20 30 50 100\".split(\" \")\n",
    "            test_acc = []\n",
    "            target_class_tpr = []\n",
    "            \n",
    "            for args.random_seed in \"64\".split(\" \"):\n",
    "                for args.sampling_size in sampling_size_list:\n",
    "    \n",
    "                    save_model_folder_ptn = f\".*-{args.class_num}-{args.train_limit_data}-{args.target_class}-{args.target_class_data_num}-\\d+-\\d+_{args.method}_{args.sampling_size}_{args.random_seed}_{reset_str}$\"\n",
    "                    for key in result_save_dict_f:\n",
    "                        \n",
    "                        if re.match(save_model_folder_ptn, key):\n",
    "                            val = result_save_dict_f[key]\n",
    "                            test_acc.append(val[0])\n",
    "                            target_class_tpr.append(val[1])\n",
    "\n",
    "            ax1, ax2 = axs[ax_r_idx, 0], axs[ax_r_idx, 1]\n",
    "            ax1.plot(sampling_size_list, test_acc, label=f\"{args.method}\", color=color1)\n",
    "            ax2.plot(sampling_size_list, target_class_tpr, label=f\"{args.method}\", color=color2)\n",
    "            \n",
    "            ax1.set_ylim(0, 1)\n",
    "            ax2.set_ylim(0, 1)\n",
    "                \n",
    "            ax1.legend(loc='lower left')\n",
    "            ax2.legend(loc='lower left')\n",
    "            \n",
    "            # plt.xticks(sampling_size_list)\n",
    "            \n",
    "            ax1.set_xlabel(\"sampling size\")\n",
    "            ax2.set_xlabel(\"sampling size\")\n",
    "            \n",
    "            ax1.set_ylabel(\"accuracy\")\n",
    "            ax2.set_ylabel(\"TPR\")\n",
    "\n",
    "            ax1.set_title(f'Active Learning of {args.class_num} classes; target_class={args.target_class}; target_class_number={args.target_class_data_num}')\n",
    "\n",
    "    plt.tight_layout()\n"
   ]
  },
  {
   "cell_type": "code",
   "execution_count": null,
   "metadata": {},
   "outputs": [],
   "source": []
  }
 ],
 "metadata": {
  "kernelspec": {
   "display_name": "Python 3 (ipykernel)",
   "language": "python",
   "name": "python3"
  },
  "language_info": {
   "codemirror_mode": {
    "name": "ipython",
    "version": 3
   },
   "file_extension": ".py",
   "mimetype": "text/x-python",
   "name": "python",
   "nbconvert_exporter": "python",
   "pygments_lexer": "ipython3",
   "version": "3.8.18"
  }
 },
 "nbformat": 4,
 "nbformat_minor": 4
}
