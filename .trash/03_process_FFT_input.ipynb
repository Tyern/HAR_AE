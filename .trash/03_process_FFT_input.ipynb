{
 "cells": [
  {
   "cell_type": "code",
   "execution_count": 1,
   "metadata": {},
   "outputs": [
    {
     "name": "stderr",
     "output_type": "stream",
     "text": [
      "/nfs/ksdata/tran/miniconda3/envs/python_3.8/lib/python3.8/site-packages/tqdm/auto.py:21: TqdmWarning: IProgress not found. Please update jupyter and ipywidgets. See https://ipywidgets.readthedocs.io/en/stable/user_install.html\n",
      "  from .autonotebook import tqdm as notebook_tqdm\n"
     ]
    }
   ],
   "source": [
    "import os\n",
    "\n",
    "import numpy as np\n",
    "import pandas as pd\n",
    "\n",
    "import torch\n",
    "import torchvision\n",
    "\n",
    "import matplotlib.pyplot as plt\n",
    "import lightning as L\n",
    "\n",
    "import torch.nn as nn\n",
    "import torch.nn.functional as F\n",
    "import torch.optim as optim\n",
    "\n",
    "from utils.FFT import spectrogram, stft"
   ]
  },
  {
   "cell_type": "code",
   "execution_count": 2,
   "metadata": {},
   "outputs": [],
   "source": [
    "\n",
    "proxy = 'http://proxy-k.ecl.ntt.co.jp:8080'\n",
    "\n",
    "os.environ['http_proxy'] = proxy \n",
    "os.environ['HTTP_PROXY'] = proxy\n",
    "os.environ['https_proxy'] = proxy\n",
    "os.environ['HTTPS_PROXY'] = proxy"
   ]
  },
  {
   "cell_type": "code",
   "execution_count": 3,
   "metadata": {},
   "outputs": [],
   "source": [
    "# Concat data\n",
    "save_folder = os.path.join(\"dataset\", \"processed_concat_data\")\n",
    "os.makedirs(save_folder, exist_ok=True)"
   ]
  },
  {
   "cell_type": "code",
   "execution_count": 4,
   "metadata": {},
   "outputs": [
    {
     "name": "stderr",
     "output_type": "stream",
     "text": [
      "Seed set to 1\n"
     ]
    },
    {
     "data": {
      "text/plain": [
       "1"
      ]
     },
     "execution_count": 4,
     "metadata": {},
     "output_type": "execute_result"
    }
   ],
   "source": [
    "TEST = False\n",
    "\n",
    "n_epochs = 3\n",
    "batch_size_train = 64\n",
    "batch_size_test = 1000\n",
    "learning_rate = 0.01\n",
    "momentum = 0.5\n",
    "log_interval = 10\n",
    "\n",
    "random_seed = 1\n",
    "L.seed_everything(random_seed)"
   ]
  },
  {
   "cell_type": "markdown",
   "metadata": {},
   "source": [
    "## FFT Data"
   ]
  },
  {
   "cell_type": "code",
   "execution_count": 5,
   "metadata": {},
   "outputs": [],
   "source": [
    "data_key = [\"LAcc_x\", \"LAcc_y\", \"LAcc_z\", \"Gyr_x\", \"Gyr_y\", \"Gyr_z\"]\n",
    "\n",
    "data_path_dict = dict(zip(data_key, \n",
    "    [os.path.join(\"dataset\", \"Torso\", x + \".txt\") for x in data_key]))\n",
    "\n",
    "validate_path_dict = dict(zip(data_key, \n",
    "    [os.path.join(\"dataset\", \"validate\", \"Torso\", x + \".txt\") for x in data_key]))"
   ]
  },
  {
   "cell_type": "code",
   "execution_count": 6,
   "metadata": {},
   "outputs": [
    {
     "name": "stdout",
     "output_type": "stream",
     "text": [
      "data1d.shape (104124500,)\n",
      "freqs.shape (257,)\n",
      "specs.shape (257, 208249)\n",
      "data1d.shape (104124500,)\n",
      "freqs.shape (257,)\n",
      "specs.shape (257, 208249)\n",
      "data1d.shape (104124500,)\n",
      "freqs.shape (257,)\n",
      "specs.shape (257, 208249)\n",
      "data1d.shape (104124500,)\n",
      "freqs.shape (257,)\n",
      "specs.shape (257, 208249)\n",
      "data1d.shape (104124500,)\n",
      "freqs.shape (257,)\n",
      "specs.shape (257, 208249)\n",
      "data1d.shape (104124500,)\n",
      "freqs.shape (257,)\n",
      "specs.shape (257, 208249)\n"
     ]
    },
    {
     "data": {
      "text/plain": [
       "dict_keys(['LAcc_x', 'LAcc_y', 'LAcc_z', 'Gyr_x', 'Gyr_y', 'Gyr_z'])"
      ]
     },
     "execution_count": 6,
     "metadata": {},
     "output_type": "execute_result"
    }
   ],
   "source": [
    "data_dict = {}\n",
    "\n",
    "for data_name in data_key:\n",
    "    train_data = np.loadtxt(data_path_dict[data_name])\n",
    "    val_data = np.loadtxt(validate_path_dict[data_name])\n",
    "    \n",
    "    one_data = np.concatenate([train_data, val_data], axis=0)\n",
    "    data_dict[data_name] = stft(one_data, verbose=True)[1]\n",
    "\n",
    "data_dict.keys()\n"
   ]
  },
  {
   "cell_type": "code",
   "execution_count": 7,
   "metadata": {},
   "outputs": [],
   "source": [
    "stack = False"
   ]
  },
  {
   "cell_type": "code",
   "execution_count": 8,
   "metadata": {},
   "outputs": [],
   "source": [
    "## STACK\n",
    "\n",
    "if stack:\n",
    "    STACK_FREQ_NUMBER = 8\n",
    "\n",
    "    one_data = data_dict[data_name]\n",
    "    data_array_list = []\n",
    "\n",
    "    for freq_step in range(STACK_FREQ_NUMBER):\n",
    "        start_idx = freq_step\n",
    "        end_idx = - STACK_FREQ_NUMBER + freq_step + 1\n",
    "        if end_idx == 0:\n",
    "            end_idx = None\n",
    "\n",
    "        data_array = one_data[:, start_idx: end_idx]\n",
    "        print(\"data_array.shape\", data_array.shape)\n",
    "        data_array_list.append(data_array)\n",
    "\n",
    "    one_data_stacked = np.stack(data_array_list)\n",
    "    print(\"one_data_stacked.shape\", one_data_stacked.shape)\n",
    "\n",
    "    data_stacked_list = []\n",
    "\n",
    "    for data_name in data_key:\n",
    "        one_data = data_dict[data_name]\n",
    "        data_array_list = []\n",
    "\n",
    "        for freq_step in range(STACK_FREQ_NUMBER):\n",
    "            start_idx = freq_step\n",
    "            end_idx = - STACK_FREQ_NUMBER + freq_step + 1\n",
    "            if end_idx == 0:\n",
    "                end_idx = None\n",
    "\n",
    "            data_array = one_data[:, start_idx: end_idx]\n",
    "            data_array_list.append(data_array)\n",
    "\n",
    "        one_data_stacked = np.stack(data_array_list)\n",
    "        data_stacked_list.append(one_data_stacked)\n",
    "\n",
    "    data_stacked = np.stack(data_stacked_list)\n",
    "    print(\"data_stacked.shape\", data_stacked.shape)\n",
    "\n",
    "    data_stacked = data_stacked.transpose(3, 0, 1, 2)\n",
    "    print(\"data_stacked.shape\", data_stacked.shape)\n",
    "\n",
    "    np.save(os.path.join(save_folder, \"torso_fft.npy\") ,data_stacked)\n",
    "    "
   ]
  },
  {
   "cell_type": "code",
   "execution_count": 9,
   "metadata": {},
   "outputs": [
    {
     "name": "stdout",
     "output_type": "stream",
     "text": [
      "(257, 208249)\n",
      "(257, 208249)\n",
      "(257, 208249)\n",
      "(257, 208249)\n",
      "(257, 208249)\n",
      "(257, 208249)\n",
      "data_stacked.shape (6, 257, 208249)\n",
      "data_stacked.shape (208249, 6, 257)\n"
     ]
    }
   ],
   "source": [
    "## NO STACK\n",
    "if not stack:\n",
    "    data_stacked_list = []\n",
    "\n",
    "    for data_name in data_key:\n",
    "        print(data_dict[data_name].shape)\n",
    "        data_stacked_list.append(data_dict[data_name])\n",
    "        \n",
    "    data_stacked = np.stack(data_stacked_list)\n",
    "    print(\"data_stacked.shape\", data_stacked.shape)\n",
    "\n",
    "    data_stacked = data_stacked.transpose(2, 0, 1)\n",
    "    print(\"data_stacked.shape\", data_stacked.shape)\n",
    "    \n",
    "    np.save(os.path.join(save_folder, \"torso_fft.npy\") ,data_stacked)\n",
    "    "
   ]
  },
  {
   "cell_type": "code",
   "execution_count": null,
   "metadata": {},
   "outputs": [],
   "source": []
  },
  {
   "cell_type": "markdown",
   "metadata": {},
   "source": [
    "## Label"
   ]
  },
  {
   "cell_type": "code",
   "execution_count": 10,
   "metadata": {},
   "outputs": [
    {
     "data": {
      "text/plain": [
       "(208249, 500)"
      ]
     },
     "execution_count": 10,
     "metadata": {},
     "output_type": "execute_result"
    }
   ],
   "source": [
    "label_train_path = os.path.join(\"dataset\", \"Torso\", \"Label.txt\")\n",
    "label_val_path = os.path.join(\"dataset\", \"validate\", \"Torso\", \"Label.txt\")\n",
    "\n",
    "label_train = np.loadtxt(label_train_path)\n",
    "label_val = np.loadtxt(label_val_path)\n",
    "\n",
    "label = np.concatenate([label_train, label_val], axis=0)\n",
    "label.shape"
   ]
  },
  {
   "cell_type": "code",
   "execution_count": 11,
   "metadata": {},
   "outputs": [],
   "source": [
    "if stack:\n",
    "    data_label = label[: - STACK_FREQ_NUMBER + 1, :]\n",
    "    print(data_label.shape)\n",
    "    np.save(os.path.join(save_folder, \"torso_label.npy\"), data_label)"
   ]
  },
  {
   "cell_type": "code",
   "execution_count": 12,
   "metadata": {},
   "outputs": [],
   "source": [
    "if not stack:\n",
    "    np.save(os.path.join(save_folder, \"torso_label.npy\"), label)"
   ]
  },
  {
   "cell_type": "code",
   "execution_count": null,
   "metadata": {},
   "outputs": [],
   "source": []
  },
  {
   "cell_type": "code",
   "execution_count": null,
   "metadata": {},
   "outputs": [],
   "source": []
  }
 ],
 "metadata": {
  "kernelspec": {
   "display_name": "Python 3 (ipykernel)",
   "language": "python",
   "name": "python3"
  },
  "language_info": {
   "codemirror_mode": {
    "name": "ipython",
    "version": 3
   },
   "file_extension": ".py",
   "mimetype": "text/x-python",
   "name": "python",
   "nbconvert_exporter": "python",
   "pygments_lexer": "ipython3",
   "version": "3.8.18"
  }
 },
 "nbformat": 4,
 "nbformat_minor": 4
}
