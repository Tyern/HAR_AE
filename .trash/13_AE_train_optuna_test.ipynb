{
 "cells": [
  {
   "cell_type": "code",
   "execution_count": 2,
   "metadata": {},
   "outputs": [],
   "source": [
    "import os\n",
    "import json\n",
    "\n",
    "import numpy as np\n",
    "import pandas as pd\n",
    "\n",
    "import torch\n",
    "import torchvision\n",
    "\n",
    "import matplotlib.pyplot as plt\n",
    "import lightning as L\n",
    "\n",
    "from lightning.pytorch.callbacks.early_stopping import EarlyStopping\n",
    "from lightning.pytorch.callbacks import ModelCheckpoint\n",
    "from lightning.pytorch.loggers import TensorBoardLogger, CSVLogger\n",
    "from lightning.pytorch.utilities.model_summary import ModelSummary\n",
    "\n",
    "import torch.nn as nn\n",
    "import torch.nn.functional as F\n",
    "import torch.optim as optim\n",
    "\n",
    "from data_module.data_module import FFTDataModule\n",
    "from model.AE_model import AECNN1DModel\n",
    "\n",
    "import optuna\n",
    "from optuna.integration.pytorch_lightning import PyTorchLightningPruningCallback"
   ]
  },
  {
   "cell_type": "code",
   "execution_count": 3,
   "metadata": {},
   "outputs": [
    {
     "name": "stderr",
     "output_type": "stream",
     "text": [
      "Seed set to 42\n"
     ]
    },
    {
     "data": {
      "text/plain": [
       "42"
      ]
     },
     "execution_count": 3,
     "metadata": {},
     "output_type": "execute_result"
    }
   ],
   "source": [
    "TEST = True\n",
    "\n",
    "random_seed = 42\n",
    "L.seed_everything(random_seed)"
   ]
  },
  {
   "cell_type": "code",
   "execution_count": null,
   "metadata": {},
   "outputs": [],
   "source": [
    "n_epochs = 10\n",
    "patience = 2\n",
    "\n",
    "optimizer_param_dict = {\n",
    "    \"Adam\": (optim.Adam, {\n",
    "        \"lr\": 0.001,\n",
    "    }),\n",
    "    \"SGD\": (optim.SGD, {\n",
    "        \"lr\": 0.001,\n",
    "        \"momentum\": 0.5,\n",
    "    }),\n",
    "}\n",
    "batch_size = 512\n",
    "optimizer, optimizer_param = optimizer_param_dict[\"Adam\"]\n",
    "dataset_path = \"/nfs/ksdata/tran/HAR_AE/dataset/processed_concat_data\"\n",
    "\n",
    "log_save_dir = \"lightning_logs\"\n",
    "log_save_name = \"12_AE_train_optuna\""
   ]
  },
  {
   "cell_type": "code",
   "execution_count": null,
   "metadata": {},
   "outputs": [],
   "source": [
    "\n",
    "def objective(trial):\n",
    "    linear_second_input = trial.suggest_int(\"linear_second_input\", 5, 7)\n",
    "    print(\"linear_second_input\", linear_second_input)\n",
    "\n",
    "    trainer = L.Trainer(\n",
    "        max_epochs=n_epochs,\n",
    "        enable_checkpointing=False,\n",
    "        accelerator=\"auto\",\n",
    "        # check_val_every_n_epoch=10,\n",
    "        )\n",
    "\n",
    "    net = AECNN1DModel(\n",
    "        optimizer = optimizer,\n",
    "        optimizer_param = optimizer_param, \n",
    "        cnn_channel_param = [\n",
    "            (6, 32, 8, 0, 3),\n",
    "            (32, 64, 8, 0, 3)\n",
    "        ],\n",
    "        linear_channel_param = [\n",
    "            2**(linear_second_input+2), 2**(linear_second_input+1), 2**linear_second_input\n",
    "        ],\n",
    "    )\n",
    "\n",
    "    model_summary = ModelSummary(net, max_depth=6)\n",
    "    print(\"model_summary\", model_summary)\n",
    "\n",
    "    data_module = FFTDataModule(dataset_path=dataset_path, batch_size=batch_size)\n",
    "\n",
    "    trainer.fit(model=net, datamodule=data_module)\n",
    "\n",
    "    trainer_test_dict = trainer.logged_metrics\n",
    "    return trainer_test_dict[\"val_mse\"].item()"
   ]
  },
  {
   "cell_type": "code",
   "execution_count": null,
   "metadata": {},
   "outputs": [],
   "source": [
    "pruner: optuna.pruners.BasePruner = (optuna.pruners.MedianPruner())\n",
    "\n",
    "study = optuna.create_study(direction=\"minimize\", pruner=pruner)\n",
    "study.optimize(objective, n_trials=3, timeout=600)\n",
    "\n",
    "print(\"Best trial:\")\n",
    "trial = study.best_trial\n",
    "\n",
    "for key, val in trial.params.items():\n",
    "    print(\"{}: {}\".format(key, val))\n",
    "\n",
    "with open(\"optuna_params.json\", \"w\") as f:\n",
    "    json.dump(dict(trial.params), f, indent=4)"
   ]
  }
 ],
 "metadata": {
  "interpreter": {
   "hash": "ce20693ee18325632b860fb71df90bb6db110e9db4cb480753762aeffe35e52c"
  },
  "kernelspec": {
   "display_name": "Python 3 (ipykernel)",
   "language": "python",
   "name": "python3"
  },
  "language_info": {
   "codemirror_mode": {
    "name": "ipython",
    "version": 3
   },
   "file_extension": ".py",
   "mimetype": "text/x-python",
   "name": "python",
   "nbconvert_exporter": "python",
   "pygments_lexer": "ipython3",
   "version": "3.8.18"
  }
 },
 "nbformat": 4,
 "nbformat_minor": 4
}
