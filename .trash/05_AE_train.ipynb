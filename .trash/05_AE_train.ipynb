{
 "cells": [
  {
   "cell_type": "code",
   "execution_count": 1,
   "metadata": {},
   "outputs": [],
   "source": [
    "import os\n",
    "\n",
    "import numpy as np\n",
    "import pandas as pd\n",
    "\n",
    "import torch\n",
    "import torchvision\n",
    "\n",
    "import matplotlib.pyplot as plt\n",
    "import lightning as L\n",
    "\n",
    "import torch.nn as nn\n",
    "import torch.nn.functional as F\n",
    "import torch.optim as optim\n",
    "\n",
    "from torch.utils.data import DataLoader, Dataset"
   ]
  },
  {
   "cell_type": "code",
   "execution_count": 2,
   "metadata": {},
   "outputs": [
    {
     "name": "stderr",
     "output_type": "stream",
     "text": [
      "Seed set to 42\n"
     ]
    },
    {
     "data": {
      "text/plain": [
       "42"
      ]
     },
     "execution_count": 2,
     "metadata": {},
     "output_type": "execute_result"
    }
   ],
   "source": [
    "TEST = True\n",
    "\n",
    "random_seed = 42\n",
    "L.seed_everything(random_seed)"
   ]
  },
  {
   "cell_type": "code",
   "execution_count": 3,
   "metadata": {},
   "outputs": [],
   "source": [
    "fft_train_file = \"dataset/processed_data/torso_train_fft.npy\"\n",
    "fft_val_file = \"dataset/processed_data/torso_val_fft.npy\"\n",
    "fft_test_file = \"dataset/processed_data/torso_test_fft.npy\"\n",
    "\n",
    "label_train_file = \"dataset/processed_data/torso_train_label.npy\"\n",
    "label_val_file = \"dataset/processed_data/torso_val_label.npy\"\n",
    "label_test_file = \"dataset/processed_data/torso_test_label.npy\""
   ]
  },
  {
   "cell_type": "code",
   "execution_count": 15,
   "metadata": {},
   "outputs": [],
   "source": [
    "class CustomDataset(Dataset):\n",
    "    def __init__(self, data, label, normalize=False):\n",
    "        super().__init__()\n",
    "        self.data = data.astype(np.float32)\n",
    "        self.label = label\n",
    "\n",
    "        assert len(self.data) == len(self.label)\n",
    "\n",
    "    def __len__(self):\n",
    "        return len(self.data)\n",
    "\n",
    "    def __getitem__(self, idx):\n",
    "        return self.data[idx], self.label[idx]"
   ]
  },
  {
   "cell_type": "code",
   "execution_count": 16,
   "metadata": {},
   "outputs": [],
   "source": [
    "from lightning.pytorch.utilities.types import EVAL_DATALOADERS, TRAIN_DATALOADERS\n",
    "\n",
    "\n",
    "class DataModule(L.LightningDataModule):\n",
    "    def __init__(self, batch_size = 1024):\n",
    "        super().__init__()\n",
    "        self.save_hyperparameters()\n",
    "        \n",
    "    def setup(self, stage=None):\n",
    "        fft_train_data = np.load(fft_train_file)\n",
    "        label_train_data = np.load(label_train_file)\n",
    "\n",
    "        fft_val_data = np.load(fft_val_file)\n",
    "        label_val_data = np.load(label_val_file)\n",
    "\n",
    "        fft_test_data = np.load(fft_test_file)\n",
    "        label_test_data = np.load(label_test_file)\n",
    "\n",
    "        self.train_set = CustomDataset(fft_train_data, label_train_data)\n",
    "        self.val_set = CustomDataset(fft_val_data, label_val_data)\n",
    "        self.test_set = CustomDataset(fft_test_data, label_test_data)\n",
    "\n",
    "    def train_dataloader(self) -> TRAIN_DATALOADERS:\n",
    "        return DataLoader(self.train_set, batch_size=self.hparams.batch_size, shuffle=True, pin_memory=True)\n",
    "    \n",
    "    def val_dataloader(self) -> EVAL_DATALOADERS:\n",
    "        return DataLoader(self.val_set, batch_size=self.hparams.batch_size, shuffle=False, pin_memory=True)\n",
    "    \n",
    "    def test_dataloader(self) -> EVAL_DATALOADERS:\n",
    "        return DataLoader(self.test_set, batch_size=self.hparams.batch_size, shuffle=False, pin_memory=True)\n",
    "    \n",
    "        "
   ]
  },
  {
   "cell_type": "code",
   "execution_count": 17,
   "metadata": {},
   "outputs": [],
   "source": [
    "if TEST:\n",
    "    data_module = DataModule()\n",
    "    data_module.setup()"
   ]
  },
  {
   "cell_type": "code",
   "execution_count": 18,
   "metadata": {},
   "outputs": [],
   "source": [
    "if TEST:\n",
    "    print(len(data_module.train_set))\n",
    "    print(len(data_module.val_set))\n",
    "    print(len(data_module.test_set))"
   ]
  },
  {
   "cell_type": "code",
   "execution_count": 19,
   "metadata": {},
   "outputs": [],
   "source": [
    "if TEST:\n",
    "    val_loader = data_module.val_dataloader()\n",
    "    print(next(iter(val_loader)))"
   ]
  },
  {
   "cell_type": "code",
   "execution_count": 20,
   "metadata": {},
   "outputs": [],
   "source": [
    "learning_rate = 0.01\n",
    "momentum = 0.5\n"
   ]
  },
  {
   "cell_type": "code",
   "execution_count": 29,
   "metadata": {},
   "outputs": [],
   "source": [
    "from lightning.pytorch.utilities.types import STEP_OUTPUT, OptimizerLRScheduler\n",
    "\n",
    "class Net(L.LightningModule):\n",
    "    def __init__(self):\n",
    "        super().__init__()\n",
    "        self.save_hyperparameters()\n",
    "        self.example_input_array = torch.rand(10, 6, 8, 257)\n",
    "\n",
    "        self.encoder = nn.Sequential(\n",
    "            nn.Conv2d(in_channels=6, out_channels=32, kernel_size=(1, 8), padding=(0, 0), stride=(1, 3)),\n",
    "            nn.ReLU(),\n",
    "            nn.Dropout(p=0.8),\n",
    "            nn.Conv2d(in_channels=32, out_channels=64, kernel_size=(1, 8), padding=(0, 0), stride=(1, 3)),\n",
    "            nn.ReLU(),\n",
    "            nn.Dropout(p=0.8),\n",
    "            nn.Conv2d(in_channels=64, out_channels=64, kernel_size=(8, 1), padding=(0, 0), stride=(1, 1)),\n",
    "            nn.ReLU(),\n",
    "            nn.Dropout(p=0.8),\n",
    "        )\n",
    "\n",
    "        self.enc_linear = nn.Sequential(\n",
    "            nn.Linear(in_features=64 * 26, out_features=1024),\n",
    "            nn.ReLU(),\n",
    "            nn.Linear(in_features=1024, out_features=320),\n",
    "        )\n",
    "\n",
    "        self.dec_linear = nn.Sequential(\n",
    "            nn.Linear(in_features=320, out_features=1024),\n",
    "            nn.ReLU(),\n",
    "            nn.Linear(in_features=1024, out_features=64 * 26),\n",
    "        )\n",
    "\n",
    "        self.decoder = nn.Sequential(\n",
    "            nn.ConvTranspose2d(in_channels=64, out_channels=64, kernel_size=(8, 1), padding=(0, 0), stride=(1, 1)),\n",
    "            nn.ReLU(),\n",
    "            nn.ConvTranspose2d(in_channels=64, out_channels=32, kernel_size=(1, 8), padding=(0, 0), stride=(1, 3), output_padding=(0, 1)),\n",
    "            nn.ReLU(),\n",
    "            nn.ConvTranspose2d(in_channels=32, out_channels=6, kernel_size=(1, 8), padding=(0, 0), stride=(1, 3)),\n",
    "        )\n",
    "    \n",
    "    def forward(self, x):\n",
    "        out = self.encoder(x)\n",
    "        out = self.enc_linear(out.view(out.shape[0], -1))\n",
    "        out = self.dec_linear(out)\n",
    "        out = self.decoder(out.view(out.shape[0], 64, 1, 26))\n",
    "        return out\n",
    "    \n",
    "    def configure_optimizers(self) -> OptimizerLRScheduler:\n",
    "        return optim.SGD(\n",
    "            self.parameters(),\n",
    "            lr=learning_rate,\n",
    "            momentum=momentum)\n",
    "    \n",
    "    def training_step(self, batch, batch_idx) -> STEP_OUTPUT:\n",
    "        x, y = batch\n",
    "        output = self.forward(x)\n",
    "        loss = F.mse_loss(output, x)\n",
    "\n",
    "        self.log(\"train_mse\", loss, prog_bar=True)\n",
    "        return loss\n",
    "    \n",
    "    def validation_step(self,  batch, batch_idx) -> STEP_OUTPUT:\n",
    "        x, y = batch\n",
    "        output = self.forward(x)\n",
    "        loss = F.mse_loss(output, x)\n",
    "        self.log(\"val_mse\", loss, prog_bar=True)\n",
    "\n",
    "    def test_step(self,  batch, batch_idx) -> STEP_OUTPUT:\n",
    "        x, y = batch\n",
    "        output = self.forward(x)\n",
    "        loss = F.mse_loss(output, x)\n",
    "        self.log(\"test_mse\", loss, prog_bar=False)\n",
    "    "
   ]
  },
  {
   "cell_type": "code",
   "execution_count": 30,
   "metadata": {},
   "outputs": [],
   "source": [
    "if TEST:\n",
    "    from lightning.pytorch.utilities.model_summary import ModelSummary\n",
    "\n",
    "    net = Net()\n",
    "    model_summary = ModelSummary(net, max_depth=6)\n",
    "\n",
    "    print(model_summary)"
   ]
  },
  {
   "cell_type": "code",
   "execution_count": 31,
   "metadata": {},
   "outputs": [],
   "source": [
    "n_epochs = 1000\n",
    "patience = 10"
   ]
  },
  {
   "cell_type": "code",
   "execution_count": 32,
   "metadata": {},
   "outputs": [
    {
     "name": "stderr",
     "output_type": "stream",
     "text": [
      "GPU available: True (cuda), used: True\n",
      "TPU available: False, using: 0 TPU cores\n",
      "IPU available: False, using: 0 IPUs\n",
      "HPU available: False, using: 0 HPUs\n",
      "Running in `fast_dev_run` mode: will run the requested loop using 1 batch(es). Logging and checkpointing is suppressed.\n"
     ]
    },
    {
     "name": "stdout",
     "output_type": "stream",
     "text": [
      " ----------------------start training---------------------------\n"
     ]
    },
    {
     "name": "stderr",
     "output_type": "stream",
     "text": [
      "LOCAL_RANK: 0 - CUDA_VISIBLE_DEVICES: [0]\n",
      "\n",
      "  | Name       | Type       | Params | In sizes        | Out sizes      \n",
      "------------------------------------------------------------------------------\n",
      "0 | encoder    | Sequential | 50.8 K | [10, 6, 8, 257] | [10, 64, 1, 26]\n",
      "1 | enc_linear | Sequential | 2.0 M  | [10, 1664]      | [10, 320]      \n",
      "2 | dec_linear | Sequential | 2.0 M  | [10, 320]       | [10, 1664]     \n",
      "3 | decoder    | Sequential | 50.8 K | [10, 64, 1, 26] | [10, 6, 8, 257]\n",
      "------------------------------------------------------------------------------\n",
      "4.2 M     Trainable params\n",
      "0         Non-trainable params\n",
      "4.2 M     Total params\n",
      "16.676    Total estimated model params size (MB)\n",
      "c:\\Users\\1001002996\\AppData\\Local\\miniconda3\\Lib\\site-packages\\lightning\\pytorch\\trainer\\connectors\\data_connector.py:441: The 'train_dataloader' does not have many workers which may be a bottleneck. Consider increasing the value of the `num_workers` argument` to `num_workers=15` in the `DataLoader` to improve performance.\n",
      "c:\\Users\\1001002996\\AppData\\Local\\miniconda3\\Lib\\site-packages\\lightning\\pytorch\\trainer\\connectors\\data_connector.py:441: The 'val_dataloader' does not have many workers which may be a bottleneck. Consider increasing the value of the `num_workers` argument` to `num_workers=15` in the `DataLoader` to improve performance.\n"
     ]
    },
    {
     "name": "stdout",
     "output_type": "stream",
     "text": [
      "Epoch 0: 100%|██████████| 1/1 [00:00<00:00,  2.13it/s, train_mse=0.342, val_mse=0.337]"
     ]
    },
    {
     "name": "stderr",
     "output_type": "stream",
     "text": [
      "`Trainer.fit` stopped: `max_steps=1` reached.\n"
     ]
    },
    {
     "name": "stdout",
     "output_type": "stream",
     "text": [
      "Epoch 0: 100%|██████████| 1/1 [00:00<00:00,  2.13it/s, train_mse=0.342, val_mse=0.337]\n"
     ]
    },
    {
     "name": "stderr",
     "output_type": "stream",
     "text": [
      "LOCAL_RANK: 0 - CUDA_VISIBLE_DEVICES: [0]\n",
      "c:\\Users\\1001002996\\AppData\\Local\\miniconda3\\Lib\\site-packages\\lightning\\pytorch\\trainer\\connectors\\data_connector.py:441: The 'test_dataloader' does not have many workers which may be a bottleneck. Consider increasing the value of the `num_workers` argument` to `num_workers=15` in the `DataLoader` to improve performance.\n"
     ]
    },
    {
     "name": "stdout",
     "output_type": "stream",
     "text": [
      "Testing DataLoader 0: 100%|██████████| 1/1 [00:00<00:00,  2.40it/s]\n",
      "────────────────────────────────────────────────────────────────────────────────────────────────────────────────────────\n",
      "       Test metric             DataLoader 0\n",
      "────────────────────────────────────────────────────────────────────────────────────────────────────────────────────────\n",
      "        test_mse            0.3408016562461853\n",
      "────────────────────────────────────────────────────────────────────────────────────────────────────────────────────────\n"
     ]
    },
    {
     "data": {
      "text/plain": [
       "[{'test_mse': 0.3408016562461853}]"
      ]
     },
     "execution_count": 32,
     "metadata": {},
     "output_type": "execute_result"
    }
   ],
   "source": [
    "print(\" ----------------------start training---------------------------\")\n",
    "from lightning.pytorch.callbacks.early_stopping import EarlyStopping\n",
    "from lightning.pytorch.loggers import TensorBoardLogger\n",
    "\n",
    "tensorboard_logger = TensorBoardLogger(\n",
    "    save_dir=\"lightning_logs\",\n",
    "    name=\"AE\",\n",
    ")\n",
    "\n",
    "trainer = L.Trainer(\n",
    "    logger=tensorboard_logger\n",
    "    callbacks=[EarlyStopping(monitor=\"val_mse\", patience=patience)],\n",
    "    max_epochs=n_epochs,\n",
    "    check_val_every_n_epoch=10\n",
    "    # fast_dev_run=True,\n",
    "    )\n",
    "\n",
    "net = Net()\n",
    "data_module = DataModule(batch_size=512)\n",
    "\n",
    "trainer.fit(model=net, datamodule=data_module)\n",
    "trainer.test(model=net, datamodule=data_module)"
   ]
  },
  {
   "cell_type": "code",
   "execution_count": null,
   "metadata": {},
   "outputs": [],
   "source": []
  },
  {
   "cell_type": "markdown",
   "metadata": {},
   "source": [
    "## Visualize metric"
   ]
  },
  {
   "cell_type": "code",
   "execution_count": 3,
   "metadata": {},
   "outputs": [],
   "source": [
    "if TEST:\n",
    "    metric_file = os.path.join(\"lightning_logs\", \"version_1\", \"metrics.csv\")\n",
    "    metric_df = pd.read_csv(metric_file)"
   ]
  },
  {
   "cell_type": "code",
   "execution_count": 25,
   "metadata": {},
   "outputs": [
    {
     "data": {
      "image/png": "[encoded data removed]",
      "text/plain": [
       "<Figure size 640x480 with 1 Axes>"
      ]
     },
     "metadata": {},
     "output_type": "display_data"
    }
   ],
   "source": [
    "if TEST:\n",
    "    ax = metric_df.plot(x=\"step\", y=[\"train_mse\"], logy=True)\n",
    "    metric_df.dropna(subset=\"val_mse\").plot(x=\"step\", y=[\"val_mse\"], logy=True, ax=ax)"
   ]
  },
  {
   "cell_type": "code",
   "execution_count": null,
   "metadata": {},
   "outputs": [],
   "source": []
  }
 ],
 "metadata": {
  "kernelspec": {
   "display_name": "base",
   "language": "python",
   "name": "python3"
  },
  "language_info": {
   "codemirror_mode": {
    "name": "ipython",
    "version": 3
   },
   "file_extension": ".py",
   "mimetype": "text/x-python",
   "name": "python",
   "nbconvert_exporter": "python",
   "pygments_lexer": "ipython3",
   "version": "3.11.5"
  }
 },
 "nbformat": 4,
 "nbformat_minor": 2
}
