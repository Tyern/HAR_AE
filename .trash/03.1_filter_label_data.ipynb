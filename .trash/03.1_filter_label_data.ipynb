{
 "cells": [
  {
   "cell_type": "code",
   "execution_count": 18,
   "metadata": {},
   "outputs": [],
   "source": [
    "import os\n",
    "\n",
    "import numpy as np\n",
    "import pandas as pd\n",
    "\n",
    "import torch\n",
    "import torchvision\n",
    "\n",
    "import matplotlib.pyplot as plt\n",
    "import lightning as L\n",
    "\n",
    "import torch.nn as nn\n",
    "import torch.nn.functional as F\n",
    "import torch.optim as optim\n",
    "\n",
    "from sklearn.model_selection import train_test_split\n"
   ]
  },
  {
   "cell_type": "code",
   "execution_count": 19,
   "metadata": {},
   "outputs": [
    {
     "name": "stderr",
     "output_type": "stream",
     "text": [
      "Seed set to 42\n"
     ]
    },
    {
     "data": {
      "text/plain": [
       "42"
      ]
     },
     "execution_count": 19,
     "metadata": {},
     "output_type": "execute_result"
    }
   ],
   "source": [
    "TEST = True\n",
    "\n",
    "random_seed = 42\n",
    "L.seed_everything(random_seed)"
   ]
  },
  {
   "cell_type": "code",
   "execution_count": 20,
   "metadata": {},
   "outputs": [],
   "source": [
    "TRAIN_SIZE, VAL_SIZE, TEST_SIZE = 0.8, 0.1, 0.1"
   ]
  },
  {
   "cell_type": "code",
   "execution_count": 21,
   "metadata": {},
   "outputs": [],
   "source": [
    "fft_file = \"dataset/processed_concat_data/torso_fft.npy\"\n",
    "label_file = \"dataset/processed_concat_data/torso_label.npy\"\n",
    "\n",
    "label_list = [\"still\", \"walking\", \"run\", \"bike\", \"car\", \"bus\", \"train\", \"subway\"]"
   ]
  },
  {
   "cell_type": "code",
   "execution_count": 22,
   "metadata": {},
   "outputs": [],
   "source": [
    "fft_data = np.load(fft_file)\n",
    "label_data = np.load(label_file)"
   ]
  },
  {
   "cell_type": "code",
   "execution_count": 23,
   "metadata": {},
   "outputs": [
    {
     "name": "stdout",
     "output_type": "stream",
     "text": [
      "label_idx [ True  True  True ...  True  True  True]\n"
     ]
    }
   ],
   "source": [
    "activity_range = list(range(1, 8+1))\n",
    "\n",
    "label_idx = np.array([not any(x - x[0]) for x in label_data])\n",
    "print(\"label_idx\", label_idx)"
   ]
  },
  {
   "cell_type": "code",
   "execution_count": 24,
   "metadata": {},
   "outputs": [],
   "source": [
    "data_filtered = fft_data[label_idx]\n",
    "label_filtered = label_data[label_idx]"
   ]
  },
  {
   "cell_type": "code",
   "execution_count": 25,
   "metadata": {},
   "outputs": [
    {
     "name": "stdout",
     "output_type": "stream",
     "text": [
      "data_filtered.shape (207626, 6, 257)\n",
      "label_filtered.shape (207626, 500)\n"
     ]
    }
   ],
   "source": [
    "print(\"data_filtered.shape\", data_filtered.shape)\n",
    "print(\"label_filtered.shape\", label_filtered.shape)"
   ]
  },
  {
   "cell_type": "code",
   "execution_count": 26,
   "metadata": {},
   "outputs": [
    {
     "name": "stdout",
     "output_type": "stream",
     "text": [
      "label [4. 4. 4. ... 5. 2. 1.]\n",
      "np.unique(label, return_counts=True (array([1., 2., 3., 4., 5., 6., 7., 8.]), array([26036, 26000,  8690, 24399, 33686, 30219, 32988, 25608]))\n"
     ]
    }
   ],
   "source": [
    "label = label_filtered[:, 0]\n",
    "\n",
    "print(\"label\", label)\n",
    "print(\"np.unique(label, return_counts=True\", np.unique(label, return_counts=True))"
   ]
  },
  {
   "cell_type": "code",
   "execution_count": 27,
   "metadata": {},
   "outputs": [],
   "source": [
    "activity_range = list(range(1, 8+1)) # filter first 5 activity, ignore the others\n",
    "\n",
    "label_filter_idx = list(map(lambda x: x in activity_range, label))\n",
    "\n",
    "label_filtered = label[label_filter_idx]\n",
    "label_filtered_data = data_filtered[label_filter_idx]"
   ]
  },
  {
   "cell_type": "code",
   "execution_count": 28,
   "metadata": {},
   "outputs": [],
   "source": [
    "save_folder = os.path.join(\"dataset\", \"processed_concat_data_8_labels\")\n",
    "os.makedirs(save_folder, exist_ok=True)\n",
    "\n",
    "np.save(os.path.join(save_folder, \"torso_fft.npy\") , label_filtered_data)\n",
    "np.save(os.path.join(save_folder, \"torso_label.npy\"), label_filtered)"
   ]
  },
  {
   "cell_type": "code",
   "execution_count": null,
   "metadata": {},
   "outputs": [],
   "source": []
  },
  {
   "cell_type": "code",
   "execution_count": null,
   "metadata": {},
   "outputs": [],
   "source": []
  }
 ],
 "metadata": {
  "kernelspec": {
   "display_name": "Python 3 (ipykernel)",
   "language": "python",
   "name": "python3"
  },
  "language_info": {
   "codemirror_mode": {
    "name": "ipython",
    "version": 3
   },
   "file_extension": ".py",
   "mimetype": "text/x-python",
   "name": "python",
   "nbconvert_exporter": "python",
   "pygments_lexer": "ipython3",
   "version": "3.8.18"
  }
 },
 "nbformat": 4,
 "nbformat_minor": 4
}
