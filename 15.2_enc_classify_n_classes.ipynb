{
 "cells": [
  {
   "cell_type": "code",
   "execution_count": 1,
   "metadata": {},
   "outputs": [
    {
     "name": "stderr",
     "output_type": "stream",
     "text": [
      "/nfs/ksdata/tran/miniconda3/envs/python_3.8/lib/python3.8/site-packages/tqdm/auto.py:21: TqdmWarning: IProgress not found. Please update jupyter and ipywidgets. See https://ipywidgets.readthedocs.io/en/stable/user_install.html\n",
      "  from .autonotebook import tqdm as notebook_tqdm\n"
     ]
    }
   ],
   "source": [
    "import os\n",
    "import sys\n",
    "import json\n",
    "import glob\n",
    "\n",
    "import numpy as np\n",
    "import pandas as pd\n",
    "\n",
    "import torch\n",
    "import torchvision\n",
    "\n",
    "import matplotlib.pyplot as plt\n",
    "import lightning as L\n",
    "\n",
    "import torch.nn as nn\n",
    "import torch.nn.functional as F\n",
    "import torch.optim as optim\n",
    "\n",
    "import seaborn as sns\n",
    "from sklearn.metrics import confusion_matrix, accuracy_score, f1_score\n",
    "\n",
    "from utils.model_utils import unwrap_model\n",
    "from config.optimizer_param_config import optimizer_param_dict\n",
    "from config.channel_param_config import channel_param_dict, enc_linear_param_dict\n",
    "from config.data_param_config import data_merge_config\n",
    "\n",
    "from data_module.data_module import ALDataModule_v1\n",
    "from model.enc_classifier_model import AE1DClassifier, AE1DMaxPoolBNClassifierModel\n",
    "from model.AE_model import AECNN1DBNModel, AE1DMaxPoolBNModel"
   ]
  },
  {
   "cell_type": "code",
   "execution_count": 2,
   "metadata": {},
   "outputs": [],
   "source": [
    "import argparse\n",
    "\n",
    "parser = argparse.ArgumentParser(description=\"\", formatter_class=argparse.ArgumentDefaultsHelpFormatter)\n",
    "\n",
    "parser.add_argument(\"-tl\", \"--train_limit_data\", type=int, default=1000,\n",
    "                    help=f\"Used for limit the number of data in train data, -1 mean no limit\")\n",
    "\n",
    "parser.add_argument(\"-cn\", \"--class_num\", type=int, default=8,\n",
    "                    help=f\"Number of class num use to train\")\n",
    "\n",
    "parser.add_argument(\"--model_name\", type=str, default=\"4cnn_64\",\n",
    "                    help=f\"Config name of model used for training\")\n",
    "\n",
    "parser.add_argument(\"--AE_ckpt_path\", type=str, default=\"\",\n",
    "                    help=f\"Config name of model used for training\")\n",
    "\n",
    "parser.add_argument(\"--linear_param\", type=str, default=\"32\",\n",
    "                    help=f\"Linear config name of model used for training\")\n",
    "\n",
    "parser.add_argument(\"--data_merge_param\", type=str, default=None,\n",
    "                    help=f\"Data merge config name, find in config/data_param_config\")\n",
    "\n",
    "parser.add_argument(\"-r\", \"--random_seed\", type=int, default=42,\n",
    "                    help=f\"Random Seed\")\n",
    "\n",
    "parser.add_argument(\"--eval_mode\", type=int, default=0,\n",
    "                    help=f\"Eval all models\")\n",
    "\n",
    "if os.path.basename(sys.argv[0]) == 'ipykernel_launcher.py':\n",
    "    args = parser.parse_args(args=[])\n",
    "else:\n",
    "    args = parser.parse_args()"
   ]
  },
  {
   "cell_type": "code",
   "execution_count": 3,
   "metadata": {},
   "outputs": [
    {
     "name": "stderr",
     "output_type": "stream",
     "text": [
      "Seed set to 42\n"
     ]
    },
    {
     "data": {
      "text/plain": [
       "42"
      ]
     },
     "execution_count": 3,
     "metadata": {},
     "output_type": "execute_result"
    }
   ],
   "source": [
    "random_seed = 42\n",
    "L.seed_everything(random_seed)"
   ]
  },
  {
   "cell_type": "code",
   "execution_count": 7,
   "metadata": {},
   "outputs": [],
   "source": [
    "n_epochs = 200000\n",
    "patience = n_epochs//500\n",
    "\n",
    "batch_size = 512\n",
    "optimizer, optimizer_param = optimizer_param_dict[\"Adam\"]\n",
    "dataset_path = f\"dataset/processed_concat_data_{args.class_num}_labels\"\n",
    "\n",
    "model_name = f\"{args.model_name}-8-1000-64\"\n",
    "AE_ckpt_abs_path = f\"/nfs/ksdata/tran/HAR_AE/lightning_logs/11.1_AE/{model_name}/version_0/checkpoints/*.ckpt\"\n",
    "args.AE_ckpt_path = glob.glob(AE_ckpt_abs_path)[0]\n",
    "\n",
    "log_save_dir = \"lightning_logs\"\n",
    "log_save_name = f\"15.2_enc_classify/{model_name}-{args.class_num}-{args.data_merge_param}-{args.train_limit_data}-{args.random_seed}\""
   ]
  },
  {
   "cell_type": "code",
   "execution_count": 8,
   "metadata": {},
   "outputs": [
    {
     "data": {
      "text/plain": [
       "AE1DMaxPoolBNModel(\n",
       "  (enc_cnn): Sequential(\n",
       "    (0): Conv1d(6, 32, kernel_size=(8,), stride=(3,))\n",
       "    (1): BatchNorm1d(32, eps=1e-05, momentum=0.1, affine=True, track_running_stats=True)\n",
       "    (2): ReLU()\n",
       "    (3): Conv1d(32, 64, kernel_size=(9,), stride=(3,))\n",
       "    (4): BatchNorm1d(64, eps=1e-05, momentum=0.1, affine=True, track_running_stats=True)\n",
       "    (5): ReLU()\n",
       "    (6): Conv1d(64, 128, kernel_size=(8,), stride=(3,))\n",
       "    (7): BatchNorm1d(128, eps=1e-05, momentum=0.1, affine=True, track_running_stats=True)\n",
       "    (8): ReLU()\n",
       "    (9): Conv1d(128, 256, kernel_size=(7,), stride=(3,))\n",
       "    (10): BatchNorm1d(256, eps=1e-05, momentum=0.1, affine=True, track_running_stats=True)\n",
       "    (11): ReLU()\n",
       "  )\n",
       "  (enc_linear): Sequential(\n",
       "    (0): Linear(in_features=256, out_features=64, bias=True)\n",
       "    (1): BatchNorm1d(64, eps=1e-05, momentum=0.1, affine=True, track_running_stats=True)\n",
       "    (2): ReLU()\n",
       "  )\n",
       "  (dec_linear): Sequential(\n",
       "    (0): Sequential(\n",
       "      (0): Linear(in_features=64, out_features=256, bias=True)\n",
       "      (1): BatchNorm1d(256, eps=1e-05, momentum=0.1, affine=True, track_running_stats=True)\n",
       "      (2): ReLU()\n",
       "    )\n",
       "  )\n",
       "  (dec_cnn): Sequential(\n",
       "    (0): ConvTranspose1d(256, 128, kernel_size=(7,), stride=(3,))\n",
       "    (1): BatchNorm1d(128, eps=1e-05, momentum=0.1, affine=True, track_running_stats=True)\n",
       "    (2): ReLU()\n",
       "    (3): ConvTranspose1d(128, 64, kernel_size=(8,), stride=(3,))\n",
       "    (4): BatchNorm1d(64, eps=1e-05, momentum=0.1, affine=True, track_running_stats=True)\n",
       "    (5): ReLU()\n",
       "    (6): ConvTranspose1d(64, 32, kernel_size=(9,), stride=(3,))\n",
       "    (7): BatchNorm1d(32, eps=1e-05, momentum=0.1, affine=True, track_running_stats=True)\n",
       "    (8): ReLU()\n",
       "    (9): ConvTranspose1d(32, 6, kernel_size=(8,), stride=(3,))\n",
       "    (10): BatchNorm1d(6, eps=1e-05, momentum=0.1, affine=True, track_running_stats=True)\n",
       "    (11): ReLU()\n",
       "  )\n",
       ")"
      ]
     },
     "execution_count": 8,
     "metadata": {},
     "output_type": "execute_result"
    }
   ],
   "source": [
    "from model.AE_model import AE1D_simple, AECNN1DModel, AE1DMaxPoolBNModel\n",
    "AE1DMaxPoolBNModel.load_from_checkpoint(args.AE_ckpt_path)"
   ]
  },
  {
   "cell_type": "code",
   "execution_count": 9,
   "metadata": {},
   "outputs": [
    {
     "name": "stdout",
     "output_type": "stream",
     "text": [
      "limit_and_set_train_data limit_number= 1000\n",
      "limit_filter_data_by_class limit_number= 1000\n",
      "limit_filter_data_by_class:  (array([1., 2., 3., 4., 5., 6., 7., 8.]), array([1000, 1000, 1000, 1000, 1000, 1000, 1000, 1000]))\n"
     ]
    }
   ],
   "source": [
    "data_module = ALDataModule_v1.load_from_checkpoint(args.AE_ckpt_path, dataset_path=dataset_path)\n",
    "data_module.limit_and_set_train_data(data_module._train_data, data_module._train_label, limit_number=args.train_limit_data)\n",
    "if args.data_merge_param:\n",
    "    label_merge_dict = data_merge_config[args.data_merge_param]\n",
    "    print(\"before merge train\", np.unique(data_module.train_label, return_counts=True))\n",
    "    print(\"before merge val\", np.unique(data_module.val_label, return_counts=True))\n",
    "    print(\"before merge test\", np.unique(data_module.test_label, return_counts=True))\n",
    "    data_module.set_train_val_test_pred_merge_data(\n",
    "        data_module.train_data,\n",
    "        data_module.train_label,\n",
    "        data_module.val_data,\n",
    "        data_module.val_label,\n",
    "        data_module.test_data,\n",
    "        data_module.test_label,\n",
    "        label_merge_dict,\n",
    "        train_limit_number = args.train_limit_data,\n",
    "        val_limit_number=1000,\n",
    "        test_limit_number=1000,\n",
    "        seed=42)\n",
    "    print(\"after merge train\", np.unique(data_module.train_label, return_counts=True))\n",
    "    print(\"after merge val\", np.unique(data_module.val_label, return_counts=True))\n",
    "    print(\"after merge test\", np.unique(data_module.test_label, return_counts=True))"
   ]
  },
  {
   "cell_type": "code",
   "execution_count": 10,
   "metadata": {},
   "outputs": [
    {
     "name": "stderr",
     "output_type": "stream",
     "text": [
      "Seed set to 42\n"
     ]
    }
   ],
   "source": [
    "L.seed_everything(args.random_seed)\n",
    "\n",
    "if args.data_merge_param:\n",
    "    net = AE1DMaxPoolBNClassifierModel(\n",
    "        AE1DMaxPoolBN_ckpt_path=args.AE_ckpt_path,\n",
    "        optimizer = optimizer,\n",
    "        optimizer_param = optimizer_param, \n",
    "        linear_channel_param = enc_linear_param_dict[args.linear_param],\n",
    "        out_features=len(data_merge_config[args.data_merge_param]),\n",
    "    )\n",
    "else:\n",
    "    net = AE1DMaxPoolBNClassifierModel(\n",
    "        AE1DMaxPoolBN_ckpt_path=args.AE_ckpt_path,\n",
    "        optimizer = optimizer,\n",
    "        optimizer_param = optimizer_param, \n",
    "        linear_channel_param = enc_linear_param_dict[args.linear_param],\n",
    "        out_features=args.class_num,\n",
    "    )"
   ]
  },
  {
   "cell_type": "code",
   "execution_count": null,
   "metadata": {},
   "outputs": [],
   "source": [
    "if not args.eval_mode:\n",
    "    print(\" ----------------------start training---------------------------\")\n",
    "    from lightning.pytorch.callbacks.early_stopping import EarlyStopping\n",
    "    from lightning.pytorch.callbacks import ModelCheckpoint\n",
    "    from lightning.pytorch.loggers import TensorBoardLogger, CSVLogger\n",
    "    from lightning.pytorch.utilities.model_summary import ModelSummary\n",
    "    \n",
    "    tensorboard_logger = TensorBoardLogger(save_dir=log_save_dir, name=log_save_name,)\n",
    "    csv_logger = CSVLogger(save_dir=log_save_dir, name=log_save_name,)\n",
    "    checkpoint_callback = ModelCheckpoint(\n",
    "        dirpath=None,\n",
    "        save_top_k=1,\n",
    "        monitor=\"val_loss\",\n",
    "        mode=\"min\",\n",
    "        filename=\"sample_{epoch:02d}-{step:02d}-{val_loss:02f}\"\n",
    "    )\n",
    "    \n",
    "    trainer = L.Trainer(\n",
    "        logger=[tensorboard_logger, csv_logger],\n",
    "        callbacks=[EarlyStopping(monitor=\"val_loss\", patience=patience), checkpoint_callback],\n",
    "        max_epochs=n_epochs,\n",
    "        check_val_every_n_epoch=10,\n",
    "        accelerator=\"gpu\", \n",
    "        )\n",
    "    \n",
    "    trainer.fit(model=net, datamodule=data_module)\n",
    "    trainer_test_dict = trainer.logged_metrics\n",
    "    \n",
    "    trainer.test(model=net, datamodule=data_module)\n",
    "    trainer_test_dict.update(trainer.logged_metrics)\n",
    "    \n",
    "    for key in trainer_test_dict.keys():\n",
    "        trainer_test_dict[key] = trainer_test_dict[key].item()\n",
    "    \n",
    "    with open(os.path.join(trainer.logger.log_dir, \"result.json\"), \"w\") as f:\n",
    "        json.dump(trainer_test_dict, f)\n",
    "    \n",
    "    with open(os.path.join(trainer.logger.log_dir, \"argparse_params.json\"), \"w\") as f:\n",
    "        json.dump(args.__dict__, f, indent=4)"
   ]
  },
  {
   "cell_type": "code",
   "execution_count": 36,
   "metadata": {
    "scrolled": true
   },
   "outputs": [
    {
     "name": "stdout",
     "output_type": "stream",
     "text": [
      "15.2_enc_classify/4cnn_128-8-1000-64-8-1-5000-42\n",
      "15.2_enc_classify/4cnn_128-8-1000-64-8-1-5000-42 lightning_logs/15.2_enc_classify/4cnn_128-8-1000-64-8-1-5000-42/version_0/checkpoints/sample_epoch=129-step=1690-val_loss=0.274467.ckpt\n",
      "limit_and_set_train_data limit_number= 5000\n",
      "limit_filter_data_by_class limit_number= 5000\n",
      "limit_filter_data_by_class:  (array([1., 2., 3., 4., 5., 6., 7., 8.]), array([5000, 5000, 5000, 5000, 5000, 5000, 5000, 5000]))\n",
      "before merge train (array([1., 2., 3., 4., 5., 6., 7., 8.]), array([5000, 5000, 5000, 5000, 5000, 5000, 5000, 5000]))\n",
      "before merge val (array([1., 2., 3., 4., 5., 6., 7., 8.]), array([1000, 1001,  869, 1000, 1000, 1000, 1000, 1000]))\n",
      "before merge test (array([1., 2., 3., 4., 5., 6., 7., 8.]), array([1000, 1000,  869, 1000, 1000, 1000, 1000, 1000]))\n",
      "set_train_val_test_pred_merge_data\n",
      "limit_filter_data_by_class limit_number= 5000\n"
     ]
    },
    {
     "name": "stderr",
     "output_type": "stream",
     "text": [
      "Trainer will use only 1 of 2 GPUs because it is running inside an interactive / notebook environment. You may try to set `Trainer(devices=2)` but please note that multi-GPU inside interactive / notebook environments is considered experimental and unstable. Your mileage may vary.\n",
      "/nfs/ksdata/tran/miniconda3/envs/python_3.8/lib/python3.8/site-packages/lightning/fabric/plugins/environments/slurm.py:191: The `srun` command is available on your system but is not used. HINT: If your intention is to run Lightning on SLURM, prepend your python command with `srun` like so: srun python /nfs/ksdata/tran/miniconda3/envs/python_3.8/lib/pyth ...\n",
      "GPU available: True (cuda), used: True\n",
      "TPU available: False, using: 0 TPU cores\n",
      "IPU available: False, using: 0 IPUs\n",
      "HPU available: False, using: 0 HPUs\n"
     ]
    },
    {
     "name": "stdout",
     "output_type": "stream",
     "text": [
      "limit_filter_data_by_class:  (array([1., 2., 3., 4., 5.]), array([5000, 5000, 5000, 5000, 5000]))\n",
      "limit_filter_data_by_class limit_number= 1000\n",
      "limit_filter_data_by_class:  (array([1., 2., 3., 4., 5.]), array([1000, 1000,  869, 1000, 1000]))\n",
      "limit_filter_data_by_class limit_number= 1000\n",
      "limit_filter_data_by_class:  (array([1., 2., 3., 4., 5.]), array([1000, 1000,  869, 1000, 1000]))\n"
     ]
    },
    {
     "name": "stderr",
     "output_type": "stream",
     "text": [
      "LOCAL_RANK: 0 - CUDA_VISIBLE_DEVICES: [0,1]\n",
      "/nfs/ksdata/tran/miniconda3/envs/python_3.8/lib/python3.8/site-packages/lightning/pytorch/trainer/connectors/data_connector.py:441: The 'test_dataloader' does not have many workers which may be a bottleneck. Consider increasing the value of the `num_workers` argument` to `num_workers=55` in the `DataLoader` to improve performance.\n"
     ]
    },
    {
     "name": "stdout",
     "output_type": "stream",
     "text": [
      "Testing DataLoader 0: 100%|██████████████████████████████████| 10/10 [00:00<00:00, 109.78it/s]\n"
     ]
    },
    {
     "name": "stderr",
     "output_type": "stream",
     "text": [
      "LOCAL_RANK: 0 - CUDA_VISIBLE_DEVICES: [0,1]\n",
      "/nfs/ksdata/tran/miniconda3/envs/python_3.8/lib/python3.8/site-packages/lightning/pytorch/trainer/connectors/data_connector.py:441: The 'predict_dataloader' does not have many workers which may be a bottleneck. Consider increasing the value of the `num_workers` argument` to `num_workers=55` in the `DataLoader` to improve performance.\n"
     ]
    },
    {
     "name": "stdout",
     "output_type": "stream",
     "text": [
      "Predicting DataLoader 0: 100%|███████████████████████████████| 10/10 [00:00<00:00, 178.64it/s]\n",
      "15.2_enc_classify/4cnn_64-8-1000-64-8-1-5000-42\n",
      "15.2_enc_classify/4cnn_64-8-1000-64-8-1-5000-42 lightning_logs/15.2_enc_classify/4cnn_64-8-1000-64-8-1-5000-42/version_0/checkpoints/sample_epoch=289-step=3770-val_loss=0.242329.ckpt\n",
      "limit_and_set_train_data limit_number= 5000\n",
      "limit_filter_data_by_class limit_number= 5000\n",
      "limit_filter_data_by_class:  (array([1., 2., 3., 4., 5., 6., 7., 8.]), array([5000, 5000, 5000, 5000, 5000, 5000, 5000, 5000]))\n",
      "before merge train (array([1., 2., 3., 4., 5., 6., 7., 8.]), array([5000, 5000, 5000, 5000, 5000, 5000, 5000, 5000]))\n",
      "before merge val (array([1., 2., 3., 4., 5., 6., 7., 8.]), array([1000, 1001,  869, 1000, 1000, 1000, 1000, 1000]))\n",
      "before merge test (array([1., 2., 3., 4., 5., 6., 7., 8.]), array([1000, 1000,  869, 1000, 1000, 1000, 1000, 1000]))\n",
      "set_train_val_test_pred_merge_data\n",
      "limit_filter_data_by_class limit_number= 5000\n",
      "limit_filter_data_by_class:  (array([1., 2., 3., 4., 5.]), array([5000, 5000, 5000, 5000, 5000]))\n",
      "limit_filter_data_by_class limit_number= 1000\n"
     ]
    },
    {
     "name": "stderr",
     "output_type": "stream",
     "text": [
      "Trainer will use only 1 of 2 GPUs because it is running inside an interactive / notebook environment. You may try to set `Trainer(devices=2)` but please note that multi-GPU inside interactive / notebook environments is considered experimental and unstable. Your mileage may vary.\n",
      "/nfs/ksdata/tran/miniconda3/envs/python_3.8/lib/python3.8/site-packages/lightning/fabric/plugins/environments/slurm.py:191: The `srun` command is available on your system but is not used. HINT: If your intention is to run Lightning on SLURM, prepend your python command with `srun` like so: srun python /nfs/ksdata/tran/miniconda3/envs/python_3.8/lib/pyth ...\n",
      "GPU available: True (cuda), used: True\n",
      "TPU available: False, using: 0 TPU cores\n",
      "IPU available: False, using: 0 IPUs\n",
      "HPU available: False, using: 0 HPUs\n"
     ]
    },
    {
     "name": "stdout",
     "output_type": "stream",
     "text": [
      "limit_filter_data_by_class:  (array([1., 2., 3., 4., 5.]), array([1000, 1000,  869, 1000, 1000]))\n",
      "limit_filter_data_by_class limit_number= 1000\n",
      "limit_filter_data_by_class:  (array([1., 2., 3., 4., 5.]), array([1000, 1000,  869, 1000, 1000]))\n"
     ]
    },
    {
     "name": "stderr",
     "output_type": "stream",
     "text": [
      "LOCAL_RANK: 0 - CUDA_VISIBLE_DEVICES: [0,1]\n",
      "/nfs/ksdata/tran/miniconda3/envs/python_3.8/lib/python3.8/site-packages/lightning/pytorch/trainer/connectors/data_connector.py:441: The 'test_dataloader' does not have many workers which may be a bottleneck. Consider increasing the value of the `num_workers` argument` to `num_workers=55` in the `DataLoader` to improve performance.\n"
     ]
    },
    {
     "name": "stdout",
     "output_type": "stream",
     "text": [
      "Testing DataLoader 0: 100%|██████████████████████████████████| 10/10 [00:00<00:00, 160.77it/s]\n"
     ]
    },
    {
     "name": "stderr",
     "output_type": "stream",
     "text": [
      "LOCAL_RANK: 0 - CUDA_VISIBLE_DEVICES: [0,1]\n",
      "/nfs/ksdata/tran/miniconda3/envs/python_3.8/lib/python3.8/site-packages/lightning/pytorch/trainer/connectors/data_connector.py:441: The 'predict_dataloader' does not have many workers which may be a bottleneck. Consider increasing the value of the `num_workers` argument` to `num_workers=55` in the `DataLoader` to improve performance.\n"
     ]
    },
    {
     "name": "stdout",
     "output_type": "stream",
     "text": [
      "Predicting DataLoader 0: 100%|███████████████████████████████| 10/10 [00:00<00:00, 184.60it/s]\n"
     ]
    }
   ],
   "source": [
    "if args.eval_mode:\n",
    "    log_save_dir = \"lightning_logs\"\n",
    "    log_save_name = \"15.2_enc_classify/{}-{}-{}-{}-{}\"\n",
    "    args.random_seed = \"42\"\n",
    "    args.data_merge_param = \"1\"\n",
    "    result_save_dict = {}\n",
    "    raw_result_save_dict = {}\n",
    "    \n",
    "    for args.model_name in \"4cnn_128 4cnn_64\".split(\" \"):\n",
    "        for args.train_limit_data in \"5000\".split(\" \"):\n",
    "            args.train_limit_data = int(args.train_limit_data)\n",
    "            for args.class_num in [8]:\n",
    "                model_name = f\"{args.model_name}-8-1000-64\"\n",
    "                \n",
    "                save_model_folder = log_save_name.format(model_name, args.class_num, args.data_merge_param, args.train_limit_data, args.random_seed)\n",
    "                save_model_dir = os.path.join(log_save_dir, save_model_folder)\n",
    "                print(save_model_folder)\n",
    "                \n",
    "                weight = glob.glob(os.path.join(save_model_dir, \"version_0\", \"checkpoints\", \"*.ckpt\"))[0]\n",
    "                print(save_model_folder, weight)\n",
    "                net = AE1DMaxPoolBNClassifierModel.load_from_checkpoint(weight)\n",
    "                \n",
    "                data_module = ALDataModule_v1.load_from_checkpoint(weight)\n",
    "                data_module.limit_and_set_train_data(data_module._train_data, data_module._train_label, limit_number=args.train_limit_data)\n",
    "                if args.data_merge_param:\n",
    "                    label_merge_dict = data_merge_config[args.data_merge_param]\n",
    "                    print(\"before merge train\", np.unique(data_module.train_label, return_counts=True))\n",
    "                    print(\"before merge val\", np.unique(data_module.val_label, return_counts=True))\n",
    "                    print(\"before merge test\", np.unique(data_module.test_label, return_counts=True))\n",
    "                    data_module.set_train_val_test_pred_merge_data(\n",
    "                        data_module.train_data,\n",
    "                        data_module.train_label,\n",
    "                        data_module.val_data,\n",
    "                        data_module.val_label,\n",
    "                        data_module.test_data,\n",
    "                        data_module.test_label,\n",
    "                        label_merge_dict,\n",
    "                        train_limit_number = args.train_limit_data,\n",
    "                        val_limit_number=1000,\n",
    "                        test_limit_number=1000,\n",
    "                        seed=42)\n",
    "\n",
    "                trainer = L.Trainer()\n",
    "                trainer.test(model=net, datamodule=data_module, verbose=False)\n",
    "                \n",
    "                test_acc = trainer.logged_metrics[\"test_acc\"]\n",
    "                result_save_dict[save_model_folder] = test_acc\n",
    "\n",
    "                output = trainer.predict(model=net, datamodule=data_module)\n",
    "                pred = torch.argmax(torch.concat(output), dim=1)\n",
    "                gt = list(map(lambda x: x[1], iter(data_module.test_dataloader())))\n",
    "\n",
    "                pred_ravel = pred.numpy()\n",
    "                gt_ravel = np.concatenate(list(map(lambda x: x.numpy(), gt)))\n",
    "\n",
    "                cf = confusion_matrix(gt_ravel, pred_ravel)\n",
    "                \n",
    "                raw_result_save_dict[save_model_folder] = cf.tolist()\n"
   ]
  },
  {
   "cell_type": "code",
   "execution_count": 37,
   "metadata": {},
   "outputs": [
    {
     "data": {
      "text/plain": [
       "{'15.2_enc_classify/4cnn_128-8-1000-64-8-1-5000-42': [[942, 2, 0, 2, 54],\n",
       "  [20, 956, 0, 16, 8],\n",
       "  [3, 5, 858, 3, 0],\n",
       "  [21, 23, 0, 931, 25],\n",
       "  [251, 2, 0, 26, 721]],\n",
       " '15.2_enc_classify/4cnn_64-8-1000-64-8-1-5000-42': [[933, 1, 0, 2, 64],\n",
       "  [16, 947, 1, 26, 10],\n",
       "  [3, 5, 858, 3, 0],\n",
       "  [21, 8, 1, 950, 20],\n",
       "  [189, 1, 0, 24, 786]]}"
      ]
     },
     "execution_count": 37,
     "metadata": {},
     "output_type": "execute_result"
    }
   ],
   "source": [
    "raw_result_save_dict"
   ]
  },
  {
   "cell_type": "code",
   "execution_count": 38,
   "metadata": {},
   "outputs": [],
   "source": [
    "with open(\"save_data/AE1000+classifier5000_merge5_result.json\", \"w\") as f:\n",
    "    json.dump(raw_result_save_dict, f, indent=2)"
   ]
  },
  {
   "cell_type": "code",
   "execution_count": 39,
   "metadata": {},
   "outputs": [
    {
     "data": {
      "text/plain": [
       "{'15.2_enc_classify/4cnn_128-8-1000-64-8-1-5000-42': tensor(0.9053),\n",
       " '15.2_enc_classify/4cnn_64-8-1000-64-8-1-5000-42': tensor(0.9189)}"
      ]
     },
     "execution_count": 39,
     "metadata": {},
     "output_type": "execute_result"
    }
   ],
   "source": [
    "result_save_dict"
   ]
  },
  {
   "cell_type": "code",
   "execution_count": 27,
   "metadata": {},
   "outputs": [
    {
     "name": "stdout",
     "output_type": "stream",
     "text": [
      "15.2_enc_classify/4cnn_128-8-1000-64-8-1-1000-42\n",
      "15.2_enc_classify/4cnn_64-8-1000-64-8-1-1000-42\n"
     ]
    },
    {
     "name": "stderr",
     "output_type": "stream",
     "text": [
      "/tmp/ipykernel_25696/1805299384.py:27: UserWarning: The figure layout has changed to tight\n",
      "  plt.tight_layout()\n"
     ]
    },
    {
     "data": {
      "image/png": "[encoded data removed]",
      "text/plain": [
       "<Figure size 400x250 with 1 Axes>"
      ]
     },
     "metadata": {},
     "output_type": "display_data"
    }
   ],
   "source": [
    "if args.eval_mode:\n",
    "    fig, ax = plt.subplots(layout='constrained', figsize=(4, 2.5))\n",
    "    args.random_seed = 42\n",
    "    args.train_limit_data = \"1000\"\n",
    "    \n",
    "    for args.class_num in [8]:\n",
    "        x = []\n",
    "        for args.model_name in \"4cnn_128 4cnn_64\".split(\" \"):\n",
    "            model_name = f\"{args.model_name}-8-{args.train_limit_data}-64\"\n",
    "            save_model_folder = log_save_name.format(model_name, args.class_num, args.data_merge_param, args.train_limit_data, args.random_seed)\n",
    "            print(save_model_folder)\n",
    "            x.append(round(result_save_dict[save_model_folder].item(), 3))\n",
    "\n",
    "        ax.plot(x, label=f\"merged 5 classes\", color=\"red\", marker=\"o\")\n",
    "        for i, j in enumerate(x):\n",
    "            ax.annotate(str(j),xy=(i-0.04,j+0.01))\n",
    "        \n",
    "    # ax.set_title(f'Accuracy of Classifier class_num={args.class_num} train_data_number={args.train_limit_data}')\n",
    "    \n",
    "    ax.set_ylabel('Accuracy')\n",
    "    ax.set_xlabel('Model name')\n",
    "    \n",
    "    ax.set_xticks([0, 1], [\"4cnn_64\", \"4cnn_128\"])\n",
    "    ax.set_ylim(0.5, 1)\n",
    "    \n",
    "    ax.legend()\n",
    "    plt.tight_layout()"
   ]
  },
  {
   "cell_type": "code",
   "execution_count": null,
   "metadata": {},
   "outputs": [],
   "source": []
  }
 ],
 "metadata": {
  "kernelspec": {
   "display_name": "Python 3 (ipykernel)",
   "language": "python",
   "name": "python3"
  },
  "language_info": {
   "codemirror_mode": {
    "name": "ipython",
    "version": 3
   },
   "file_extension": ".py",
   "mimetype": "text/x-python",
   "name": "python",
   "nbconvert_exporter": "python",
   "pygments_lexer": "ipython3",
   "version": "3.8.18"
  }
 },
 "nbformat": 4,
 "nbformat_minor": 4
}
