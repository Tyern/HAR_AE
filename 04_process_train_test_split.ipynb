{
 "cells": [
  {
   "cell_type": "code",
   "execution_count": 1,
   "metadata": {},
   "outputs": [
    {
     "name": "stderr",
     "output_type": "stream",
     "text": [
      "c:\\Users\\1001002996\\AppData\\Local\\miniconda3\\Lib\\site-packages\\torchaudio\\backend\\utils.py:74: UserWarning: No audio backend is available.\n",
      "  warnings.warn(\"No audio backend is available.\")\n"
     ]
    }
   ],
   "source": [
    "import os\n",
    "\n",
    "import numpy as np\n",
    "import pandas as pd\n",
    "\n",
    "import torch\n",
    "import torchvision\n",
    "\n",
    "import matplotlib.pyplot as plt\n",
    "import lightning as L\n",
    "\n",
    "import torch.nn as nn\n",
    "import torch.nn.functional as F\n",
    "import torch.optim as optim\n",
    "\n",
    "from sklearn.model_selection import train_test_split\n"
   ]
  },
  {
   "cell_type": "code",
   "execution_count": 2,
   "metadata": {},
   "outputs": [
    {
     "name": "stderr",
     "output_type": "stream",
     "text": [
      "Seed set to 42\n"
     ]
    },
    {
     "data": {
      "text/plain": [
       "42"
      ]
     },
     "execution_count": 2,
     "metadata": {},
     "output_type": "execute_result"
    }
   ],
   "source": [
    "TEST = True\n",
    "\n",
    "random_seed = 42\n",
    "L.seed_everything(random_seed)"
   ]
  },
  {
   "cell_type": "code",
   "execution_count": 3,
   "metadata": {},
   "outputs": [],
   "source": [
    "TRAIN_SIZE, VAL_SIZE, TEST_SIZE = 0.8, 0.1, 0.1"
   ]
  },
  {
   "cell_type": "markdown",
   "metadata": {},
   "source": [
    "## TRAIN TEST SPLIT"
   ]
  },
  {
   "cell_type": "code",
   "execution_count": 4,
   "metadata": {},
   "outputs": [],
   "source": [
    "fft_file = \"dataset/processed_data/torso_fft.npy\"\n",
    "label_file = \"dataset/processed_data/torso_label.npy\""
   ]
  },
  {
   "cell_type": "code",
   "execution_count": 5,
   "metadata": {},
   "outputs": [],
   "source": [
    "fft_train_file = \"dataset/processed_data/torso_train_fft.npy\"\n",
    "fft_val_file = \"dataset/processed_data/torso_val_fft.npy\"\n",
    "fft_test_file = \"dataset/processed_data/torso_test_fft.npy\"\n",
    "\n",
    "label_train_file = \"dataset/processed_data/torso_train_label.npy\"\n",
    "label_val_file = \"dataset/processed_data/torso_val_label.npy\"\n",
    "label_test_file = \"dataset/processed_data/torso_test_label.npy\"\n"
   ]
  },
  {
   "cell_type": "code",
   "execution_count": 6,
   "metadata": {},
   "outputs": [],
   "source": [
    "fft_data = np.load(fft_file)\n",
    "label_data = np.load(label_file)"
   ]
  },
  {
   "cell_type": "code",
   "execution_count": 7,
   "metadata": {},
   "outputs": [
    {
     "data": {
      "text/plain": [
       "(196072, 500)"
      ]
     },
     "execution_count": 7,
     "metadata": {},
     "output_type": "execute_result"
    }
   ],
   "source": [
    "label_data.shape"
   ]
  },
  {
   "cell_type": "code",
   "execution_count": 8,
   "metadata": {},
   "outputs": [
    {
     "name": "stdout",
     "output_type": "stream",
     "text": [
      "label_idx [ True  True  True ...  True  True  True]\n"
     ]
    }
   ],
   "source": [
    "activity_range = list(range(1, 8+1))\n",
    "\n",
    "label_idx = np.array([not any(x - x[0]) for x in label_data])\n",
    "print(\"label_idx\", label_idx)"
   ]
  },
  {
   "cell_type": "code",
   "execution_count": 9,
   "metadata": {},
   "outputs": [],
   "source": [
    "data_filtered = fft_data[label_idx]\n",
    "label_filtered = label_data[label_idx]"
   ]
  },
  {
   "cell_type": "code",
   "execution_count": 10,
   "metadata": {},
   "outputs": [
    {
     "name": "stdout",
     "output_type": "stream",
     "text": [
      "data_filtered.shape (195491, 6, 257)\n",
      "label_filtered.shape (195491, 500)\n"
     ]
    }
   ],
   "source": [
    "print(\"data_filtered.shape\", data_filtered.shape)\n",
    "print(\"label_filtered.shape\", label_filtered.shape)"
   ]
  },
  {
   "cell_type": "code",
   "execution_count": 11,
   "metadata": {},
   "outputs": [
    {
     "data": {
      "text/plain": [
       "array([4., 4., 4., ..., 5., 5., 5.])"
      ]
     },
     "execution_count": 11,
     "metadata": {},
     "output_type": "execute_result"
    }
   ],
   "source": [
    "label = label_filtered[:, 0]\n",
    "label"
   ]
  },
  {
   "cell_type": "code",
   "execution_count": 12,
   "metadata": {},
   "outputs": [
    {
     "name": "stdout",
     "output_type": "stream",
     "text": [
      "train_data.shape, train_label.shape (156392, 6, 257) (156392,)\n",
      "val_data.shape, val_label.shape (19549, 6, 257) (19549,)\n",
      "test_data.shape, test_label.shape (19550, 6, 257) (19550,)\n"
     ]
    }
   ],
   "source": [
    "\n",
    "train_val_data, test_data, train_val_label, test_label = \\\n",
    "    train_test_split(data_filtered, label, test_size=TEST_SIZE, stratify=label, shuffle=True)\n",
    "\n",
    "train_data, val_data, train_label, val_label = \\\n",
    "    train_test_split(train_val_data, train_val_label, test_size=VAL_SIZE / (TRAIN_SIZE + VAL_SIZE), stratify=train_val_label, shuffle=True)\n",
    "\n",
    "print(\"train_data.shape, train_label.shape\", train_data.shape, train_label.shape)\n",
    "print(\"val_data.shape, val_label.shape\", val_data.shape, val_label.shape)\n",
    "print(\"test_data.shape, test_label.shape\", test_data.shape, test_label.shape)\n",
    "\n",
    "\n",
    "        "
   ]
  },
  {
   "cell_type": "code",
   "execution_count": 13,
   "metadata": {},
   "outputs": [],
   "source": [
    "np.save(fft_train_file, train_data)\n",
    "np.save(label_train_file, train_label)\n",
    "np.save(fft_val_file, val_data)\n",
    "np.save(label_val_file, val_label)\n",
    "np.save(fft_test_file, test_data)\n",
    "np.save(label_test_file, test_label)"
   ]
  },
  {
   "cell_type": "code",
   "execution_count": null,
   "metadata": {},
   "outputs": [],
   "source": []
  },
  {
   "cell_type": "code",
   "execution_count": null,
   "metadata": {},
   "outputs": [],
   "source": []
  }
 ],
 "metadata": {
  "kernelspec": {
   "display_name": "base",
   "language": "python",
   "name": "python3"
  },
  "language_info": {
   "codemirror_mode": {
    "name": "ipython",
    "version": 3
   },
   "file_extension": ".py",
   "mimetype": "text/x-python",
   "name": "python",
   "nbconvert_exporter": "python",
   "pygments_lexer": "ipython3",
   "version": "3.11.5"
  }
 },
 "nbformat": 4,
 "nbformat_minor": 2
}
