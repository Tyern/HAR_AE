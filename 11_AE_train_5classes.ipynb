{
 "cells": [
  {
   "cell_type": "code",
   "execution_count": 2,
   "metadata": {},
   "outputs": [],
   "source": [
    "import os\n",
    "\n",
    "import numpy as np\n",
    "import pandas as pd\n",
    "\n",
    "import torch\n",
    "import torchvision\n",
    "\n",
    "import matplotlib.pyplot as plt\n",
    "import lightning as L\n",
    "\n",
    "import torch.nn as nn\n",
    "import torch.nn.functional as F\n",
    "import torch.optim as optim\n",
    "\n",
    "from data_module.data_module import FFTDataModule\n",
    "from model.AE_model import AECNN1DModel"
   ]
  },
  {
   "cell_type": "code",
   "execution_count": 3,
   "metadata": {},
   "outputs": [
    {
     "name": "stderr",
     "output_type": "stream",
     "text": [
      "Seed set to 42\n"
     ]
    },
    {
     "data": {
      "text/plain": [
       "42"
      ]
     },
     "execution_count": 3,
     "metadata": {},
     "output_type": "execute_result"
    }
   ],
   "source": [
    "TEST = True\n",
    "\n",
    "random_seed = 42\n",
    "L.seed_everything(random_seed)"
   ]
  },
  {
   "cell_type": "code",
   "execution_count": 4,
   "metadata": {},
   "outputs": [
    {
     "name": "stdout",
     "output_type": "stream",
     "text": [
      "   | Name         | Type            | Params | In sizes     | Out sizes   \n",
      "--------------------------------------------------------------------------------\n",
      "0  | enc_cnn      | Sequential      | 18.0 K | [10, 6, 257] | [10, 64, 26]\n",
      "1  | enc_cnn.0    | Conv1d          | 1.6 K  | [10, 6, 257] | [10, 32, 84]\n",
      "2  | enc_cnn.1    | ReLU            | 0      | [10, 32, 84] | [10, 32, 84]\n",
      "3  | enc_cnn.2    | Dropout         | 0      | [10, 32, 84] | [10, 32, 84]\n",
      "4  | enc_cnn.3    | Conv1d          | 16.4 K | [10, 32, 84] | [10, 64, 26]\n",
      "5  | enc_cnn.4    | ReLU            | 0      | [10, 64, 26] | [10, 64, 26]\n",
      "6  | enc_cnn.5    | Dropout         | 0      | [10, 64, 26] | [10, 64, 26]\n",
      "7  | enc_linear   | Sequential      | 459 K  | [10, 1664]   | [10, 128]   \n",
      "8  | enc_linear.0 | Linear          | 426 K  | [10, 1664]   | [10, 256]   \n",
      "9  | enc_linear.1 | ReLU            | 0      | [10, 256]    | [10, 256]   \n",
      "10 | enc_linear.2 | Linear          | 32.9 K | [10, 256]    | [10, 128]   \n",
      "11 | enc_linear.3 | ReLU            | 0      | [10, 128]    | [10, 128]   \n",
      "12 | dec_linear   | Sequential      | 460 K  | [10, 128]    | [10, 1664]  \n",
      "13 | dec_linear.0 | Linear          | 33.0 K | [10, 128]    | [10, 256]   \n",
      "14 | dec_linear.1 | ReLU            | 0      | [10, 256]    | [10, 256]   \n",
      "15 | dec_linear.2 | Linear          | 427 K  | [10, 256]    | [10, 1664]  \n",
      "16 | dec_cnn      | Sequential      | 18.0 K | [10, 64, 26] | [10, 6, 257]\n",
      "17 | dec_cnn.0    | ConvTranspose1d | 16.4 K | [10, 64, 26] | [10, 32, 84]\n",
      "18 | dec_cnn.1    | ReLU            | 0      | [10, 32, 84] | [10, 32, 84]\n",
      "19 | dec_cnn.2    | ConvTranspose1d | 1.5 K  | [10, 32, 84] | [10, 6, 257]\n",
      "20 | dec_cnn.3    | ReLU            | 0      | [10, 6, 257] | [10, 6, 257]\n",
      "--------------------------------------------------------------------------------\n",
      "955 K     Trainable params\n",
      "0         Non-trainable params\n",
      "955 K     Total params\n",
      "3.823     Total estimated model params size (MB)\n"
     ]
    }
   ],
   "source": [
    "from lightning.pytorch.utilities.model_summary import ModelSummary\n",
    "\n",
    "net = AECNN1DModel(\n",
    "    cnn_channel_param = [\n",
    "        (6, 32, 8, 0, 3),\n",
    "        (32, 64, 8, 0, 3)\n",
    "    ],\n",
    "    linear_channel_param = [\n",
    "        256, 128\n",
    "    ]).to(\"cpu\")\n",
    "\n",
    "model_summary = ModelSummary(net, max_depth=6)\n",
    "print(model_summary)"
   ]
  },
  {
   "cell_type": "code",
   "execution_count": null,
   "metadata": {},
   "outputs": [],
   "source": [
    "n_epochs = 20000\n",
    "patience = n_epochs//100\n",
    "\n",
    "optimizer_param_dict = {\n",
    "    \"Adam\": (optim.Adam, {\n",
    "        \"lr\": 0.001,\n",
    "    }),\n",
    "    \"SGD\": (optim.SGD, {\n",
    "        \"lr\": 0.001,\n",
    "        \"momentum\": 0.5,\n",
    "    }),\n",
    "}\n",
    "batch_size = 512\n",
    "optimizer, optimizer_param = optimizer_param_dict[\"Adam\"]\n",
    "dataset_path = \"/nfs/ksdata/tran/HAR_AE/dataset/processed_concat_data\"\n",
    "\n",
    "log_save_dir = \"lightning_logs\"\n",
    "log_save_name = \"11_AE_5classes_10000data\""
   ]
  },
  {
   "cell_type": "code",
   "execution_count": null,
   "metadata": {},
   "outputs": [],
   "source": [
    "print(\" ----------------------start training---------------------------\")\n",
    "from lightning.pytorch.callbacks.early_stopping import EarlyStopping\n",
    "from lightning.pytorch.callbacks import ModelCheckpoint\n",
    "from lightning.pytorch.loggers import TensorBoardLogger, CSVLogger\n",
    "\n",
    "tensorboard_logger = TensorBoardLogger(save_dir=log_save_dir, name=log_save_name,)\n",
    "csv_logger = CSVLogger(save_dir=log_save_dir, name=log_save_name,)\n",
    "checkpoint_callback = ModelCheckpoint(\n",
    "    dirpath=None,\n",
    "    save_top_k=1,\n",
    "    monitor=\"val_mse\",\n",
    "    mode=\"min\",\n",
    "    filename=\"sample_{epoch:02d}-{step:02d}-{val_loss:02f}\"\n",
    ")\n",
    "\n",
    "trainer = L.Trainer(\n",
    "    logger=[tensorboard_logger, csv_logger],\n",
    "    callbacks=[EarlyStopping(monitor=\"val_mse\", patience=patience), checkpoint_callback],\n",
    "    max_epochs=n_epochs,\n",
    "    check_val_every_n_epoch=10,\n",
    "    accelerator=\"gpu\", \n",
    "    devices=4, \n",
    "    strategy=\"ddp\"\n",
    "    )\n",
    "\n",
    "net = AECNN1DModel(\n",
    "    optimizer = optimizer,\n",
    "    optimizer_param = optimizer_param, \n",
    "    cnn_channel_param = [\n",
    "        (6, 32, 8, 0, 3),\n",
    "        (32, 64, 8, 0, 3)\n",
    "    ],\n",
    "    linear_channel_param = [\n",
    "        256, 128\n",
    "    ],\n",
    ")\n",
    "\n",
    "data_module = FFTDataModule(dataset_path=dataset_path, batch_size=batch_size)\n",
    "\n",
    "trainer.fit(model=net, datamodule=data_module)\n",
    "trainer.test(model=net, datamodule=data_module)"
   ]
  },
  {
   "cell_type": "code",
   "execution_count": null,
   "metadata": {},
   "outputs": [],
   "source": []
  }
 ],
 "metadata": {
  "interpreter": {
   "hash": "ce20693ee18325632b860fb71df90bb6db110e9db4cb480753762aeffe35e52c"
  },
  "kernelspec": {
   "display_name": "Python 3 (ipykernel)",
   "language": "python",
   "name": "python3"
  },
  "language_info": {
   "codemirror_mode": {
    "name": "ipython",
    "version": 3
   },
   "file_extension": ".py",
   "mimetype": "text/x-python",
   "name": "python",
   "nbconvert_exporter": "python",
   "pygments_lexer": "ipython3",
   "version": "3.8.18"
  }
 },
 "nbformat": 4,
 "nbformat_minor": 4
}
