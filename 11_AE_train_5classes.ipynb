{
 "cells": [
  {
   "cell_type": "code",
   "execution_count": 1,
   "metadata": {},
   "outputs": [],
   "source": [
    "import os\n",
    "\n",
    "import numpy as np\n",
    "import pandas as pd\n",
    "\n",
    "import torch\n",
    "import torchvision\n",
    "\n",
    "import matplotlib.pyplot as plt\n",
    "import lightning as L\n",
    "\n",
    "import torch.nn as nn\n",
    "import torch.nn.functional as F\n",
    "import torch.optim as optim\n",
    "\n",
    "from data_module.data_module import FFTDataModule\n",
    "from model.AE_model import AECNN1DModel"
   ]
  },
  {
   "cell_type": "code",
   "execution_count": 2,
   "metadata": {},
   "outputs": [
    {
     "name": "stderr",
     "output_type": "stream",
     "text": [
      "Seed set to 42\n"
     ]
    },
    {
     "data": {
      "text/plain": [
       "42"
      ]
     },
     "execution_count": 2,
     "metadata": {},
     "output_type": "execute_result"
    }
   ],
   "source": [
    "TEST = True\n",
    "\n",
    "random_seed = 42\n",
    "L.seed_everything(random_seed)"
   ]
  },
  {
   "cell_type": "code",
   "execution_count": 3,
   "metadata": {},
   "outputs": [
    {
     "name": "stdout",
     "output_type": "stream",
     "text": [
      "current_windows_size 84\n",
      "current_windows_size 257\n",
      "   | Name         | Type            | Params | In sizes     | Out sizes   \n",
      "--------------------------------------------------------------------------------\n",
      "0  | enc_cnn      | Sequential      | 18.0 K | [10, 6, 257] | [10, 64, 26]\n",
      "1  | enc_cnn.0    | Conv1d          | 1.6 K  | [10, 6, 257] | [10, 32, 84]\n",
      "2  | enc_cnn.1    | ReLU            | 0      | [10, 32, 84] | [10, 32, 84]\n",
      "3  | enc_cnn.2    | Dropout         | 0      | [10, 32, 84] | [10, 32, 84]\n",
      "4  | enc_cnn.3    | Conv1d          | 16.4 K | [10, 32, 84] | [10, 64, 26]\n",
      "5  | enc_cnn.4    | ReLU            | 0      | [10, 64, 26] | [10, 64, 26]\n",
      "6  | enc_cnn.5    | Dropout         | 0      | [10, 64, 26] | [10, 64, 26]\n",
      "7  | enc_linear   | Sequential      | 459 K  | [10, 1664]   | [10, 128]   \n",
      "8  | enc_linear.0 | Linear          | 426 K  | [10, 1664]   | [10, 256]   \n",
      "9  | enc_linear.1 | ReLU            | 0      | [10, 256]    | [10, 256]   \n",
      "10 | enc_linear.2 | Linear          | 32.9 K | [10, 256]    | [10, 128]   \n",
      "11 | enc_linear.3 | ReLU            | 0      | [10, 128]    | [10, 128]   \n",
      "12 | dec_linear   | Sequential      | 460 K  | [10, 128]    | [10, 1664]  \n",
      "13 | dec_linear.0 | Linear          | 33.0 K | [10, 128]    | [10, 256]   \n",
      "14 | dec_linear.1 | ReLU            | 0      | [10, 256]    | [10, 256]   \n",
      "15 | dec_linear.2 | Linear          | 427 K  | [10, 256]    | [10, 1664]  \n",
      "16 | dec_cnn      | Sequential      | 18.0 K | [10, 64, 26] | [10, 6, 257]\n",
      "17 | dec_cnn.0    | ConvTranspose1d | 16.4 K | [10, 64, 26] | [10, 32, 84]\n",
      "18 | dec_cnn.1    | ReLU            | 0      | [10, 32, 84] | [10, 32, 84]\n",
      "19 | dec_cnn.2    | ConvTranspose1d | 1.5 K  | [10, 32, 84] | [10, 6, 257]\n",
      "20 | dec_cnn.3    | ReLU            | 0      | [10, 6, 257] | [10, 6, 257]\n",
      "--------------------------------------------------------------------------------\n",
      "955 K     Trainable params\n",
      "0         Non-trainable params\n",
      "955 K     Total params\n",
      "3.823     Total estimated model params size (MB)\n"
     ]
    }
   ],
   "source": [
    "from lightning.pytorch.utilities.model_summary import ModelSummary\n",
    "\n",
    "net = AECNN1DModel(\n",
    "    optimizer=optim.SGD,\n",
    "    optimizer_param={\n",
    "        \"learning_rate\": 0.01,\n",
    "        \"momentum\": 0.5,\n",
    "    }, \n",
    "    cnn_channel_param = [\n",
    "        (6, 32, 8, 0, 3),\n",
    "        (32, 64, 8, 0, 3)\n",
    "    ],\n",
    "    linear_channel_param = [\n",
    "        256, 128\n",
    "    ]).to(\"cpu\")\n",
    "\n",
    "model_summary = ModelSummary(net, max_depth=6)\n",
    "print(model_summary)"
   ]
  },
  {
   "cell_type": "code",
   "execution_count": null,
   "metadata": {},
   "outputs": [],
   "source": []
  },
  {
   "cell_type": "code",
   "execution_count": null,
   "metadata": {},
   "outputs": [],
   "source": []
  }
 ],
 "metadata": {
  "interpreter": {
   "hash": "ce20693ee18325632b860fb71df90bb6db110e9db4cb480753762aeffe35e52c"
  },
  "kernelspec": {
   "display_name": "torch-gpu",
   "language": "python",
   "name": "torch-gpu"
  },
  "language_info": {
   "codemirror_mode": {
    "name": "ipython",
    "version": 3
   },
   "file_extension": ".py",
   "mimetype": "text/x-python",
   "name": "python",
   "nbconvert_exporter": "python",
   "pygments_lexer": "ipython3",
   "version": "3.8.13"
  }
 },
 "nbformat": 4,
 "nbformat_minor": 4
}
