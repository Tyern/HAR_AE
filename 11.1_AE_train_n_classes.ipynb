{
 "cells": [
  {
   "cell_type": "code",
   "execution_count": 2,
   "metadata": {},
   "outputs": [],
   "source": [
    "import os\n",
    "import json\n",
    "import sys\n",
    "import glob\n",
    "\n",
    "import numpy as np\n",
    "import pandas as pd\n",
    "\n",
    "import torch\n",
    "import torchvision\n",
    "\n",
    "import matplotlib.pyplot as plt\n",
    "import lightning as L\n",
    "\n",
    "import torch.nn as nn\n",
    "import torch.nn.functional as F\n",
    "import torch.optim as optim\n",
    "\n",
    "from data_module.data_module import ALDataModule_v1\n",
    "from model.AE_model import AECNN1DBNModel, AE1DMaxPoolBNModel\n",
    "from utils.model_utils import unwrap_model\n",
    "\n",
    "from config.optimizer_param_config import optimizer_param_dict\n",
    "from config.channel_param_config import channel_param_dict"
   ]
  },
  {
   "cell_type": "code",
   "execution_count": 2,
   "metadata": {},
   "outputs": [],
   "source": [
    "import argparse\n",
    "\n",
    "parser = argparse.ArgumentParser(description=\"\", formatter_class=argparse.ArgumentDefaultsHelpFormatter)\n",
    "\n",
    "parser.add_argument(\"-tl\", \"--train_limit_data\", type=int, default=-1,\n",
    "                    help=f\"Used for limit the number of data in train data, -1 mean no limit\")\n",
    "\n",
    "parser.add_argument(\"-cn\", \"--class_num\", type=int, default=6,\n",
    "                    help=f\"Number of class num use to train\")\n",
    "\n",
    "parser.add_argument(\"-m\", \"--model_name\", type=str,\n",
    "                    help=f\"Config name of model used for training\")\n",
    "\n",
    "parser.add_argument(\"-r\", \"--random_seed\", type=int, default=42,\n",
    "                    help=f\"Random Seed\")\n",
    "\n",
    "parser.add_argument(\"--eval_mode\", type=int, default=0,\n",
    "                    help=f\"Eval all models\")\n",
    "\n",
    "if os.path.basename(sys.argv[0]) == 'ipykernel_launcher.py':\n",
    "    args = parser.parse_args(args=[\"-m\", \"4cnnmp_128\"])\n",
    "else:\n",
    "    args = parser.parse_args()"
   ]
  },
  {
   "cell_type": "code",
   "execution_count": 4,
   "metadata": {},
   "outputs": [
    {
     "name": "stderr",
     "output_type": "stream",
     "text": [
      "Seed set to 42\n"
     ]
    },
    {
     "data": {
      "text/plain": [
       "42"
      ]
     },
     "execution_count": 4,
     "metadata": {},
     "output_type": "execute_result"
    }
   ],
   "source": [
    "L.seed_everything(args.random_seed)"
   ]
  },
  {
   "cell_type": "code",
   "execution_count": 8,
   "metadata": {},
   "outputs": [
    {
     "name": "stdout",
     "output_type": "stream",
     "text": [
      "   | Name           | Type            | Params | In sizes      | Out sizes    \n",
      "------------------------------------------------------------------------------------\n",
      "0  | enc_cnn        | Sequential      | 283 K  | [10, 6, 257]  | [10, 256, 1] \n",
      "1  | enc_cnn.0      | Conv1d          | 1.8 K  | [10, 6, 257]  | [10, 32, 249]\n",
      "2  | enc_cnn.1      | MaxPool1d       | 0      | [10, 32, 249] | [10, 32, 83] \n",
      "3  | enc_cnn.2      | BatchNorm1d     | 64     | [10, 32, 83]  | [10, 32, 83] \n",
      "4  | enc_cnn.3      | ReLU            | 0      | [10, 32, 83]  | [10, 32, 83] \n",
      "5  | enc_cnn.4      | Conv1d          | 18.5 K | [10, 32, 83]  | [10, 64, 75] \n",
      "6  | enc_cnn.5      | MaxPool1d       | 0      | [10, 64, 75]  | [10, 64, 25] \n",
      "7  | enc_cnn.6      | BatchNorm1d     | 128    | [10, 64, 25]  | [10, 64, 25] \n",
      "8  | enc_cnn.7      | ReLU            | 0      | [10, 64, 25]  | [10, 64, 25] \n",
      "9  | enc_cnn.8      | Conv1d          | 65.7 K | [10, 64, 25]  | [10, 128, 18]\n",
      "10 | enc_cnn.9      | MaxPool1d       | 0      | [10, 128, 18] | [10, 128, 6] \n",
      "11 | enc_cnn.10     | BatchNorm1d     | 256    | [10, 128, 6]  | [10, 128, 6] \n",
      "12 | enc_cnn.11     | ReLU            | 0      | [10, 128, 6]  | [10, 128, 6] \n",
      "13 | enc_cnn.12     | Conv1d          | 196 K  | [10, 128, 6]  | [10, 256, 1] \n",
      "14 | enc_cnn.13     | BatchNorm1d     | 512    | [10, 256, 1]  | [10, 256, 1] \n",
      "15 | enc_cnn.14     | ReLU            | 0      | [10, 256, 1]  | [10, 256, 1] \n",
      "16 | enc_linear     | Sequential      | 33.2 K | [10, 256]     | [10, 128]    \n",
      "17 | enc_linear.0   | Linear          | 32.9 K | [10, 256]     | [10, 128]    \n",
      "18 | enc_linear.1   | BatchNorm1d     | 256    | [10, 128]     | [10, 128]    \n",
      "19 | enc_linear.2   | ReLU            | 0      | [10, 128]     | [10, 128]    \n",
      "20 | dec_linear     | Sequential      | 33.5 K | [10, 128]     | [10, 256]    \n",
      "21 | dec_linear.0   | Sequential      | 33.5 K | [10, 128]     | [10, 256]    \n",
      "22 | dec_linear.0.0 | Linear          | 33.0 K | [10, 128]     | [10, 256]    \n",
      "23 | dec_linear.0.1 | BatchNorm1d     | 512    | [10, 256]     | [10, 256]    \n",
      "24 | dec_linear.0.2 | ReLU            | 0      | [10, 256]     | [10, 256]    \n",
      "25 | dec_cnn        | Sequential      | 282 K  | [10, 256, 1]  | [10, 6, 257] \n",
      "26 | dec_cnn.0      | ConvTranspose1d | 196 K  | [10, 256, 1]  | [10, 128, 6] \n",
      "27 | dec_cnn.1      | BatchNorm1d     | 256    | [10, 128, 6]  | [10, 128, 6] \n",
      "28 | dec_cnn.2      | ReLU            | 0      | [10, 128, 6]  | [10, 128, 6] \n",
      "29 | dec_cnn.3      | Upsample        | 0      | [10, 128, 6]  | [10, 128, 18]\n",
      "30 | dec_cnn.4      | ConvTranspose1d | 65.6 K | [10, 128, 18] | [10, 64, 25] \n",
      "31 | dec_cnn.5      | BatchNorm1d     | 128    | [10, 64, 25]  | [10, 64, 25] \n",
      "32 | dec_cnn.6      | ReLU            | 0      | [10, 64, 25]  | [10, 64, 25] \n",
      "33 | dec_cnn.7      | Upsample        | 0      | [10, 64, 25]  | [10, 64, 75] \n",
      "34 | dec_cnn.8      | ConvTranspose1d | 18.5 K | [10, 64, 75]  | [10, 32, 83] \n",
      "35 | dec_cnn.9      | BatchNorm1d     | 64     | [10, 32, 83]  | [10, 32, 83] \n",
      "36 | dec_cnn.10     | ReLU            | 0      | [10, 32, 83]  | [10, 32, 83] \n",
      "37 | dec_cnn.11     | Upsample        | 0      | [10, 32, 83]  | [10, 32, 249]\n",
      "38 | dec_cnn.12     | ConvTranspose1d | 1.7 K  | [10, 32, 249] | [10, 6, 257] \n",
      "39 | dec_cnn.13     | BatchNorm1d     | 12     | [10, 6, 257]  | [10, 6, 257] \n",
      "40 | dec_cnn.14     | ReLU            | 0      | [10, 6, 257]  | [10, 6, 257] \n",
      "------------------------------------------------------------------------------------\n",
      "633 K     Trainable params\n",
      "0         Non-trainable params\n",
      "633 K     Total params\n",
      "2.534     Total estimated model params size (MB)\n"
     ]
    }
   ],
   "source": [
    "from lightning.pytorch.utilities.model_summary import ModelSummary\n",
    "\n",
    "net = AE1DMaxPoolBNModel(\n",
    "    **channel_param_dict[args.model_name],).to(\"cpu\")\n",
    "\n",
    "model_summary = ModelSummary(net, max_depth=6)\n",
    "print(model_summary)"
   ]
  },
  {
   "cell_type": "code",
   "execution_count": 41,
   "metadata": {},
   "outputs": [],
   "source": [
    "n_epochs = 20000\n",
    "patience = n_epochs//100\n",
    "\n",
    "batch_size = 512\n",
    "optimizer, optimizer_param = optimizer_param_dict[\"Adam\"]\n",
    "dataset_path = f\"dataset/processed_concat_data_{args.class_num}_labels\"\n",
    "\n",
    "log_save_dir = \"lightning_logs\"\n",
    "log_save_name =  f\"11.1_AE/{args.model_name}-{args.class_num}-{args.train_limit_data}-{args.random_seed}\""
   ]
  },
  {
   "cell_type": "code",
   "execution_count": null,
   "metadata": {},
   "outputs": [],
   "source": [
    "print(\" ----------------------start training---------------------------\")\n",
    "from lightning.pytorch.callbacks.early_stopping import EarlyStopping\n",
    "from lightning.pytorch.callbacks import ModelCheckpoint\n",
    "from lightning.pytorch.loggers import TensorBoardLogger, CSVLogger\n",
    "\n",
    "tensorboard_logger = TensorBoardLogger(save_dir=log_save_dir, name=log_save_name,)\n",
    "csv_logger = CSVLogger(save_dir=log_save_dir, name=log_save_name,)\n",
    "checkpoint_callback = ModelCheckpoint(\n",
    "    dirpath=None,\n",
    "    save_top_k=1,\n",
    "    monitor=\"val_mse\",\n",
    "    mode=\"min\",\n",
    "    filename=\"sample_{epoch:02d}-{step:02d}-{val_loss:02f}\"\n",
    ")\n",
    "\n",
    "trainer = L.Trainer(\n",
    "    logger=[tensorboard_logger, csv_logger],\n",
    "    callbacks=[EarlyStopping(monitor=\"val_mse\", patience=patience), checkpoint_callback],\n",
    "    max_epochs=n_epochs,\n",
    "    check_val_every_n_epoch=10,\n",
    "    accelerator=\"gpu\", \n",
    "    devices=4, \n",
    "    strategy=\"ddp\"\n",
    "    )\n",
    "\n",
    "net = AE1DMaxPoolBNModel(\n",
    "    optimizer = optimizer,\n",
    "    optimizer_param = optimizer_param, \n",
    "    **channel_param_dict[args.model_name],)\n",
    "\n",
    "data_module = ALDataModule_v1(dataset_path=dataset_path, batch_size=batch_size, prefix=\"torso_\", postfix=\"_fft\")\n",
    "data_module.limit_and_set_train_data(data_module._train_data, data_module._train_label, limit_number=args.train_limit_data)\n",
    "\n",
    "print(\"np.unique(data_module.train_label, return_counts=True)\", np.unique(data_module.train_label, return_counts=True))\n",
    "\n",
    "trainer.fit(model=net, datamodule=data_module)\n",
    "trainer_test_dict = trainer.logged_metrics\n",
    "\n",
    "trainer.test(model=net, datamodule=data_module)\n",
    "trainer_test_dict.update(trainer.logged_metrics)\n",
    "\n",
    "print(\"trainer.logger.log_dir\", trainer.logger.log_dir)\n",
    "\n",
    "for key in trainer_test_dict.keys():\n",
    "    trainer_test_dict[key] = trainer_test_dict[key].item()\n",
    "\n",
    "with open(os.path.join(trainer.logger.log_dir, \"result.json\"), \"w\") as f:\n",
    "    json.dump(trainer_test_dict, f, indent=4)\n",
    "\n",
    "with open(os.path.join(trainer.logger.log_dir, \"argparse_params.json\"), \"w\") as f:\n",
    "    json.dump(args.__dict__, f, indent=4)"
   ]
  },
  {
   "cell_type": "code",
   "execution_count": 9,
   "metadata": {},
   "outputs": [],
   "source": [
    "# checkpoint_path = \"/nfs/ksdata/tran/HAR_AE/lightning_logs/14_AE_5classes/pattern_27/version_0/checkpoints/sample_epoch=3419-step=68400-val_loss=0.000000.ckpt\"\n",
    "\n",
    "# data_module = FFTDataModule.load_from_checkpoint(checkpoint_path)\n",
    "# net = AECNN1DModel.load_from_checkpoint(checkpoint_path)\n",
    "\n",
    "# trainer = L.Trainer()\n",
    "\n",
    "# trainer.test(model=net, datamodule=data_module)\n",
    "# output = trainer.predict(model=net, datamodule=data_module)\n",
    "# pred = torch.argmax(torch.concat(output), dim=1)\n",
    "# gt = list(map(lambda x: x[0], iter(data_module.predict_dataloader())))\n",
    "# y = list(map(lambda x: x[1], iter(data_module.predict_dataloader())))"
   ]
  },
  {
   "cell_type": "code",
   "execution_count": 10,
   "metadata": {
    "scrolled": true
   },
   "outputs": [],
   "source": [
    "# # %%capture --no-display\n",
    "# save_image_dir = os.path.join(trainer.logger.log_dir, \"compare_img\")\n",
    "# print(\"save_image_dir\", save_image_dir)\n",
    "# # if os.path.isdir(save_image_dir):\n",
    "# #     raise ValueError()\n",
    "    \n",
    "# os.makedirs(save_image_dir, exist_ok=True)\n",
    "\n",
    "# for batch in range(len(gt[:1])):\n",
    "#     for batch_img in range(len(gt[batch][:50])):\n",
    "#         fig, axs = plt.subplots(6,2, figsize=(10, 12))\n",
    "\n",
    "#         for i in range(6):\n",
    "#             axs[i,0].plot(gt[batch][batch_img][i])\n",
    "#             axs[i,1].plot(pred[batch][batch_img][i])\n",
    "\n",
    "#         for i in range(2):\n",
    "#             y_lim_list = max(np.max(gt[batch][batch_img][i*3:(i+1)*3].numpy()), np.max(pred[batch][batch_img][i*3:(i+1)*3].numpy()))\n",
    "#             for k in range(3):\n",
    "#                 axs[i*3+k,0].set_ylim([0, y_lim_list])\n",
    "#                 axs[i*3+k,1].set_ylim([0, y_lim_list])\n",
    "\n",
    "#         label = y[batch][batch_img]\n",
    "\n",
    "#         plt.savefig(os.path.join(save_image_dir, f\"batch={batch}_{batch_img}_label={label}.png\"))\n",
    "#         # plt.clf()\n",
    "    "
   ]
  },
  {
   "cell_type": "code",
   "execution_count": 21,
   "metadata": {
    "scrolled": true
   },
   "outputs": [
    {
     "name": "stdout",
     "output_type": "stream",
     "text": [
      "11.1_AE/4cnnmp_128-8-1000-42 lightning_logs/11.1_AE/4cnnmp_128-8-1000-42/version_0/checkpoints/sample_epoch=3009-step=12040-val_loss=0.000000.ckpt\n"
     ]
    },
    {
     "name": "stderr",
     "output_type": "stream",
     "text": [
      "Trainer will use only 1 of 2 GPUs because it is running inside an interactive / notebook environment. You may try to set `Trainer(devices=2)` but please note that multi-GPU inside interactive / notebook environments is considered experimental and unstable. Your mileage may vary.\n",
      "GPU available: True (cuda), used: True\n",
      "TPU available: False, using: 0 TPU cores\n",
      "IPU available: False, using: 0 IPUs\n",
      "HPU available: False, using: 0 HPUs\n"
     ]
    },
    {
     "name": "stdout",
     "output_type": "stream",
     "text": [
      "set_normal_train\n"
     ]
    },
    {
     "name": "stderr",
     "output_type": "stream",
     "text": [
      "LOCAL_RANK: 0 - CUDA_VISIBLE_DEVICES: [0,1]\n"
     ]
    },
    {
     "name": "stdout",
     "output_type": "stream",
     "text": [
      "Testing DataLoader 0: 100%|██████████████████████████████| 16/16 [00:00<00:00, 118.72it/s]\n",
      "11.1_AE/4cnnmp_128-8-1000-64 lightning_logs/11.1_AE/4cnnmp_128-8-1000-64/version_0/checkpoints/sample_epoch=2349-step=9400-val_loss=0.000000.ckpt\n"
     ]
    },
    {
     "name": "stderr",
     "output_type": "stream",
     "text": [
      "Trainer will use only 1 of 2 GPUs because it is running inside an interactive / notebook environment. You may try to set `Trainer(devices=2)` but please note that multi-GPU inside interactive / notebook environments is considered experimental and unstable. Your mileage may vary.\n",
      "GPU available: True (cuda), used: True\n",
      "TPU available: False, using: 0 TPU cores\n",
      "IPU available: False, using: 0 IPUs\n",
      "HPU available: False, using: 0 HPUs\n"
     ]
    },
    {
     "name": "stdout",
     "output_type": "stream",
     "text": [
      "set_normal_train\n"
     ]
    },
    {
     "name": "stderr",
     "output_type": "stream",
     "text": [
      "LOCAL_RANK: 0 - CUDA_VISIBLE_DEVICES: [0,1]\n"
     ]
    },
    {
     "name": "stdout",
     "output_type": "stream",
     "text": [
      "Testing DataLoader 0: 100%|██████████████████████████████| 16/16 [00:00<00:00, 114.17it/s]\n",
      "11.1_AE/4cnnmp_128-8-5000-42 lightning_logs/11.1_AE/4cnnmp_128-8-5000-42/version_0/checkpoints/sample_epoch=1399-step=28000-val_loss=0.000000.ckpt\n"
     ]
    },
    {
     "name": "stderr",
     "output_type": "stream",
     "text": [
      "Trainer will use only 1 of 2 GPUs because it is running inside an interactive / notebook environment. You may try to set `Trainer(devices=2)` but please note that multi-GPU inside interactive / notebook environments is considered experimental and unstable. Your mileage may vary.\n",
      "GPU available: True (cuda), used: True\n",
      "TPU available: False, using: 0 TPU cores\n",
      "IPU available: False, using: 0 IPUs\n",
      "HPU available: False, using: 0 HPUs\n"
     ]
    },
    {
     "name": "stdout",
     "output_type": "stream",
     "text": [
      "set_normal_train\n"
     ]
    },
    {
     "name": "stderr",
     "output_type": "stream",
     "text": [
      "LOCAL_RANK: 0 - CUDA_VISIBLE_DEVICES: [0,1]\n"
     ]
    },
    {
     "name": "stdout",
     "output_type": "stream",
     "text": [
      "Testing DataLoader 0: 100%|██████████████████████████████| 16/16 [00:00<00:00, 124.67it/s]\n",
      "11.1_AE/4cnnmp_128-8-5000-64 lightning_logs/11.1_AE/4cnnmp_128-8-5000-64/version_0/checkpoints/sample_epoch=1439-step=28800-val_loss=0.000000.ckpt\n"
     ]
    },
    {
     "name": "stderr",
     "output_type": "stream",
     "text": [
      "Trainer will use only 1 of 2 GPUs because it is running inside an interactive / notebook environment. You may try to set `Trainer(devices=2)` but please note that multi-GPU inside interactive / notebook environments is considered experimental and unstable. Your mileage may vary.\n",
      "GPU available: True (cuda), used: True\n",
      "TPU available: False, using: 0 TPU cores\n",
      "IPU available: False, using: 0 IPUs\n",
      "HPU available: False, using: 0 HPUs\n"
     ]
    },
    {
     "name": "stdout",
     "output_type": "stream",
     "text": [
      "set_normal_train\n"
     ]
    },
    {
     "name": "stderr",
     "output_type": "stream",
     "text": [
      "LOCAL_RANK: 0 - CUDA_VISIBLE_DEVICES: [0,1]\n"
     ]
    },
    {
     "name": "stdout",
     "output_type": "stream",
     "text": [
      "Testing DataLoader 0: 100%|██████████████████████████████| 16/16 [00:00<00:00, 125.04it/s]\n",
      "11.1_AE/4cnnmp_64-8-1000-42 lightning_logs/11.1_AE/4cnnmp_64-8-1000-42/version_0/checkpoints/sample_epoch=2099-step=8400-val_loss=0.000000.ckpt\n"
     ]
    },
    {
     "name": "stderr",
     "output_type": "stream",
     "text": [
      "Trainer will use only 1 of 2 GPUs because it is running inside an interactive / notebook environment. You may try to set `Trainer(devices=2)` but please note that multi-GPU inside interactive / notebook environments is considered experimental and unstable. Your mileage may vary.\n",
      "GPU available: True (cuda), used: True\n",
      "TPU available: False, using: 0 TPU cores\n",
      "IPU available: False, using: 0 IPUs\n",
      "HPU available: False, using: 0 HPUs\n"
     ]
    },
    {
     "name": "stdout",
     "output_type": "stream",
     "text": [
      "set_normal_train\n"
     ]
    },
    {
     "name": "stderr",
     "output_type": "stream",
     "text": [
      "LOCAL_RANK: 0 - CUDA_VISIBLE_DEVICES: [0,1]\n"
     ]
    },
    {
     "name": "stdout",
     "output_type": "stream",
     "text": [
      "Testing DataLoader 0: 100%|██████████████████████████████| 16/16 [00:00<00:00, 117.98it/s]\n",
      "11.1_AE/4cnnmp_64-8-1000-64 lightning_logs/11.1_AE/4cnnmp_64-8-1000-64/version_0/checkpoints/sample_epoch=2039-step=8160-val_loss=0.000000.ckpt\n"
     ]
    },
    {
     "name": "stderr",
     "output_type": "stream",
     "text": [
      "Trainer will use only 1 of 2 GPUs because it is running inside an interactive / notebook environment. You may try to set `Trainer(devices=2)` but please note that multi-GPU inside interactive / notebook environments is considered experimental and unstable. Your mileage may vary.\n",
      "GPU available: True (cuda), used: True\n",
      "TPU available: False, using: 0 TPU cores\n",
      "IPU available: False, using: 0 IPUs\n",
      "HPU available: False, using: 0 HPUs\n"
     ]
    },
    {
     "name": "stdout",
     "output_type": "stream",
     "text": [
      "set_normal_train\n"
     ]
    },
    {
     "name": "stderr",
     "output_type": "stream",
     "text": [
      "LOCAL_RANK: 0 - CUDA_VISIBLE_DEVICES: [0,1]\n"
     ]
    },
    {
     "name": "stdout",
     "output_type": "stream",
     "text": [
      "Testing DataLoader 0: 100%|██████████████████████████████| 16/16 [00:00<00:00, 106.62it/s]\n",
      "11.1_AE/4cnnmp_64-8-5000-42 lightning_logs/11.1_AE/4cnnmp_64-8-5000-42/version_0/checkpoints/sample_epoch=959-step=19200-val_loss=0.000000.ckpt\n"
     ]
    },
    {
     "name": "stderr",
     "output_type": "stream",
     "text": [
      "Trainer will use only 1 of 2 GPUs because it is running inside an interactive / notebook environment. You may try to set `Trainer(devices=2)` but please note that multi-GPU inside interactive / notebook environments is considered experimental and unstable. Your mileage may vary.\n",
      "GPU available: True (cuda), used: True\n",
      "TPU available: False, using: 0 TPU cores\n",
      "IPU available: False, using: 0 IPUs\n",
      "HPU available: False, using: 0 HPUs\n"
     ]
    },
    {
     "name": "stdout",
     "output_type": "stream",
     "text": [
      "set_normal_train\n"
     ]
    },
    {
     "name": "stderr",
     "output_type": "stream",
     "text": [
      "LOCAL_RANK: 0 - CUDA_VISIBLE_DEVICES: [0,1]\n"
     ]
    },
    {
     "name": "stdout",
     "output_type": "stream",
     "text": [
      "Testing DataLoader 0: 100%|███████████████████████████████| 16/16 [00:00<00:00, 97.86it/s]\n",
      "11.1_AE/4cnnmp_64-8-5000-64 lightning_logs/11.1_AE/4cnnmp_64-8-5000-64/version_0/checkpoints/sample_epoch=1179-step=23600-val_loss=0.000000.ckpt\n"
     ]
    },
    {
     "name": "stderr",
     "output_type": "stream",
     "text": [
      "Trainer will use only 1 of 2 GPUs because it is running inside an interactive / notebook environment. You may try to set `Trainer(devices=2)` but please note that multi-GPU inside interactive / notebook environments is considered experimental and unstable. Your mileage may vary.\n",
      "GPU available: True (cuda), used: True\n",
      "TPU available: False, using: 0 TPU cores\n",
      "IPU available: False, using: 0 IPUs\n",
      "HPU available: False, using: 0 HPUs\n"
     ]
    },
    {
     "name": "stdout",
     "output_type": "stream",
     "text": [
      "set_normal_train\n"
     ]
    },
    {
     "name": "stderr",
     "output_type": "stream",
     "text": [
      "LOCAL_RANK: 0 - CUDA_VISIBLE_DEVICES: [0,1]\n"
     ]
    },
    {
     "name": "stdout",
     "output_type": "stream",
     "text": [
      "Testing DataLoader 0: 100%|██████████████████████████████| 16/16 [00:00<00:00, 118.47it/s]\n",
      "11.1_AE/4cnn_128-8-1000-42 lightning_logs/11.1_AE/4cnn_128-8-1000-42/version_0/checkpoints/sample_epoch=2559-step=10240-val_loss=0.000000.ckpt\n"
     ]
    },
    {
     "name": "stderr",
     "output_type": "stream",
     "text": [
      "Trainer will use only 1 of 2 GPUs because it is running inside an interactive / notebook environment. You may try to set `Trainer(devices=2)` but please note that multi-GPU inside interactive / notebook environments is considered experimental and unstable. Your mileage may vary.\n",
      "GPU available: True (cuda), used: True\n",
      "TPU available: False, using: 0 TPU cores\n",
      "IPU available: False, using: 0 IPUs\n",
      "HPU available: False, using: 0 HPUs\n"
     ]
    },
    {
     "name": "stdout",
     "output_type": "stream",
     "text": [
      "set_normal_train\n"
     ]
    },
    {
     "name": "stderr",
     "output_type": "stream",
     "text": [
      "LOCAL_RANK: 0 - CUDA_VISIBLE_DEVICES: [0,1]\n"
     ]
    },
    {
     "name": "stdout",
     "output_type": "stream",
     "text": [
      "Testing DataLoader 0: 100%|██████████████████████████████| 16/16 [00:00<00:00, 140.75it/s]\n",
      "11.1_AE/4cnn_128-8-1000-64 lightning_logs/11.1_AE/4cnn_128-8-1000-64/version_0/checkpoints/sample_epoch=1909-step=7640-val_loss=0.000000.ckpt\n"
     ]
    },
    {
     "name": "stderr",
     "output_type": "stream",
     "text": [
      "Trainer will use only 1 of 2 GPUs because it is running inside an interactive / notebook environment. You may try to set `Trainer(devices=2)` but please note that multi-GPU inside interactive / notebook environments is considered experimental and unstable. Your mileage may vary.\n",
      "GPU available: True (cuda), used: True\n",
      "TPU available: False, using: 0 TPU cores\n",
      "IPU available: False, using: 0 IPUs\n",
      "HPU available: False, using: 0 HPUs\n"
     ]
    },
    {
     "name": "stdout",
     "output_type": "stream",
     "text": [
      "set_normal_train\n"
     ]
    },
    {
     "name": "stderr",
     "output_type": "stream",
     "text": [
      "LOCAL_RANK: 0 - CUDA_VISIBLE_DEVICES: [0,1]\n"
     ]
    },
    {
     "name": "stdout",
     "output_type": "stream",
     "text": [
      "Testing DataLoader 0: 100%|██████████████████████████████| 16/16 [00:00<00:00, 142.45it/s]\n",
      "11.1_AE/4cnn_128-8-5000-42 lightning_logs/11.1_AE/4cnn_128-8-5000-42/version_0/checkpoints/sample_epoch=2189-step=43800-val_loss=0.000000.ckpt\n"
     ]
    },
    {
     "name": "stderr",
     "output_type": "stream",
     "text": [
      "Trainer will use only 1 of 2 GPUs because it is running inside an interactive / notebook environment. You may try to set `Trainer(devices=2)` but please note that multi-GPU inside interactive / notebook environments is considered experimental and unstable. Your mileage may vary.\n",
      "GPU available: True (cuda), used: True\n",
      "TPU available: False, using: 0 TPU cores\n",
      "IPU available: False, using: 0 IPUs\n",
      "HPU available: False, using: 0 HPUs\n"
     ]
    },
    {
     "name": "stdout",
     "output_type": "stream",
     "text": [
      "set_normal_train\n"
     ]
    },
    {
     "name": "stderr",
     "output_type": "stream",
     "text": [
      "LOCAL_RANK: 0 - CUDA_VISIBLE_DEVICES: [0,1]\n"
     ]
    },
    {
     "name": "stdout",
     "output_type": "stream",
     "text": [
      "Testing DataLoader 0: 100%|██████████████████████████████| 16/16 [00:00<00:00, 142.47it/s]\n",
      "11.1_AE/4cnn_128-8-5000-64 lightning_logs/11.1_AE/4cnn_128-8-5000-64/version_0/checkpoints/sample_epoch=3899-step=78000-val_loss=0.000000.ckpt\n"
     ]
    },
    {
     "name": "stderr",
     "output_type": "stream",
     "text": [
      "Trainer will use only 1 of 2 GPUs because it is running inside an interactive / notebook environment. You may try to set `Trainer(devices=2)` but please note that multi-GPU inside interactive / notebook environments is considered experimental and unstable. Your mileage may vary.\n",
      "GPU available: True (cuda), used: True\n",
      "TPU available: False, using: 0 TPU cores\n",
      "IPU available: False, using: 0 IPUs\n",
      "HPU available: False, using: 0 HPUs\n"
     ]
    },
    {
     "name": "stdout",
     "output_type": "stream",
     "text": [
      "set_normal_train\n"
     ]
    },
    {
     "name": "stderr",
     "output_type": "stream",
     "text": [
      "LOCAL_RANK: 0 - CUDA_VISIBLE_DEVICES: [0,1]\n"
     ]
    },
    {
     "name": "stdout",
     "output_type": "stream",
     "text": [
      "Testing DataLoader 0: 100%|███████████████████████████████| 16/16 [00:00<00:00, 40.75it/s]\n",
      "11.1_AE/4cnn_64-8-1000-42 lightning_logs/11.1_AE/4cnn_64-8-1000-42/version_0/checkpoints/sample_epoch=1979-step=7920-val_loss=0.000000.ckpt\n"
     ]
    },
    {
     "name": "stderr",
     "output_type": "stream",
     "text": [
      "Trainer will use only 1 of 2 GPUs because it is running inside an interactive / notebook environment. You may try to set `Trainer(devices=2)` but please note that multi-GPU inside interactive / notebook environments is considered experimental and unstable. Your mileage may vary.\n",
      "GPU available: True (cuda), used: True\n",
      "TPU available: False, using: 0 TPU cores\n",
      "IPU available: False, using: 0 IPUs\n",
      "HPU available: False, using: 0 HPUs\n"
     ]
    },
    {
     "name": "stdout",
     "output_type": "stream",
     "text": [
      "set_normal_train\n"
     ]
    },
    {
     "name": "stderr",
     "output_type": "stream",
     "text": [
      "LOCAL_RANK: 0 - CUDA_VISIBLE_DEVICES: [0,1]\n"
     ]
    },
    {
     "name": "stdout",
     "output_type": "stream",
     "text": [
      "Testing DataLoader 0: 100%|███████████████████████████████| 16/16 [00:00<00:00, 99.72it/s]\n",
      "11.1_AE/4cnn_64-8-1000-64 lightning_logs/11.1_AE/4cnn_64-8-1000-64/version_0/checkpoints/sample_epoch=2269-step=9080-val_loss=0.000000.ckpt\n"
     ]
    },
    {
     "name": "stderr",
     "output_type": "stream",
     "text": [
      "Trainer will use only 1 of 2 GPUs because it is running inside an interactive / notebook environment. You may try to set `Trainer(devices=2)` but please note that multi-GPU inside interactive / notebook environments is considered experimental and unstable. Your mileage may vary.\n",
      "GPU available: True (cuda), used: True\n",
      "TPU available: False, using: 0 TPU cores\n",
      "IPU available: False, using: 0 IPUs\n",
      "HPU available: False, using: 0 HPUs\n"
     ]
    },
    {
     "name": "stdout",
     "output_type": "stream",
     "text": [
      "set_normal_train\n"
     ]
    },
    {
     "name": "stderr",
     "output_type": "stream",
     "text": [
      "LOCAL_RANK: 0 - CUDA_VISIBLE_DEVICES: [0,1]\n"
     ]
    },
    {
     "name": "stdout",
     "output_type": "stream",
     "text": [
      "Testing DataLoader 0: 100%|██████████████████████████████| 16/16 [00:00<00:00, 136.02it/s]\n",
      "11.1_AE/4cnn_64-8-5000-42 lightning_logs/11.1_AE/4cnn_64-8-5000-42/version_0/checkpoints/sample_epoch=1039-step=20800-val_loss=0.000000.ckpt\n"
     ]
    },
    {
     "name": "stderr",
     "output_type": "stream",
     "text": [
      "Trainer will use only 1 of 2 GPUs because it is running inside an interactive / notebook environment. You may try to set `Trainer(devices=2)` but please note that multi-GPU inside interactive / notebook environments is considered experimental and unstable. Your mileage may vary.\n",
      "GPU available: True (cuda), used: True\n",
      "TPU available: False, using: 0 TPU cores\n",
      "IPU available: False, using: 0 IPUs\n",
      "HPU available: False, using: 0 HPUs\n"
     ]
    },
    {
     "name": "stdout",
     "output_type": "stream",
     "text": [
      "set_normal_train\n"
     ]
    },
    {
     "name": "stderr",
     "output_type": "stream",
     "text": [
      "LOCAL_RANK: 0 - CUDA_VISIBLE_DEVICES: [0,1]\n"
     ]
    },
    {
     "name": "stdout",
     "output_type": "stream",
     "text": [
      "Testing DataLoader 0: 100%|██████████████████████████████| 16/16 [00:00<00:00, 101.72it/s]\n",
      "11.1_AE/4cnn_64-8-5000-64 lightning_logs/11.1_AE/4cnn_64-8-5000-64/version_0/checkpoints/sample_epoch=1429-step=28600-val_loss=0.000000.ckpt\n"
     ]
    },
    {
     "name": "stderr",
     "output_type": "stream",
     "text": [
      "Trainer will use only 1 of 2 GPUs because it is running inside an interactive / notebook environment. You may try to set `Trainer(devices=2)` but please note that multi-GPU inside interactive / notebook environments is considered experimental and unstable. Your mileage may vary.\n",
      "GPU available: True (cuda), used: True\n",
      "TPU available: False, using: 0 TPU cores\n",
      "IPU available: False, using: 0 IPUs\n",
      "HPU available: False, using: 0 HPUs\n"
     ]
    },
    {
     "name": "stdout",
     "output_type": "stream",
     "text": [
      "set_normal_train\n"
     ]
    },
    {
     "name": "stderr",
     "output_type": "stream",
     "text": [
      "LOCAL_RANK: 0 - CUDA_VISIBLE_DEVICES: [0,1]\n"
     ]
    },
    {
     "name": "stdout",
     "output_type": "stream",
     "text": [
      "Testing DataLoader 0: 100%|██████████████████████████████| 16/16 [00:00<00:00, 137.91it/s]\n",
      "11.1_AE/rich_128-8-1000-42 lightning_logs/11.1_AE/rich_128-8-1000-42/version_0/checkpoints/sample_epoch=2379-step=9520-val_loss=0.000000.ckpt\n"
     ]
    },
    {
     "name": "stderr",
     "output_type": "stream",
     "text": [
      "Trainer will use only 1 of 2 GPUs because it is running inside an interactive / notebook environment. You may try to set `Trainer(devices=2)` but please note that multi-GPU inside interactive / notebook environments is considered experimental and unstable. Your mileage may vary.\n",
      "GPU available: True (cuda), used: True\n",
      "TPU available: False, using: 0 TPU cores\n",
      "IPU available: False, using: 0 IPUs\n",
      "HPU available: False, using: 0 HPUs\n"
     ]
    },
    {
     "name": "stdout",
     "output_type": "stream",
     "text": [
      "set_normal_train\n"
     ]
    },
    {
     "name": "stderr",
     "output_type": "stream",
     "text": [
      "LOCAL_RANK: 0 - CUDA_VISIBLE_DEVICES: [0,1]\n"
     ]
    },
    {
     "name": "stdout",
     "output_type": "stream",
     "text": [
      "Testing DataLoader 0: 100%|███████████████████████████████| 16/16 [00:00<00:00, 45.95it/s]\n",
      "11.1_AE/rich_128-8-1000-64 lightning_logs/11.1_AE/rich_128-8-1000-64/version_0/checkpoints/sample_epoch=3639-step=14560-val_loss=0.000000.ckpt\n"
     ]
    },
    {
     "name": "stderr",
     "output_type": "stream",
     "text": [
      "Trainer will use only 1 of 2 GPUs because it is running inside an interactive / notebook environment. You may try to set `Trainer(devices=2)` but please note that multi-GPU inside interactive / notebook environments is considered experimental and unstable. Your mileage may vary.\n",
      "GPU available: True (cuda), used: True\n",
      "TPU available: False, using: 0 TPU cores\n",
      "IPU available: False, using: 0 IPUs\n",
      "HPU available: False, using: 0 HPUs\n"
     ]
    },
    {
     "name": "stdout",
     "output_type": "stream",
     "text": [
      "set_normal_train\n"
     ]
    },
    {
     "name": "stderr",
     "output_type": "stream",
     "text": [
      "LOCAL_RANK: 0 - CUDA_VISIBLE_DEVICES: [0,1]\n"
     ]
    },
    {
     "name": "stdout",
     "output_type": "stream",
     "text": [
      "Testing DataLoader 0: 100%|██████████████████████████████| 16/16 [00:00<00:00, 149.11it/s]\n",
      "11.1_AE/rich_128-8-5000-42 lightning_logs/11.1_AE/rich_128-8-5000-42/version_0/checkpoints/sample_epoch=3419-step=68400-val_loss=0.000000.ckpt\n"
     ]
    },
    {
     "name": "stderr",
     "output_type": "stream",
     "text": [
      "Trainer will use only 1 of 2 GPUs because it is running inside an interactive / notebook environment. You may try to set `Trainer(devices=2)` but please note that multi-GPU inside interactive / notebook environments is considered experimental and unstable. Your mileage may vary.\n",
      "GPU available: True (cuda), used: True\n",
      "TPU available: False, using: 0 TPU cores\n",
      "IPU available: False, using: 0 IPUs\n",
      "HPU available: False, using: 0 HPUs\n"
     ]
    },
    {
     "name": "stdout",
     "output_type": "stream",
     "text": [
      "set_normal_train\n"
     ]
    },
    {
     "name": "stderr",
     "output_type": "stream",
     "text": [
      "LOCAL_RANK: 0 - CUDA_VISIBLE_DEVICES: [0,1]\n"
     ]
    },
    {
     "name": "stdout",
     "output_type": "stream",
     "text": [
      "Testing DataLoader 0: 100%|██████████████████████████████| 16/16 [00:00<00:00, 151.43it/s]\n",
      "11.1_AE/rich_128-8-5000-64 lightning_logs/11.1_AE/rich_128-8-5000-64/version_0/checkpoints/sample_epoch=2579-step=51600-val_loss=0.000000.ckpt\n"
     ]
    },
    {
     "name": "stderr",
     "output_type": "stream",
     "text": [
      "Trainer will use only 1 of 2 GPUs because it is running inside an interactive / notebook environment. You may try to set `Trainer(devices=2)` but please note that multi-GPU inside interactive / notebook environments is considered experimental and unstable. Your mileage may vary.\n",
      "GPU available: True (cuda), used: True\n",
      "TPU available: False, using: 0 TPU cores\n",
      "IPU available: False, using: 0 IPUs\n",
      "HPU available: False, using: 0 HPUs\n"
     ]
    },
    {
     "name": "stdout",
     "output_type": "stream",
     "text": [
      "set_normal_train\n"
     ]
    },
    {
     "name": "stderr",
     "output_type": "stream",
     "text": [
      "LOCAL_RANK: 0 - CUDA_VISIBLE_DEVICES: [0,1]\n"
     ]
    },
    {
     "name": "stdout",
     "output_type": "stream",
     "text": [
      "Testing DataLoader 0: 100%|███████████████████████████████| 16/16 [00:00<00:00, 45.63it/s]\n",
      "11.1_AE/rich_64-8-1000-42 lightning_logs/11.1_AE/rich_64-8-1000-42/version_0/checkpoints/sample_epoch=3039-step=12160-val_loss=0.000000.ckpt\n"
     ]
    },
    {
     "name": "stderr",
     "output_type": "stream",
     "text": [
      "Trainer will use only 1 of 2 GPUs because it is running inside an interactive / notebook environment. You may try to set `Trainer(devices=2)` but please note that multi-GPU inside interactive / notebook environments is considered experimental and unstable. Your mileage may vary.\n",
      "GPU available: True (cuda), used: True\n",
      "TPU available: False, using: 0 TPU cores\n",
      "IPU available: False, using: 0 IPUs\n",
      "HPU available: False, using: 0 HPUs\n"
     ]
    },
    {
     "name": "stdout",
     "output_type": "stream",
     "text": [
      "set_normal_train\n"
     ]
    },
    {
     "name": "stderr",
     "output_type": "stream",
     "text": [
      "LOCAL_RANK: 0 - CUDA_VISIBLE_DEVICES: [0,1]\n"
     ]
    },
    {
     "name": "stdout",
     "output_type": "stream",
     "text": [
      "Testing DataLoader 0: 100%|██████████████████████████████| 16/16 [00:00<00:00, 140.91it/s]\n",
      "11.1_AE/rich_64-8-1000-64 lightning_logs/11.1_AE/rich_64-8-1000-64/version_0/checkpoints/sample_epoch=1889-step=7560-val_loss=0.000000.ckpt\n"
     ]
    },
    {
     "name": "stderr",
     "output_type": "stream",
     "text": [
      "Trainer will use only 1 of 2 GPUs because it is running inside an interactive / notebook environment. You may try to set `Trainer(devices=2)` but please note that multi-GPU inside interactive / notebook environments is considered experimental and unstable. Your mileage may vary.\n",
      "GPU available: True (cuda), used: True\n",
      "TPU available: False, using: 0 TPU cores\n",
      "IPU available: False, using: 0 IPUs\n",
      "HPU available: False, using: 0 HPUs\n"
     ]
    },
    {
     "name": "stdout",
     "output_type": "stream",
     "text": [
      "set_normal_train\n"
     ]
    },
    {
     "name": "stderr",
     "output_type": "stream",
     "text": [
      "LOCAL_RANK: 0 - CUDA_VISIBLE_DEVICES: [0,1]\n"
     ]
    },
    {
     "name": "stdout",
     "output_type": "stream",
     "text": [
      "Testing DataLoader 0: 100%|██████████████████████████████| 16/16 [00:00<00:00, 140.83it/s]\n",
      "11.1_AE/rich_64-8-5000-42 lightning_logs/11.1_AE/rich_64-8-5000-42/version_0/checkpoints/sample_epoch=1619-step=32400-val_loss=0.000000.ckpt\n"
     ]
    },
    {
     "name": "stderr",
     "output_type": "stream",
     "text": [
      "Trainer will use only 1 of 2 GPUs because it is running inside an interactive / notebook environment. You may try to set `Trainer(devices=2)` but please note that multi-GPU inside interactive / notebook environments is considered experimental and unstable. Your mileage may vary.\n",
      "GPU available: True (cuda), used: True\n",
      "TPU available: False, using: 0 TPU cores\n",
      "IPU available: False, using: 0 IPUs\n",
      "HPU available: False, using: 0 HPUs\n"
     ]
    },
    {
     "name": "stdout",
     "output_type": "stream",
     "text": [
      "set_normal_train\n"
     ]
    },
    {
     "name": "stderr",
     "output_type": "stream",
     "text": [
      "LOCAL_RANK: 0 - CUDA_VISIBLE_DEVICES: [0,1]\n"
     ]
    },
    {
     "name": "stdout",
     "output_type": "stream",
     "text": [
      "Testing DataLoader 0: 100%|███████████████████████████████| 16/16 [00:00<00:00, 47.92it/s]\n",
      "11.1_AE/rich_64-8-5000-64 lightning_logs/11.1_AE/rich_64-8-5000-64/version_0/checkpoints/sample_epoch=2149-step=43000-val_loss=0.000000.ckpt\n"
     ]
    },
    {
     "name": "stderr",
     "output_type": "stream",
     "text": [
      "Trainer will use only 1 of 2 GPUs because it is running inside an interactive / notebook environment. You may try to set `Trainer(devices=2)` but please note that multi-GPU inside interactive / notebook environments is considered experimental and unstable. Your mileage may vary.\n",
      "GPU available: True (cuda), used: True\n",
      "TPU available: False, using: 0 TPU cores\n",
      "IPU available: False, using: 0 IPUs\n",
      "HPU available: False, using: 0 HPUs\n"
     ]
    },
    {
     "name": "stdout",
     "output_type": "stream",
     "text": [
      "set_normal_train\n"
     ]
    },
    {
     "name": "stderr",
     "output_type": "stream",
     "text": [
      "LOCAL_RANK: 0 - CUDA_VISIBLE_DEVICES: [0,1]\n"
     ]
    },
    {
     "name": "stdout",
     "output_type": "stream",
     "text": [
      "Testing DataLoader 0: 100%|███████████████████████████████| 16/16 [00:00<00:00, 97.78it/s]\n"
     ]
    }
   ],
   "source": [
    "args.eval_mode = 1\n",
    "\n",
    "if args.eval_mode:\n",
    "    log_save_dir = \"lightning_logs\"\n",
    "    log_save_name = \"11.1_AE/{}-{}-{}-{}\"\n",
    "    \n",
    "    result_save_dict = {}\n",
    "\n",
    "    for args.model_name in \"4cnnmp_128 4cnnmp_64 4cnn_128 4cnn_64 rich_128 rich_64\".split(\" \"):\n",
    "        args.class_num = 8\n",
    "        for args.train_limit_data in \"1000 5000\".split(\" \"):\n",
    "            for args.random_seed in \"42 64\".split():\n",
    "                \n",
    "                save_model_folder = log_save_name.format(args.model_name, args.class_num, args.train_limit_data, args.random_seed)\n",
    "                save_model_dir = os.path.join(log_save_dir, save_model_folder)\n",
    "                \n",
    "                weight = glob.glob(os.path.join(save_model_dir, \"version_0\", \"checkpoints\", \"*.ckpt\"))[0]\n",
    "                print(save_model_folder, weight)\n",
    "\n",
    "                net = AE1DMaxPoolBNModel.load_from_checkpoint(weight)\n",
    "                data_module = ALDataModule_v1.load_from_checkpoint(weight)\n",
    "                data_module.set_normal_train()\n",
    "\n",
    "                trainer = L.Trainer()\n",
    "                trainer.test(model=net, datamodule=data_module, verbose=False)\n",
    "                \n",
    "                test_acc = trainer.logged_metrics[\"test_mse\"]\n",
    "                result_save_dict[save_model_folder] = test_acc\n"
   ]
  },
  {
   "cell_type": "code",
   "execution_count": 55,
   "metadata": {},
   "outputs": [
    {
     "name": "stdout",
     "output_type": "stream",
     "text": [
      "{'42': [0.00046623434172943234, 0.0004839024040848017, 0.00027914170641452074, 0.00038091233000159264, 0.0002826091949827969, 0.0003680587687995285], '64': [0.0004628923488780856, 0.00048300993512384593, 0.00028849561931565404, 0.00036418024683371186, 0.0002759269846137613, 0.00034302944550290704]}\n"
     ]
    }
   ],
   "source": [
    "if args.eval_mode:\n",
    "    model_name_list = \"4cnnmp_128 4cnnmp_64 4cnn_128 4cnn_64 rich_128 rich_64\".split(\" \")\n",
    "    args.class_num = 8\n",
    "    args.train_limit_data = \"5000\"\n",
    "    random_list = \"42 64\".split(\" \")\n",
    "    log_save_name = \"11.1_AE/{}-{}-{}-{}\"\n",
    "    \n",
    "    random_save_dict = {}\n",
    "    \n",
    "    for args.random_seed in random_list:\n",
    "        random_save_dict[args.random_seed] = []\n",
    "        for args.model_name in model_name_list:\n",
    "            save_model_folder = log_save_name.format(args.model_name, args.class_num, args.train_limit_data, args.random_seed)\n",
    "            random_save_dict[args.random_seed].append(result_save_dict[save_model_folder].item())\n",
    "    \n",
    "    print(random_save_dict)"
   ]
  },
  {
   "cell_type": "code",
   "execution_count": 56,
   "metadata": {},
   "outputs": [
    {
     "data": {
      "image/png": "[encoded data removed]",
      "text/plain": [
       "<Figure size 1000x400 with 1 Axes>"
      ]
     },
     "metadata": {},
     "output_type": "display_data"
    }
   ],
   "source": [
    "if args.eval_mode:\n",
    "    fig, ax = plt.subplots(layout='constrained', figsize=(10, 4))\n",
    "    \n",
    "    x = np.arange(len(model_name_list))  # the label locations\n",
    "    width = 0.4  # the width of the bars\n",
    "    multiplier = 0\n",
    "    \n",
    "    for attribute, measurement in random_save_dict.items():\n",
    "        offset = width * multiplier\n",
    "        rects = ax.bar(x + offset, measurement, width, label=attribute, align=\"edge\")\n",
    "        # ax.bar_label(rects, padding=3)\n",
    "        multiplier += 1\n",
    "    \n",
    "    ax.set_ylabel('MSE')\n",
    "    ax.set_title(f'MSE of AE class_num={args.class_num} train_data_number={args.train_limit_data}')\n",
    "    ax.set_xticks(x + width, model_name_list)\n",
    "    ax.legend(loc='upper left', ncols=3)\n",
    "    ax.set_ylim(0, 0.001)"
   ]
  },
  {
   "cell_type": "code",
   "execution_count": 25,
   "metadata": {},
   "outputs": [
    {
     "name": "stdout",
     "output_type": "stream",
     "text": [
      "11.1_AE/4cnnmp_128-8-1000-42 lightning_logs/11.1_AE/4cnnmp_128-8-1000-42/version_0/checkpoints/sample_epoch=3009-step=12040-val_loss=0.000000.ckpt\n"
     ]
    },
    {
     "name": "stderr",
     "output_type": "stream",
     "text": [
      "Trainer will use only 1 of 2 GPUs because it is running inside an interactive / notebook environment. You may try to set `Trainer(devices=2)` but please note that multi-GPU inside interactive / notebook environments is considered experimental and unstable. Your mileage may vary.\n",
      "GPU available: True (cuda), used: True\n",
      "TPU available: False, using: 0 TPU cores\n",
      "IPU available: False, using: 0 IPUs\n",
      "HPU available: False, using: 0 HPUs\n"
     ]
    },
    {
     "name": "stdout",
     "output_type": "stream",
     "text": [
      "set_normal_train\n"
     ]
    },
    {
     "name": "stderr",
     "output_type": "stream",
     "text": [
      "LOCAL_RANK: 0 - CUDA_VISIBLE_DEVICES: [0,1]\n"
     ]
    },
    {
     "name": "stdout",
     "output_type": "stream",
     "text": [
      "Testing DataLoader 0: 100%|██████████████████████████████| 16/16 [00:00<00:00, 130.64it/s]\n"
     ]
    },
    {
     "name": "stderr",
     "output_type": "stream",
     "text": [
      "LOCAL_RANK: 0 - CUDA_VISIBLE_DEVICES: [0,1]\n"
     ]
    },
    {
     "name": "stdout",
     "output_type": "stream",
     "text": [
      "Predicting DataLoader 0: 100%|████████████████████████████| 16/16 [00:00<00:00, 95.42it/s]\n",
      "11.1_AE/4cnnmp_128-8-1000-64 lightning_logs/11.1_AE/4cnnmp_128-8-1000-64/version_0/checkpoints/sample_epoch=2349-step=9400-val_loss=0.000000.ckpt\n"
     ]
    },
    {
     "name": "stderr",
     "output_type": "stream",
     "text": [
      "Trainer will use only 1 of 2 GPUs because it is running inside an interactive / notebook environment. You may try to set `Trainer(devices=2)` but please note that multi-GPU inside interactive / notebook environments is considered experimental and unstable. Your mileage may vary.\n",
      "GPU available: True (cuda), used: True\n",
      "TPU available: False, using: 0 TPU cores\n",
      "IPU available: False, using: 0 IPUs\n",
      "HPU available: False, using: 0 HPUs\n"
     ]
    },
    {
     "name": "stdout",
     "output_type": "stream",
     "text": [
      "set_normal_train\n"
     ]
    },
    {
     "name": "stderr",
     "output_type": "stream",
     "text": [
      "LOCAL_RANK: 0 - CUDA_VISIBLE_DEVICES: [0,1]\n"
     ]
    },
    {
     "name": "stdout",
     "output_type": "stream",
     "text": [
      "Testing DataLoader 0: 100%|██████████████████████████████| 16/16 [00:00<00:00, 129.22it/s]\n"
     ]
    },
    {
     "name": "stderr",
     "output_type": "stream",
     "text": [
      "LOCAL_RANK: 0 - CUDA_VISIBLE_DEVICES: [0,1]\n"
     ]
    },
    {
     "name": "stdout",
     "output_type": "stream",
     "text": [
      "Predicting DataLoader 0: 100%|███████████████████████████| 16/16 [00:00<00:00, 107.21it/s]\n",
      "11.1_AE/4cnnmp_128-8-5000-42 lightning_logs/11.1_AE/4cnnmp_128-8-5000-42/version_0/checkpoints/sample_epoch=1399-step=28000-val_loss=0.000000.ckpt\n"
     ]
    },
    {
     "name": "stderr",
     "output_type": "stream",
     "text": [
      "Trainer will use only 1 of 2 GPUs because it is running inside an interactive / notebook environment. You may try to set `Trainer(devices=2)` but please note that multi-GPU inside interactive / notebook environments is considered experimental and unstable. Your mileage may vary.\n",
      "GPU available: True (cuda), used: True\n",
      "TPU available: False, using: 0 TPU cores\n",
      "IPU available: False, using: 0 IPUs\n",
      "HPU available: False, using: 0 HPUs\n"
     ]
    },
    {
     "name": "stdout",
     "output_type": "stream",
     "text": [
      "set_normal_train\n"
     ]
    },
    {
     "name": "stderr",
     "output_type": "stream",
     "text": [
      "LOCAL_RANK: 0 - CUDA_VISIBLE_DEVICES: [0,1]\n"
     ]
    },
    {
     "name": "stdout",
     "output_type": "stream",
     "text": [
      "Testing DataLoader 0: 100%|██████████████████████████████| 16/16 [00:00<00:00, 114.38it/s]\n"
     ]
    },
    {
     "name": "stderr",
     "output_type": "stream",
     "text": [
      "LOCAL_RANK: 0 - CUDA_VISIBLE_DEVICES: [0,1]\n"
     ]
    },
    {
     "name": "stdout",
     "output_type": "stream",
     "text": [
      "Predicting DataLoader 0: 100%|████████████████████████████| 16/16 [00:00<00:00, 89.30it/s]\n",
      "11.1_AE/4cnnmp_128-8-5000-64 lightning_logs/11.1_AE/4cnnmp_128-8-5000-64/version_0/checkpoints/sample_epoch=1439-step=28800-val_loss=0.000000.ckpt\n"
     ]
    },
    {
     "name": "stderr",
     "output_type": "stream",
     "text": [
      "Trainer will use only 1 of 2 GPUs because it is running inside an interactive / notebook environment. You may try to set `Trainer(devices=2)` but please note that multi-GPU inside interactive / notebook environments is considered experimental and unstable. Your mileage may vary.\n",
      "GPU available: True (cuda), used: True\n",
      "TPU available: False, using: 0 TPU cores\n",
      "IPU available: False, using: 0 IPUs\n",
      "HPU available: False, using: 0 HPUs\n"
     ]
    },
    {
     "name": "stdout",
     "output_type": "stream",
     "text": [
      "set_normal_train\n"
     ]
    },
    {
     "name": "stderr",
     "output_type": "stream",
     "text": [
      "LOCAL_RANK: 0 - CUDA_VISIBLE_DEVICES: [0,1]\n"
     ]
    },
    {
     "name": "stdout",
     "output_type": "stream",
     "text": [
      "Testing DataLoader 0: 100%|██████████████████████████████| 16/16 [00:00<00:00, 117.96it/s]\n"
     ]
    },
    {
     "name": "stderr",
     "output_type": "stream",
     "text": [
      "LOCAL_RANK: 0 - CUDA_VISIBLE_DEVICES: [0,1]\n"
     ]
    },
    {
     "name": "stdout",
     "output_type": "stream",
     "text": [
      "Predicting DataLoader 0: 100%|███████████████████████████| 16/16 [00:00<00:00, 111.40it/s]\n",
      "11.1_AE/4cnnmp_64-8-1000-42 lightning_logs/11.1_AE/4cnnmp_64-8-1000-42/version_0/checkpoints/sample_epoch=2099-step=8400-val_loss=0.000000.ckpt\n"
     ]
    },
    {
     "name": "stderr",
     "output_type": "stream",
     "text": [
      "Trainer will use only 1 of 2 GPUs because it is running inside an interactive / notebook environment. You may try to set `Trainer(devices=2)` but please note that multi-GPU inside interactive / notebook environments is considered experimental and unstable. Your mileage may vary.\n",
      "GPU available: True (cuda), used: True\n",
      "TPU available: False, using: 0 TPU cores\n",
      "IPU available: False, using: 0 IPUs\n",
      "HPU available: False, using: 0 HPUs\n"
     ]
    },
    {
     "name": "stdout",
     "output_type": "stream",
     "text": [
      "set_normal_train\n"
     ]
    },
    {
     "name": "stderr",
     "output_type": "stream",
     "text": [
      "LOCAL_RANK: 0 - CUDA_VISIBLE_DEVICES: [0,1]\n"
     ]
    },
    {
     "name": "stdout",
     "output_type": "stream",
     "text": [
      "Testing DataLoader 0: 100%|██████████████████████████████| 16/16 [00:00<00:00, 122.38it/s]\n"
     ]
    },
    {
     "name": "stderr",
     "output_type": "stream",
     "text": [
      "LOCAL_RANK: 0 - CUDA_VISIBLE_DEVICES: [0,1]\n"
     ]
    },
    {
     "name": "stdout",
     "output_type": "stream",
     "text": [
      "Predicting DataLoader 0: 100%|████████████████████████████| 16/16 [00:00<00:00, 88.62it/s]\n",
      "11.1_AE/4cnnmp_64-8-1000-64 lightning_logs/11.1_AE/4cnnmp_64-8-1000-64/version_0/checkpoints/sample_epoch=2039-step=8160-val_loss=0.000000.ckpt\n"
     ]
    },
    {
     "name": "stderr",
     "output_type": "stream",
     "text": [
      "Trainer will use only 1 of 2 GPUs because it is running inside an interactive / notebook environment. You may try to set `Trainer(devices=2)` but please note that multi-GPU inside interactive / notebook environments is considered experimental and unstable. Your mileage may vary.\n",
      "GPU available: True (cuda), used: True\n",
      "TPU available: False, using: 0 TPU cores\n",
      "IPU available: False, using: 0 IPUs\n",
      "HPU available: False, using: 0 HPUs\n"
     ]
    },
    {
     "name": "stdout",
     "output_type": "stream",
     "text": [
      "set_normal_train\n"
     ]
    },
    {
     "name": "stderr",
     "output_type": "stream",
     "text": [
      "LOCAL_RANK: 0 - CUDA_VISIBLE_DEVICES: [0,1]\n"
     ]
    },
    {
     "name": "stdout",
     "output_type": "stream",
     "text": [
      "Testing DataLoader 0: 100%|███████████████████████████████| 16/16 [00:00<00:00, 88.05it/s]\n"
     ]
    },
    {
     "name": "stderr",
     "output_type": "stream",
     "text": [
      "LOCAL_RANK: 0 - CUDA_VISIBLE_DEVICES: [0,1]\n"
     ]
    },
    {
     "name": "stdout",
     "output_type": "stream",
     "text": [
      "Predicting DataLoader 0: 100%|███████████████████████████| 16/16 [00:00<00:00, 113.25it/s]\n",
      "11.1_AE/4cnnmp_64-8-5000-42 lightning_logs/11.1_AE/4cnnmp_64-8-5000-42/version_0/checkpoints/sample_epoch=959-step=19200-val_loss=0.000000.ckpt\n"
     ]
    },
    {
     "name": "stderr",
     "output_type": "stream",
     "text": [
      "Trainer will use only 1 of 2 GPUs because it is running inside an interactive / notebook environment. You may try to set `Trainer(devices=2)` but please note that multi-GPU inside interactive / notebook environments is considered experimental and unstable. Your mileage may vary.\n",
      "GPU available: True (cuda), used: True\n",
      "TPU available: False, using: 0 TPU cores\n",
      "IPU available: False, using: 0 IPUs\n",
      "HPU available: False, using: 0 HPUs\n"
     ]
    },
    {
     "name": "stdout",
     "output_type": "stream",
     "text": [
      "set_normal_train\n"
     ]
    },
    {
     "name": "stderr",
     "output_type": "stream",
     "text": [
      "LOCAL_RANK: 0 - CUDA_VISIBLE_DEVICES: [0,1]\n"
     ]
    },
    {
     "name": "stdout",
     "output_type": "stream",
     "text": [
      "Testing DataLoader 0: 100%|███████████████████████████████| 16/16 [00:00<00:00, 92.09it/s]\n"
     ]
    },
    {
     "name": "stderr",
     "output_type": "stream",
     "text": [
      "LOCAL_RANK: 0 - CUDA_VISIBLE_DEVICES: [0,1]\n"
     ]
    },
    {
     "name": "stdout",
     "output_type": "stream",
     "text": [
      "Predicting DataLoader 0: 100%|███████████████████████████| 16/16 [00:00<00:00, 112.35it/s]\n",
      "11.1_AE/4cnnmp_64-8-5000-64 lightning_logs/11.1_AE/4cnnmp_64-8-5000-64/version_0/checkpoints/sample_epoch=1179-step=23600-val_loss=0.000000.ckpt\n"
     ]
    },
    {
     "name": "stderr",
     "output_type": "stream",
     "text": [
      "Trainer will use only 1 of 2 GPUs because it is running inside an interactive / notebook environment. You may try to set `Trainer(devices=2)` but please note that multi-GPU inside interactive / notebook environments is considered experimental and unstable. Your mileage may vary.\n",
      "GPU available: True (cuda), used: True\n",
      "TPU available: False, using: 0 TPU cores\n",
      "IPU available: False, using: 0 IPUs\n",
      "HPU available: False, using: 0 HPUs\n"
     ]
    },
    {
     "name": "stdout",
     "output_type": "stream",
     "text": [
      "set_normal_train\n"
     ]
    },
    {
     "name": "stderr",
     "output_type": "stream",
     "text": [
      "LOCAL_RANK: 0 - CUDA_VISIBLE_DEVICES: [0,1]\n"
     ]
    },
    {
     "name": "stdout",
     "output_type": "stream",
     "text": [
      "Testing DataLoader 0: 100%|███████████████████████████████| 16/16 [00:00<00:00, 89.79it/s]\n"
     ]
    },
    {
     "name": "stderr",
     "output_type": "stream",
     "text": [
      "LOCAL_RANK: 0 - CUDA_VISIBLE_DEVICES: [0,1]\n"
     ]
    },
    {
     "name": "stdout",
     "output_type": "stream",
     "text": [
      "Predicting DataLoader 0: 100%|████████████████████████████| 16/16 [00:00<00:00, 91.29it/s]\n",
      "11.1_AE/4cnn_128-8-1000-42 lightning_logs/11.1_AE/4cnn_128-8-1000-42/version_0/checkpoints/sample_epoch=2559-step=10240-val_loss=0.000000.ckpt\n"
     ]
    },
    {
     "name": "stderr",
     "output_type": "stream",
     "text": [
      "Trainer will use only 1 of 2 GPUs because it is running inside an interactive / notebook environment. You may try to set `Trainer(devices=2)` but please note that multi-GPU inside interactive / notebook environments is considered experimental and unstable. Your mileage may vary.\n",
      "GPU available: True (cuda), used: True\n",
      "TPU available: False, using: 0 TPU cores\n",
      "IPU available: False, using: 0 IPUs\n",
      "HPU available: False, using: 0 HPUs\n"
     ]
    },
    {
     "name": "stdout",
     "output_type": "stream",
     "text": [
      "set_normal_train\n"
     ]
    },
    {
     "name": "stderr",
     "output_type": "stream",
     "text": [
      "LOCAL_RANK: 0 - CUDA_VISIBLE_DEVICES: [0,1]\n"
     ]
    },
    {
     "name": "stdout",
     "output_type": "stream",
     "text": [
      "Testing DataLoader 0: 100%|██████████████████████████████| 16/16 [00:00<00:00, 101.15it/s]\n"
     ]
    },
    {
     "name": "stderr",
     "output_type": "stream",
     "text": [
      "LOCAL_RANK: 0 - CUDA_VISIBLE_DEVICES: [0,1]\n"
     ]
    },
    {
     "name": "stdout",
     "output_type": "stream",
     "text": [
      "Predicting DataLoader 0: 100%|███████████████████████████| 16/16 [00:00<00:00, 115.72it/s]\n",
      "11.1_AE/4cnn_128-8-1000-64 lightning_logs/11.1_AE/4cnn_128-8-1000-64/version_0/checkpoints/sample_epoch=1909-step=7640-val_loss=0.000000.ckpt\n"
     ]
    },
    {
     "name": "stderr",
     "output_type": "stream",
     "text": [
      "Trainer will use only 1 of 2 GPUs because it is running inside an interactive / notebook environment. You may try to set `Trainer(devices=2)` but please note that multi-GPU inside interactive / notebook environments is considered experimental and unstable. Your mileage may vary.\n",
      "GPU available: True (cuda), used: True\n",
      "TPU available: False, using: 0 TPU cores\n",
      "IPU available: False, using: 0 IPUs\n",
      "HPU available: False, using: 0 HPUs\n"
     ]
    },
    {
     "name": "stdout",
     "output_type": "stream",
     "text": [
      "set_normal_train\n"
     ]
    },
    {
     "name": "stderr",
     "output_type": "stream",
     "text": [
      "LOCAL_RANK: 0 - CUDA_VISIBLE_DEVICES: [0,1]\n"
     ]
    },
    {
     "name": "stdout",
     "output_type": "stream",
     "text": [
      "Testing DataLoader 0: 100%|██████████████████████████████| 16/16 [00:00<00:00, 102.36it/s]\n"
     ]
    },
    {
     "name": "stderr",
     "output_type": "stream",
     "text": [
      "LOCAL_RANK: 0 - CUDA_VISIBLE_DEVICES: [0,1]\n"
     ]
    },
    {
     "name": "stdout",
     "output_type": "stream",
     "text": [
      "Predicting DataLoader 0: 100%|███████████████████████████| 16/16 [00:00<00:00, 107.10it/s]\n",
      "11.1_AE/4cnn_128-8-5000-42 lightning_logs/11.1_AE/4cnn_128-8-5000-42/version_0/checkpoints/sample_epoch=2189-step=43800-val_loss=0.000000.ckpt\n"
     ]
    },
    {
     "name": "stderr",
     "output_type": "stream",
     "text": [
      "Trainer will use only 1 of 2 GPUs because it is running inside an interactive / notebook environment. You may try to set `Trainer(devices=2)` but please note that multi-GPU inside interactive / notebook environments is considered experimental and unstable. Your mileage may vary.\n",
      "GPU available: True (cuda), used: True\n",
      "TPU available: False, using: 0 TPU cores\n",
      "IPU available: False, using: 0 IPUs\n",
      "HPU available: False, using: 0 HPUs\n"
     ]
    },
    {
     "name": "stdout",
     "output_type": "stream",
     "text": [
      "set_normal_train\n"
     ]
    },
    {
     "name": "stderr",
     "output_type": "stream",
     "text": [
      "LOCAL_RANK: 0 - CUDA_VISIBLE_DEVICES: [0,1]\n"
     ]
    },
    {
     "name": "stdout",
     "output_type": "stream",
     "text": [
      "Testing DataLoader 0: 100%|██████████████████████████████| 16/16 [00:00<00:00, 102.51it/s]\n"
     ]
    },
    {
     "name": "stderr",
     "output_type": "stream",
     "text": [
      "LOCAL_RANK: 0 - CUDA_VISIBLE_DEVICES: [0,1]\n"
     ]
    },
    {
     "name": "stdout",
     "output_type": "stream",
     "text": [
      "Predicting DataLoader 0: 100%|███████████████████████████| 16/16 [00:00<00:00, 103.98it/s]\n",
      "11.1_AE/4cnn_128-8-5000-64 lightning_logs/11.1_AE/4cnn_128-8-5000-64/version_0/checkpoints/sample_epoch=3899-step=78000-val_loss=0.000000.ckpt\n"
     ]
    },
    {
     "name": "stderr",
     "output_type": "stream",
     "text": [
      "Trainer will use only 1 of 2 GPUs because it is running inside an interactive / notebook environment. You may try to set `Trainer(devices=2)` but please note that multi-GPU inside interactive / notebook environments is considered experimental and unstable. Your mileage may vary.\n",
      "GPU available: True (cuda), used: True\n",
      "TPU available: False, using: 0 TPU cores\n",
      "IPU available: False, using: 0 IPUs\n",
      "HPU available: False, using: 0 HPUs\n"
     ]
    },
    {
     "name": "stdout",
     "output_type": "stream",
     "text": [
      "set_normal_train\n"
     ]
    },
    {
     "name": "stderr",
     "output_type": "stream",
     "text": [
      "LOCAL_RANK: 0 - CUDA_VISIBLE_DEVICES: [0,1]\n"
     ]
    },
    {
     "name": "stdout",
     "output_type": "stream",
     "text": [
      "Testing DataLoader 0: 100%|██████████████████████████████| 16/16 [00:00<00:00, 108.97it/s]\n"
     ]
    },
    {
     "name": "stderr",
     "output_type": "stream",
     "text": [
      "LOCAL_RANK: 0 - CUDA_VISIBLE_DEVICES: [0,1]\n"
     ]
    },
    {
     "name": "stdout",
     "output_type": "stream",
     "text": [
      "Predicting DataLoader 0: 100%|████████████████████████████| 16/16 [00:00<00:00, 87.87it/s]\n",
      "11.1_AE/4cnn_64-8-1000-42 lightning_logs/11.1_AE/4cnn_64-8-1000-42/version_0/checkpoints/sample_epoch=1979-step=7920-val_loss=0.000000.ckpt\n"
     ]
    },
    {
     "name": "stderr",
     "output_type": "stream",
     "text": [
      "Trainer will use only 1 of 2 GPUs because it is running inside an interactive / notebook environment. You may try to set `Trainer(devices=2)` but please note that multi-GPU inside interactive / notebook environments is considered experimental and unstable. Your mileage may vary.\n",
      "GPU available: True (cuda), used: True\n",
      "TPU available: False, using: 0 TPU cores\n",
      "IPU available: False, using: 0 IPUs\n",
      "HPU available: False, using: 0 HPUs\n"
     ]
    },
    {
     "name": "stdout",
     "output_type": "stream",
     "text": [
      "set_normal_train\n"
     ]
    },
    {
     "name": "stderr",
     "output_type": "stream",
     "text": [
      "LOCAL_RANK: 0 - CUDA_VISIBLE_DEVICES: [0,1]\n"
     ]
    },
    {
     "name": "stdout",
     "output_type": "stream",
     "text": [
      "Testing DataLoader 0: 100%|███████████████████████████████| 16/16 [00:00<00:00, 96.87it/s]\n"
     ]
    },
    {
     "name": "stderr",
     "output_type": "stream",
     "text": [
      "LOCAL_RANK: 0 - CUDA_VISIBLE_DEVICES: [0,1]\n"
     ]
    },
    {
     "name": "stdout",
     "output_type": "stream",
     "text": [
      "Predicting DataLoader 0: 100%|████████████████████████████| 16/16 [00:00<00:00, 96.64it/s]\n",
      "11.1_AE/4cnn_64-8-1000-64 lightning_logs/11.1_AE/4cnn_64-8-1000-64/version_0/checkpoints/sample_epoch=2269-step=9080-val_loss=0.000000.ckpt\n"
     ]
    },
    {
     "name": "stderr",
     "output_type": "stream",
     "text": [
      "Trainer will use only 1 of 2 GPUs because it is running inside an interactive / notebook environment. You may try to set `Trainer(devices=2)` but please note that multi-GPU inside interactive / notebook environments is considered experimental and unstable. Your mileage may vary.\n",
      "GPU available: True (cuda), used: True\n",
      "TPU available: False, using: 0 TPU cores\n",
      "IPU available: False, using: 0 IPUs\n",
      "HPU available: False, using: 0 HPUs\n"
     ]
    },
    {
     "name": "stdout",
     "output_type": "stream",
     "text": [
      "set_normal_train\n"
     ]
    },
    {
     "name": "stderr",
     "output_type": "stream",
     "text": [
      "LOCAL_RANK: 0 - CUDA_VISIBLE_DEVICES: [0,1]\n"
     ]
    },
    {
     "name": "stdout",
     "output_type": "stream",
     "text": [
      "Testing DataLoader 0: 100%|██████████████████████████████| 16/16 [00:00<00:00, 103.40it/s]\n"
     ]
    },
    {
     "name": "stderr",
     "output_type": "stream",
     "text": [
      "LOCAL_RANK: 0 - CUDA_VISIBLE_DEVICES: [0,1]\n"
     ]
    },
    {
     "name": "stdout",
     "output_type": "stream",
     "text": [
      "Predicting DataLoader 0: 100%|███████████████████████████| 16/16 [00:00<00:00, 100.42it/s]\n",
      "11.1_AE/4cnn_64-8-5000-42 lightning_logs/11.1_AE/4cnn_64-8-5000-42/version_0/checkpoints/sample_epoch=1039-step=20800-val_loss=0.000000.ckpt\n"
     ]
    },
    {
     "name": "stderr",
     "output_type": "stream",
     "text": [
      "Trainer will use only 1 of 2 GPUs because it is running inside an interactive / notebook environment. You may try to set `Trainer(devices=2)` but please note that multi-GPU inside interactive / notebook environments is considered experimental and unstable. Your mileage may vary.\n",
      "GPU available: True (cuda), used: True\n",
      "TPU available: False, using: 0 TPU cores\n",
      "IPU available: False, using: 0 IPUs\n",
      "HPU available: False, using: 0 HPUs\n"
     ]
    },
    {
     "name": "stdout",
     "output_type": "stream",
     "text": [
      "set_normal_train\n"
     ]
    },
    {
     "name": "stderr",
     "output_type": "stream",
     "text": [
      "LOCAL_RANK: 0 - CUDA_VISIBLE_DEVICES: [0,1]\n"
     ]
    },
    {
     "name": "stdout",
     "output_type": "stream",
     "text": [
      "Testing DataLoader 0: 100%|██████████████████████████████| 16/16 [00:00<00:00, 111.32it/s]\n"
     ]
    },
    {
     "name": "stderr",
     "output_type": "stream",
     "text": [
      "LOCAL_RANK: 0 - CUDA_VISIBLE_DEVICES: [0,1]\n"
     ]
    },
    {
     "name": "stdout",
     "output_type": "stream",
     "text": [
      "Predicting DataLoader 0: 100%|███████████████████████████| 16/16 [00:00<00:00, 110.33it/s]\n",
      "11.1_AE/4cnn_64-8-5000-64 lightning_logs/11.1_AE/4cnn_64-8-5000-64/version_0/checkpoints/sample_epoch=1429-step=28600-val_loss=0.000000.ckpt\n"
     ]
    },
    {
     "name": "stderr",
     "output_type": "stream",
     "text": [
      "Trainer will use only 1 of 2 GPUs because it is running inside an interactive / notebook environment. You may try to set `Trainer(devices=2)` but please note that multi-GPU inside interactive / notebook environments is considered experimental and unstable. Your mileage may vary.\n",
      "GPU available: True (cuda), used: True\n",
      "TPU available: False, using: 0 TPU cores\n",
      "IPU available: False, using: 0 IPUs\n",
      "HPU available: False, using: 0 HPUs\n"
     ]
    },
    {
     "name": "stdout",
     "output_type": "stream",
     "text": [
      "set_normal_train\n"
     ]
    },
    {
     "name": "stderr",
     "output_type": "stream",
     "text": [
      "LOCAL_RANK: 0 - CUDA_VISIBLE_DEVICES: [0,1]\n"
     ]
    },
    {
     "name": "stdout",
     "output_type": "stream",
     "text": [
      "Testing DataLoader 0: 100%|███████████████████████████████| 16/16 [00:00<00:00, 87.64it/s]\n"
     ]
    },
    {
     "name": "stderr",
     "output_type": "stream",
     "text": [
      "LOCAL_RANK: 0 - CUDA_VISIBLE_DEVICES: [0,1]\n"
     ]
    },
    {
     "name": "stdout",
     "output_type": "stream",
     "text": [
      "Predicting DataLoader 0: 100%|████████████████████████████| 16/16 [00:00<00:00, 95.75it/s]\n",
      "11.1_AE/rich_128-8-1000-42 lightning_logs/11.1_AE/rich_128-8-1000-42/version_0/checkpoints/sample_epoch=2379-step=9520-val_loss=0.000000.ckpt\n"
     ]
    },
    {
     "name": "stderr",
     "output_type": "stream",
     "text": [
      "Trainer will use only 1 of 2 GPUs because it is running inside an interactive / notebook environment. You may try to set `Trainer(devices=2)` but please note that multi-GPU inside interactive / notebook environments is considered experimental and unstable. Your mileage may vary.\n",
      "GPU available: True (cuda), used: True\n",
      "TPU available: False, using: 0 TPU cores\n",
      "IPU available: False, using: 0 IPUs\n",
      "HPU available: False, using: 0 HPUs\n"
     ]
    },
    {
     "name": "stdout",
     "output_type": "stream",
     "text": [
      "set_normal_train\n"
     ]
    },
    {
     "name": "stderr",
     "output_type": "stream",
     "text": [
      "LOCAL_RANK: 0 - CUDA_VISIBLE_DEVICES: [0,1]\n"
     ]
    },
    {
     "name": "stdout",
     "output_type": "stream",
     "text": [
      "Testing DataLoader 0: 100%|██████████████████████████████| 16/16 [00:00<00:00, 108.01it/s]\n"
     ]
    },
    {
     "name": "stderr",
     "output_type": "stream",
     "text": [
      "LOCAL_RANK: 0 - CUDA_VISIBLE_DEVICES: [0,1]\n"
     ]
    },
    {
     "name": "stdout",
     "output_type": "stream",
     "text": [
      "Predicting DataLoader 0: 100%|████████████████████████████| 16/16 [00:00<00:00, 94.04it/s]\n",
      "11.1_AE/rich_128-8-1000-64 lightning_logs/11.1_AE/rich_128-8-1000-64/version_0/checkpoints/sample_epoch=3639-step=14560-val_loss=0.000000.ckpt\n"
     ]
    },
    {
     "name": "stderr",
     "output_type": "stream",
     "text": [
      "Trainer will use only 1 of 2 GPUs because it is running inside an interactive / notebook environment. You may try to set `Trainer(devices=2)` but please note that multi-GPU inside interactive / notebook environments is considered experimental and unstable. Your mileage may vary.\n",
      "GPU available: True (cuda), used: True\n",
      "TPU available: False, using: 0 TPU cores\n",
      "IPU available: False, using: 0 IPUs\n",
      "HPU available: False, using: 0 HPUs\n"
     ]
    },
    {
     "name": "stdout",
     "output_type": "stream",
     "text": [
      "set_normal_train\n"
     ]
    },
    {
     "name": "stderr",
     "output_type": "stream",
     "text": [
      "LOCAL_RANK: 0 - CUDA_VISIBLE_DEVICES: [0,1]\n"
     ]
    },
    {
     "name": "stdout",
     "output_type": "stream",
     "text": [
      "Testing DataLoader 0: 100%|██████████████████████████████| 16/16 [00:00<00:00, 112.81it/s]\n"
     ]
    },
    {
     "name": "stderr",
     "output_type": "stream",
     "text": [
      "LOCAL_RANK: 0 - CUDA_VISIBLE_DEVICES: [0,1]\n"
     ]
    },
    {
     "name": "stdout",
     "output_type": "stream",
     "text": [
      "Predicting DataLoader 0: 100%|███████████████████████████| 16/16 [00:00<00:00, 108.95it/s]\n",
      "11.1_AE/rich_128-8-5000-42 lightning_logs/11.1_AE/rich_128-8-5000-42/version_0/checkpoints/sample_epoch=3419-step=68400-val_loss=0.000000.ckpt\n"
     ]
    },
    {
     "name": "stderr",
     "output_type": "stream",
     "text": [
      "Trainer will use only 1 of 2 GPUs because it is running inside an interactive / notebook environment. You may try to set `Trainer(devices=2)` but please note that multi-GPU inside interactive / notebook environments is considered experimental and unstable. Your mileage may vary.\n",
      "GPU available: True (cuda), used: True\n",
      "TPU available: False, using: 0 TPU cores\n",
      "IPU available: False, using: 0 IPUs\n",
      "HPU available: False, using: 0 HPUs\n"
     ]
    },
    {
     "name": "stdout",
     "output_type": "stream",
     "text": [
      "set_normal_train\n"
     ]
    },
    {
     "name": "stderr",
     "output_type": "stream",
     "text": [
      "LOCAL_RANK: 0 - CUDA_VISIBLE_DEVICES: [0,1]\n"
     ]
    },
    {
     "name": "stdout",
     "output_type": "stream",
     "text": [
      "Testing DataLoader 0: 100%|██████████████████████████████| 16/16 [00:00<00:00, 123.11it/s]\n"
     ]
    },
    {
     "name": "stderr",
     "output_type": "stream",
     "text": [
      "LOCAL_RANK: 0 - CUDA_VISIBLE_DEVICES: [0,1]\n"
     ]
    },
    {
     "name": "stdout",
     "output_type": "stream",
     "text": [
      "Predicting DataLoader 0: 100%|███████████████████████████| 16/16 [00:00<00:00, 141.68it/s]\n",
      "11.1_AE/rich_128-8-5000-64 lightning_logs/11.1_AE/rich_128-8-5000-64/version_0/checkpoints/sample_epoch=2579-step=51600-val_loss=0.000000.ckpt\n"
     ]
    },
    {
     "name": "stderr",
     "output_type": "stream",
     "text": [
      "Trainer will use only 1 of 2 GPUs because it is running inside an interactive / notebook environment. You may try to set `Trainer(devices=2)` but please note that multi-GPU inside interactive / notebook environments is considered experimental and unstable. Your mileage may vary.\n",
      "GPU available: True (cuda), used: True\n",
      "TPU available: False, using: 0 TPU cores\n",
      "IPU available: False, using: 0 IPUs\n",
      "HPU available: False, using: 0 HPUs\n"
     ]
    },
    {
     "name": "stdout",
     "output_type": "stream",
     "text": [
      "set_normal_train\n"
     ]
    },
    {
     "name": "stderr",
     "output_type": "stream",
     "text": [
      "LOCAL_RANK: 0 - CUDA_VISIBLE_DEVICES: [0,1]\n"
     ]
    },
    {
     "name": "stdout",
     "output_type": "stream",
     "text": [
      "Testing DataLoader 0: 100%|██████████████████████████████| 16/16 [00:00<00:00, 101.43it/s]\n"
     ]
    },
    {
     "name": "stderr",
     "output_type": "stream",
     "text": [
      "LOCAL_RANK: 0 - CUDA_VISIBLE_DEVICES: [0,1]\n"
     ]
    },
    {
     "name": "stdout",
     "output_type": "stream",
     "text": [
      "Predicting DataLoader 0: 100%|███████████████████████████| 16/16 [00:00<00:00, 107.65it/s]\n",
      "11.1_AE/rich_64-8-1000-42 lightning_logs/11.1_AE/rich_64-8-1000-42/version_0/checkpoints/sample_epoch=3039-step=12160-val_loss=0.000000.ckpt\n"
     ]
    },
    {
     "name": "stderr",
     "output_type": "stream",
     "text": [
      "Trainer will use only 1 of 2 GPUs because it is running inside an interactive / notebook environment. You may try to set `Trainer(devices=2)` but please note that multi-GPU inside interactive / notebook environments is considered experimental and unstable. Your mileage may vary.\n",
      "GPU available: True (cuda), used: True\n",
      "TPU available: False, using: 0 TPU cores\n",
      "IPU available: False, using: 0 IPUs\n",
      "HPU available: False, using: 0 HPUs\n"
     ]
    },
    {
     "name": "stdout",
     "output_type": "stream",
     "text": [
      "set_normal_train\n"
     ]
    },
    {
     "name": "stderr",
     "output_type": "stream",
     "text": [
      "LOCAL_RANK: 0 - CUDA_VISIBLE_DEVICES: [0,1]\n"
     ]
    },
    {
     "name": "stdout",
     "output_type": "stream",
     "text": [
      "Testing DataLoader 0: 100%|███████████████████████████████| 16/16 [00:00<00:00, 96.14it/s]\n"
     ]
    },
    {
     "name": "stderr",
     "output_type": "stream",
     "text": [
      "LOCAL_RANK: 0 - CUDA_VISIBLE_DEVICES: [0,1]\n"
     ]
    },
    {
     "name": "stdout",
     "output_type": "stream",
     "text": [
      "Predicting DataLoader 0: 100%|███████████████████████████| 16/16 [00:00<00:00, 104.73it/s]\n",
      "11.1_AE/rich_64-8-1000-64 lightning_logs/11.1_AE/rich_64-8-1000-64/version_0/checkpoints/sample_epoch=1889-step=7560-val_loss=0.000000.ckpt\n"
     ]
    },
    {
     "name": "stderr",
     "output_type": "stream",
     "text": [
      "Trainer will use only 1 of 2 GPUs because it is running inside an interactive / notebook environment. You may try to set `Trainer(devices=2)` but please note that multi-GPU inside interactive / notebook environments is considered experimental and unstable. Your mileage may vary.\n",
      "GPU available: True (cuda), used: True\n",
      "TPU available: False, using: 0 TPU cores\n",
      "IPU available: False, using: 0 IPUs\n",
      "HPU available: False, using: 0 HPUs\n"
     ]
    },
    {
     "name": "stdout",
     "output_type": "stream",
     "text": [
      "set_normal_train\n"
     ]
    },
    {
     "name": "stderr",
     "output_type": "stream",
     "text": [
      "LOCAL_RANK: 0 - CUDA_VISIBLE_DEVICES: [0,1]\n"
     ]
    },
    {
     "name": "stdout",
     "output_type": "stream",
     "text": [
      "Testing DataLoader 0: 100%|██████████████████████████████| 16/16 [00:00<00:00, 113.69it/s]\n"
     ]
    },
    {
     "name": "stderr",
     "output_type": "stream",
     "text": [
      "LOCAL_RANK: 0 - CUDA_VISIBLE_DEVICES: [0,1]\n"
     ]
    },
    {
     "name": "stdout",
     "output_type": "stream",
     "text": [
      "Predicting DataLoader 0: 100%|███████████████████████████| 16/16 [00:00<00:00, 116.51it/s]\n",
      "11.1_AE/rich_64-8-5000-42 lightning_logs/11.1_AE/rich_64-8-5000-42/version_0/checkpoints/sample_epoch=1619-step=32400-val_loss=0.000000.ckpt\n"
     ]
    },
    {
     "name": "stderr",
     "output_type": "stream",
     "text": [
      "Trainer will use only 1 of 2 GPUs because it is running inside an interactive / notebook environment. You may try to set `Trainer(devices=2)` but please note that multi-GPU inside interactive / notebook environments is considered experimental and unstable. Your mileage may vary.\n",
      "GPU available: True (cuda), used: True\n",
      "TPU available: False, using: 0 TPU cores\n",
      "IPU available: False, using: 0 IPUs\n",
      "HPU available: False, using: 0 HPUs\n"
     ]
    },
    {
     "name": "stdout",
     "output_type": "stream",
     "text": [
      "set_normal_train\n"
     ]
    },
    {
     "name": "stderr",
     "output_type": "stream",
     "text": [
      "LOCAL_RANK: 0 - CUDA_VISIBLE_DEVICES: [0,1]\n"
     ]
    },
    {
     "name": "stdout",
     "output_type": "stream",
     "text": [
      "Testing DataLoader 0: 100%|██████████████████████████████| 16/16 [00:00<00:00, 121.20it/s]\n"
     ]
    },
    {
     "name": "stderr",
     "output_type": "stream",
     "text": [
      "LOCAL_RANK: 0 - CUDA_VISIBLE_DEVICES: [0,1]\n"
     ]
    },
    {
     "name": "stdout",
     "output_type": "stream",
     "text": [
      "Predicting DataLoader 0: 100%|███████████████████████████| 16/16 [00:00<00:00, 119.34it/s]\n",
      "11.1_AE/rich_64-8-5000-64 lightning_logs/11.1_AE/rich_64-8-5000-64/version_0/checkpoints/sample_epoch=2149-step=43000-val_loss=0.000000.ckpt\n"
     ]
    },
    {
     "name": "stderr",
     "output_type": "stream",
     "text": [
      "Trainer will use only 1 of 2 GPUs because it is running inside an interactive / notebook environment. You may try to set `Trainer(devices=2)` but please note that multi-GPU inside interactive / notebook environments is considered experimental and unstable. Your mileage may vary.\n",
      "GPU available: True (cuda), used: True\n",
      "TPU available: False, using: 0 TPU cores\n",
      "IPU available: False, using: 0 IPUs\n",
      "HPU available: False, using: 0 HPUs\n"
     ]
    },
    {
     "name": "stdout",
     "output_type": "stream",
     "text": [
      "set_normal_train\n"
     ]
    },
    {
     "name": "stderr",
     "output_type": "stream",
     "text": [
      "LOCAL_RANK: 0 - CUDA_VISIBLE_DEVICES: [0,1]\n"
     ]
    },
    {
     "name": "stdout",
     "output_type": "stream",
     "text": [
      "Testing DataLoader 0: 100%|██████████████████████████████| 16/16 [00:00<00:00, 106.89it/s]\n"
     ]
    },
    {
     "name": "stderr",
     "output_type": "stream",
     "text": [
      "LOCAL_RANK: 0 - CUDA_VISIBLE_DEVICES: [0,1]\n"
     ]
    },
    {
     "name": "stdout",
     "output_type": "stream",
     "text": [
      "Predicting DataLoader 0: 100%|███████████████████████████| 16/16 [00:00<00:00, 129.55it/s]\n"
     ]
    }
   ],
   "source": [
    "\n",
    "if args.eval_mode:\n",
    "    log_save_dir = \"lightning_logs\"\n",
    "    log_save_name = \"11.1_AE/{}-{}-{}-{}\"\n",
    "    \n",
    "    output_save_dict = {}\n",
    "\n",
    "    for args.model_name in \"4cnnmp_128 4cnnmp_64 4cnn_128 4cnn_64 rich_128 rich_64\".split(\" \"):\n",
    "        args.class_num = 8\n",
    "        for args.train_limit_data in \"1000 5000\".split(\" \"):\n",
    "            for args.random_seed in \"42 64\".split():\n",
    "                \n",
    "                save_model_folder = log_save_name.format(args.model_name, args.class_num, args.train_limit_data, args.random_seed)\n",
    "                save_model_dir = os.path.join(log_save_dir, save_model_folder)\n",
    "                \n",
    "                weight = glob.glob(os.path.join(save_model_dir, \"version_0\", \"checkpoints\", \"*.ckpt\"))[0]\n",
    "                print(save_model_folder, weight)\n",
    "\n",
    "                net = AE1DMaxPoolBNModel.load_from_checkpoint(weight)\n",
    "                data_module = ALDataModule_v1.load_from_checkpoint(weight)\n",
    "                data_module.set_normal_train()\n",
    "\n",
    "                trainer = L.Trainer()\n",
    "                trainer.test(model=net, datamodule=data_module, verbose=False)\n",
    "                \n",
    "                output = trainer.predict(model=net, datamodule=data_module)\n",
    "                \n",
    "                pred = torch.concat(output, dim=0)\n",
    "                gt = list(map(lambda x: x[0], iter(data_module.predict_dataloader())))\n",
    "                gt_concat = torch.cat(gt, axis=0)\n",
    "\n",
    "                all_freq_loss = []\n",
    "                \n",
    "                for freq_idx in range(257):\n",
    "                    one_freq_pred = pred[:,:,freq_idx]\n",
    "                    one_freq_gt = gt_concat[:,:,freq_idx]\n",
    "                \n",
    "                    one_freq_loss = F.mse_loss(one_freq_pred, one_freq_gt)\n",
    "                    all_freq_loss.append(one_freq_loss)\n",
    "\n",
    "                output_save_dict[save_model_folder] = all_freq_loss\n"
   ]
  },
  {
   "cell_type": "code",
   "execution_count": 49,
   "metadata": {},
   "outputs": [],
   "source": [
    "def plot_freq(freq_loss_list, axs, color=None, label=None, title=None):\n",
    "    axs.bar(range(257), freq_loss_list, width=1, align=\"edge\", alpha=0.7, color=color, label=label)\n",
    "    axs.set_xlabel(\"Frequence\")\n",
    "    axs.set_ylabel(\"MSE\")\n",
    "    if not title:\n",
    "        axs.set_title(\"MSE Loss for each frequence\")\n",
    "    else:\n",
    "        axs.set_title(f\"{title} MSE Loss for each frequence\")"
   ]
  },
  {
   "cell_type": "code",
   "execution_count": 59,
   "metadata": {},
   "outputs": [
    {
     "data": {
      "image/png": "[encoded data removed]",
      "text/plain": [
       "<Figure size 1000x1200 with 6 Axes>"
      ]
     },
     "metadata": {},
     "output_type": "display_data"
    }
   ],
   "source": [
    "if args.eval_mode:\n",
    "    model_name_list = \"4cnnmp_128 4cnnmp_64 4cnn_128 4cnn_64 rich_128 rich_64\".split(\" \")\n",
    "    args.class_num = 8\n",
    "    args.train_limit_data = \"5000\"\n",
    "    random_list = \"42 64\".split(\" \")\n",
    "    log_save_name = \"11.1_AE/{}-{}-{}-{}\"\n",
    "    color_list = [\"red\", \"yellow\"]\n",
    "    \n",
    "    fig, axs = plt.subplots(len(model_name_list), figsize=(10, 12))\n",
    "    for i, args.model_name in enumerate(model_name_list):\n",
    "        for args.random_seed, color in zip(random_list, color_list):\n",
    "            save_model_folder = log_save_name.format(args.model_name, args.class_num, args.train_limit_data, args.random_seed)\n",
    "            freq_loss_list = output_save_dict[save_model_folder]\n",
    "\n",
    "            plot_freq(freq_loss_list, axs[i], color=color, label=f\"{args.random_seed}\", title=args.model_name)\n",
    "            axs[i].set_ylim([0, 0.004])\n",
    "\n",
    "    axs[0].legend(title=\"Seed\", loc=\"upper left\", bbox_to_anchor=(1.02, 1.0,), borderaxespad=0)\n",
    "\n",
    "    plt.tight_layout()\n"
   ]
  },
  {
   "cell_type": "code",
   "execution_count": 68,
   "metadata": {},
   "outputs": [
    {
     "name": "stdout",
     "output_type": "stream",
     "text": [
      "AE: rich_64\n",
      "AE1DMaxPoolBNModel(\n",
      "  (enc_cnn): Sequential(\n",
      "    (0): Conv1d(6, 32, kernel_size=(8,), stride=(3,))\n",
      "    (1): BatchNorm1d(32, eps=1e-05, momentum=0.1, affine=True, track_running_stats=True)\n",
      "    (2): ReLU()\n",
      "    (3): Conv1d(32, 64, kernel_size=(8,), stride=(3,))\n",
      "    (4): BatchNorm1d(64, eps=1e-05, momentum=0.1, affine=True, track_running_stats=True)\n",
      "    (5): ReLU()\n",
      "  )\n",
      "  (enc_linear): Sequential(\n",
      "    (0): Linear(in_features=1664, out_features=256, bias=True)\n",
      "    (1): BatchNorm1d(256, eps=1e-05, momentum=0.1, affine=True, track_running_stats=True)\n",
      "    (2): ReLU()\n",
      "    (3): Linear(in_features=256, out_features=64, bias=True)\n",
      "    (4): BatchNorm1d(64, eps=1e-05, momentum=0.1, affine=True, track_running_stats=True)\n",
      "    (5): ReLU()\n",
      "  )\n",
      "  (dec_linear): Sequential(\n",
      "    (0): Linear(in_features=64, out_features=256, bias=True)\n",
      "    (1): BatchNorm1d(256, eps=1e-05, momentum=0.1, affine=True, track_running_stats=True)\n",
      "    (2): ReLU()\n",
      "    (3): Sequential(\n",
      "      (0): Linear(in_features=256, out_features=1664, bias=True)\n",
      "      (1): BatchNorm1d(1664, eps=1e-05, momentum=0.1, affine=True, track_running_stats=True)\n",
      "      (2): ReLU()\n",
      "    )\n",
      "  )\n",
      "  (dec_cnn): Sequential(\n",
      "    (0): ConvTranspose1d(64, 32, kernel_size=(8,), stride=(3,), output_padding=(1,))\n",
      "    (1): BatchNorm1d(32, eps=1e-05, momentum=0.1, affine=True, track_running_stats=True)\n",
      "    (2): ReLU()\n",
      "    (3): ConvTranspose1d(32, 6, kernel_size=(8,), stride=(3,))\n",
      "    (4): BatchNorm1d(6, eps=1e-05, momentum=0.1, affine=True, track_running_stats=True)\n",
      "    (5): ReLU()\n",
      "  )\n",
      ")\n"
     ]
    }
   ],
   "source": [
    "if args.eval_mode:\n",
    "    AE_name = \"rich_64\"\n",
    "    net = AE1DMaxPoolBNModel(\n",
    "        **channel_param_dict[AE_name],\n",
    "    )\n",
    "    print(f\"AE: {AE_name}\")\n",
    "    print(net)"
   ]
  },
  {
   "cell_type": "code",
   "execution_count": null,
   "metadata": {},
   "outputs": [],
   "source": []
  }
 ],
 "metadata": {
  "interpreter": {
   "hash": "ce20693ee18325632b860fb71df90bb6db110e9db4cb480753762aeffe35e52c"
  },
  "kernelspec": {
   "display_name": "Python 3 (ipykernel)",
   "language": "python",
   "name": "python3"
  },
  "language_info": {
   "codemirror_mode": {
    "name": "ipython",
    "version": 3
   },
   "file_extension": ".py",
   "mimetype": "text/x-python",
   "name": "python",
   "nbconvert_exporter": "python",
   "pygments_lexer": "ipython3",
   "version": "3.8.18"
  }
 },
 "nbformat": 4,
 "nbformat_minor": 4
}
