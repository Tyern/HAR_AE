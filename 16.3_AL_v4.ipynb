{
 "cells": [
  {
   "cell_type": "code",
   "execution_count": 42,
   "metadata": {
    "scrolled": true
   },
   "outputs": [],
   "source": [
    "import os\n",
    "import json\n",
    "import sys\n",
    "import glob\n",
    "\n",
    "import numpy as np\n",
    "import pandas as pd\n",
    "\n",
    "import torch\n",
    "import torchvision\n",
    "\n",
    "import matplotlib.pyplot as plt\n",
    "import lightning as L\n",
    "from lightning.pytorch.utilities.model_summary import ModelSummary\n",
    "\n",
    "import torch.nn as nn\n",
    "import torch.nn.functional as F\n",
    "import torch.optim as optim\n",
    "from sklearn.metrics import confusion_matrix, accuracy_score, f1_score\n",
    "\n",
    "from data_module.data_module import ALDataModule_v1, FFTDataModule\n",
    "from utils.data_utils import limit_filter_data_by_class\n",
    "from utils.model_utils import reset_weight_model, unwrap_model\n",
    "from utils.TSNE import get_tsne, scatter_tsne\n",
    "\n",
    "from model.classifier_model import Classifier1DMaxPoolBNModel, Classifier1D\n",
    "\n",
    "from config.optimizer_param_config import optimizer_param_dict\n",
    "from config.channel_param_config import channel_param_dict\n"
   ]
  },
  {
   "cell_type": "code",
   "execution_count": 43,
   "metadata": {},
   "outputs": [],
   "source": [
    "import argparse\n",
    "\n",
    "parser = argparse.ArgumentParser(description=\"\", formatter_class=argparse.ArgumentDefaultsHelpFormatter)\n",
    "\n",
    "parser.add_argument('-ck', \"--checkpoint_path\", type=str, default=\"/nfs/ksdata/tran/HAR_AE/lightning_logs/10.3_classify/4cnn_64-8-100-1/version_0/checkpoints/sample_epoch=89-step=90-val_loss=1.038441.ckpt\", \n",
    "                    help=f\"AL learning model checkpoint. If you do not have any ckpt of model. You should consider running classifier notebook to create one\")\n",
    "\n",
    "parser.add_argument('-m', \"--method\", type=str, default=\"sampling\",\n",
    "                    help=f\":: select run method from [random, sampling, full]\")\n",
    "\n",
    "parser.add_argument(\"-sh\", \"--sampling_heuristic\", type=str, default=\"uncertainty\",\n",
    "                    help=f\"\"\"heuristic function in case the method is sampling:: [uncertainty, entropy, margin],\n",
    "                    ref: https://github.com/baal-org/baal/blob/master/baal/active/heuristics/heuristics.py#L512\"\"\")\n",
    "\n",
    "parser.add_argument(\"-ss\", \"--sampling_size\", type=int, default=100,\n",
    "                    help=f\"sampler size to take from additional dataset. normally < 5000, Not effective for method `full`\")\n",
    "\n",
    "parser.add_argument(\"-tl\", \"--train_limit_data\", type=int, default=500,\n",
    "                    help=f\"Used for limit the number of data in train data, -1 mean no limit\")\n",
    "\n",
    "parser.add_argument(\"--filter_unselected_data_num\", type=int, default=5000,\n",
    "                    help=f\"Used for get the size of additional dataset\")\n",
    "\n",
    "parser.add_argument(\"--reset_weight\", type=int, default=1,\n",
    "                    help=f\"Reset weight before training. If not reset, we will continue learning from the checkpoint\")\n",
    "\n",
    "parser.add_argument(\"-r\", \"--random_seed\", type=int, default=42,\n",
    "                    help=f\"Random Seed\")\n",
    "\n",
    "parser.add_argument(\"--eval_mode\", type=int, default=0,\n",
    "                    help=f\"Eval all models\")\n",
    "\n",
    "if os.path.basename(sys.argv[0]) == 'ipykernel_launcher.py':\n",
    "    args = parser.parse_args(args=[])\n",
    "else:\n",
    "    args = parser.parse_args()"
   ]
  },
  {
   "cell_type": "code",
   "execution_count": 44,
   "metadata": {},
   "outputs": [
    {
     "name": "stderr",
     "output_type": "stream",
     "text": [
      "Seed set to 42\n"
     ]
    },
    {
     "data": {
      "text/plain": [
       "42"
      ]
     },
     "execution_count": 44,
     "metadata": {},
     "output_type": "execute_result"
    }
   ],
   "source": [
    "L.seed_everything(42)"
   ]
  },
  {
   "cell_type": "code",
   "execution_count": 45,
   "metadata": {},
   "outputs": [],
   "source": [
    "n_epochs = 2000000\n",
    "patience = n_epochs//5000\n",
    "\n",
    "optimizer, optimizer_param = optimizer_param_dict[\"Adam\"]\n",
    "\n",
    "log_save_dir = \"lightning_logs\"\n",
    "reset_str = \"_reset\" if args.reset_weight else \"\"\n",
    "    \n",
    "log_save_name = f\"16.3_AL_v4_500lim/{args.method}_{args.sampling_heuristic}_{args.sampling_size}_{args.random_seed}_{reset_str}\""
   ]
  },
  {
   "cell_type": "code",
   "execution_count": 46,
   "metadata": {},
   "outputs": [
    {
     "name": "stdout",
     "output_type": "stream",
     "text": [
      "   | Name     | Type        | Params | In sizes     | Out sizes   \n",
      "------------------------------------------------------------------------\n",
      "0  | cnn      | Sequential  | 316 K  | [10, 6, 257] | [10, 256, 1]\n",
      "1  | cnn.0    | Conv1d      | 1.6 K  | [10, 6, 257] | [10, 32, 84]\n",
      "2  | cnn.1    | BatchNorm1d | 64     | [10, 32, 84] | [10, 32, 84]\n",
      "3  | cnn.2    | ReLU        | 0      | [10, 32, 84] | [10, 32, 84]\n",
      "4  | cnn.3    | Conv1d      | 18.5 K | [10, 32, 84] | [10, 64, 26]\n",
      "5  | cnn.4    | BatchNorm1d | 128    | [10, 64, 26] | [10, 64, 26]\n",
      "6  | cnn.5    | ReLU        | 0      | [10, 64, 26] | [10, 64, 26]\n",
      "7  | cnn.6    | Conv1d      | 65.7 K | [10, 64, 26] | [10, 128, 7]\n",
      "8  | cnn.7    | BatchNorm1d | 256    | [10, 128, 7] | [10, 128, 7]\n",
      "9  | cnn.8    | ReLU        | 0      | [10, 128, 7] | [10, 128, 7]\n",
      "10 | cnn.9    | Conv1d      | 229 K  | [10, 128, 7] | [10, 256, 1]\n",
      "11 | cnn.10   | BatchNorm1d | 512    | [10, 256, 1] | [10, 256, 1]\n",
      "12 | cnn.11   | ReLU        | 0      | [10, 256, 1] | [10, 256, 1]\n",
      "13 | linear   | Sequential  | 17.1 K | [10, 256]    | [10, 8]     \n",
      "14 | linear.0 | Linear      | 16.4 K | [10, 256]    | [10, 64]    \n",
      "15 | linear.1 | BatchNorm1d | 128    | [10, 64]     | [10, 64]    \n",
      "16 | linear.2 | ReLU        | 0      | [10, 64]     | [10, 64]    \n",
      "17 | linear.3 | Linear      | 520    | [10, 64]     | [10, 8]     \n",
      "------------------------------------------------------------------------\n",
      "333 K     Trainable params\n",
      "0         Non-trainable params\n",
      "333 K     Total params\n",
      "1.334     Total estimated model params size (MB)\n"
     ]
    }
   ],
   "source": [
    "net = Classifier1DMaxPoolBNModel.load_from_checkpoint(args.checkpoint_path)\n",
    "\n",
    "model_summary = ModelSummary(net, max_depth=6)\n",
    "print(model_summary)"
   ]
  },
  {
   "cell_type": "code",
   "execution_count": 47,
   "metadata": {},
   "outputs": [],
   "source": [
    "def process_tl_and_additional_ds(data_module):\n",
    "    assert args.train_limit_data + args.filter_unselected_data_num < np.max(np.unique(data_module._train_label, return_counts=True)[1])\n",
    "    \n",
    "    data_module.limit_and_set_train_data(data_module._train_data, data_module._train_label, limit_number=args.train_limit_data)\n",
    "    print(\"data_module.choice_limited_list\", data_module.choice_limited_list[:10])\n",
    "    \n",
    "    unselected_train_idx = list(set(range(len(data_module._train_label))) - set(data_module.choice_limited_list))\n",
    "    unselected_train_data = data_module._train_data[unselected_train_idx]\n",
    "    unselected_train_label = data_module._train_label[unselected_train_idx]\n",
    "\n",
    "    filter_data, filter_label, choice_idx = limit_filter_data_by_class(unselected_train_data, unselected_train_label, args.filter_unselected_data_num)\n",
    "    return filter_data, filter_label, choice_idx\n",
    "    "
   ]
  },
  {
   "cell_type": "code",
   "execution_count": 52,
   "metadata": {
    "scrolled": true
   },
   "outputs": [
    {
     "name": "stderr",
     "output_type": "stream",
     "text": [
      "Trainer will use only 1 of 2 GPUs because it is running inside an interactive / notebook environment. You may try to set `Trainer(devices=2)` but please note that multi-GPU inside interactive / notebook environments is considered experimental and unstable. Your mileage may vary.\n",
      "GPU available: True (cuda), used: True\n",
      "TPU available: False, using: 0 TPU cores\n",
      "IPU available: False, using: 0 IPUs\n",
      "HPU available: False, using: 0 HPUs\n"
     ]
    },
    {
     "name": "stdout",
     "output_type": "stream",
     "text": [
      "limit_and_set_train_data limit_number= 500\n",
      "limit_filter_data_by_class limit_number= 500\n",
      "limit_filter_data_by_class:  (array([1., 2., 3., 4., 5., 6., 7., 8.]), array([500, 500, 500, 500, 500, 500, 500, 500]))\n",
      "data_module.choice_limited_list [56426  1336 17148 31823 45594 19119 29815 16311   589 46761]\n",
      "limit_filter_data_by_class limit_number= 5000\n",
      "limit_filter_data_by_class:  (array([1., 2., 3., 4., 5., 6., 7., 8.]), array([5000, 5000, 5000, 5000, 5000, 5000, 5000, 5000]))\n"
     ]
    },
    {
     "name": "stderr",
     "output_type": "stream",
     "text": [
      "LOCAL_RANK: 0 - CUDA_VISIBLE_DEVICES: [0,1]\n"
     ]
    },
    {
     "name": "stdout",
     "output_type": "stream",
     "text": [
      "Predicting DataLoader 0: 100%|██████████████████████████████████████████████████████████████████████████████████████████████████████████████████████████████████████████████████████████████████████████████████| 79/79 [00:00<00:00, 138.77it/s]\n",
      "set_train_val_test_pred_merge_data\n",
      "limit_filter_data_by_class limit_number= 500\n",
      "limit_filter_data_by_class:  (array([1., 2., 3., 4., 5., 6., 7., 8.]), array([500, 500, 500, 500, 500, 500, 500, 500]))\n",
      "set_unsertainty_set\n",
      "set_train_val_test_pred_merge_data\n",
      "limit_filter_data_by_class limit_number= 100\n",
      "limit_filter_data_by_class:  (array([1., 2., 3., 4., 5., 6., 7., 8.]), array([100, 100, 100, 100, 100, 100, 100, 100]))\n",
      "limit_filter_data_by_class limit_number= 100\n",
      "limit_filter_data_by_class:  (array([1., 2., 3., 4., 5., 6., 7., 8.]), array([100, 100, 100, 100, 100, 100, 100, 100]))\n",
      "data_module.sampling_rank [13081 13915 14955 11717 13197 14150 14666 15352 13000  9798]\n"
     ]
    }
   ],
   "source": [
    "assert args.method in [ \"sampling\",  \"random\" ]\n",
    "data_module = ALDataModule_v1.load_from_checkpoint(args.checkpoint_path, prefix=\"torso_\", postfix=\"_fft\", sampler_heuristic=args.sampling_heuristic, sampler_size=args.sampling_size)\n",
    "\n",
    "def generate_sampling_datamodule(data_module):\n",
    "        \n",
    "    if args.method == \"sampling\":\n",
    "        # Add to training dataset the uncertainty data for later training\n",
    "        trainer = L.Trainer()\n",
    "        # data_module = ALDataModule_v1(dataset_path=dataset_path, batch_size=512, prefix=\"torso_\", postfix=\"_fft\")\n",
    "        \n",
    "        _additional_data, _additional_label, _additional_choice_idx = process_tl_and_additional_ds(data_module)\n",
    "        data_module.set_train_val_test_pred_data(pred_data=_additional_data)\n",
    "        \n",
    "        output = trainer.predict(model=net, datamodule=data_module)\n",
    "        \n",
    "        data_module.limit_and_set_train_val_test_pred_data(\n",
    "            data_module._train_data,\n",
    "            data_module._train_label,\n",
    "            train_limit_number = args.train_limit_data,\n",
    "            seed=42)\n",
    "        \n",
    "        data_module.set_unsertainty_set(data=_additional_data, label=_additional_label, net_output=output)\n",
    "        \n",
    "        data_module.limit_and_set_train_val_test_pred_data(\n",
    "            val_data=data_module._val_data,\n",
    "            val_label=data_module._val_label,\n",
    "            test_data=data_module._test_data,\n",
    "            test_label=data_module._test_label,\n",
    "            val_limit_number=100,\n",
    "            test_limit_number=100,\n",
    "            seed=42)\n",
    "        \n",
    "        print(\"data_module.sampling_rank\", data_module.sampling_rank[:10])\n",
    "    \n",
    "    elif args.method == \"random\":\n",
    "        # data_module = ALDataModule_v1.load_from_checkpoint(args.checkpoint_path, prefix=\"torso_\", postfix=\"_fft\", sampler_size=args.sampling_size)\n",
    "        _additional_data, _additional_label, _additional_choice_idx = process_tl_and_additional_ds(data_module)\n",
    "        \n",
    "        data_module.limit_and_set_train_val_test_pred_data(\n",
    "            data_module._train_data,\n",
    "            data_module._train_label,\n",
    "            data_module._val_data,\n",
    "            data_module._val_label,\n",
    "            data_module._test_data,\n",
    "            data_module._test_label,\n",
    "            train_limit_number =args.train_limit_data,\n",
    "            val_limit_number=100,\n",
    "            test_limit_number=100,\n",
    "            seed=42)\n",
    "    \n",
    "        data_module.set_random_set(data=_additional_data, label=_additional_label)\n",
    "        print(\"data_module.sampling_rank\", data_module.random_rank[:10])\n",
    "\n",
    "    return data_module\n",
    "\n",
    "data_module = generate_sampling_datamodule(data_module)\n"
   ]
  },
  {
   "cell_type": "code",
   "execution_count": 53,
   "metadata": {},
   "outputs": [
    {
     "name": "stderr",
     "output_type": "stream",
     "text": [
      "Seed set to 42\n"
     ]
    },
    {
     "name": "stdout",
     "output_type": "stream",
     "text": [
      "reset <class 'torch.nn.modules.conv.Conv1d'>\n",
      "reset <class 'torch.nn.modules.batchnorm.BatchNorm1d'>\n",
      "reset <class 'torch.nn.modules.conv.Conv1d'>\n",
      "reset <class 'torch.nn.modules.batchnorm.BatchNorm1d'>\n",
      "reset <class 'torch.nn.modules.conv.Conv1d'>\n",
      "reset <class 'torch.nn.modules.batchnorm.BatchNorm1d'>\n",
      "reset <class 'torch.nn.modules.conv.Conv1d'>\n",
      "reset <class 'torch.nn.modules.batchnorm.BatchNorm1d'>\n",
      "reset <class 'torch.nn.modules.linear.Linear'>\n",
      "reset <class 'torch.nn.modules.batchnorm.BatchNorm1d'>\n",
      "reset <class 'torch.nn.modules.linear.Linear'>\n"
     ]
    }
   ],
   "source": [
    "## Reset net weight before training\n",
    "L.seed_everything(args.random_seed)\n",
    "if args.reset_weight:\n",
    "    reset_weight_model(net, verbose=1)"
   ]
  },
  {
   "cell_type": "code",
   "execution_count": 54,
   "metadata": {},
   "outputs": [
    {
     "name": "stderr",
     "output_type": "stream",
     "text": [
      "Trainer will use only 1 of 2 GPUs because it is running inside an interactive / notebook environment. You may try to set `Trainer(devices=2)` but please note that multi-GPU inside interactive / notebook environments is considered experimental and unstable. Your mileage may vary.\n",
      "GPU available: True (cuda), used: True\n",
      "TPU available: False, using: 0 TPU cores\n",
      "IPU available: False, using: 0 IPUs\n",
      "HPU available: False, using: 0 HPUs\n",
      "LOCAL_RANK: 0 - CUDA_VISIBLE_DEVICES: [0,1]\n",
      "\n",
      "  | Name   | Type       | Params | In sizes     | Out sizes   \n",
      "--------------------------------------------------------------------\n",
      "0 | cnn    | Sequential | 316 K  | [10, 6, 257] | [10, 256, 1]\n",
      "1 | linear | Sequential | 17.1 K | [10, 256]    | [10, 8]     \n",
      "--------------------------------------------------------------------\n",
      "333 K     Trainable params\n",
      "0         Non-trainable params\n",
      "333 K     Total params\n",
      "1.334     Total estimated model params size (MB)\n"
     ]
    },
    {
     "name": "stdout",
     "output_type": "stream",
     "text": [
      " ----------------------start training---------------------------\n",
      "                                                                                                                                                                                                                                                 "
     ]
    },
    {
     "name": "stderr",
     "output_type": "stream",
     "text": [
      "/nfs/ksdata/tran/miniconda3/envs/python_3.8/lib/python3.8/site-packages/lightning/pytorch/trainer/connectors/data_connector.py:441: The 'train_dataloader' does not have many workers which may be a bottleneck. Consider increasing the value of the `num_workers` argument` to `num_workers=55` in the `DataLoader` to improve performance.\n",
      "/nfs/ksdata/tran/miniconda3/envs/python_3.8/lib/python3.8/site-packages/lightning/pytorch/loops/fit_loop.py:293: The number of training batches (9) is smaller than the logging interval Trainer(log_every_n_steps=50). Set a lower value for log_every_n_steps if you want to see logs for the training epoch.\n"
     ]
    },
    {
     "name": "stdout",
     "output_type": "stream",
     "text": [
      "Epoch 9: 100%|████████████████████████████████████████████████████████████████████████████████████████████████████████████████████████████████████████████████████████████████████████| 9/9 [00:00<00:00, 56.69it/s, v_num=4_5, train_loss=0.948]\n",
      "Validation: |                                                                                                                                                                                                              | 0/? [00:00<?, ?it/s]\u001b[A\n",
      "Validation:   0%|                                                                                                                                                                                                          | 0/2 [00:00<?, ?it/s]\u001b[A\n",
      "Validation DataLoader 0:   0%|                                                                                                                                                                                             | 0/2 [00:00<?, ?it/s]\u001b[A\n",
      "Validation DataLoader 0:  50%|██████████████████████████████████████████████████████████████████████████████████████████                                                                                          | 1/2 [00:00<00:00, 110.48it/s]\u001b[A\n",
      "Validation DataLoader 0: 100%|████████████████████████████████████████████████████████████████████████████████████████████████████████████████████████████████████████████████████████████████████████████████████| 2/2 [00:00<00:00, 110.86it/s]\u001b[A\n",
      "Epoch 19: 100%|████████████████████████████████████████████████████████████████████████████████████████████████████████████████████████████████████████| 9/9 [00:00<00:00, 61.34it/s, v_num=4_5, train_loss=0.497, val_loss=0.911, val_acc=0.686]\u001b[A\n",
      "Validation: |                                                                                                                                                                                                              | 0/? [00:00<?, ?it/s]\u001b[A\n",
      "Validation:   0%|                                                                                                                                                                                                          | 0/2 [00:00<?, ?it/s]\u001b[A\n",
      "Validation DataLoader 0:   0%|                                                                                                                                                                                             | 0/2 [00:00<?, ?it/s]\u001b[A\n",
      "Validation DataLoader 0:  50%|██████████████████████████████████████████████████████████████████████████████████████████                                                                                          | 1/2 [00:00<00:00, 152.41it/s]\u001b[A\n",
      "Validation DataLoader 0: 100%|████████████████████████████████████████████████████████████████████████████████████████████████████████████████████████████████████████████████████████████████████████████████████| 2/2 [00:00<00:00, 155.29it/s]\u001b[A\n",
      "Epoch 29: 100%|████████████████████████████████████████████████████████████████████████████████████████████████████████████████████████████████████████| 9/9 [00:00<00:00, 68.46it/s, v_num=4_5, train_loss=0.590, val_loss=0.931, val_acc=0.689]\u001b[A\n",
      "Validation: |                                                                                                                                                                                                              | 0/? [00:00<?, ?it/s]\u001b[A\n",
      "Validation:   0%|                                                                                                                                                                                                          | 0/2 [00:00<?, ?it/s]\u001b[A\n",
      "Validation DataLoader 0:   0%|                                                                                                                                                                                             | 0/2 [00:00<?, ?it/s]\u001b[A\n",
      "Validation DataLoader 0:  50%|██████████████████████████████████████████████████████████████████████████████████████████                                                                                          | 1/2 [00:00<00:00, 174.36it/s]\u001b[A\n",
      "Validation DataLoader 0: 100%|████████████████████████████████████████████████████████████████████████████████████████████████████████████████████████████████████████████████████████████████████████████████████| 2/2 [00:00<00:00, 168.86it/s]\u001b[A\n",
      "Epoch 39: 100%|████████████████████████████████████████████████████████████████████████████████████████████████████████████████████████████████████████| 9/9 [00:00<00:00, 63.25it/s, v_num=4_5, train_loss=1.910, val_loss=0.724, val_acc=0.723]\u001b[A\n",
      "Validation: |                                                                                                                                                                                                              | 0/? [00:00<?, ?it/s]\u001b[A\n",
      "Validation:   0%|                                                                                                                                                                                                          | 0/2 [00:00<?, ?it/s]\u001b[A\n",
      "Validation DataLoader 0:   0%|                                                                                                                                                                                             | 0/2 [00:00<?, ?it/s]\u001b[A\n",
      "Validation DataLoader 0:  50%|██████████████████████████████████████████████████████████████████████████████████████████                                                                                          | 1/2 [00:00<00:00, 134.46it/s]\u001b[A\n",
      "Validation DataLoader 0: 100%|████████████████████████████████████████████████████████████████████████████████████████████████████████████████████████████████████████████████████████████████████████████████████| 2/2 [00:00<00:00, 140.10it/s]\u001b[A\n",
      "Epoch 49: 100%|████████████████████████████████████████████████████████████████████████████████████████████████████████████████████████████████████████| 9/9 [00:00<00:00, 63.29it/s, v_num=4_5, train_loss=0.535, val_loss=0.737, val_acc=0.694]\u001b[A\n",
      "Validation: |                                                                                                                                                                                                              | 0/? [00:00<?, ?it/s]\u001b[A\n",
      "Validation:   0%|                                                                                                                                                                                                          | 0/2 [00:00<?, ?it/s]\u001b[A\n",
      "Validation DataLoader 0:   0%|                                                                                                                                                                                             | 0/2 [00:00<?, ?it/s]\u001b[A\n",
      "Validation DataLoader 0:  50%|██████████████████████████████████████████████████████████████████████████████████████████                                                                                          | 1/2 [00:00<00:00, 141.01it/s]\u001b[A\n",
      "Validation DataLoader 0: 100%|████████████████████████████████████████████████████████████████████████████████████████████████████████████████████████████████████████████████████████████████████████████████████| 2/2 [00:00<00:00, 141.57it/s]\u001b[A\n",
      "Epoch 59: 100%|████████████████████████████████████████████████████████████████████████████████████████████████████████████████████████████████████████| 9/9 [00:00<00:00, 67.24it/s, v_num=4_5, train_loss=2.430, val_loss=0.811, val_acc=0.675]\u001b[A\n",
      "Validation: |                                                                                                                                                                                                              | 0/? [00:00<?, ?it/s]\u001b[A\n",
      "Validation:   0%|                                                                                                                                                                                                          | 0/2 [00:00<?, ?it/s]\u001b[A\n",
      "Validation DataLoader 0:   0%|                                                                                                                                                                                             | 0/2 [00:00<?, ?it/s]\u001b[A\n",
      "Validation DataLoader 0:  50%|██████████████████████████████████████████████████████████████████████████████████████████                                                                                          | 1/2 [00:00<00:00, 130.90it/s]\u001b[A\n",
      "Validation DataLoader 0: 100%|████████████████████████████████████████████████████████████████████████████████████████████████████████████████████████████████████████████████████████████████████████████████████| 2/2 [00:00<00:00, 143.64it/s]\u001b[A\n",
      "Epoch 69: 100%|████████████████████████████████████████████████████████████████████████████████████████████████████████████████████████████████████████| 9/9 [00:00<00:00, 67.07it/s, v_num=4_5, train_loss=0.800, val_loss=0.830, val_acc=0.709]\u001b[A\n",
      "Validation: |                                                                                                                                                                                                              | 0/? [00:00<?, ?it/s]\u001b[A\n",
      "Validation:   0%|                                                                                                                                                                                                          | 0/2 [00:00<?, ?it/s]\u001b[A\n",
      "Validation DataLoader 0:   0%|                                                                                                                                                                                             | 0/2 [00:00<?, ?it/s]\u001b[A\n",
      "Validation DataLoader 0:  50%|██████████████████████████████████████████████████████████████████████████████████████████                                                                                          | 1/2 [00:00<00:00, 128.70it/s]\u001b[A\n",
      "Validation DataLoader 0: 100%|████████████████████████████████████████████████████████████████████████████████████████████████████████████████████████████████████████████████████████████████████████████████████| 2/2 [00:00<00:00, 127.68it/s]\u001b[A\n",
      "Epoch 79: 100%|████████████████████████████████████████████████████████████████████████████████████████████████████████████████████████████████████████| 9/9 [00:00<00:00, 66.78it/s, v_num=4_5, train_loss=1.720, val_loss=1.510, val_acc=0.519]\u001b[A\n",
      "Validation: |                                                                                                                                                                                                              | 0/? [00:00<?, ?it/s]\u001b[A\n",
      "Validation:   0%|                                                                                                                                                                                                          | 0/2 [00:00<?, ?it/s]\u001b[A\n",
      "Validation DataLoader 0:   0%|                                                                                                                                                                                             | 0/2 [00:00<?, ?it/s]\u001b[A\n",
      "Validation DataLoader 0:  50%|██████████████████████████████████████████████████████████████████████████████████████████                                                                                          | 1/2 [00:00<00:00, 163.23it/s]\u001b[A\n",
      "Validation DataLoader 0: 100%|████████████████████████████████████████████████████████████████████████████████████████████████████████████████████████████████████████████████████████████████████████████████████| 2/2 [00:00<00:00, 162.13it/s]\u001b[A\n",
      "Epoch 89: 100%|████████████████████████████████████████████████████████████████████████████████████████████████████████████████████████████████████████| 9/9 [00:00<00:00, 60.71it/s, v_num=4_5, train_loss=1.930, val_loss=0.935, val_acc=0.630]\u001b[A\n",
      "Validation: |                                                                                                                                                                                                              | 0/? [00:00<?, ?it/s]\u001b[A\n",
      "Validation:   0%|                                                                                                                                                                                                          | 0/2 [00:00<?, ?it/s]\u001b[A\n",
      "Validation DataLoader 0:   0%|                                                                                                                                                                                             | 0/2 [00:00<?, ?it/s]\u001b[A\n",
      "Validation DataLoader 0:  50%|██████████████████████████████████████████████████████████████████████████████████████████                                                                                          | 1/2 [00:00<00:00, 132.70it/s]\u001b[A\n",
      "Validation DataLoader 0: 100%|████████████████████████████████████████████████████████████████████████████████████████████████████████████████████████████████████████████████████████████████████████████████████| 2/2 [00:00<00:00, 130.85it/s]\u001b[A\n",
      "Epoch 98:  11%|███████████████                                                                                                                         | 1/9 [00:00<00:00, 62.80it/s, v_num=4_5, train_loss=0.516, val_loss=1.140, val_acc=0.576]\u001b[A"
     ]
    },
    {
     "name": "stderr",
     "output_type": "stream",
     "text": [
      "/nfs/ksdata/tran/miniconda3/envs/python_3.8/lib/python3.8/site-packages/lightning/pytorch/trainer/call.py:54: Detected KeyboardInterrupt, attempting graceful shutdown...\n",
      "LOCAL_RANK: 0 - CUDA_VISIBLE_DEVICES: [0,1]\n",
      "/nfs/ksdata/tran/miniconda3/envs/python_3.8/lib/python3.8/site-packages/lightning/pytorch/trainer/connectors/data_connector.py:441: The 'test_dataloader' does not have many workers which may be a bottleneck. Consider increasing the value of the `num_workers` argument` to `num_workers=55` in the `DataLoader` to improve performance.\n"
     ]
    },
    {
     "name": "stdout",
     "output_type": "stream",
     "text": [
      "Testing DataLoader 0: 100%|████████████████████████████████████████████████████████████████████████████████████████████████████████████████████████████████████████████████████████████████████████████████████████| 2/2 [00:00<00:00, 85.68it/s]\n",
      "────────────────────────────────────────────────────────────────────────────────────────────────────────────────────────\n",
      "       Test metric             DataLoader 0\n",
      "────────────────────────────────────────────────────────────────────────────────────────────────────────────────────────\n",
      "        test_acc                   0.625\n",
      "        test_loss           0.9705338478088379\n",
      "────────────────────────────────────────────────────────────────────────────────────────────────────────────────────────\n"
     ]
    }
   ],
   "source": [
    "if not args.eval_mode:\n",
    "    print(\" ----------------------start training---------------------------\")\n",
    "    from lightning.pytorch.callbacks.early_stopping import EarlyStopping\n",
    "    from lightning.pytorch.callbacks import ModelCheckpoint\n",
    "    from lightning.pytorch.loggers import TensorBoardLogger, CSVLogger\n",
    "    \n",
    "    tensorboard_logger = TensorBoardLogger(save_dir=log_save_dir, name=log_save_name,)\n",
    "    csv_logger = CSVLogger(save_dir=log_save_dir, name=log_save_name,)\n",
    "    checkpoint_callback = ModelCheckpoint(\n",
    "        dirpath=None,\n",
    "        save_top_k=1,\n",
    "        monitor=\"val_loss\",\n",
    "        mode=\"min\",\n",
    "        filename=\"sample_{epoch:02d}-{step:02d}-{val_loss:02f}\"\n",
    "    )\n",
    "    \n",
    "    trainer = L.Trainer(\n",
    "        logger=[tensorboard_logger, csv_logger],\n",
    "        callbacks=[EarlyStopping(monitor=\"val_loss\", patience=patience), checkpoint_callback],\n",
    "        max_epochs=n_epochs,\n",
    "        check_val_every_n_epoch=10,\n",
    "        accelerator=\"gpu\",\n",
    "        )\n",
    "    \n",
    "    trainer.fit(model=net, datamodule=data_module)\n",
    "    trainer_test_dict = trainer.logged_metrics\n",
    "    \n",
    "    trainer.test(model=net, datamodule=data_module)\n",
    "    trainer_test_dict.update(trainer.logged_metrics)\n",
    "    \n",
    "    for key in trainer_test_dict.keys():\n",
    "        trainer_test_dict[key] = trainer_test_dict[key].item()\n",
    "    \n",
    "    with open(os.path.join(trainer.logger.log_dir, \"result.json\"), \"w\") as f:\n",
    "        json.dump(trainer_test_dict, f, indent=4)\n",
    "    \n",
    "    with open(os.path.join(trainer.logger.log_dir, \"argparse_params.json\"), \"w\") as f:\n",
    "        json.dump(args.__dict__, f, indent=4)"
   ]
  },
  {
   "cell_type": "code",
   "execution_count": 55,
   "metadata": {
    "scrolled": true
   },
   "outputs": [
    {
     "name": "stdout",
     "output_type": "stream",
     "text": [
      "random_uncertainty_200_42__reset\n",
      "limit_and_set_train_data limit_number= 500\n",
      "limit_filter_data_by_class limit_number= 500\n",
      "limit_filter_data_by_class:  (array([1., 2., 3., 4., 5., 6., 7., 8.]), array([500, 500, 500, 500, 500, 500, 500, 500]))\n",
      "data_module.choice_limited_list [18207 21088 13538 24705 34880 21925 14404  9094 32657 30380]\n",
      "limit_filter_data_by_class limit_number= 5000\n",
      "limit_filter_data_by_class:  (array([1., 2., 3., 4., 5., 6., 7., 8.]), array([5000, 5000, 5000, 5000, 5000, 5000, 5000, 5000]))\n",
      "set_train_val_test_pred_merge_data\n",
      "limit_filter_data_by_class limit_number= 500\n"
     ]
    },
    {
     "name": "stderr",
     "output_type": "stream",
     "text": [
      "Trainer will use only 1 of 2 GPUs because it is running inside an interactive / notebook environment. You may try to set `Trainer(devices=2)` but please note that multi-GPU inside interactive / notebook environments is considered experimental and unstable. Your mileage may vary.\n"
     ]
    },
    {
     "name": "stdout",
     "output_type": "stream",
     "text": [
      "limit_filter_data_by_class:  (array([1., 2., 3., 4., 5., 6., 7., 8.]), array([500, 500, 500, 500, 500, 500, 500, 500]))\n",
      "limit_filter_data_by_class limit_number= 100\n",
      "limit_filter_data_by_class:  (array([1., 2., 3., 4., 5., 6., 7., 8.]), array([100, 100, 100, 100, 100, 100, 100, 100]))\n",
      "limit_filter_data_by_class limit_number= 100\n",
      "limit_filter_data_by_class:  (array([1., 2., 3., 4., 5., 6., 7., 8.]), array([100, 100, 100, 100, 100, 100, 100, 100]))\n",
      "set_random_set\n",
      "data_module.sampling_rank [28424 23153 14840 23484 38227 15074  6161  5747 23993 17220]\n"
     ]
    },
    {
     "name": "stderr",
     "output_type": "stream",
     "text": [
      "GPU available: True (cuda), used: True\n",
      "TPU available: False, using: 0 TPU cores\n",
      "IPU available: False, using: 0 IPUs\n",
      "HPU available: False, using: 0 HPUs\n",
      "LOCAL_RANK: 0 - CUDA_VISIBLE_DEVICES: [0,1]\n"
     ]
    },
    {
     "name": "stdout",
     "output_type": "stream",
     "text": [
      "Testing DataLoader 0: 100%|█████████████████████████████████████████████████████████████████████████████████████████████████████████████████████████████████████████████████████████████████████████████████████| 16/16 [00:00<00:00, 140.62it/s]\n"
     ]
    },
    {
     "name": "stderr",
     "output_type": "stream",
     "text": [
      "LOCAL_RANK: 0 - CUDA_VISIBLE_DEVICES: [0,1]\n"
     ]
    },
    {
     "name": "stdout",
     "output_type": "stream",
     "text": [
      "Predicting DataLoader 0: 100%|██████████████████████████████████████████████████████████████████████████████████████████████████████████████████████████████████████████████████████████████████████████████████| 16/16 [00:00<00:00, 179.41it/s]\n",
      "random_uncertainty_200_64__reset\n",
      "limit_and_set_train_data limit_number= 500\n",
      "limit_filter_data_by_class limit_number= 500\n",
      "limit_filter_data_by_class:  (array([1., 2., 3., 4., 5., 6., 7., 8.]), array([500, 500, 500, 500, 500, 500, 500, 500]))\n",
      "data_module.choice_limited_list [25995 37497 15712 60791 55473 47170 16755 46134 31772  6524]\n",
      "limit_filter_data_by_class limit_number= 5000\n",
      "limit_filter_data_by_class:  (array([1., 2., 3., 4., 5., 6., 7., 8.]), array([5000, 5000, 5000, 5000, 5000, 5000, 5000, 5000]))\n",
      "set_train_val_test_pred_merge_data\n",
      "limit_filter_data_by_class limit_number= 500\n"
     ]
    },
    {
     "name": "stderr",
     "output_type": "stream",
     "text": [
      "Trainer will use only 1 of 2 GPUs because it is running inside an interactive / notebook environment. You may try to set `Trainer(devices=2)` but please note that multi-GPU inside interactive / notebook environments is considered experimental and unstable. Your mileage may vary.\n"
     ]
    },
    {
     "name": "stdout",
     "output_type": "stream",
     "text": [
      "limit_filter_data_by_class:  (array([1., 2., 3., 4., 5., 6., 7., 8.]), array([500, 500, 500, 500, 500, 500, 500, 500]))\n",
      "limit_filter_data_by_class limit_number= 100\n",
      "limit_filter_data_by_class:  (array([1., 2., 3., 4., 5., 6., 7., 8.]), array([100, 100, 100, 100, 100, 100, 100, 100]))\n",
      "limit_filter_data_by_class limit_number= 100\n",
      "limit_filter_data_by_class:  (array([1., 2., 3., 4., 5., 6., 7., 8.]), array([100, 100, 100, 100, 100, 100, 100, 100]))\n",
      "set_random_set\n",
      "data_module.sampling_rank [28424 23153 14840 23484 38227 15074  6161  5747 23993 17220]\n"
     ]
    },
    {
     "name": "stderr",
     "output_type": "stream",
     "text": [
      "/nfs/ksdata/tran/miniconda3/envs/python_3.8/lib/python3.8/site-packages/lightning/fabric/plugins/environments/slurm.py:191: The `srun` command is available on your system but is not used. HINT: If your intention is to run Lightning on SLURM, prepend your python command with `srun` like so: srun python /nfs/ksdata/tran/miniconda3/envs/python_3.8/lib/pyth ...\n",
      "GPU available: True (cuda), used: True\n",
      "TPU available: False, using: 0 TPU cores\n",
      "IPU available: False, using: 0 IPUs\n",
      "HPU available: False, using: 0 HPUs\n",
      "LOCAL_RANK: 0 - CUDA_VISIBLE_DEVICES: [0,1]\n",
      "/nfs/ksdata/tran/miniconda3/envs/python_3.8/lib/python3.8/site-packages/lightning/pytorch/trainer/connectors/data_connector.py:441: The 'test_dataloader' does not have many workers which may be a bottleneck. Consider increasing the value of the `num_workers` argument` to `num_workers=55` in the `DataLoader` to improve performance.\n"
     ]
    },
    {
     "name": "stdout",
     "output_type": "stream",
     "text": [
      "Testing DataLoader 0: 100%|█████████████████████████████████████████████████████████████████████████████████████████████████████████████████████████████████████████████████████████████████████████████████████| 16/16 [00:00<00:00, 116.08it/s]\n"
     ]
    },
    {
     "name": "stderr",
     "output_type": "stream",
     "text": [
      "LOCAL_RANK: 0 - CUDA_VISIBLE_DEVICES: [0,1]\n",
      "/nfs/ksdata/tran/miniconda3/envs/python_3.8/lib/python3.8/site-packages/lightning/pytorch/trainer/connectors/data_connector.py:441: The 'predict_dataloader' does not have many workers which may be a bottleneck. Consider increasing the value of the `num_workers` argument` to `num_workers=55` in the `DataLoader` to improve performance.\n"
     ]
    },
    {
     "name": "stdout",
     "output_type": "stream",
     "text": [
      "Predicting DataLoader 0: 100%|██████████████████████████████████████████████████████████████████████████████████████████████████████████████████████████████████████████████████████████████████████████████████| 16/16 [00:00<00:00, 166.18it/s]\n",
      "random_uncertainty_400_42__reset\n",
      "limit_and_set_train_data limit_number= 500\n",
      "limit_filter_data_by_class limit_number= 500\n",
      "limit_filter_data_by_class:  (array([1., 2., 3., 4., 5., 6., 7., 8.]), array([500, 500, 500, 500, 500, 500, 500, 500]))\n",
      "data_module.choice_limited_list [25995 37497 15712 60791 55473 47170 16755 46134 31772  6524]\n",
      "limit_filter_data_by_class limit_number= 5000\n",
      "limit_filter_data_by_class:  (array([1., 2., 3., 4., 5., 6., 7., 8.]), array([5000, 5000, 5000, 5000, 5000, 5000, 5000, 5000]))\n",
      "set_train_val_test_pred_merge_data\n",
      "limit_filter_data_by_class limit_number= 500\n",
      "limit_filter_data_by_class:  (array([1., 2., 3., 4., 5., 6., 7., 8.]), array([500, 500, 500, 500, 500, 500, 500, 500]))\n",
      "limit_filter_data_by_class limit_number= 100\n",
      "limit_filter_data_by_class:  (array([1., 2., 3., 4., 5., 6., 7., 8.]), array([100, 100, 100, 100, 100, 100, 100, 100]))\n",
      "limit_filter_data_by_class limit_number= 100\n",
      "limit_filter_data_by_class:  (array([1., 2., 3., 4., 5., 6., 7., 8.]), array([100, 100, 100, 100, 100, 100, 100, 100]))\n",
      "set_random_set\n"
     ]
    },
    {
     "name": "stderr",
     "output_type": "stream",
     "text": [
      "Trainer will use only 1 of 2 GPUs because it is running inside an interactive / notebook environment. You may try to set `Trainer(devices=2)` but please note that multi-GPU inside interactive / notebook environments is considered experimental and unstable. Your mileage may vary.\n",
      "/nfs/ksdata/tran/miniconda3/envs/python_3.8/lib/python3.8/site-packages/lightning/fabric/plugins/environments/slurm.py:191: The `srun` command is available on your system but is not used. HINT: If your intention is to run Lightning on SLURM, prepend your python command with `srun` like so: srun python /nfs/ksdata/tran/miniconda3/envs/python_3.8/lib/pyth ...\n",
      "GPU available: True (cuda), used: True\n",
      "TPU available: False, using: 0 TPU cores\n",
      "IPU available: False, using: 0 IPUs\n",
      "HPU available: False, using: 0 HPUs\n"
     ]
    },
    {
     "name": "stdout",
     "output_type": "stream",
     "text": [
      "data_module.sampling_rank [28424 23153 14840 23484 38227 15074  6161  5747 23993 17220]\n"
     ]
    },
    {
     "name": "stderr",
     "output_type": "stream",
     "text": [
      "LOCAL_RANK: 0 - CUDA_VISIBLE_DEVICES: [0,1]\n",
      "/nfs/ksdata/tran/miniconda3/envs/python_3.8/lib/python3.8/site-packages/lightning/pytorch/trainer/connectors/data_connector.py:441: The 'test_dataloader' does not have many workers which may be a bottleneck. Consider increasing the value of the `num_workers` argument` to `num_workers=55` in the `DataLoader` to improve performance.\n"
     ]
    },
    {
     "name": "stdout",
     "output_type": "stream",
     "text": [
      "Testing DataLoader 0: 100%|█████████████████████████████████████████████████████████████████████████████████████████████████████████████████████████████████████████████████████████████████████████████████████| 16/16 [00:00<00:00, 118.18it/s]\n"
     ]
    },
    {
     "name": "stderr",
     "output_type": "stream",
     "text": [
      "LOCAL_RANK: 0 - CUDA_VISIBLE_DEVICES: [0,1]\n",
      "/nfs/ksdata/tran/miniconda3/envs/python_3.8/lib/python3.8/site-packages/lightning/pytorch/trainer/connectors/data_connector.py:441: The 'predict_dataloader' does not have many workers which may be a bottleneck. Consider increasing the value of the `num_workers` argument` to `num_workers=55` in the `DataLoader` to improve performance.\n"
     ]
    },
    {
     "name": "stdout",
     "output_type": "stream",
     "text": [
      "Predicting DataLoader 0: 100%|██████████████████████████████████████████████████████████████████████████████████████████████████████████████████████████████████████████████████████████████████████████████████| 16/16 [00:00<00:00, 132.65it/s]\n",
      "random_uncertainty_400_64__reset\n",
      "limit_and_set_train_data limit_number= 500\n",
      "limit_filter_data_by_class limit_number= 500\n",
      "limit_filter_data_by_class:  (array([1., 2., 3., 4., 5., 6., 7., 8.]), array([500, 500, 500, 500, 500, 500, 500, 500]))\n",
      "data_module.choice_limited_list [25995 37497 15712 60791 55473 47170 16755 46134 31772  6524]\n",
      "limit_filter_data_by_class limit_number= 5000\n",
      "limit_filter_data_by_class:  (array([1., 2., 3., 4., 5., 6., 7., 8.]), array([5000, 5000, 5000, 5000, 5000, 5000, 5000, 5000]))\n",
      "set_train_val_test_pred_merge_data\n",
      "limit_filter_data_by_class limit_number= 500\n",
      "limit_filter_data_by_class:  (array([1., 2., 3., 4., 5., 6., 7., 8.]), array([500, 500, 500, 500, 500, 500, 500, 500]))\n",
      "limit_filter_data_by_class limit_number= 100\n",
      "limit_filter_data_by_class:  (array([1., 2., 3., 4., 5., 6., 7., 8.]), array([100, 100, 100, 100, 100, 100, 100, 100]))\n",
      "limit_filter_data_by_class limit_number= 100\n",
      "limit_filter_data_by_class:  (array([1., 2., 3., 4., 5., 6., 7., 8.]), array([100, 100, 100, 100, 100, 100, 100, 100]))\n",
      "set_random_set\n",
      "data_module.sampling_rank [28424 23153 14840 23484 38227 15074  6161  5747 23993 17220]\n"
     ]
    },
    {
     "name": "stderr",
     "output_type": "stream",
     "text": [
      "Trainer will use only 1 of 2 GPUs because it is running inside an interactive / notebook environment. You may try to set `Trainer(devices=2)` but please note that multi-GPU inside interactive / notebook environments is considered experimental and unstable. Your mileage may vary.\n",
      "/nfs/ksdata/tran/miniconda3/envs/python_3.8/lib/python3.8/site-packages/lightning/fabric/plugins/environments/slurm.py:191: The `srun` command is available on your system but is not used. HINT: If your intention is to run Lightning on SLURM, prepend your python command with `srun` like so: srun python /nfs/ksdata/tran/miniconda3/envs/python_3.8/lib/pyth ...\n",
      "GPU available: True (cuda), used: True\n",
      "TPU available: False, using: 0 TPU cores\n",
      "IPU available: False, using: 0 IPUs\n",
      "HPU available: False, using: 0 HPUs\n",
      "LOCAL_RANK: 0 - CUDA_VISIBLE_DEVICES: [0,1]\n",
      "/nfs/ksdata/tran/miniconda3/envs/python_3.8/lib/python3.8/site-packages/lightning/pytorch/trainer/connectors/data_connector.py:441: The 'test_dataloader' does not have many workers which may be a bottleneck. Consider increasing the value of the `num_workers` argument` to `num_workers=55` in the `DataLoader` to improve performance.\n"
     ]
    },
    {
     "name": "stdout",
     "output_type": "stream",
     "text": [
      "Testing DataLoader 0: 100%|█████████████████████████████████████████████████████████████████████████████████████████████████████████████████████████████████████████████████████████████████████████████████████| 16/16 [00:00<00:00, 120.86it/s]\n"
     ]
    },
    {
     "name": "stderr",
     "output_type": "stream",
     "text": [
      "LOCAL_RANK: 0 - CUDA_VISIBLE_DEVICES: [0,1]\n",
      "/nfs/ksdata/tran/miniconda3/envs/python_3.8/lib/python3.8/site-packages/lightning/pytorch/trainer/connectors/data_connector.py:441: The 'predict_dataloader' does not have many workers which may be a bottleneck. Consider increasing the value of the `num_workers` argument` to `num_workers=55` in the `DataLoader` to improve performance.\n"
     ]
    },
    {
     "name": "stdout",
     "output_type": "stream",
     "text": [
      "Predicting DataLoader 0: 100%|██████████████████████████████████████████████████████████████████████████████████████████████████████████████████████████████████████████████████████████████████████████████████| 16/16 [00:00<00:00, 149.76it/s]\n",
      "random_uncertainty_800_42__reset\n",
      "limit_and_set_train_data limit_number= 500\n",
      "limit_filter_data_by_class limit_number= 500\n",
      "limit_filter_data_by_class:  (array([1., 2., 3., 4., 5., 6., 7., 8.]), array([500, 500, 500, 500, 500, 500, 500, 500]))\n",
      "data_module.choice_limited_list [25995 37497 15712 60791 55473 47170 16755 46134 31772  6524]\n",
      "limit_filter_data_by_class limit_number= 5000\n",
      "limit_filter_data_by_class:  (array([1., 2., 3., 4., 5., 6., 7., 8.]), array([5000, 5000, 5000, 5000, 5000, 5000, 5000, 5000]))\n",
      "set_train_val_test_pred_merge_data\n",
      "limit_filter_data_by_class limit_number= 500\n"
     ]
    },
    {
     "name": "stderr",
     "output_type": "stream",
     "text": [
      "Trainer will use only 1 of 2 GPUs because it is running inside an interactive / notebook environment. You may try to set `Trainer(devices=2)` but please note that multi-GPU inside interactive / notebook environments is considered experimental and unstable. Your mileage may vary.\n",
      "/nfs/ksdata/tran/miniconda3/envs/python_3.8/lib/python3.8/site-packages/lightning/fabric/plugins/environments/slurm.py:191: The `srun` command is available on your system but is not used. HINT: If your intention is to run Lightning on SLURM, prepend your python command with `srun` like so: srun python /nfs/ksdata/tran/miniconda3/envs/python_3.8/lib/pyth ...\n",
      "GPU available: True (cuda), used: True\n",
      "TPU available: False, using: 0 TPU cores\n"
     ]
    },
    {
     "name": "stdout",
     "output_type": "stream",
     "text": [
      "limit_filter_data_by_class:  (array([1., 2., 3., 4., 5., 6., 7., 8.]), array([500, 500, 500, 500, 500, 500, 500, 500]))\n",
      "limit_filter_data_by_class limit_number= 100\n",
      "limit_filter_data_by_class:  (array([1., 2., 3., 4., 5., 6., 7., 8.]), array([100, 100, 100, 100, 100, 100, 100, 100]))\n",
      "limit_filter_data_by_class limit_number= 100\n",
      "limit_filter_data_by_class:  (array([1., 2., 3., 4., 5., 6., 7., 8.]), array([100, 100, 100, 100, 100, 100, 100, 100]))\n",
      "set_random_set\n",
      "data_module.sampling_rank [28424 23153 14840 23484 38227 15074  6161  5747 23993 17220]\n"
     ]
    },
    {
     "name": "stderr",
     "output_type": "stream",
     "text": [
      "IPU available: False, using: 0 IPUs\n",
      "HPU available: False, using: 0 HPUs\n",
      "LOCAL_RANK: 0 - CUDA_VISIBLE_DEVICES: [0,1]\n",
      "/nfs/ksdata/tran/miniconda3/envs/python_3.8/lib/python3.8/site-packages/lightning/pytorch/trainer/connectors/data_connector.py:441: The 'test_dataloader' does not have many workers which may be a bottleneck. Consider increasing the value of the `num_workers` argument` to `num_workers=55` in the `DataLoader` to improve performance.\n"
     ]
    },
    {
     "name": "stdout",
     "output_type": "stream",
     "text": [
      "Testing DataLoader 0: 100%|█████████████████████████████████████████████████████████████████████████████████████████████████████████████████████████████████████████████████████████████████████████████████████| 16/16 [00:00<00:00, 156.13it/s]\n"
     ]
    },
    {
     "name": "stderr",
     "output_type": "stream",
     "text": [
      "LOCAL_RANK: 0 - CUDA_VISIBLE_DEVICES: [0,1]\n",
      "/nfs/ksdata/tran/miniconda3/envs/python_3.8/lib/python3.8/site-packages/lightning/pytorch/trainer/connectors/data_connector.py:441: The 'predict_dataloader' does not have many workers which may be a bottleneck. Consider increasing the value of the `num_workers` argument` to `num_workers=55` in the `DataLoader` to improve performance.\n"
     ]
    },
    {
     "name": "stdout",
     "output_type": "stream",
     "text": [
      "Predicting DataLoader 0: 100%|██████████████████████████████████████████████████████████████████████████████████████████████████████████████████████████████████████████████████████████████████████████████████| 16/16 [00:00<00:00, 185.85it/s]\n",
      "random_uncertainty_800_64__reset\n",
      "limit_and_set_train_data limit_number= 500\n",
      "limit_filter_data_by_class limit_number= 500\n",
      "limit_filter_data_by_class:  (array([1., 2., 3., 4., 5., 6., 7., 8.]), array([500, 500, 500, 500, 500, 500, 500, 500]))\n",
      "data_module.choice_limited_list [25995 37497 15712 60791 55473 47170 16755 46134 31772  6524]\n",
      "limit_filter_data_by_class limit_number= 5000\n",
      "limit_filter_data_by_class:  (array([1., 2., 3., 4., 5., 6., 7., 8.]), array([5000, 5000, 5000, 5000, 5000, 5000, 5000, 5000]))\n",
      "set_train_val_test_pred_merge_data\n",
      "limit_filter_data_by_class limit_number= 500\n"
     ]
    },
    {
     "name": "stderr",
     "output_type": "stream",
     "text": [
      "Trainer will use only 1 of 2 GPUs because it is running inside an interactive / notebook environment. You may try to set `Trainer(devices=2)` but please note that multi-GPU inside interactive / notebook environments is considered experimental and unstable. Your mileage may vary.\n"
     ]
    },
    {
     "name": "stdout",
     "output_type": "stream",
     "text": [
      "limit_filter_data_by_class:  (array([1., 2., 3., 4., 5., 6., 7., 8.]), array([500, 500, 500, 500, 500, 500, 500, 500]))\n",
      "limit_filter_data_by_class limit_number= 100\n",
      "limit_filter_data_by_class:  (array([1., 2., 3., 4., 5., 6., 7., 8.]), array([100, 100, 100, 100, 100, 100, 100, 100]))\n",
      "limit_filter_data_by_class limit_number= 100\n",
      "limit_filter_data_by_class:  (array([1., 2., 3., 4., 5., 6., 7., 8.]), array([100, 100, 100, 100, 100, 100, 100, 100]))\n",
      "set_random_set\n",
      "data_module.sampling_rank [28424 23153 14840 23484 38227 15074  6161  5747 23993 17220]\n"
     ]
    },
    {
     "name": "stderr",
     "output_type": "stream",
     "text": [
      "/nfs/ksdata/tran/miniconda3/envs/python_3.8/lib/python3.8/site-packages/lightning/fabric/plugins/environments/slurm.py:191: The `srun` command is available on your system but is not used. HINT: If your intention is to run Lightning on SLURM, prepend your python command with `srun` like so: srun python /nfs/ksdata/tran/miniconda3/envs/python_3.8/lib/pyth ...\n",
      "GPU available: True (cuda), used: True\n",
      "TPU available: False, using: 0 TPU cores\n",
      "IPU available: False, using: 0 IPUs\n",
      "HPU available: False, using: 0 HPUs\n",
      "LOCAL_RANK: 0 - CUDA_VISIBLE_DEVICES: [0,1]\n",
      "/nfs/ksdata/tran/miniconda3/envs/python_3.8/lib/python3.8/site-packages/lightning/pytorch/trainer/connectors/data_connector.py:441: The 'test_dataloader' does not have many workers which may be a bottleneck. Consider increasing the value of the `num_workers` argument` to `num_workers=55` in the `DataLoader` to improve performance.\n"
     ]
    },
    {
     "name": "stdout",
     "output_type": "stream",
     "text": [
      "Testing DataLoader 0: 100%|█████████████████████████████████████████████████████████████████████████████████████████████████████████████████████████████████████████████████████████████████████████████████████| 16/16 [00:00<00:00, 111.68it/s]\n"
     ]
    },
    {
     "name": "stderr",
     "output_type": "stream",
     "text": [
      "LOCAL_RANK: 0 - CUDA_VISIBLE_DEVICES: [0,1]\n",
      "/nfs/ksdata/tran/miniconda3/envs/python_3.8/lib/python3.8/site-packages/lightning/pytorch/trainer/connectors/data_connector.py:441: The 'predict_dataloader' does not have many workers which may be a bottleneck. Consider increasing the value of the `num_workers` argument` to `num_workers=55` in the `DataLoader` to improve performance.\n"
     ]
    },
    {
     "name": "stdout",
     "output_type": "stream",
     "text": [
      "Predicting DataLoader 0: 100%|██████████████████████████████████████████████████████████████████████████████████████████████████████████████████████████████████████████████████████████████████████████████████| 16/16 [00:00<00:00, 145.14it/s]\n",
      "sampling_uncertainty_200_42__reset\n"
     ]
    },
    {
     "name": "stderr",
     "output_type": "stream",
     "text": [
      "Trainer will use only 1 of 2 GPUs because it is running inside an interactive / notebook environment. You may try to set `Trainer(devices=2)` but please note that multi-GPU inside interactive / notebook environments is considered experimental and unstable. Your mileage may vary.\n",
      "/nfs/ksdata/tran/miniconda3/envs/python_3.8/lib/python3.8/site-packages/lightning/fabric/plugins/environments/slurm.py:191: The `srun` command is available on your system but is not used. HINT: If your intention is to run Lightning on SLURM, prepend your python command with `srun` like so: srun python /nfs/ksdata/tran/miniconda3/envs/python_3.8/lib/pyth ...\n",
      "GPU available: True (cuda), used: True\n",
      "TPU available: False, using: 0 TPU cores\n",
      "IPU available: False, using: 0 IPUs\n",
      "HPU available: False, using: 0 HPUs\n"
     ]
    },
    {
     "name": "stdout",
     "output_type": "stream",
     "text": [
      "limit_and_set_train_data limit_number= 500\n",
      "limit_filter_data_by_class limit_number= 500\n",
      "limit_filter_data_by_class:  (array([1., 2., 3., 4., 5., 6., 7., 8.]), array([500, 500, 500, 500, 500, 500, 500, 500]))\n",
      "data_module.choice_limited_list [25995 37497 15712 60791 55473 47170 16755 46134 31772  6524]\n",
      "limit_filter_data_by_class limit_number= 5000\n",
      "limit_filter_data_by_class:  (array([1., 2., 3., 4., 5., 6., 7., 8.]), array([5000, 5000, 5000, 5000, 5000, 5000, 5000, 5000]))\n"
     ]
    },
    {
     "name": "stderr",
     "output_type": "stream",
     "text": [
      "LOCAL_RANK: 0 - CUDA_VISIBLE_DEVICES: [0,1]\n",
      "/nfs/ksdata/tran/miniconda3/envs/python_3.8/lib/python3.8/site-packages/lightning/pytorch/trainer/connectors/data_connector.py:441: The 'predict_dataloader' does not have many workers which may be a bottleneck. Consider increasing the value of the `num_workers` argument` to `num_workers=55` in the `DataLoader` to improve performance.\n"
     ]
    },
    {
     "name": "stdout",
     "output_type": "stream",
     "text": [
      "Predicting DataLoader 0: 100%|██████████████████████████████████████████████████████████████████████████████████████████████████████████████████████████████████████████████████████████████████████████████████| 79/79 [00:00<00:00, 155.67it/s]\n",
      "set_train_val_test_pred_merge_data\n",
      "limit_filter_data_by_class limit_number= 500\n",
      "limit_filter_data_by_class:  (array([1., 2., 3., 4., 5., 6., 7., 8.]), array([500, 500, 500, 500, 500, 500, 500, 500]))\n",
      "set_unsertainty_set\n"
     ]
    },
    {
     "name": "stderr",
     "output_type": "stream",
     "text": [
      "Trainer will use only 1 of 2 GPUs because it is running inside an interactive / notebook environment. You may try to set `Trainer(devices=2)` but please note that multi-GPU inside interactive / notebook environments is considered experimental and unstable. Your mileage may vary.\n",
      "GPU available: True (cuda), used: True\n",
      "TPU available: False, using: 0 TPU cores\n",
      "IPU available: False, using: 0 IPUs\n",
      "HPU available: False, using: 0 HPUs\n",
      "LOCAL_RANK: 0 - CUDA_VISIBLE_DEVICES: [0,1]\n",
      "/nfs/ksdata/tran/miniconda3/envs/python_3.8/lib/python3.8/site-packages/lightning/pytorch/trainer/connectors/data_connector.py:441: The 'test_dataloader' does not have many workers which may be a bottleneck. Consider increasing the value of the `num_workers` argument` to `num_workers=55` in the `DataLoader` to improve performance.\n"
     ]
    },
    {
     "name": "stdout",
     "output_type": "stream",
     "text": [
      "set_train_val_test_pred_merge_data\n",
      "limit_filter_data_by_class limit_number= 100\n",
      "limit_filter_data_by_class:  (array([1., 2., 3., 4., 5., 6., 7., 8.]), array([100, 100, 100, 100, 100, 100, 100, 100]))\n",
      "limit_filter_data_by_class limit_number= 100\n",
      "limit_filter_data_by_class:  (array([1., 2., 3., 4., 5., 6., 7., 8.]), array([100, 100, 100, 100, 100, 100, 100, 100]))\n",
      "data_module.sampling_rank [ 7108 29640 19257 20921 36597 15881 22613  7850  6897 38834]\n",
      "Testing DataLoader 0: 100%|███████████████████████████████████████████████████████████████████████████████████████████████████████████████████████████████████████████████████████████████████████████████████████| 2/2 [00:00<00:00, 112.05it/s]"
     ]
    },
    {
     "name": "stderr",
     "output_type": "stream",
     "text": [
      "LOCAL_RANK: 0 - CUDA_VISIBLE_DEVICES: [0,1]\n"
     ]
    },
    {
     "name": "stdout",
     "output_type": "stream",
     "text": [
      "\n",
      "Predicting DataLoader 0: 100%|████████████████████████████████████████████████████████████████████████████████████████████████████████████████████████████████████████████████████████████████████████████████████| 2/2 [00:00<00:00, 201.70it/s]\n",
      "sampling_uncertainty_200_64__reset\n"
     ]
    },
    {
     "name": "stderr",
     "output_type": "stream",
     "text": [
      "Trainer will use only 1 of 2 GPUs because it is running inside an interactive / notebook environment. You may try to set `Trainer(devices=2)` but please note that multi-GPU inside interactive / notebook environments is considered experimental and unstable. Your mileage may vary.\n",
      "/nfs/ksdata/tran/miniconda3/envs/python_3.8/lib/python3.8/site-packages/lightning/fabric/plugins/environments/slurm.py:191: The `srun` command is available on your system but is not used. HINT: If your intention is to run Lightning on SLURM, prepend your python command with `srun` like so: srun python /nfs/ksdata/tran/miniconda3/envs/python_3.8/lib/pyth ...\n",
      "GPU available: True (cuda), used: True\n",
      "TPU available: False, using: 0 TPU cores\n",
      "IPU available: False, using: 0 IPUs\n",
      "HPU available: False, using: 0 HPUs\n"
     ]
    },
    {
     "name": "stdout",
     "output_type": "stream",
     "text": [
      "limit_and_set_train_data limit_number= 500\n",
      "limit_filter_data_by_class limit_number= 500\n",
      "limit_filter_data_by_class:  (array([1., 2., 3., 4., 5., 6., 7., 8.]), array([500, 500, 500, 500, 500, 500, 500, 500]))\n",
      "data_module.choice_limited_list [56426  1336 17148 31823 45594 19119 29815 16311   589 46761]\n",
      "limit_filter_data_by_class limit_number= 5000\n",
      "limit_filter_data_by_class:  (array([1., 2., 3., 4., 5., 6., 7., 8.]), array([5000, 5000, 5000, 5000, 5000, 5000, 5000, 5000]))\n"
     ]
    },
    {
     "name": "stderr",
     "output_type": "stream",
     "text": [
      "LOCAL_RANK: 0 - CUDA_VISIBLE_DEVICES: [0,1]\n",
      "/nfs/ksdata/tran/miniconda3/envs/python_3.8/lib/python3.8/site-packages/lightning/pytorch/trainer/connectors/data_connector.py:441: The 'predict_dataloader' does not have many workers which may be a bottleneck. Consider increasing the value of the `num_workers` argument` to `num_workers=55` in the `DataLoader` to improve performance.\n"
     ]
    },
    {
     "name": "stdout",
     "output_type": "stream",
     "text": [
      "Predicting DataLoader 0: 100%|██████████████████████████████████████████████████████████████████████████████████████████████████████████████████████████████████████████████████████████████████████████████████| 79/79 [00:00<00:00, 171.80it/s]\n",
      "set_train_val_test_pred_merge_data\n",
      "limit_filter_data_by_class limit_number= 500\n",
      "limit_filter_data_by_class:  (array([1., 2., 3., 4., 5., 6., 7., 8.]), array([500, 500, 500, 500, 500, 500, 500, 500]))\n",
      "set_unsertainty_set\n",
      "set_train_val_test_pred_merge_data\n",
      "limit_filter_data_by_class limit_number= 100\n"
     ]
    },
    {
     "name": "stderr",
     "output_type": "stream",
     "text": [
      "Trainer will use only 1 of 2 GPUs because it is running inside an interactive / notebook environment. You may try to set `Trainer(devices=2)` but please note that multi-GPU inside interactive / notebook environments is considered experimental and unstable. Your mileage may vary.\n"
     ]
    },
    {
     "name": "stdout",
     "output_type": "stream",
     "text": [
      "limit_filter_data_by_class:  (array([1., 2., 3., 4., 5., 6., 7., 8.]), array([100, 100, 100, 100, 100, 100, 100, 100]))\n",
      "limit_filter_data_by_class limit_number= 100\n",
      "limit_filter_data_by_class:  (array([1., 2., 3., 4., 5., 6., 7., 8.]), array([100, 100, 100, 100, 100, 100, 100, 100]))\n",
      "data_module.sampling_rank [32535 22796 26542 22499 39029 24341 34544 27517 25653 15774]\n"
     ]
    },
    {
     "name": "stderr",
     "output_type": "stream",
     "text": [
      "GPU available: True (cuda), used: True\n",
      "TPU available: False, using: 0 TPU cores\n",
      "IPU available: False, using: 0 IPUs\n",
      "HPU available: False, using: 0 HPUs\n",
      "LOCAL_RANK: 0 - CUDA_VISIBLE_DEVICES: [0,1]\n",
      "/nfs/ksdata/tran/miniconda3/envs/python_3.8/lib/python3.8/site-packages/lightning/pytorch/trainer/connectors/data_connector.py:441: The 'test_dataloader' does not have many workers which may be a bottleneck. Consider increasing the value of the `num_workers` argument` to `num_workers=55` in the `DataLoader` to improve performance.\n"
     ]
    },
    {
     "name": "stdout",
     "output_type": "stream",
     "text": [
      "Testing DataLoader 0: 100%|███████████████████████████████████████████████████████████████████████████████████████████████████████████████████████████████████████████████████████████████████████████████████████| 2/2 [00:00<00:00, 121.97it/s]"
     ]
    },
    {
     "name": "stderr",
     "output_type": "stream",
     "text": [
      "LOCAL_RANK: 0 - CUDA_VISIBLE_DEVICES: [0,1]\n"
     ]
    },
    {
     "name": "stdout",
     "output_type": "stream",
     "text": [
      "\n",
      "Predicting DataLoader 0: 100%|████████████████████████████████████████████████████████████████████████████████████████████████████████████████████████████████████████████████████████████████████████████████████| 2/2 [00:00<00:00, 136.73it/s]\n",
      "sampling_uncertainty_400_42__reset\n"
     ]
    },
    {
     "name": "stderr",
     "output_type": "stream",
     "text": [
      "Trainer will use only 1 of 2 GPUs because it is running inside an interactive / notebook environment. You may try to set `Trainer(devices=2)` but please note that multi-GPU inside interactive / notebook environments is considered experimental and unstable. Your mileage may vary.\n",
      "/nfs/ksdata/tran/miniconda3/envs/python_3.8/lib/python3.8/site-packages/lightning/fabric/plugins/environments/slurm.py:191: The `srun` command is available on your system but is not used. HINT: If your intention is to run Lightning on SLURM, prepend your python command with `srun` like so: srun python /nfs/ksdata/tran/miniconda3/envs/python_3.8/lib/pyth ...\n",
      "GPU available: True (cuda), used: True\n",
      "TPU available: False, using: 0 TPU cores\n",
      "IPU available: False, using: 0 IPUs\n",
      "HPU available: False, using: 0 HPUs\n"
     ]
    },
    {
     "name": "stdout",
     "output_type": "stream",
     "text": [
      "limit_and_set_train_data limit_number= 500\n",
      "limit_filter_data_by_class limit_number= 500\n",
      "limit_filter_data_by_class:  (array([1., 2., 3., 4., 5., 6., 7., 8.]), array([500, 500, 500, 500, 500, 500, 500, 500]))\n",
      "data_module.choice_limited_list [56426  1336 17148 31823 45594 19119 29815 16311   589 46761]\n",
      "limit_filter_data_by_class limit_number= 5000\n",
      "limit_filter_data_by_class:  (array([1., 2., 3., 4., 5., 6., 7., 8.]), array([5000, 5000, 5000, 5000, 5000, 5000, 5000, 5000]))\n"
     ]
    },
    {
     "name": "stderr",
     "output_type": "stream",
     "text": [
      "LOCAL_RANK: 0 - CUDA_VISIBLE_DEVICES: [0,1]\n",
      "/nfs/ksdata/tran/miniconda3/envs/python_3.8/lib/python3.8/site-packages/lightning/pytorch/trainer/connectors/data_connector.py:441: The 'predict_dataloader' does not have many workers which may be a bottleneck. Consider increasing the value of the `num_workers` argument` to `num_workers=55` in the `DataLoader` to improve performance.\n"
     ]
    },
    {
     "name": "stdout",
     "output_type": "stream",
     "text": [
      "Predicting DataLoader 0: 100%|██████████████████████████████████████████████████████████████████████████████████████████████████████████████████████████████████████████████████████████████████████████████████| 79/79 [00:00<00:00, 180.37it/s]\n",
      "set_train_val_test_pred_merge_data\n",
      "limit_filter_data_by_class limit_number= 500\n",
      "limit_filter_data_by_class:  (array([1., 2., 3., 4., 5., 6., 7., 8.]), array([500, 500, 500, 500, 500, 500, 500, 500]))\n",
      "set_unsertainty_set\n"
     ]
    },
    {
     "name": "stderr",
     "output_type": "stream",
     "text": [
      "Trainer will use only 1 of 2 GPUs because it is running inside an interactive / notebook environment. You may try to set `Trainer(devices=2)` but please note that multi-GPU inside interactive / notebook environments is considered experimental and unstable. Your mileage may vary.\n"
     ]
    },
    {
     "name": "stdout",
     "output_type": "stream",
     "text": [
      "set_train_val_test_pred_merge_data\n",
      "limit_filter_data_by_class limit_number= 100\n",
      "limit_filter_data_by_class:  (array([1., 2., 3., 4., 5., 6., 7., 8.]), array([100, 100, 100, 100, 100, 100, 100, 100]))\n",
      "limit_filter_data_by_class limit_number= 100\n",
      "limit_filter_data_by_class:  (array([1., 2., 3., 4., 5., 6., 7., 8.]), array([100, 100, 100, 100, 100, 100, 100, 100]))\n",
      "data_module.sampling_rank [ 6541 24275 28708 15201 17125 29036 38577 38500 29582 27904]\n"
     ]
    },
    {
     "name": "stderr",
     "output_type": "stream",
     "text": [
      "GPU available: True (cuda), used: True\n",
      "TPU available: False, using: 0 TPU cores\n",
      "IPU available: False, using: 0 IPUs\n",
      "HPU available: False, using: 0 HPUs\n",
      "LOCAL_RANK: 0 - CUDA_VISIBLE_DEVICES: [0,1]\n",
      "/nfs/ksdata/tran/miniconda3/envs/python_3.8/lib/python3.8/site-packages/lightning/pytorch/trainer/connectors/data_connector.py:441: The 'test_dataloader' does not have many workers which may be a bottleneck. Consider increasing the value of the `num_workers` argument` to `num_workers=55` in the `DataLoader` to improve performance.\n"
     ]
    },
    {
     "name": "stdout",
     "output_type": "stream",
     "text": [
      "Testing DataLoader 0: 100%|███████████████████████████████████████████████████████████████████████████████████████████████████████████████████████████████████████████████████████████████████████████████████████| 2/2 [00:00<00:00, 125.42it/s]"
     ]
    },
    {
     "name": "stderr",
     "output_type": "stream",
     "text": [
      "LOCAL_RANK: 0 - CUDA_VISIBLE_DEVICES: [0,1]\n"
     ]
    },
    {
     "name": "stdout",
     "output_type": "stream",
     "text": [
      "\n",
      "Predicting DataLoader 0: 100%|████████████████████████████████████████████████████████████████████████████████████████████████████████████████████████████████████████████████████████████████████████████████████| 2/2 [00:00<00:00, 218.14it/s]\n",
      "sampling_uncertainty_400_64__reset\n"
     ]
    },
    {
     "name": "stderr",
     "output_type": "stream",
     "text": [
      "Trainer will use only 1 of 2 GPUs because it is running inside an interactive / notebook environment. You may try to set `Trainer(devices=2)` but please note that multi-GPU inside interactive / notebook environments is considered experimental and unstable. Your mileage may vary.\n",
      "/nfs/ksdata/tran/miniconda3/envs/python_3.8/lib/python3.8/site-packages/lightning/fabric/plugins/environments/slurm.py:191: The `srun` command is available on your system but is not used. HINT: If your intention is to run Lightning on SLURM, prepend your python command with `srun` like so: srun python /nfs/ksdata/tran/miniconda3/envs/python_3.8/lib/pyth ...\n",
      "GPU available: True (cuda), used: True\n",
      "TPU available: False, using: 0 TPU cores\n",
      "IPU available: False, using: 0 IPUs\n",
      "HPU available: False, using: 0 HPUs\n"
     ]
    },
    {
     "name": "stdout",
     "output_type": "stream",
     "text": [
      "limit_and_set_train_data limit_number= 500\n",
      "limit_filter_data_by_class limit_number= 500\n",
      "limit_filter_data_by_class:  (array([1., 2., 3., 4., 5., 6., 7., 8.]), array([500, 500, 500, 500, 500, 500, 500, 500]))\n",
      "data_module.choice_limited_list [56426  1336 17148 31823 45594 19119 29815 16311   589 46761]\n",
      "limit_filter_data_by_class limit_number= 5000\n",
      "limit_filter_data_by_class:  (array([1., 2., 3., 4., 5., 6., 7., 8.]), array([5000, 5000, 5000, 5000, 5000, 5000, 5000, 5000]))\n"
     ]
    },
    {
     "name": "stderr",
     "output_type": "stream",
     "text": [
      "LOCAL_RANK: 0 - CUDA_VISIBLE_DEVICES: [0,1]\n",
      "/nfs/ksdata/tran/miniconda3/envs/python_3.8/lib/python3.8/site-packages/lightning/pytorch/trainer/connectors/data_connector.py:441: The 'predict_dataloader' does not have many workers which may be a bottleneck. Consider increasing the value of the `num_workers` argument` to `num_workers=55` in the `DataLoader` to improve performance.\n"
     ]
    },
    {
     "name": "stdout",
     "output_type": "stream",
     "text": [
      "Predicting DataLoader 0: 100%|██████████████████████████████████████████████████████████████████████████████████████████████████████████████████████████████████████████████████████████████████████████████████| 79/79 [00:00<00:00, 141.87it/s]\n",
      "set_train_val_test_pred_merge_data\n",
      "limit_filter_data_by_class limit_number= 500\n",
      "limit_filter_data_by_class:  (array([1., 2., 3., 4., 5., 6., 7., 8.]), array([500, 500, 500, 500, 500, 500, 500, 500]))\n",
      "set_unsertainty_set\n",
      "set_train_val_test_pred_merge_data\n",
      "limit_filter_data_by_class limit_number= 100\n",
      "limit_filter_data_by_class:  (array([1., 2., 3., 4., 5., 6., 7., 8.]), array([100, 100, 100, 100, 100, 100, 100, 100]))\n",
      "limit_filter_data_by_class limit_number= 100\n"
     ]
    },
    {
     "name": "stderr",
     "output_type": "stream",
     "text": [
      "Trainer will use only 1 of 2 GPUs because it is running inside an interactive / notebook environment. You may try to set `Trainer(devices=2)` but please note that multi-GPU inside interactive / notebook environments is considered experimental and unstable. Your mileage may vary.\n",
      "GPU available: True (cuda), used: True\n",
      "TPU available: False, using: 0 TPU cores\n",
      "IPU available: False, using: 0 IPUs\n",
      "HPU available: False, using: 0 HPUs\n",
      "LOCAL_RANK: 0 - CUDA_VISIBLE_DEVICES: [0,1]\n",
      "/nfs/ksdata/tran/miniconda3/envs/python_3.8/lib/python3.8/site-packages/lightning/pytorch/trainer/connectors/data_connector.py:441: The 'test_dataloader' does not have many workers which may be a bottleneck. Consider increasing the value of the `num_workers` argument` to `num_workers=55` in the `DataLoader` to improve performance.\n"
     ]
    },
    {
     "name": "stdout",
     "output_type": "stream",
     "text": [
      "limit_filter_data_by_class:  (array([1., 2., 3., 4., 5., 6., 7., 8.]), array([100, 100, 100, 100, 100, 100, 100, 100]))\n",
      "data_module.sampling_rank [19351 18684 18620 39029 15762 18378 19109  4758 15636 17416]\n",
      "Testing DataLoader 0: 100%|███████████████████████████████████████████████████████████████████████████████████████████████████████████████████████████████████████████████████████████████████████████████████████| 2/2 [00:00<00:00, 108.07it/s]"
     ]
    },
    {
     "name": "stderr",
     "output_type": "stream",
     "text": [
      "LOCAL_RANK: 0 - CUDA_VISIBLE_DEVICES: [0,1]\n"
     ]
    },
    {
     "name": "stdout",
     "output_type": "stream",
     "text": [
      "\n",
      "Predicting DataLoader 0: 100%|████████████████████████████████████████████████████████████████████████████████████████████████████████████████████████████████████████████████████████████████████████████████████| 2/2 [00:00<00:00, 160.72it/s]\n",
      "sampling_uncertainty_800_42__reset\n"
     ]
    },
    {
     "name": "stderr",
     "output_type": "stream",
     "text": [
      "Trainer will use only 1 of 2 GPUs because it is running inside an interactive / notebook environment. You may try to set `Trainer(devices=2)` but please note that multi-GPU inside interactive / notebook environments is considered experimental and unstable. Your mileage may vary.\n",
      "/nfs/ksdata/tran/miniconda3/envs/python_3.8/lib/python3.8/site-packages/lightning/fabric/plugins/environments/slurm.py:191: The `srun` command is available on your system but is not used. HINT: If your intention is to run Lightning on SLURM, prepend your python command with `srun` like so: srun python /nfs/ksdata/tran/miniconda3/envs/python_3.8/lib/pyth ...\n",
      "GPU available: True (cuda), used: True\n",
      "TPU available: False, using: 0 TPU cores\n",
      "IPU available: False, using: 0 IPUs\n",
      "HPU available: False, using: 0 HPUs\n"
     ]
    },
    {
     "name": "stdout",
     "output_type": "stream",
     "text": [
      "limit_and_set_train_data limit_number= 500\n",
      "limit_filter_data_by_class limit_number= 500\n",
      "limit_filter_data_by_class:  (array([1., 2., 3., 4., 5., 6., 7., 8.]), array([500, 500, 500, 500, 500, 500, 500, 500]))\n",
      "data_module.choice_limited_list [56426  1336 17148 31823 45594 19119 29815 16311   589 46761]\n",
      "limit_filter_data_by_class limit_number= 5000\n",
      "limit_filter_data_by_class:  (array([1., 2., 3., 4., 5., 6., 7., 8.]), array([5000, 5000, 5000, 5000, 5000, 5000, 5000, 5000]))\n"
     ]
    },
    {
     "name": "stderr",
     "output_type": "stream",
     "text": [
      "LOCAL_RANK: 0 - CUDA_VISIBLE_DEVICES: [0,1]\n",
      "/nfs/ksdata/tran/miniconda3/envs/python_3.8/lib/python3.8/site-packages/lightning/pytorch/trainer/connectors/data_connector.py:441: The 'predict_dataloader' does not have many workers which may be a bottleneck. Consider increasing the value of the `num_workers` argument` to `num_workers=55` in the `DataLoader` to improve performance.\n"
     ]
    },
    {
     "name": "stdout",
     "output_type": "stream",
     "text": [
      "Predicting DataLoader 0: 100%|██████████████████████████████████████████████████████████████████████████████████████████████████████████████████████████████████████████████████████████████████████████████████| 79/79 [00:00<00:00, 145.01it/s]\n",
      "set_train_val_test_pred_merge_data\n",
      "limit_filter_data_by_class limit_number= 500\n",
      "limit_filter_data_by_class:  (array([1., 2., 3., 4., 5., 6., 7., 8.]), array([500, 500, 500, 500, 500, 500, 500, 500]))\n",
      "set_unsertainty_set\n",
      "set_train_val_test_pred_merge_data\n",
      "limit_filter_data_by_class limit_number= 100\n",
      "limit_filter_data_by_class:  (array([1., 2., 3., 4., 5., 6., 7., 8.]), array([100, 100, 100, 100, 100, 100, 100, 100]))\n",
      "limit_filter_data_by_class limit_number= 100\n",
      "limit_filter_data_by_class:  (array([1., 2., 3., 4., 5., 6., 7., 8.]), array([100, 100, 100, 100, 100, 100, 100, 100]))\n",
      "data_module.sampling_rank [20260 17640 14694 15044 22132 26735 20610 21672 20229 39029]\n"
     ]
    },
    {
     "name": "stderr",
     "output_type": "stream",
     "text": [
      "Trainer will use only 1 of 2 GPUs because it is running inside an interactive / notebook environment. You may try to set `Trainer(devices=2)` but please note that multi-GPU inside interactive / notebook environments is considered experimental and unstable. Your mileage may vary.\n",
      "GPU available: True (cuda), used: True\n",
      "TPU available: False, using: 0 TPU cores\n",
      "IPU available: False, using: 0 IPUs\n",
      "HPU available: False, using: 0 HPUs\n",
      "LOCAL_RANK: 0 - CUDA_VISIBLE_DEVICES: [0,1]\n",
      "/nfs/ksdata/tran/miniconda3/envs/python_3.8/lib/python3.8/site-packages/lightning/pytorch/trainer/connectors/data_connector.py:441: The 'test_dataloader' does not have many workers which may be a bottleneck. Consider increasing the value of the `num_workers` argument` to `num_workers=55` in the `DataLoader` to improve performance.\n"
     ]
    },
    {
     "name": "stdout",
     "output_type": "stream",
     "text": [
      "Testing DataLoader 0: 100%|███████████████████████████████████████████████████████████████████████████████████████████████████████████████████████████████████████████████████████████████████████████████████████| 2/2 [00:00<00:00, 102.25it/s]"
     ]
    },
    {
     "name": "stderr",
     "output_type": "stream",
     "text": [
      "LOCAL_RANK: 0 - CUDA_VISIBLE_DEVICES: [0,1]\n"
     ]
    },
    {
     "name": "stdout",
     "output_type": "stream",
     "text": [
      "\n",
      "Predicting DataLoader 0: 100%|████████████████████████████████████████████████████████████████████████████████████████████████████████████████████████████████████████████████████████████████████████████████████| 2/2 [00:00<00:00, 212.63it/s]\n",
      "sampling_uncertainty_800_64__reset\n"
     ]
    },
    {
     "name": "stderr",
     "output_type": "stream",
     "text": [
      "Trainer will use only 1 of 2 GPUs because it is running inside an interactive / notebook environment. You may try to set `Trainer(devices=2)` but please note that multi-GPU inside interactive / notebook environments is considered experimental and unstable. Your mileage may vary.\n",
      "/nfs/ksdata/tran/miniconda3/envs/python_3.8/lib/python3.8/site-packages/lightning/fabric/plugins/environments/slurm.py:191: The `srun` command is available on your system but is not used. HINT: If your intention is to run Lightning on SLURM, prepend your python command with `srun` like so: srun python /nfs/ksdata/tran/miniconda3/envs/python_3.8/lib/pyth ...\n",
      "GPU available: True (cuda), used: True\n",
      "TPU available: False, using: 0 TPU cores\n",
      "IPU available: False, using: 0 IPUs\n",
      "HPU available: False, using: 0 HPUs\n"
     ]
    },
    {
     "name": "stdout",
     "output_type": "stream",
     "text": [
      "limit_and_set_train_data limit_number= 500\n",
      "limit_filter_data_by_class limit_number= 500\n",
      "limit_filter_data_by_class:  (array([1., 2., 3., 4., 5., 6., 7., 8.]), array([500, 500, 500, 500, 500, 500, 500, 500]))\n",
      "data_module.choice_limited_list [56426  1336 17148 31823 45594 19119 29815 16311   589 46761]\n",
      "limit_filter_data_by_class limit_number= 5000\n",
      "limit_filter_data_by_class:  (array([1., 2., 3., 4., 5., 6., 7., 8.]), array([5000, 5000, 5000, 5000, 5000, 5000, 5000, 5000]))\n"
     ]
    },
    {
     "name": "stderr",
     "output_type": "stream",
     "text": [
      "LOCAL_RANK: 0 - CUDA_VISIBLE_DEVICES: [0,1]\n",
      "/nfs/ksdata/tran/miniconda3/envs/python_3.8/lib/python3.8/site-packages/lightning/pytorch/trainer/connectors/data_connector.py:441: The 'predict_dataloader' does not have many workers which may be a bottleneck. Consider increasing the value of the `num_workers` argument` to `num_workers=55` in the `DataLoader` to improve performance.\n"
     ]
    },
    {
     "name": "stdout",
     "output_type": "stream",
     "text": [
      "Predicting DataLoader 0: 100%|██████████████████████████████████████████████████████████████████████████████████████████████████████████████████████████████████████████████████████████████████████████████████| 79/79 [00:00<00:00, 154.19it/s]\n",
      "set_train_val_test_pred_merge_data\n",
      "limit_filter_data_by_class limit_number= 500\n",
      "limit_filter_data_by_class:  (array([1., 2., 3., 4., 5., 6., 7., 8.]), array([500, 500, 500, 500, 500, 500, 500, 500]))\n",
      "set_unsertainty_set\n",
      "set_train_val_test_pred_merge_data\n",
      "limit_filter_data_by_class limit_number= 100\n"
     ]
    },
    {
     "name": "stderr",
     "output_type": "stream",
     "text": [
      "Trainer will use only 1 of 2 GPUs because it is running inside an interactive / notebook environment. You may try to set `Trainer(devices=2)` but please note that multi-GPU inside interactive / notebook environments is considered experimental and unstable. Your mileage may vary.\n",
      "GPU available: True (cuda), used: True\n",
      "TPU available: False, using: 0 TPU cores\n",
      "IPU available: False, using: 0 IPUs\n",
      "HPU available: False, using: 0 HPUs\n",
      "LOCAL_RANK: 0 - CUDA_VISIBLE_DEVICES: [0,1]\n",
      "/nfs/ksdata/tran/miniconda3/envs/python_3.8/lib/python3.8/site-packages/lightning/pytorch/trainer/connectors/data_connector.py:441: The 'test_dataloader' does not have many workers which may be a bottleneck. Consider increasing the value of the `num_workers` argument` to `num_workers=55` in the `DataLoader` to improve performance.\n"
     ]
    },
    {
     "name": "stdout",
     "output_type": "stream",
     "text": [
      "limit_filter_data_by_class:  (array([1., 2., 3., 4., 5., 6., 7., 8.]), array([100, 100, 100, 100, 100, 100, 100, 100]))\n",
      "limit_filter_data_by_class limit_number= 100\n",
      "limit_filter_data_by_class:  (array([1., 2., 3., 4., 5., 6., 7., 8.]), array([100, 100, 100, 100, 100, 100, 100, 100]))\n",
      "data_module.sampling_rank [39891 30600 18626 30615 33899 39106 24275 19334 15879 16898]\n",
      "Testing DataLoader 0: 100%|███████████████████████████████████████████████████████████████████████████████████████████████████████████████████████████████████████████████████████████████████████████████████████| 2/2 [00:00<00:00, 104.24it/s]"
     ]
    },
    {
     "name": "stderr",
     "output_type": "stream",
     "text": [
      "LOCAL_RANK: 0 - CUDA_VISIBLE_DEVICES: [0,1]\n"
     ]
    },
    {
     "name": "stdout",
     "output_type": "stream",
     "text": [
      "\n",
      "Predicting DataLoader 0: 100%|████████████████████████████████████████████████████████████████████████████████████████████████████████████████████████████████████████████████████████████████████████████████████| 2/2 [00:00<00:00, 174.04it/s]\n",
      "sampling_entropy_200_42__reset\n"
     ]
    },
    {
     "name": "stderr",
     "output_type": "stream",
     "text": [
      "Trainer will use only 1 of 2 GPUs because it is running inside an interactive / notebook environment. You may try to set `Trainer(devices=2)` but please note that multi-GPU inside interactive / notebook environments is considered experimental and unstable. Your mileage may vary.\n",
      "/nfs/ksdata/tran/miniconda3/envs/python_3.8/lib/python3.8/site-packages/lightning/fabric/plugins/environments/slurm.py:191: The `srun` command is available on your system but is not used. HINT: If your intention is to run Lightning on SLURM, prepend your python command with `srun` like so: srun python /nfs/ksdata/tran/miniconda3/envs/python_3.8/lib/pyth ...\n",
      "GPU available: True (cuda), used: True\n",
      "TPU available: False, using: 0 TPU cores\n",
      "IPU available: False, using: 0 IPUs\n",
      "HPU available: False, using: 0 HPUs\n"
     ]
    },
    {
     "name": "stdout",
     "output_type": "stream",
     "text": [
      "limit_and_set_train_data limit_number= 500\n",
      "limit_filter_data_by_class limit_number= 500\n",
      "limit_filter_data_by_class:  (array([1., 2., 3., 4., 5., 6., 7., 8.]), array([500, 500, 500, 500, 500, 500, 500, 500]))\n",
      "data_module.choice_limited_list [56426  1336 17148 31823 45594 19119 29815 16311   589 46761]\n",
      "limit_filter_data_by_class limit_number= 5000\n",
      "limit_filter_data_by_class:  (array([1., 2., 3., 4., 5., 6., 7., 8.]), array([5000, 5000, 5000, 5000, 5000, 5000, 5000, 5000]))\n"
     ]
    },
    {
     "name": "stderr",
     "output_type": "stream",
     "text": [
      "LOCAL_RANK: 0 - CUDA_VISIBLE_DEVICES: [0,1]\n",
      "/nfs/ksdata/tran/miniconda3/envs/python_3.8/lib/python3.8/site-packages/lightning/pytorch/trainer/connectors/data_connector.py:441: The 'predict_dataloader' does not have many workers which may be a bottleneck. Consider increasing the value of the `num_workers` argument` to `num_workers=55` in the `DataLoader` to improve performance.\n"
     ]
    },
    {
     "name": "stdout",
     "output_type": "stream",
     "text": [
      "Predicting DataLoader 0: 100%|██████████████████████████████████████████████████████████████████████████████████████████████████████████████████████████████████████████████████████████████████████████████████| 79/79 [00:00<00:00, 150.70it/s]\n",
      "set_train_val_test_pred_merge_data\n",
      "limit_filter_data_by_class limit_number= 500\n",
      "limit_filter_data_by_class:  (array([1., 2., 3., 4., 5., 6., 7., 8.]), array([500, 500, 500, 500, 500, 500, 500, 500]))\n",
      "set_unsertainty_set\n"
     ]
    },
    {
     "name": "stderr",
     "output_type": "stream",
     "text": [
      "Trainer will use only 1 of 2 GPUs because it is running inside an interactive / notebook environment. You may try to set `Trainer(devices=2)` but please note that multi-GPU inside interactive / notebook environments is considered experimental and unstable. Your mileage may vary.\n",
      "GPU available: True (cuda), used: True\n",
      "TPU available: False, using: 0 TPU cores\n",
      "IPU available: False, using: 0 IPUs\n",
      "HPU available: False, using: 0 HPUs\n",
      "LOCAL_RANK: 0 - CUDA_VISIBLE_DEVICES: [0,1]\n",
      "/nfs/ksdata/tran/miniconda3/envs/python_3.8/lib/python3.8/site-packages/lightning/pytorch/trainer/connectors/data_connector.py:441: The 'test_dataloader' does not have many workers which may be a bottleneck. Consider increasing the value of the `num_workers` argument` to `num_workers=55` in the `DataLoader` to improve performance.\n"
     ]
    },
    {
     "name": "stdout",
     "output_type": "stream",
     "text": [
      "set_train_val_test_pred_merge_data\n",
      "limit_filter_data_by_class limit_number= 100\n",
      "limit_filter_data_by_class:  (array([1., 2., 3., 4., 5., 6., 7., 8.]), array([100, 100, 100, 100, 100, 100, 100, 100]))\n",
      "limit_filter_data_by_class limit_number= 100\n",
      "limit_filter_data_by_class:  (array([1., 2., 3., 4., 5., 6., 7., 8.]), array([100, 100, 100, 100, 100, 100, 100, 100]))\n",
      "data_module.sampling_rank [23707 32589 26111  8662 39211 17427 38792 17900  3546 22405]\n",
      "Testing DataLoader 0: 100%|███████████████████████████████████████████████████████████████████████████████████████████████████████████████████████████████████████████████████████████████████████████████████████| 2/2 [00:00<00:00, 109.72it/s]"
     ]
    },
    {
     "name": "stderr",
     "output_type": "stream",
     "text": [
      "LOCAL_RANK: 0 - CUDA_VISIBLE_DEVICES: [0,1]\n"
     ]
    },
    {
     "name": "stdout",
     "output_type": "stream",
     "text": [
      "\n",
      "Predicting DataLoader 0: 100%|████████████████████████████████████████████████████████████████████████████████████████████████████████████████████████████████████████████████████████████████████████████████████| 2/2 [00:00<00:00, 159.18it/s]\n",
      "sampling_entropy_200_64__reset\n"
     ]
    },
    {
     "name": "stderr",
     "output_type": "stream",
     "text": [
      "Trainer will use only 1 of 2 GPUs because it is running inside an interactive / notebook environment. You may try to set `Trainer(devices=2)` but please note that multi-GPU inside interactive / notebook environments is considered experimental and unstable. Your mileage may vary.\n",
      "/nfs/ksdata/tran/miniconda3/envs/python_3.8/lib/python3.8/site-packages/lightning/fabric/plugins/environments/slurm.py:191: The `srun` command is available on your system but is not used. HINT: If your intention is to run Lightning on SLURM, prepend your python command with `srun` like so: srun python /nfs/ksdata/tran/miniconda3/envs/python_3.8/lib/pyth ...\n",
      "GPU available: True (cuda), used: True\n",
      "TPU available: False, using: 0 TPU cores\n",
      "IPU available: False, using: 0 IPUs\n",
      "HPU available: False, using: 0 HPUs\n"
     ]
    },
    {
     "name": "stdout",
     "output_type": "stream",
     "text": [
      "limit_and_set_train_data limit_number= 500\n",
      "limit_filter_data_by_class limit_number= 500\n",
      "limit_filter_data_by_class:  (array([1., 2., 3., 4., 5., 6., 7., 8.]), array([500, 500, 500, 500, 500, 500, 500, 500]))\n",
      "data_module.choice_limited_list [56426  1336 17148 31823 45594 19119 29815 16311   589 46761]\n",
      "limit_filter_data_by_class limit_number= 5000\n",
      "limit_filter_data_by_class:  (array([1., 2., 3., 4., 5., 6., 7., 8.]), array([5000, 5000, 5000, 5000, 5000, 5000, 5000, 5000]))\n"
     ]
    },
    {
     "name": "stderr",
     "output_type": "stream",
     "text": [
      "LOCAL_RANK: 0 - CUDA_VISIBLE_DEVICES: [0,1]\n",
      "/nfs/ksdata/tran/miniconda3/envs/python_3.8/lib/python3.8/site-packages/lightning/pytorch/trainer/connectors/data_connector.py:441: The 'predict_dataloader' does not have many workers which may be a bottleneck. Consider increasing the value of the `num_workers` argument` to `num_workers=55` in the `DataLoader` to improve performance.\n"
     ]
    },
    {
     "name": "stdout",
     "output_type": "stream",
     "text": [
      "Predicting DataLoader 0: 100%|██████████████████████████████████████████████████████████████████████████████████████████████████████████████████████████████████████████████████████████████████████████████████| 79/79 [00:00<00:00, 134.89it/s]\n",
      "set_train_val_test_pred_merge_data\n",
      "limit_filter_data_by_class limit_number= 500\n",
      "limit_filter_data_by_class:  (array([1., 2., 3., 4., 5., 6., 7., 8.]), array([500, 500, 500, 500, 500, 500, 500, 500]))\n",
      "set_unsertainty_set\n"
     ]
    },
    {
     "name": "stderr",
     "output_type": "stream",
     "text": [
      "Trainer will use only 1 of 2 GPUs because it is running inside an interactive / notebook environment. You may try to set `Trainer(devices=2)` but please note that multi-GPU inside interactive / notebook environments is considered experimental and unstable. Your mileage may vary.\n",
      "GPU available: True (cuda), used: True\n",
      "TPU available: False, using: 0 TPU cores\n",
      "IPU available: False, using: 0 IPUs\n",
      "HPU available: False, using: 0 HPUs\n",
      "LOCAL_RANK: 0 - CUDA_VISIBLE_DEVICES: [0,1]\n",
      "/nfs/ksdata/tran/miniconda3/envs/python_3.8/lib/python3.8/site-packages/lightning/pytorch/trainer/connectors/data_connector.py:441: The 'test_dataloader' does not have many workers which may be a bottleneck. Consider increasing the value of the `num_workers` argument` to `num_workers=55` in the `DataLoader` to improve performance.\n"
     ]
    },
    {
     "name": "stdout",
     "output_type": "stream",
     "text": [
      "set_train_val_test_pred_merge_data\n",
      "limit_filter_data_by_class limit_number= 100\n",
      "limit_filter_data_by_class:  (array([1., 2., 3., 4., 5., 6., 7., 8.]), array([100, 100, 100, 100, 100, 100, 100, 100]))\n",
      "limit_filter_data_by_class limit_number= 100\n",
      "limit_filter_data_by_class:  (array([1., 2., 3., 4., 5., 6., 7., 8.]), array([100, 100, 100, 100, 100, 100, 100, 100]))\n",
      "data_module.sampling_rank [ 3167 30375 16676   258 16565 15083 18572 18214 36307 16098]\n",
      "Testing DataLoader 0: 100%|███████████████████████████████████████████████████████████████████████████████████████████████████████████████████████████████████████████████████████████████████████████████████████| 2/2 [00:00<00:00, 112.60it/s]"
     ]
    },
    {
     "name": "stderr",
     "output_type": "stream",
     "text": [
      "LOCAL_RANK: 0 - CUDA_VISIBLE_DEVICES: [0,1]\n"
     ]
    },
    {
     "name": "stdout",
     "output_type": "stream",
     "text": [
      "\n",
      "Predicting DataLoader 0: 100%|████████████████████████████████████████████████████████████████████████████████████████████████████████████████████████████████████████████████████████████████████████████████████| 2/2 [00:00<00:00, 173.65it/s]\n",
      "sampling_entropy_400_42__reset\n"
     ]
    },
    {
     "name": "stderr",
     "output_type": "stream",
     "text": [
      "Trainer will use only 1 of 2 GPUs because it is running inside an interactive / notebook environment. You may try to set `Trainer(devices=2)` but please note that multi-GPU inside interactive / notebook environments is considered experimental and unstable. Your mileage may vary.\n",
      "/nfs/ksdata/tran/miniconda3/envs/python_3.8/lib/python3.8/site-packages/lightning/fabric/plugins/environments/slurm.py:191: The `srun` command is available on your system but is not used. HINT: If your intention is to run Lightning on SLURM, prepend your python command with `srun` like so: srun python /nfs/ksdata/tran/miniconda3/envs/python_3.8/lib/pyth ...\n",
      "GPU available: True (cuda), used: True\n",
      "TPU available: False, using: 0 TPU cores\n",
      "IPU available: False, using: 0 IPUs\n",
      "HPU available: False, using: 0 HPUs\n"
     ]
    },
    {
     "name": "stdout",
     "output_type": "stream",
     "text": [
      "limit_and_set_train_data limit_number= 500\n",
      "limit_filter_data_by_class limit_number= 500\n",
      "limit_filter_data_by_class:  (array([1., 2., 3., 4., 5., 6., 7., 8.]), array([500, 500, 500, 500, 500, 500, 500, 500]))\n",
      "data_module.choice_limited_list [56426  1336 17148 31823 45594 19119 29815 16311   589 46761]\n",
      "limit_filter_data_by_class limit_number= 5000\n",
      "limit_filter_data_by_class:  (array([1., 2., 3., 4., 5., 6., 7., 8.]), array([5000, 5000, 5000, 5000, 5000, 5000, 5000, 5000]))\n"
     ]
    },
    {
     "name": "stderr",
     "output_type": "stream",
     "text": [
      "LOCAL_RANK: 0 - CUDA_VISIBLE_DEVICES: [0,1]\n",
      "/nfs/ksdata/tran/miniconda3/envs/python_3.8/lib/python3.8/site-packages/lightning/pytorch/trainer/connectors/data_connector.py:441: The 'predict_dataloader' does not have many workers which may be a bottleneck. Consider increasing the value of the `num_workers` argument` to `num_workers=55` in the `DataLoader` to improve performance.\n"
     ]
    },
    {
     "name": "stdout",
     "output_type": "stream",
     "text": [
      "Predicting DataLoader 0: 100%|██████████████████████████████████████████████████████████████████████████████████████████████████████████████████████████████████████████████████████████████████████████████████| 79/79 [00:00<00:00, 164.96it/s]\n",
      "set_train_val_test_pred_merge_data\n",
      "limit_filter_data_by_class limit_number= 500\n",
      "limit_filter_data_by_class:  (array([1., 2., 3., 4., 5., 6., 7., 8.]), array([500, 500, 500, 500, 500, 500, 500, 500]))\n",
      "set_unsertainty_set\n"
     ]
    },
    {
     "name": "stderr",
     "output_type": "stream",
     "text": [
      "Trainer will use only 1 of 2 GPUs because it is running inside an interactive / notebook environment. You may try to set `Trainer(devices=2)` but please note that multi-GPU inside interactive / notebook environments is considered experimental and unstable. Your mileage may vary.\n",
      "GPU available: True (cuda), used: True\n",
      "TPU available: False, using: 0 TPU cores\n",
      "IPU available: False, using: 0 IPUs\n",
      "HPU available: False, using: 0 HPUs\n",
      "LOCAL_RANK: 0 - CUDA_VISIBLE_DEVICES: [0,1]\n",
      "/nfs/ksdata/tran/miniconda3/envs/python_3.8/lib/python3.8/site-packages/lightning/pytorch/trainer/connectors/data_connector.py:441: The 'test_dataloader' does not have many workers which may be a bottleneck. Consider increasing the value of the `num_workers` argument` to `num_workers=55` in the `DataLoader` to improve performance.\n"
     ]
    },
    {
     "name": "stdout",
     "output_type": "stream",
     "text": [
      "set_train_val_test_pred_merge_data\n",
      "limit_filter_data_by_class limit_number= 100\n",
      "limit_filter_data_by_class:  (array([1., 2., 3., 4., 5., 6., 7., 8.]), array([100, 100, 100, 100, 100, 100, 100, 100]))\n",
      "limit_filter_data_by_class limit_number= 100\n",
      "limit_filter_data_by_class:  (array([1., 2., 3., 4., 5., 6., 7., 8.]), array([100, 100, 100, 100, 100, 100, 100, 100]))\n",
      "data_module.sampling_rank [27245 36584 32862 27951 28959 38088 34883 29333 30860 27636]\n",
      "Testing DataLoader 0: 100%|███████████████████████████████████████████████████████████████████████████████████████████████████████████████████████████████████████████████████████████████████████████████████████| 2/2 [00:00<00:00, 143.92it/s]"
     ]
    },
    {
     "name": "stderr",
     "output_type": "stream",
     "text": [
      "LOCAL_RANK: 0 - CUDA_VISIBLE_DEVICES: [0,1]\n"
     ]
    },
    {
     "name": "stdout",
     "output_type": "stream",
     "text": [
      "\n",
      "Predicting DataLoader 0: 100%|████████████████████████████████████████████████████████████████████████████████████████████████████████████████████████████████████████████████████████████████████████████████████| 2/2 [00:00<00:00, 203.86it/s]\n",
      "sampling_entropy_400_64__reset\n"
     ]
    },
    {
     "name": "stderr",
     "output_type": "stream",
     "text": [
      "Trainer will use only 1 of 2 GPUs because it is running inside an interactive / notebook environment. You may try to set `Trainer(devices=2)` but please note that multi-GPU inside interactive / notebook environments is considered experimental and unstable. Your mileage may vary.\n",
      "/nfs/ksdata/tran/miniconda3/envs/python_3.8/lib/python3.8/site-packages/lightning/fabric/plugins/environments/slurm.py:191: The `srun` command is available on your system but is not used. HINT: If your intention is to run Lightning on SLURM, prepend your python command with `srun` like so: srun python /nfs/ksdata/tran/miniconda3/envs/python_3.8/lib/pyth ...\n",
      "GPU available: True (cuda), used: True\n",
      "TPU available: False, using: 0 TPU cores\n",
      "IPU available: False, using: 0 IPUs\n",
      "HPU available: False, using: 0 HPUs\n"
     ]
    },
    {
     "name": "stdout",
     "output_type": "stream",
     "text": [
      "limit_and_set_train_data limit_number= 500\n",
      "limit_filter_data_by_class limit_number= 500\n",
      "limit_filter_data_by_class:  (array([1., 2., 3., 4., 5., 6., 7., 8.]), array([500, 500, 500, 500, 500, 500, 500, 500]))\n",
      "data_module.choice_limited_list [56426  1336 17148 31823 45594 19119 29815 16311   589 46761]\n",
      "limit_filter_data_by_class limit_number= 5000\n",
      "limit_filter_data_by_class:  (array([1., 2., 3., 4., 5., 6., 7., 8.]), array([5000, 5000, 5000, 5000, 5000, 5000, 5000, 5000]))\n"
     ]
    },
    {
     "name": "stderr",
     "output_type": "stream",
     "text": [
      "LOCAL_RANK: 0 - CUDA_VISIBLE_DEVICES: [0,1]\n",
      "/nfs/ksdata/tran/miniconda3/envs/python_3.8/lib/python3.8/site-packages/lightning/pytorch/trainer/connectors/data_connector.py:441: The 'predict_dataloader' does not have many workers which may be a bottleneck. Consider increasing the value of the `num_workers` argument` to `num_workers=55` in the `DataLoader` to improve performance.\n"
     ]
    },
    {
     "name": "stdout",
     "output_type": "stream",
     "text": [
      "Predicting DataLoader 0: 100%|██████████████████████████████████████████████████████████████████████████████████████████████████████████████████████████████████████████████████████████████████████████████████| 79/79 [00:00<00:00, 160.98it/s]\n",
      "set_train_val_test_pred_merge_data\n",
      "limit_filter_data_by_class limit_number= 500\n",
      "limit_filter_data_by_class:  (array([1., 2., 3., 4., 5., 6., 7., 8.]), array([500, 500, 500, 500, 500, 500, 500, 500]))\n",
      "set_unsertainty_set\n"
     ]
    },
    {
     "name": "stderr",
     "output_type": "stream",
     "text": [
      "Trainer will use only 1 of 2 GPUs because it is running inside an interactive / notebook environment. You may try to set `Trainer(devices=2)` but please note that multi-GPU inside interactive / notebook environments is considered experimental and unstable. Your mileage may vary.\n",
      "GPU available: True (cuda), used: True\n",
      "TPU available: False, using: 0 TPU cores\n",
      "IPU available: False, using: 0 IPUs\n",
      "HPU available: False, using: 0 HPUs\n",
      "LOCAL_RANK: 0 - CUDA_VISIBLE_DEVICES: [0,1]\n",
      "/nfs/ksdata/tran/miniconda3/envs/python_3.8/lib/python3.8/site-packages/lightning/pytorch/trainer/connectors/data_connector.py:441: The 'test_dataloader' does not have many workers which may be a bottleneck. Consider increasing the value of the `num_workers` argument` to `num_workers=55` in the `DataLoader` to improve performance.\n"
     ]
    },
    {
     "name": "stdout",
     "output_type": "stream",
     "text": [
      "set_train_val_test_pred_merge_data\n",
      "limit_filter_data_by_class limit_number= 100\n",
      "limit_filter_data_by_class:  (array([1., 2., 3., 4., 5., 6., 7., 8.]), array([100, 100, 100, 100, 100, 100, 100, 100]))\n",
      "limit_filter_data_by_class limit_number= 100\n",
      "limit_filter_data_by_class:  (array([1., 2., 3., 4., 5., 6., 7., 8.]), array([100, 100, 100, 100, 100, 100, 100, 100]))\n",
      "data_module.sampling_rank [27675  6811 16333 19248 19617   689 18378 26688 35002 39201]\n",
      "Testing DataLoader 0: 100%|████████████████████████████████████████████████████████████████████████████████████████████████████████████████████████████████████████████████████████████████████████████████████████| 2/2 [00:00<00:00, 94.31it/s]"
     ]
    },
    {
     "name": "stderr",
     "output_type": "stream",
     "text": [
      "LOCAL_RANK: 0 - CUDA_VISIBLE_DEVICES: [0,1]\n"
     ]
    },
    {
     "name": "stdout",
     "output_type": "stream",
     "text": [
      "\n",
      "Predicting DataLoader 0: 100%|████████████████████████████████████████████████████████████████████████████████████████████████████████████████████████████████████████████████████████████████████████████████████| 2/2 [00:00<00:00, 173.40it/s]\n",
      "sampling_entropy_800_42__reset\n"
     ]
    },
    {
     "name": "stderr",
     "output_type": "stream",
     "text": [
      "Trainer will use only 1 of 2 GPUs because it is running inside an interactive / notebook environment. You may try to set `Trainer(devices=2)` but please note that multi-GPU inside interactive / notebook environments is considered experimental and unstable. Your mileage may vary.\n",
      "/nfs/ksdata/tran/miniconda3/envs/python_3.8/lib/python3.8/site-packages/lightning/fabric/plugins/environments/slurm.py:191: The `srun` command is available on your system but is not used. HINT: If your intention is to run Lightning on SLURM, prepend your python command with `srun` like so: srun python /nfs/ksdata/tran/miniconda3/envs/python_3.8/lib/pyth ...\n",
      "GPU available: True (cuda), used: True\n",
      "TPU available: False, using: 0 TPU cores\n",
      "IPU available: False, using: 0 IPUs\n",
      "HPU available: False, using: 0 HPUs\n"
     ]
    },
    {
     "name": "stdout",
     "output_type": "stream",
     "text": [
      "limit_and_set_train_data limit_number= 500\n",
      "limit_filter_data_by_class limit_number= 500\n",
      "limit_filter_data_by_class:  (array([1., 2., 3., 4., 5., 6., 7., 8.]), array([500, 500, 500, 500, 500, 500, 500, 500]))\n",
      "data_module.choice_limited_list [56426  1336 17148 31823 45594 19119 29815 16311   589 46761]\n",
      "limit_filter_data_by_class limit_number= 5000\n",
      "limit_filter_data_by_class:  (array([1., 2., 3., 4., 5., 6., 7., 8.]), array([5000, 5000, 5000, 5000, 5000, 5000, 5000, 5000]))\n"
     ]
    },
    {
     "name": "stderr",
     "output_type": "stream",
     "text": [
      "LOCAL_RANK: 0 - CUDA_VISIBLE_DEVICES: [0,1]\n",
      "/nfs/ksdata/tran/miniconda3/envs/python_3.8/lib/python3.8/site-packages/lightning/pytorch/trainer/connectors/data_connector.py:441: The 'predict_dataloader' does not have many workers which may be a bottleneck. Consider increasing the value of the `num_workers` argument` to `num_workers=55` in the `DataLoader` to improve performance.\n"
     ]
    },
    {
     "name": "stdout",
     "output_type": "stream",
     "text": [
      "Predicting DataLoader 0: 100%|██████████████████████████████████████████████████████████████████████████████████████████████████████████████████████████████████████████████████████████████████████████████████| 79/79 [00:00<00:00, 132.19it/s]\n",
      "set_train_val_test_pred_merge_data\n",
      "limit_filter_data_by_class limit_number= 500\n",
      "limit_filter_data_by_class:  (array([1., 2., 3., 4., 5., 6., 7., 8.]), array([500, 500, 500, 500, 500, 500, 500, 500]))\n",
      "set_unsertainty_set\n"
     ]
    },
    {
     "name": "stderr",
     "output_type": "stream",
     "text": [
      "Trainer will use only 1 of 2 GPUs because it is running inside an interactive / notebook environment. You may try to set `Trainer(devices=2)` but please note that multi-GPU inside interactive / notebook environments is considered experimental and unstable. Your mileage may vary.\n",
      "GPU available: True (cuda), used: True\n",
      "TPU available: False, using: 0 TPU cores\n",
      "IPU available: False, using: 0 IPUs\n",
      "HPU available: False, using: 0 HPUs\n",
      "LOCAL_RANK: 0 - CUDA_VISIBLE_DEVICES: [0,1]\n",
      "/nfs/ksdata/tran/miniconda3/envs/python_3.8/lib/python3.8/site-packages/lightning/pytorch/trainer/connectors/data_connector.py:441: The 'test_dataloader' does not have many workers which may be a bottleneck. Consider increasing the value of the `num_workers` argument` to `num_workers=55` in the `DataLoader` to improve performance.\n"
     ]
    },
    {
     "name": "stdout",
     "output_type": "stream",
     "text": [
      "set_train_val_test_pred_merge_data\n",
      "limit_filter_data_by_class limit_number= 100\n",
      "limit_filter_data_by_class:  (array([1., 2., 3., 4., 5., 6., 7., 8.]), array([100, 100, 100, 100, 100, 100, 100, 100]))\n",
      "limit_filter_data_by_class limit_number= 100\n",
      "limit_filter_data_by_class:  (array([1., 2., 3., 4., 5., 6., 7., 8.]), array([100, 100, 100, 100, 100, 100, 100, 100]))\n",
      "data_module.sampling_rank [18659 24318 15054 33636 38243 32997 27725  2809 20350  1711]\n",
      "Testing DataLoader 0: 100%|███████████████████████████████████████████████████████████████████████████████████████████████████████████████████████████████████████████████████████████████████████████████████████| 2/2 [00:00<00:00, 132.11it/s]"
     ]
    },
    {
     "name": "stderr",
     "output_type": "stream",
     "text": [
      "LOCAL_RANK: 0 - CUDA_VISIBLE_DEVICES: [0,1]\n"
     ]
    },
    {
     "name": "stdout",
     "output_type": "stream",
     "text": [
      "\n",
      "Predicting DataLoader 0: 100%|████████████████████████████████████████████████████████████████████████████████████████████████████████████████████████████████████████████████████████████████████████████████████| 2/2 [00:00<00:00, 194.81it/s]\n",
      "sampling_entropy_800_64__reset\n"
     ]
    },
    {
     "name": "stderr",
     "output_type": "stream",
     "text": [
      "Trainer will use only 1 of 2 GPUs because it is running inside an interactive / notebook environment. You may try to set `Trainer(devices=2)` but please note that multi-GPU inside interactive / notebook environments is considered experimental and unstable. Your mileage may vary.\n",
      "/nfs/ksdata/tran/miniconda3/envs/python_3.8/lib/python3.8/site-packages/lightning/fabric/plugins/environments/slurm.py:191: The `srun` command is available on your system but is not used. HINT: If your intention is to run Lightning on SLURM, prepend your python command with `srun` like so: srun python /nfs/ksdata/tran/miniconda3/envs/python_3.8/lib/pyth ...\n",
      "GPU available: True (cuda), used: True\n",
      "TPU available: False, using: 0 TPU cores\n",
      "IPU available: False, using: 0 IPUs\n",
      "HPU available: False, using: 0 HPUs\n"
     ]
    },
    {
     "name": "stdout",
     "output_type": "stream",
     "text": [
      "limit_and_set_train_data limit_number= 500\n",
      "limit_filter_data_by_class limit_number= 500\n",
      "limit_filter_data_by_class:  (array([1., 2., 3., 4., 5., 6., 7., 8.]), array([500, 500, 500, 500, 500, 500, 500, 500]))\n",
      "data_module.choice_limited_list [56426  1336 17148 31823 45594 19119 29815 16311   589 46761]\n",
      "limit_filter_data_by_class limit_number= 5000\n",
      "limit_filter_data_by_class:  (array([1., 2., 3., 4., 5., 6., 7., 8.]), array([5000, 5000, 5000, 5000, 5000, 5000, 5000, 5000]))\n"
     ]
    },
    {
     "name": "stderr",
     "output_type": "stream",
     "text": [
      "LOCAL_RANK: 0 - CUDA_VISIBLE_DEVICES: [0,1]\n",
      "/nfs/ksdata/tran/miniconda3/envs/python_3.8/lib/python3.8/site-packages/lightning/pytorch/trainer/connectors/data_connector.py:441: The 'predict_dataloader' does not have many workers which may be a bottleneck. Consider increasing the value of the `num_workers` argument` to `num_workers=55` in the `DataLoader` to improve performance.\n"
     ]
    },
    {
     "name": "stdout",
     "output_type": "stream",
     "text": [
      "Predicting DataLoader 0: 100%|██████████████████████████████████████████████████████████████████████████████████████████████████████████████████████████████████████████████████████████████████████████████████| 79/79 [00:00<00:00, 160.60it/s]\n",
      "set_train_val_test_pred_merge_data\n",
      "limit_filter_data_by_class limit_number= 500\n",
      "limit_filter_data_by_class:  (array([1., 2., 3., 4., 5., 6., 7., 8.]), array([500, 500, 500, 500, 500, 500, 500, 500]))\n",
      "set_unsertainty_set\n"
     ]
    },
    {
     "name": "stderr",
     "output_type": "stream",
     "text": [
      "Trainer will use only 1 of 2 GPUs because it is running inside an interactive / notebook environment. You may try to set `Trainer(devices=2)` but please note that multi-GPU inside interactive / notebook environments is considered experimental and unstable. Your mileage may vary.\n",
      "GPU available: True (cuda), used: True\n",
      "TPU available: False, using: 0 TPU cores\n",
      "IPU available: False, using: 0 IPUs\n",
      "HPU available: False, using: 0 HPUs\n",
      "LOCAL_RANK: 0 - CUDA_VISIBLE_DEVICES: [0,1]\n",
      "/nfs/ksdata/tran/miniconda3/envs/python_3.8/lib/python3.8/site-packages/lightning/pytorch/trainer/connectors/data_connector.py:441: The 'test_dataloader' does not have many workers which may be a bottleneck. Consider increasing the value of the `num_workers` argument` to `num_workers=55` in the `DataLoader` to improve performance.\n"
     ]
    },
    {
     "name": "stdout",
     "output_type": "stream",
     "text": [
      "set_train_val_test_pred_merge_data\n",
      "limit_filter_data_by_class limit_number= 100\n",
      "limit_filter_data_by_class:  (array([1., 2., 3., 4., 5., 6., 7., 8.]), array([100, 100, 100, 100, 100, 100, 100, 100]))\n",
      "limit_filter_data_by_class limit_number= 100\n",
      "limit_filter_data_by_class:  (array([1., 2., 3., 4., 5., 6., 7., 8.]), array([100, 100, 100, 100, 100, 100, 100, 100]))\n",
      "data_module.sampling_rank [16944 34117 16549  4002 29873   993 35441 39840 32261 28701]\n",
      "Testing DataLoader 0: 100%|███████████████████████████████████████████████████████████████████████████████████████████████████████████████████████████████████████████████████████████████████████████████████████| 2/2 [00:00<00:00, 110.86it/s]"
     ]
    },
    {
     "name": "stderr",
     "output_type": "stream",
     "text": [
      "LOCAL_RANK: 0 - CUDA_VISIBLE_DEVICES: [0,1]\n"
     ]
    },
    {
     "name": "stdout",
     "output_type": "stream",
     "text": [
      "\n",
      "Predicting DataLoader 0: 100%|████████████████████████████████████████████████████████████████████████████████████████████████████████████████████████████████████████████████████████████████████████████████████| 2/2 [00:00<00:00, 169.28it/s]\n",
      "sampling_margin_200_42__reset\n"
     ]
    },
    {
     "name": "stderr",
     "output_type": "stream",
     "text": [
      "Trainer will use only 1 of 2 GPUs because it is running inside an interactive / notebook environment. You may try to set `Trainer(devices=2)` but please note that multi-GPU inside interactive / notebook environments is considered experimental and unstable. Your mileage may vary.\n",
      "/nfs/ksdata/tran/miniconda3/envs/python_3.8/lib/python3.8/site-packages/lightning/fabric/plugins/environments/slurm.py:191: The `srun` command is available on your system but is not used. HINT: If your intention is to run Lightning on SLURM, prepend your python command with `srun` like so: srun python /nfs/ksdata/tran/miniconda3/envs/python_3.8/lib/pyth ...\n",
      "GPU available: True (cuda), used: True\n",
      "TPU available: False, using: 0 TPU cores\n",
      "IPU available: False, using: 0 IPUs\n",
      "HPU available: False, using: 0 HPUs\n"
     ]
    },
    {
     "name": "stdout",
     "output_type": "stream",
     "text": [
      "limit_and_set_train_data limit_number= 500\n",
      "limit_filter_data_by_class limit_number= 500\n",
      "limit_filter_data_by_class:  (array([1., 2., 3., 4., 5., 6., 7., 8.]), array([500, 500, 500, 500, 500, 500, 500, 500]))\n",
      "data_module.choice_limited_list [56426  1336 17148 31823 45594 19119 29815 16311   589 46761]\n",
      "limit_filter_data_by_class limit_number= 5000\n",
      "limit_filter_data_by_class:  (array([1., 2., 3., 4., 5., 6., 7., 8.]), array([5000, 5000, 5000, 5000, 5000, 5000, 5000, 5000]))\n"
     ]
    },
    {
     "name": "stderr",
     "output_type": "stream",
     "text": [
      "LOCAL_RANK: 0 - CUDA_VISIBLE_DEVICES: [0,1]\n",
      "/nfs/ksdata/tran/miniconda3/envs/python_3.8/lib/python3.8/site-packages/lightning/pytorch/trainer/connectors/data_connector.py:441: The 'predict_dataloader' does not have many workers which may be a bottleneck. Consider increasing the value of the `num_workers` argument` to `num_workers=55` in the `DataLoader` to improve performance.\n"
     ]
    },
    {
     "name": "stdout",
     "output_type": "stream",
     "text": [
      "Predicting DataLoader 0: 100%|██████████████████████████████████████████████████████████████████████████████████████████████████████████████████████████████████████████████████████████████████████████████████| 79/79 [00:00<00:00, 127.99it/s]\n",
      "set_train_val_test_pred_merge_data\n",
      "limit_filter_data_by_class limit_number= 500\n",
      "limit_filter_data_by_class:  (array([1., 2., 3., 4., 5., 6., 7., 8.]), array([500, 500, 500, 500, 500, 500, 500, 500]))\n",
      "set_unsertainty_set\n",
      "set_train_val_test_pred_merge_data\n",
      "limit_filter_data_by_class limit_number= 100\n"
     ]
    },
    {
     "name": "stderr",
     "output_type": "stream",
     "text": [
      "Trainer will use only 1 of 2 GPUs because it is running inside an interactive / notebook environment. You may try to set `Trainer(devices=2)` but please note that multi-GPU inside interactive / notebook environments is considered experimental and unstable. Your mileage may vary.\n",
      "GPU available: True (cuda), used: True\n",
      "TPU available: False, using: 0 TPU cores\n",
      "IPU available: False, using: 0 IPUs\n",
      "HPU available: False, using: 0 HPUs\n",
      "LOCAL_RANK: 0 - CUDA_VISIBLE_DEVICES: [0,1]\n",
      "/nfs/ksdata/tran/miniconda3/envs/python_3.8/lib/python3.8/site-packages/lightning/pytorch/trainer/connectors/data_connector.py:441: The 'test_dataloader' does not have many workers which may be a bottleneck. Consider increasing the value of the `num_workers` argument` to `num_workers=55` in the `DataLoader` to improve performance.\n"
     ]
    },
    {
     "name": "stdout",
     "output_type": "stream",
     "text": [
      "limit_filter_data_by_class:  (array([1., 2., 3., 4., 5., 6., 7., 8.]), array([100, 100, 100, 100, 100, 100, 100, 100]))\n",
      "limit_filter_data_by_class limit_number= 100\n",
      "limit_filter_data_by_class:  (array([1., 2., 3., 4., 5., 6., 7., 8.]), array([100, 100, 100, 100, 100, 100, 100, 100]))\n",
      "data_module.sampling_rank [    5 37721  1241 33020  2710 22333 31213 37647 25311  4279]\n",
      "Testing DataLoader 0: 100%|████████████████████████████████████████████████████████████████████████████████████████████████████████████████████████████████████████████████████████████████████████████████████████| 2/2 [00:00<00:00, 92.99it/s]"
     ]
    },
    {
     "name": "stderr",
     "output_type": "stream",
     "text": [
      "LOCAL_RANK: 0 - CUDA_VISIBLE_DEVICES: [0,1]\n"
     ]
    },
    {
     "name": "stdout",
     "output_type": "stream",
     "text": [
      "\n",
      "Predicting DataLoader 0: 100%|████████████████████████████████████████████████████████████████████████████████████████████████████████████████████████████████████████████████████████████████████████████████████| 2/2 [00:00<00:00, 161.85it/s]\n",
      "sampling_margin_200_64__reset\n"
     ]
    },
    {
     "name": "stderr",
     "output_type": "stream",
     "text": [
      "Trainer will use only 1 of 2 GPUs because it is running inside an interactive / notebook environment. You may try to set `Trainer(devices=2)` but please note that multi-GPU inside interactive / notebook environments is considered experimental and unstable. Your mileage may vary.\n",
      "/nfs/ksdata/tran/miniconda3/envs/python_3.8/lib/python3.8/site-packages/lightning/fabric/plugins/environments/slurm.py:191: The `srun` command is available on your system but is not used. HINT: If your intention is to run Lightning on SLURM, prepend your python command with `srun` like so: srun python /nfs/ksdata/tran/miniconda3/envs/python_3.8/lib/pyth ...\n",
      "GPU available: True (cuda), used: True\n",
      "TPU available: False, using: 0 TPU cores\n",
      "IPU available: False, using: 0 IPUs\n",
      "HPU available: False, using: 0 HPUs\n"
     ]
    },
    {
     "name": "stdout",
     "output_type": "stream",
     "text": [
      "limit_and_set_train_data limit_number= 500\n",
      "limit_filter_data_by_class limit_number= 500\n",
      "limit_filter_data_by_class:  (array([1., 2., 3., 4., 5., 6., 7., 8.]), array([500, 500, 500, 500, 500, 500, 500, 500]))\n",
      "data_module.choice_limited_list [56426  1336 17148 31823 45594 19119 29815 16311   589 46761]\n",
      "limit_filter_data_by_class limit_number= 5000\n",
      "limit_filter_data_by_class:  (array([1., 2., 3., 4., 5., 6., 7., 8.]), array([5000, 5000, 5000, 5000, 5000, 5000, 5000, 5000]))\n"
     ]
    },
    {
     "name": "stderr",
     "output_type": "stream",
     "text": [
      "LOCAL_RANK: 0 - CUDA_VISIBLE_DEVICES: [0,1]\n",
      "/nfs/ksdata/tran/miniconda3/envs/python_3.8/lib/python3.8/site-packages/lightning/pytorch/trainer/connectors/data_connector.py:441: The 'predict_dataloader' does not have many workers which may be a bottleneck. Consider increasing the value of the `num_workers` argument` to `num_workers=55` in the `DataLoader` to improve performance.\n"
     ]
    },
    {
     "name": "stdout",
     "output_type": "stream",
     "text": [
      "Predicting DataLoader 0: 100%|██████████████████████████████████████████████████████████████████████████████████████████████████████████████████████████████████████████████████████████████████████████████████| 79/79 [00:00<00:00, 123.22it/s]\n",
      "set_train_val_test_pred_merge_data\n",
      "limit_filter_data_by_class limit_number= 500\n",
      "limit_filter_data_by_class:  (array([1., 2., 3., 4., 5., 6., 7., 8.]), array([500, 500, 500, 500, 500, 500, 500, 500]))\n",
      "set_unsertainty_set\n",
      "set_train_val_test_pred_merge_data\n",
      "limit_filter_data_by_class limit_number= 100\n",
      "limit_filter_data_by_class:  (array([1., 2., 3., 4., 5., 6., 7., 8.]), array([100, 100, 100, 100, 100, 100, 100, 100]))\n",
      "limit_filter_data_by_class limit_number= 100\n",
      "limit_filter_data_by_class:  (array([1., 2., 3., 4., 5., 6., 7., 8.]), array([100, 100, 100, 100, 100, 100, 100, 100]))\n",
      "data_module.sampling_rank [ 3560 32808 27455   320 34237  4066 33111 35246 23567 39151]\n"
     ]
    },
    {
     "name": "stderr",
     "output_type": "stream",
     "text": [
      "Trainer will use only 1 of 2 GPUs because it is running inside an interactive / notebook environment. You may try to set `Trainer(devices=2)` but please note that multi-GPU inside interactive / notebook environments is considered experimental and unstable. Your mileage may vary.\n",
      "GPU available: True (cuda), used: True\n",
      "TPU available: False, using: 0 TPU cores\n",
      "IPU available: False, using: 0 IPUs\n",
      "HPU available: False, using: 0 HPUs\n",
      "LOCAL_RANK: 0 - CUDA_VISIBLE_DEVICES: [0,1]\n",
      "/nfs/ksdata/tran/miniconda3/envs/python_3.8/lib/python3.8/site-packages/lightning/pytorch/trainer/connectors/data_connector.py:441: The 'test_dataloader' does not have many workers which may be a bottleneck. Consider increasing the value of the `num_workers` argument` to `num_workers=55` in the `DataLoader` to improve performance.\n"
     ]
    },
    {
     "name": "stdout",
     "output_type": "stream",
     "text": [
      "Testing DataLoader 0: 100%|███████████████████████████████████████████████████████████████████████████████████████████████████████████████████████████████████████████████████████████████████████████████████████| 2/2 [00:00<00:00, 112.11it/s]\n"
     ]
    },
    {
     "name": "stderr",
     "output_type": "stream",
     "text": [
      "LOCAL_RANK: 0 - CUDA_VISIBLE_DEVICES: [0,1]\n"
     ]
    },
    {
     "name": "stdout",
     "output_type": "stream",
     "text": [
      "Predicting DataLoader 0: 100%|████████████████████████████████████████████████████████████████████████████████████████████████████████████████████████████████████████████████████████████████████████████████████| 2/2 [00:00<00:00, 162.29it/s]\n",
      "sampling_margin_400_42__reset\n"
     ]
    },
    {
     "name": "stderr",
     "output_type": "stream",
     "text": [
      "Trainer will use only 1 of 2 GPUs because it is running inside an interactive / notebook environment. You may try to set `Trainer(devices=2)` but please note that multi-GPU inside interactive / notebook environments is considered experimental and unstable. Your mileage may vary.\n",
      "/nfs/ksdata/tran/miniconda3/envs/python_3.8/lib/python3.8/site-packages/lightning/fabric/plugins/environments/slurm.py:191: The `srun` command is available on your system but is not used. HINT: If your intention is to run Lightning on SLURM, prepend your python command with `srun` like so: srun python /nfs/ksdata/tran/miniconda3/envs/python_3.8/lib/pyth ...\n",
      "GPU available: True (cuda), used: True\n",
      "TPU available: False, using: 0 TPU cores\n",
      "IPU available: False, using: 0 IPUs\n",
      "HPU available: False, using: 0 HPUs\n"
     ]
    },
    {
     "name": "stdout",
     "output_type": "stream",
     "text": [
      "limit_and_set_train_data limit_number= 500\n",
      "limit_filter_data_by_class limit_number= 500\n",
      "limit_filter_data_by_class:  (array([1., 2., 3., 4., 5., 6., 7., 8.]), array([500, 500, 500, 500, 500, 500, 500, 500]))\n",
      "data_module.choice_limited_list [56426  1336 17148 31823 45594 19119 29815 16311   589 46761]\n",
      "limit_filter_data_by_class limit_number= 5000\n",
      "limit_filter_data_by_class:  (array([1., 2., 3., 4., 5., 6., 7., 8.]), array([5000, 5000, 5000, 5000, 5000, 5000, 5000, 5000]))\n"
     ]
    },
    {
     "name": "stderr",
     "output_type": "stream",
     "text": [
      "LOCAL_RANK: 0 - CUDA_VISIBLE_DEVICES: [0,1]\n",
      "/nfs/ksdata/tran/miniconda3/envs/python_3.8/lib/python3.8/site-packages/lightning/pytorch/trainer/connectors/data_connector.py:441: The 'predict_dataloader' does not have many workers which may be a bottleneck. Consider increasing the value of the `num_workers` argument` to `num_workers=55` in the `DataLoader` to improve performance.\n"
     ]
    },
    {
     "name": "stdout",
     "output_type": "stream",
     "text": [
      "Predicting DataLoader 0: 100%|██████████████████████████████████████████████████████████████████████████████████████████████████████████████████████████████████████████████████████████████████████████████████| 79/79 [00:00<00:00, 140.68it/s]\n",
      "set_train_val_test_pred_merge_data\n",
      "limit_filter_data_by_class limit_number= 500\n",
      "limit_filter_data_by_class:  (array([1., 2., 3., 4., 5., 6., 7., 8.]), array([500, 500, 500, 500, 500, 500, 500, 500]))\n",
      "set_unsertainty_set\n"
     ]
    },
    {
     "name": "stderr",
     "output_type": "stream",
     "text": [
      "Trainer will use only 1 of 2 GPUs because it is running inside an interactive / notebook environment. You may try to set `Trainer(devices=2)` but please note that multi-GPU inside interactive / notebook environments is considered experimental and unstable. Your mileage may vary.\n",
      "GPU available: True (cuda), used: True\n",
      "TPU available: False, using: 0 TPU cores\n",
      "IPU available: False, using: 0 IPUs\n",
      "HPU available: False, using: 0 HPUs\n",
      "LOCAL_RANK: 0 - CUDA_VISIBLE_DEVICES: [0,1]\n",
      "/nfs/ksdata/tran/miniconda3/envs/python_3.8/lib/python3.8/site-packages/lightning/pytorch/trainer/connectors/data_connector.py:441: The 'test_dataloader' does not have many workers which may be a bottleneck. Consider increasing the value of the `num_workers` argument` to `num_workers=55` in the `DataLoader` to improve performance.\n"
     ]
    },
    {
     "name": "stdout",
     "output_type": "stream",
     "text": [
      "set_train_val_test_pred_merge_data\n",
      "limit_filter_data_by_class limit_number= 100\n",
      "limit_filter_data_by_class:  (array([1., 2., 3., 4., 5., 6., 7., 8.]), array([100, 100, 100, 100, 100, 100, 100, 100]))\n",
      "limit_filter_data_by_class limit_number= 100\n",
      "limit_filter_data_by_class:  (array([1., 2., 3., 4., 5., 6., 7., 8.]), array([100, 100, 100, 100, 100, 100, 100, 100]))\n",
      "data_module.sampling_rank [ 4272 31829 34170  3228 32943  3104 36177  7062 37174 37888]\n",
      "Testing DataLoader 0: 100%|███████████████████████████████████████████████████████████████████████████████████████████████████████████████████████████████████████████████████████████████████████████████████████| 2/2 [00:00<00:00, 130.40it/s]"
     ]
    },
    {
     "name": "stderr",
     "output_type": "stream",
     "text": [
      "LOCAL_RANK: 0 - CUDA_VISIBLE_DEVICES: [0,1]\n"
     ]
    },
    {
     "name": "stdout",
     "output_type": "stream",
     "text": [
      "\n",
      "Predicting DataLoader 0: 100%|████████████████████████████████████████████████████████████████████████████████████████████████████████████████████████████████████████████████████████████████████████████████████| 2/2 [00:00<00:00, 197.99it/s]\n",
      "sampling_margin_400_64__reset\n"
     ]
    },
    {
     "name": "stderr",
     "output_type": "stream",
     "text": [
      "Trainer will use only 1 of 2 GPUs because it is running inside an interactive / notebook environment. You may try to set `Trainer(devices=2)` but please note that multi-GPU inside interactive / notebook environments is considered experimental and unstable. Your mileage may vary.\n",
      "/nfs/ksdata/tran/miniconda3/envs/python_3.8/lib/python3.8/site-packages/lightning/fabric/plugins/environments/slurm.py:191: The `srun` command is available on your system but is not used. HINT: If your intention is to run Lightning on SLURM, prepend your python command with `srun` like so: srun python /nfs/ksdata/tran/miniconda3/envs/python_3.8/lib/pyth ...\n",
      "GPU available: True (cuda), used: True\n",
      "TPU available: False, using: 0 TPU cores\n",
      "IPU available: False, using: 0 IPUs\n",
      "HPU available: False, using: 0 HPUs\n"
     ]
    },
    {
     "name": "stdout",
     "output_type": "stream",
     "text": [
      "limit_and_set_train_data limit_number= 500\n",
      "limit_filter_data_by_class limit_number= 500\n",
      "limit_filter_data_by_class:  (array([1., 2., 3., 4., 5., 6., 7., 8.]), array([500, 500, 500, 500, 500, 500, 500, 500]))\n",
      "data_module.choice_limited_list [56426  1336 17148 31823 45594 19119 29815 16311   589 46761]\n",
      "limit_filter_data_by_class limit_number= 5000\n",
      "limit_filter_data_by_class:  (array([1., 2., 3., 4., 5., 6., 7., 8.]), array([5000, 5000, 5000, 5000, 5000, 5000, 5000, 5000]))\n"
     ]
    },
    {
     "name": "stderr",
     "output_type": "stream",
     "text": [
      "LOCAL_RANK: 0 - CUDA_VISIBLE_DEVICES: [0,1]\n",
      "/nfs/ksdata/tran/miniconda3/envs/python_3.8/lib/python3.8/site-packages/lightning/pytorch/trainer/connectors/data_connector.py:441: The 'predict_dataloader' does not have many workers which may be a bottleneck. Consider increasing the value of the `num_workers` argument` to `num_workers=55` in the `DataLoader` to improve performance.\n"
     ]
    },
    {
     "name": "stdout",
     "output_type": "stream",
     "text": [
      "Predicting DataLoader 0: 100%|██████████████████████████████████████████████████████████████████████████████████████████████████████████████████████████████████████████████████████████████████████████████████| 79/79 [00:00<00:00, 132.66it/s]\n",
      "set_train_val_test_pred_merge_data\n",
      "limit_filter_data_by_class limit_number= 500\n",
      "limit_filter_data_by_class:  (array([1., 2., 3., 4., 5., 6., 7., 8.]), array([500, 500, 500, 500, 500, 500, 500, 500]))\n",
      "set_unsertainty_set\n",
      "set_train_val_test_pred_merge_data\n",
      "limit_filter_data_by_class limit_number= 100\n"
     ]
    },
    {
     "name": "stderr",
     "output_type": "stream",
     "text": [
      "Trainer will use only 1 of 2 GPUs because it is running inside an interactive / notebook environment. You may try to set `Trainer(devices=2)` but please note that multi-GPU inside interactive / notebook environments is considered experimental and unstable. Your mileage may vary.\n",
      "GPU available: True (cuda), used: True\n",
      "TPU available: False, using: 0 TPU cores\n",
      "IPU available: False, using: 0 IPUs\n",
      "HPU available: False, using: 0 HPUs\n",
      "LOCAL_RANK: 0 - CUDA_VISIBLE_DEVICES: [0,1]\n",
      "/nfs/ksdata/tran/miniconda3/envs/python_3.8/lib/python3.8/site-packages/lightning/pytorch/trainer/connectors/data_connector.py:441: The 'test_dataloader' does not have many workers which may be a bottleneck. Consider increasing the value of the `num_workers` argument` to `num_workers=55` in the `DataLoader` to improve performance.\n"
     ]
    },
    {
     "name": "stdout",
     "output_type": "stream",
     "text": [
      "limit_filter_data_by_class:  (array([1., 2., 3., 4., 5., 6., 7., 8.]), array([100, 100, 100, 100, 100, 100, 100, 100]))\n",
      "limit_filter_data_by_class limit_number= 100\n",
      "limit_filter_data_by_class:  (array([1., 2., 3., 4., 5., 6., 7., 8.]), array([100, 100, 100, 100, 100, 100, 100, 100]))\n",
      "data_module.sampling_rank [22618 21073 34154 38491 37791 28808 30412 23058 30053 39110]\n",
      "Testing DataLoader 0: 100%|███████████████████████████████████████████████████████████████████████████████████████████████████████████████████████████████████████████████████████████████████████████████████████| 2/2 [00:00<00:00, 123.51it/s]"
     ]
    },
    {
     "name": "stderr",
     "output_type": "stream",
     "text": [
      "LOCAL_RANK: 0 - CUDA_VISIBLE_DEVICES: [0,1]\n"
     ]
    },
    {
     "name": "stdout",
     "output_type": "stream",
     "text": [
      "\n",
      "Predicting DataLoader 0: 100%|████████████████████████████████████████████████████████████████████████████████████████████████████████████████████████████████████████████████████████████████████████████████████| 2/2 [00:00<00:00, 188.77it/s]\n",
      "sampling_margin_800_42__reset\n"
     ]
    },
    {
     "name": "stderr",
     "output_type": "stream",
     "text": [
      "Trainer will use only 1 of 2 GPUs because it is running inside an interactive / notebook environment. You may try to set `Trainer(devices=2)` but please note that multi-GPU inside interactive / notebook environments is considered experimental and unstable. Your mileage may vary.\n",
      "/nfs/ksdata/tran/miniconda3/envs/python_3.8/lib/python3.8/site-packages/lightning/fabric/plugins/environments/slurm.py:191: The `srun` command is available on your system but is not used. HINT: If your intention is to run Lightning on SLURM, prepend your python command with `srun` like so: srun python /nfs/ksdata/tran/miniconda3/envs/python_3.8/lib/pyth ...\n",
      "GPU available: True (cuda), used: True\n",
      "TPU available: False, using: 0 TPU cores\n",
      "IPU available: False, using: 0 IPUs\n",
      "HPU available: False, using: 0 HPUs\n"
     ]
    },
    {
     "name": "stdout",
     "output_type": "stream",
     "text": [
      "limit_and_set_train_data limit_number= 500\n",
      "limit_filter_data_by_class limit_number= 500\n",
      "limit_filter_data_by_class:  (array([1., 2., 3., 4., 5., 6., 7., 8.]), array([500, 500, 500, 500, 500, 500, 500, 500]))\n",
      "data_module.choice_limited_list [56426  1336 17148 31823 45594 19119 29815 16311   589 46761]\n",
      "limit_filter_data_by_class limit_number= 5000\n",
      "limit_filter_data_by_class:  (array([1., 2., 3., 4., 5., 6., 7., 8.]), array([5000, 5000, 5000, 5000, 5000, 5000, 5000, 5000]))\n"
     ]
    },
    {
     "name": "stderr",
     "output_type": "stream",
     "text": [
      "LOCAL_RANK: 0 - CUDA_VISIBLE_DEVICES: [0,1]\n",
      "/nfs/ksdata/tran/miniconda3/envs/python_3.8/lib/python3.8/site-packages/lightning/pytorch/trainer/connectors/data_connector.py:441: The 'predict_dataloader' does not have many workers which may be a bottleneck. Consider increasing the value of the `num_workers` argument` to `num_workers=55` in the `DataLoader` to improve performance.\n"
     ]
    },
    {
     "name": "stdout",
     "output_type": "stream",
     "text": [
      "Predicting DataLoader 0: 100%|██████████████████████████████████████████████████████████████████████████████████████████████████████████████████████████████████████████████████████████████████████████████████| 79/79 [00:00<00:00, 128.84it/s]\n",
      "set_train_val_test_pred_merge_data\n",
      "limit_filter_data_by_class limit_number= 500\n",
      "limit_filter_data_by_class:  (array([1., 2., 3., 4., 5., 6., 7., 8.]), array([500, 500, 500, 500, 500, 500, 500, 500]))\n",
      "set_unsertainty_set\n"
     ]
    },
    {
     "name": "stderr",
     "output_type": "stream",
     "text": [
      "Trainer will use only 1 of 2 GPUs because it is running inside an interactive / notebook environment. You may try to set `Trainer(devices=2)` but please note that multi-GPU inside interactive / notebook environments is considered experimental and unstable. Your mileage may vary.\n",
      "GPU available: True (cuda), used: True\n",
      "TPU available: False, using: 0 TPU cores\n",
      "IPU available: False, using: 0 IPUs\n",
      "HPU available: False, using: 0 HPUs\n",
      "LOCAL_RANK: 0 - CUDA_VISIBLE_DEVICES: [0,1]\n",
      "/nfs/ksdata/tran/miniconda3/envs/python_3.8/lib/python3.8/site-packages/lightning/pytorch/trainer/connectors/data_connector.py:441: The 'test_dataloader' does not have many workers which may be a bottleneck. Consider increasing the value of the `num_workers` argument` to `num_workers=55` in the `DataLoader` to improve performance.\n"
     ]
    },
    {
     "name": "stdout",
     "output_type": "stream",
     "text": [
      "set_train_val_test_pred_merge_data\n",
      "limit_filter_data_by_class limit_number= 100\n",
      "limit_filter_data_by_class:  (array([1., 2., 3., 4., 5., 6., 7., 8.]), array([100, 100, 100, 100, 100, 100, 100, 100]))\n",
      "limit_filter_data_by_class limit_number= 100\n",
      "limit_filter_data_by_class:  (array([1., 2., 3., 4., 5., 6., 7., 8.]), array([100, 100, 100, 100, 100, 100, 100, 100]))\n",
      "data_module.sampling_rank [30800 25665 36856 32176 32179 30504 30777 29425 34388  4286]\n",
      "Testing DataLoader 0: 100%|████████████████████████████████████████████████████████████████████████████████████████████████████████████████████████████████████████████████████████████████████████████████████████| 2/2 [00:00<00:00, 88.60it/s]"
     ]
    },
    {
     "name": "stderr",
     "output_type": "stream",
     "text": [
      "LOCAL_RANK: 0 - CUDA_VISIBLE_DEVICES: [0,1]\n"
     ]
    },
    {
     "name": "stdout",
     "output_type": "stream",
     "text": [
      "\n",
      "Predicting DataLoader 0: 100%|████████████████████████████████████████████████████████████████████████████████████████████████████████████████████████████████████████████████████████████████████████████████████| 2/2 [00:00<00:00, 191.50it/s]\n",
      "sampling_margin_800_64__reset\n"
     ]
    },
    {
     "name": "stderr",
     "output_type": "stream",
     "text": [
      "Trainer will use only 1 of 2 GPUs because it is running inside an interactive / notebook environment. You may try to set `Trainer(devices=2)` but please note that multi-GPU inside interactive / notebook environments is considered experimental and unstable. Your mileage may vary.\n",
      "/nfs/ksdata/tran/miniconda3/envs/python_3.8/lib/python3.8/site-packages/lightning/fabric/plugins/environments/slurm.py:191: The `srun` command is available on your system but is not used. HINT: If your intention is to run Lightning on SLURM, prepend your python command with `srun` like so: srun python /nfs/ksdata/tran/miniconda3/envs/python_3.8/lib/pyth ...\n",
      "GPU available: True (cuda), used: True\n",
      "TPU available: False, using: 0 TPU cores\n",
      "IPU available: False, using: 0 IPUs\n",
      "HPU available: False, using: 0 HPUs\n"
     ]
    },
    {
     "name": "stdout",
     "output_type": "stream",
     "text": [
      "limit_and_set_train_data limit_number= 500\n",
      "limit_filter_data_by_class limit_number= 500\n",
      "limit_filter_data_by_class:  (array([1., 2., 3., 4., 5., 6., 7., 8.]), array([500, 500, 500, 500, 500, 500, 500, 500]))\n",
      "data_module.choice_limited_list [56426  1336 17148 31823 45594 19119 29815 16311   589 46761]\n",
      "limit_filter_data_by_class limit_number= 5000\n",
      "limit_filter_data_by_class:  (array([1., 2., 3., 4., 5., 6., 7., 8.]), array([5000, 5000, 5000, 5000, 5000, 5000, 5000, 5000]))\n"
     ]
    },
    {
     "name": "stderr",
     "output_type": "stream",
     "text": [
      "LOCAL_RANK: 0 - CUDA_VISIBLE_DEVICES: [0,1]\n",
      "/nfs/ksdata/tran/miniconda3/envs/python_3.8/lib/python3.8/site-packages/lightning/pytorch/trainer/connectors/data_connector.py:441: The 'predict_dataloader' does not have many workers which may be a bottleneck. Consider increasing the value of the `num_workers` argument` to `num_workers=55` in the `DataLoader` to improve performance.\n"
     ]
    },
    {
     "name": "stdout",
     "output_type": "stream",
     "text": [
      "Predicting DataLoader 0: 100%|██████████████████████████████████████████████████████████████████████████████████████████████████████████████████████████████████████████████████████████████████████████████████| 79/79 [00:00<00:00, 144.30it/s]\n",
      "set_train_val_test_pred_merge_data\n",
      "limit_filter_data_by_class limit_number= 500\n",
      "limit_filter_data_by_class:  (array([1., 2., 3., 4., 5., 6., 7., 8.]), array([500, 500, 500, 500, 500, 500, 500, 500]))\n",
      "set_unsertainty_set\n"
     ]
    },
    {
     "name": "stderr",
     "output_type": "stream",
     "text": [
      "Trainer will use only 1 of 2 GPUs because it is running inside an interactive / notebook environment. You may try to set `Trainer(devices=2)` but please note that multi-GPU inside interactive / notebook environments is considered experimental and unstable. Your mileage may vary.\n",
      "GPU available: True (cuda), used: True\n",
      "TPU available: False, using: 0 TPU cores\n",
      "IPU available: False, using: 0 IPUs\n",
      "HPU available: False, using: 0 HPUs\n",
      "LOCAL_RANK: 0 - CUDA_VISIBLE_DEVICES: [0,1]\n",
      "/nfs/ksdata/tran/miniconda3/envs/python_3.8/lib/python3.8/site-packages/lightning/pytorch/trainer/connectors/data_connector.py:441: The 'test_dataloader' does not have many workers which may be a bottleneck. Consider increasing the value of the `num_workers` argument` to `num_workers=55` in the `DataLoader` to improve performance.\n"
     ]
    },
    {
     "name": "stdout",
     "output_type": "stream",
     "text": [
      "set_train_val_test_pred_merge_data\n",
      "limit_filter_data_by_class limit_number= 100\n",
      "limit_filter_data_by_class:  (array([1., 2., 3., 4., 5., 6., 7., 8.]), array([100, 100, 100, 100, 100, 100, 100, 100]))\n",
      "limit_filter_data_by_class limit_number= 100\n",
      "limit_filter_data_by_class:  (array([1., 2., 3., 4., 5., 6., 7., 8.]), array([100, 100, 100, 100, 100, 100, 100, 100]))\n",
      "data_module.sampling_rank [17781 30527   502 36177  1802 35208 21196 15482 26560 36532]\n",
      "Testing DataLoader 0: 100%|███████████████████████████████████████████████████████████████████████████████████████████████████████████████████████████████████████████████████████████████████████████████████████| 2/2 [00:00<00:00, 127.01it/s]"
     ]
    },
    {
     "name": "stderr",
     "output_type": "stream",
     "text": [
      "LOCAL_RANK: 0 - CUDA_VISIBLE_DEVICES: [0,1]\n"
     ]
    },
    {
     "name": "stdout",
     "output_type": "stream",
     "text": [
      "\n",
      "Predicting DataLoader 0: 100%|████████████████████████████████████████████████████████████████████████████████████████████████████████████████████████████████████████████████████████████████████████████████████| 2/2 [00:00<00:00, 192.61it/s]\n"
     ]
    }
   ],
   "source": [
    "args.eval_mode = 1\n",
    "if args.eval_mode:\n",
    "    reset_str = \"_reset\"\n",
    "    lightning_save_dir = f\"lightning_logs/16.3_AL_v4_500lim/\"\n",
    "    result_save_dict = {}\n",
    "    sampling_size_list = list(map(int, \"200 400 800\".split(\" \")))\n",
    "    raw_result_save_dict = {}\n",
    "    \n",
    "    for args.method in [\"random\", \"sampling\"]:\n",
    "        if args.method == \"random\":\n",
    "            heuristic_list = [\"uncertainty\"]\n",
    "\n",
    "        else:\n",
    "            heuristic_list = [\"uncertainty\", \"entropy\", \"margin\"]\n",
    "        \n",
    "        for args.sampling_heuristic in heuristic_list:\n",
    "            for args.sampling_size in sampling_size_list:\n",
    "                for args.random_seed in \"42 64\".split(\" \"):\n",
    "                    save_model_folder = f\"{args.method}_{args.sampling_heuristic}_{args.sampling_size}_{args.random_seed}_{reset_str}\"\n",
    "                    print(save_model_folder)\n",
    "                    save_model_dir = os.path.join(lightning_save_dir, save_model_folder)\n",
    "                    \n",
    "                    weight = glob.glob(os.path.join(save_model_dir, \"version_0\", \"checkpoints\", \"*.ckpt\"))[0]\n",
    "    \n",
    "                    net = Classifier1DMaxPoolBNModel.load_from_checkpoint(weight)\n",
    "                    data_module = ALDataModule_v1.load_from_checkpoint(weight)\n",
    "                    data_module = generate_sampling_datamodule(data_module)\n",
    "    \n",
    "                    trainer = L.Trainer()\n",
    "                    trainer.test(model=net, datamodule=data_module, verbose=False)\n",
    "                    test_acc = trainer.logged_metrics[\"test_acc\"]\n",
    "    \n",
    "                    result_save_dict[save_model_folder] = test_acc.item()\n",
    "\n",
    "                    output = trainer.predict(model=net, datamodule=data_module)\n",
    "                    pred = torch.argmax(torch.concat(output), dim=1)\n",
    "                    gt = list(map(lambda x: x[1], iter(data_module.test_dataloader())))\n",
    "    \n",
    "                    pred_ravel = pred.numpy()\n",
    "                    gt_ravel = np.concatenate(list(map(lambda x: x.numpy(), gt)))\n",
    "    \n",
    "                    cf = confusion_matrix(gt_ravel, pred_ravel)\n",
    "                    \n",
    "                    raw_result_save_dict[save_model_folder] = cf.tolist()\n"
   ]
  },
  {
   "cell_type": "code",
   "execution_count": 58,
   "metadata": {},
   "outputs": [],
   "source": [
    "raw_result_save_dict\n",
    "with open(\"save_data/16.3_AL_500lim.json\", \"w\") as f:\n",
    "    json.dump(raw_result_save_dict, f, indent=2)"
   ]
  },
  {
   "cell_type": "code",
   "execution_count": 60,
   "metadata": {},
   "outputs": [
    {
     "data": {
      "image/png": "[encoded data removed]",
      "text/plain": [
       "<Figure size 640x480 with 1 Axes>"
      ]
     },
     "metadata": {},
     "output_type": "display_data"
    }
   ],
   "source": [
    "if args.eval_mode:\n",
    "    reset_str = \"_reset\"\n",
    "    args.random_seed = \"64\"\n",
    "    sampling_size_list = list(map(int, \"200 400 800\".split(\" \")))\n",
    "\n",
    "    for args.method in [\"random\", \"sampling\"]:\n",
    "        if args.method == \"random\":\n",
    "            heuristic_list = [\"uncertainty\"]\n",
    "        else:\n",
    "            heuristic_list = [\"uncertainty\", \"entropy\", \"margin\"]\n",
    "        for args.sampling_heuristic in heuristic_list:\n",
    "            sampling_y = []\n",
    "            \n",
    "            for args.sampling_size in sampling_size_list:\n",
    "                save_model_folder = f\"{args.method}_{args.sampling_heuristic}_{args.sampling_size}_{args.random_seed}_{reset_str}\"\n",
    "                sampling_y.append(result_save_dict[save_model_folder])\n",
    "\n",
    "            if args.method == \"random\": args.sampling_heuristic=\"\"\n",
    "            plt.plot(sampling_size_list, sampling_y, label=f\"{args.method}_{args.sampling_heuristic}\")\n",
    "\n",
    "    plt.ylim(0.6, 1)\n",
    "    plt.legend()\n",
    "    plt.xticks(sampling_size_list)\n",
    "    plt.xlabel(\"sampling size\")\n",
    "    plt.ylabel(\"accuracy\")\n",
    "    plt.title(\"Active learning result\")\n",
    "            \n",
    "                "
   ]
  },
  {
   "cell_type": "code",
   "execution_count": null,
   "metadata": {},
   "outputs": [],
   "source": []
  }
 ],
 "metadata": {
  "kernelspec": {
   "display_name": "Python 3 (ipykernel)",
   "language": "python",
   "name": "python3"
  },
  "language_info": {
   "codemirror_mode": {
    "name": "ipython",
    "version": 3
   },
   "file_extension": ".py",
   "mimetype": "text/x-python",
   "name": "python",
   "nbconvert_exporter": "python",
   "pygments_lexer": "ipython3",
   "version": "3.8.18"
  }
 },
 "nbformat": 4,
 "nbformat_minor": 4
}
