{
 "cells": [
  {
   "cell_type": "code",
   "execution_count": 1,
   "metadata": {
    "collapsed": true
   },
   "outputs": [],
   "source": [
    "import pandas as pd\n",
    "import numpy as np"
   ]
  },
  {
   "cell_type": "code",
   "execution_count": 2,
   "metadata": {
    "collapsed": false
   },
   "outputs": [
    {
     "data": {
      "text/html": [
       "<div>\n",
       "<table border=\"1\" class=\"dataframe\">\n",
       "  <thead>\n",
       "    <tr style=\"text-align: right;\">\n",
       "      <th></th>\n",
       "      <th>NO_LABEL</th>\n",
       "      <th>ROLL</th>\n",
       "      <th>RUN</th>\n",
       "      <th>DOOR</th>\n",
       "    </tr>\n",
       "    <tr>\n",
       "      <th>timestamp</th>\n",
       "      <th></th>\n",
       "      <th></th>\n",
       "      <th></th>\n",
       "      <th></th>\n",
       "    </tr>\n",
       "  </thead>\n",
       "  <tbody>\n",
       "    <tr>\n",
       "      <th>2017-04-06T07:56:37.391</th>\n",
       "      <td>0.024222</td>\n",
       "      <td>0.975765</td>\n",
       "      <td>0.000013</td>\n",
       "      <td>4.725860e-09</td>\n",
       "    </tr>\n",
       "    <tr>\n",
       "      <th>2017-04-06T07:56:38.391</th>\n",
       "      <td>0.050397</td>\n",
       "      <td>0.949581</td>\n",
       "      <td>0.000022</td>\n",
       "      <td>2.532548e-08</td>\n",
       "    </tr>\n",
       "    <tr>\n",
       "      <th>2017-04-06T07:56:39.391</th>\n",
       "      <td>0.021869</td>\n",
       "      <td>0.978104</td>\n",
       "      <td>0.000026</td>\n",
       "      <td>1.324938e-08</td>\n",
       "    </tr>\n",
       "    <tr>\n",
       "      <th>2017-04-06T07:56:40.391</th>\n",
       "      <td>0.044357</td>\n",
       "      <td>0.955492</td>\n",
       "      <td>0.000150</td>\n",
       "      <td>4.967873e-07</td>\n",
       "    </tr>\n",
       "    <tr>\n",
       "      <th>2017-04-06T07:56:41.391</th>\n",
       "      <td>0.204391</td>\n",
       "      <td>0.795597</td>\n",
       "      <td>0.000012</td>\n",
       "      <td>5.520221e-08</td>\n",
       "    </tr>\n",
       "  </tbody>\n",
       "</table>\n",
       "</div>"
      ],
      "text/plain": [
       "                         NO_LABEL      ROLL       RUN          DOOR\n",
       "timestamp                                                          \n",
       "2017-04-06T07:56:37.391  0.024222  0.975765  0.000013  4.725860e-09\n",
       "2017-04-06T07:56:38.391  0.050397  0.949581  0.000022  2.532548e-08\n",
       "2017-04-06T07:56:39.391  0.021869  0.978104  0.000026  1.324938e-08\n",
       "2017-04-06T07:56:40.391  0.044357  0.955492  0.000150  4.967873e-07\n",
       "2017-04-06T07:56:41.391  0.204391  0.795597  0.000012  5.520221e-08"
      ]
     },
     "execution_count": 2,
     "metadata": {},
     "output_type": "execute_result"
    }
   ],
   "source": [
    "predicted013 = pd.read_csv(\"./models/20180806/predict/predicted-013013_20170406_000.csv\")\n",
    "predicted013 = predicted013.set_index(\"timestamp\")\n",
    "predicted013.head()"
   ]
  },
  {
   "cell_type": "markdown",
   "metadata": {},
   "source": [
    "## Uncertainly Sampling"
   ]
  },
  {
   "cell_type": "markdown",
   "metadata": {},
   "source": [
    "### margin sampling"
   ]
  },
  {
   "cell_type": "code",
   "execution_count": null,
   "metadata": {
    "collapsed": true
   },
   "outputs": [],
   "source": []
  },
  {
   "cell_type": "code",
   "execution_count": 25,
   "metadata": {
    "collapsed": false
   },
   "outputs": [],
   "source": [
    "max2max = []\n",
    "for index, row in predicted013.iterrows():\n",
    "    Row = np.array(row)\n",
    "    Row = np.sort(Row)\n",
    "    max2max.append(Row[3] - Row[2])"
   ]
  },
  {
   "cell_type": "code",
   "execution_count": 26,
   "metadata": {
    "collapsed": false
   },
   "outputs": [],
   "source": [
    "data = {\"margin\": max2max}"
   ]
  },
  {
   "cell_type": "code",
   "execution_count": 27,
   "metadata": {
    "collapsed": false
   },
   "outputs": [],
   "source": [
    "f = pd.DataFrame(data)\n",
    "f[\"timestamp\"] = predicted013.index"
   ]
  },
  {
   "cell_type": "code",
   "execution_count": 28,
   "metadata": {
    "collapsed": false
   },
   "outputs": [
    {
     "data": {
      "text/html": [
       "<div>\n",
       "<table border=\"1\" class=\"dataframe\">\n",
       "  <thead>\n",
       "    <tr style=\"text-align: right;\">\n",
       "      <th></th>\n",
       "      <th>margin</th>\n",
       "    </tr>\n",
       "    <tr>\n",
       "      <th>timestamp</th>\n",
       "      <th></th>\n",
       "    </tr>\n",
       "  </thead>\n",
       "  <tbody>\n",
       "    <tr>\n",
       "      <th>2017-04-06T07:56:37.391</th>\n",
       "      <td>0.951544</td>\n",
       "    </tr>\n",
       "    <tr>\n",
       "      <th>2017-04-06T07:56:38.391</th>\n",
       "      <td>0.899183</td>\n",
       "    </tr>\n",
       "    <tr>\n",
       "      <th>2017-04-06T07:56:39.391</th>\n",
       "      <td>0.956235</td>\n",
       "    </tr>\n",
       "    <tr>\n",
       "      <th>2017-04-06T07:56:40.391</th>\n",
       "      <td>0.911135</td>\n",
       "    </tr>\n",
       "    <tr>\n",
       "      <th>2017-04-06T07:56:41.391</th>\n",
       "      <td>0.591206</td>\n",
       "    </tr>\n",
       "  </tbody>\n",
       "</table>\n",
       "</div>"
      ],
      "text/plain": [
       "                           margin\n",
       "timestamp                        \n",
       "2017-04-06T07:56:37.391  0.951544\n",
       "2017-04-06T07:56:38.391  0.899183\n",
       "2017-04-06T07:56:39.391  0.956235\n",
       "2017-04-06T07:56:40.391  0.911135\n",
       "2017-04-06T07:56:41.391  0.591206"
      ]
     },
     "execution_count": 28,
     "metadata": {},
     "output_type": "execute_result"
    }
   ],
   "source": [
    "f = f.set_index(\"timestamp\")\n",
    "f.head()"
   ]
  },
  {
   "cell_type": "code",
   "execution_count": 29,
   "metadata": {
    "collapsed": false
   },
   "outputs": [
    {
     "data": {
      "image/png": "[encoded data removed]",
      "text/plain": [
       "<matplotlib.figure.Figure at 0x7f3a1f11bc18>"
      ]
     },
     "metadata": {},
     "output_type": "display_data"
    }
   ],
   "source": [
    "import matplotlib.pyplot as plt\n",
    "\n",
    "%matplotlib inline\n",
    "plt.hist(f[\"margin\"], bins=50)\n",
    "plt.savefig(\"./image/margin.png\")\n",
    "plt.show()"
   ]
  },
  {
   "cell_type": "markdown",
   "metadata": {},
   "source": [
    "#### 階級値と度数"
   ]
  },
  {
   "cell_type": "code",
   "execution_count": 33,
   "metadata": {
    "collapsed": false
   },
   "outputs": [
    {
     "name": "stdout",
     "output_type": "stream",
     "text": [
      "279 249 272 272 274 333 417 572 900 14347\n"
     ]
    }
   ],
   "source": [
    "x = y = z = a = b = c = d = e = g = over = 0\n",
    "for index, row in f.iterrows():\n",
    "    i = float(row)\n",
    "    if i <= 0.1:\n",
    "        x += 1\n",
    "    elif i <= 0.2:\n",
    "        y += 1\n",
    "    elif i <= 0.3:\n",
    "        z += 1\n",
    "    elif i <= 0.4:\n",
    "        a += 1\n",
    "    elif i <= 0.5:\n",
    "        b += 1\n",
    "    elif i <= 0.6:\n",
    "        c += 1\n",
    "    elif i <= 0.7:\n",
    "        d += 1\n",
    "    elif i <= 0.8:\n",
    "        e += 1\n",
    "    elif i <= 0.9:\n",
    "        g += 1\n",
    "    elif i <= 1:\n",
    "        over += 1\n",
    "print(x,y,z,a,b,c,d,e,g,over)#度数"
   ]
  },
  {
   "cell_type": "code",
   "execution_count": 36,
   "metadata": {
    "collapsed": false
   },
   "outputs": [],
   "source": [
    "maginclass = []\n",
    "x = y = z = a = b = c = d = e = g = over = 0\n",
    "for index, row in f.iterrows():\n",
    "    i = float(row)\n",
    "    if i <= 0.1:\n",
    "        maginclass.append(0.1)\n",
    "    elif i <= 0.2:\n",
    "        y += 1\n",
    "        maginclass.append(0.2)\n",
    "    elif i <= 0.3:\n",
    "        z += 1\n",
    "        maginclass.append(0.3)\n",
    "    elif i <= 0.4:\n",
    "        a += 1\n",
    "        maginclass.append(0.4)\n",
    "    elif i <= 0.5:\n",
    "        b += 1\n",
    "        maginclass.append(0.5)\n",
    "    elif i <= 0.6:\n",
    "        c += 1\n",
    "        maginclass.append(0.6)\n",
    "    elif i <= 0.7:\n",
    "        d += 1\n",
    "        maginclass.append(0.7)\n",
    "    elif i <= 0.8:\n",
    "        e += 1\n",
    "        maginclass.append(0.8)\n",
    "    elif i <= 0.9:\n",
    "        g += 1\n",
    "        maginclass.append(0.9)\n",
    "    elif i <= 1:\n",
    "        over += 1\n",
    "        maginclass.append(1)"
   ]
  },
  {
   "cell_type": "code",
   "execution_count": 38,
   "metadata": {
    "collapsed": false
   },
   "outputs": [],
   "source": [
    "f[\"class\"] = maginclass"
   ]
  },
  {
   "cell_type": "code",
   "execution_count": 39,
   "metadata": {
    "collapsed": false
   },
   "outputs": [
    {
     "data": {
      "text/html": [
       "<div>\n",
       "<table border=\"1\" class=\"dataframe\">\n",
       "  <thead>\n",
       "    <tr style=\"text-align: right;\">\n",
       "      <th></th>\n",
       "      <th>margin</th>\n",
       "      <th>class</th>\n",
       "    </tr>\n",
       "    <tr>\n",
       "      <th>timestamp</th>\n",
       "      <th></th>\n",
       "      <th></th>\n",
       "    </tr>\n",
       "  </thead>\n",
       "  <tbody>\n",
       "    <tr>\n",
       "      <th>2017-04-06T07:56:37.391</th>\n",
       "      <td>0.951544</td>\n",
       "      <td>1.0</td>\n",
       "    </tr>\n",
       "    <tr>\n",
       "      <th>2017-04-06T07:56:38.391</th>\n",
       "      <td>0.899183</td>\n",
       "      <td>0.9</td>\n",
       "    </tr>\n",
       "    <tr>\n",
       "      <th>2017-04-06T07:56:39.391</th>\n",
       "      <td>0.956235</td>\n",
       "      <td>1.0</td>\n",
       "    </tr>\n",
       "    <tr>\n",
       "      <th>2017-04-06T07:56:40.391</th>\n",
       "      <td>0.911135</td>\n",
       "      <td>1.0</td>\n",
       "    </tr>\n",
       "    <tr>\n",
       "      <th>2017-04-06T07:56:41.391</th>\n",
       "      <td>0.591206</td>\n",
       "      <td>0.6</td>\n",
       "    </tr>\n",
       "  </tbody>\n",
       "</table>\n",
       "</div>"
      ],
      "text/plain": [
       "                           margin  class\n",
       "timestamp                               \n",
       "2017-04-06T07:56:37.391  0.951544    1.0\n",
       "2017-04-06T07:56:38.391  0.899183    0.9\n",
       "2017-04-06T07:56:39.391  0.956235    1.0\n",
       "2017-04-06T07:56:40.391  0.911135    1.0\n",
       "2017-04-06T07:56:41.391  0.591206    0.6"
      ]
     },
     "execution_count": 39,
     "metadata": {},
     "output_type": "execute_result"
    }
   ],
   "source": [
    "f.head()"
   ]
  },
  {
   "cell_type": "code",
   "execution_count": 47,
   "metadata": {
    "collapsed": false,
    "scrolled": true
   },
   "outputs": [
    {
     "data": {
      "text/plain": [
       "Index(['2017-04-06T08:17:40.469', '2017-04-06T08:23:21.460',\n",
       "       '2017-04-06T08:24:25.459', '2017-04-06T08:24:29.459',\n",
       "       '2017-04-06T08:25:16.457', '2017-04-06T08:26:40.455',\n",
       "       '2017-04-06T08:27:42.453', '2017-04-06T08:28:17.453',\n",
       "       '2017-04-06T08:28:21.453', '2017-04-06T08:28:37.452',\n",
       "       ...\n",
       "       '2017-04-06T14:15:09.174', '2017-04-06T14:15:30.182',\n",
       "       '2017-04-06T14:17:30.184', '2017-04-06T14:23:06.175',\n",
       "       '2017-04-06T14:23:34.174', '2017-04-06T14:25:18.171',\n",
       "       '2017-04-06T14:25:19.171', '2017-04-06T14:26:19.169',\n",
       "       '2017-04-06T14:30:17.161', '2017-04-06T14:30:38.160'],\n",
       "      dtype='object', name='timestamp', length=279)"
      ]
     },
     "execution_count": 47,
     "metadata": {},
     "output_type": "execute_result"
    }
   ],
   "source": [
    "classlist = f[f[\"class\"] == 0.1].index\n",
    "classlist"
   ]
  },
  {
   "cell_type": "code",
   "execution_count": 50,
   "metadata": {
    "collapsed": false
   },
   "outputs": [],
   "source": [
    "import csv\n",
    "\n",
    "classcsv = open('./models/20180806/class/test.csv', 'w')\n",
    "\n",
    "writer = csv.writer(classcsv, lineterminator=',')\n",
    "writer.writerow(classlist)\n",
    "\n",
    "classcsv.close()"
   ]
  },
  {
   "cell_type": "markdown",
   "metadata": {},
   "source": [
    "### cepstrum読み込み"
   ]
  },
  {
   "cell_type": "code",
   "execution_count": 15,
   "metadata": {
    "collapsed": false,
    "scrolled": true
   },
   "outputs": [],
   "source": [
    "import pandas as pd\n",
    "\n",
    "classcsv = pd.read_csv(\"./models/20180806/class/0.1-001001_20170406_000.csv\")\n",
    "accel = pd.read_csv(\"./cepstrums/001/001_20170406_000.accel.csv\")\n",
    "gyro = pd.read_csv(\"./cepstrums/001/001_20170406_000.gyro.csv\")\n",
    "label = pd.read_csv(\"./cepstrums/001/001_20170406_000.label.csv\")\n",
    "\n",
    "#accel[accel[\"timestamp\"] == classcsv[\"timestamp\"]]\n",
    "classcsv = classcsv.set_index(\"timestamp\")\n",
    "accelamb = pd.DataFrame(columns=(\"timestamp\",\"car_id\",\"cepstrum_x00\",\"cepstrum_x01\",\"cepstrum_x02\",\"cepstrum_x03\",\"cepstrum_x04\",\"cepstrum_x05\",\"cepstrum_x06\",\"cepstrum_x07\",\"cepstrum_x08\",\"cepstrum_x09\",\"cepstrum_x10\",\"cepstrum_x11\",\"cepstrum_x12\",\"cepstrum_x13\",\"cepstrum_x14\",\"cepstrum_x15\",\"cepstrum_x16\",\"cepstrum_x17\",\"cepstrum_x18\",\"cepstrum_x19\",\"cepstrum_x20\",\"cepstrum_x21\",\"cepstrum_x22\",\"cepstrum_x23\",\"cepstrum_x24\",\"cepstrum_x25\",\"cepstrum_x26\",\"cepstrum_x27\",\"cepstrum_x28\",\"cepstrum_x29\",\"cepstrum_y00\",\"cepstrum_y01\",\"cepstrum_y02\",\"cepstrum_y03\",\"cepstrum_y04\",\"cepstrum_y05\",\"cepstrum_y06\",\"cepstrum_y07\",\"cepstrum_y08\",\"cepstrum_y09\",\"cepstrum_y10\",\"cepstrum_y11\",\"cepstrum_y12\",\"cepstrum_y13\",\"cepstrum_y14\",\"cepstrum_y15\",\"cepstrum_y16\",\"cepstrum_y17\",\"cepstrum_y18\",\"cepstrum_y19\",\"cepstrum_y20\",\"cepstrum_y21\",\"cepstrum_y22\",\"cepstrum_y23\",\"cepstrum_y24\",\"cepstrum_y25\",\"cepstrum_y26\",\"cepstrum_y27\",\"cepstrum_y28\",\"cepstrum_y29\",\"cepstrum_z00\",\"cepstrum_z01\",\"cepstrum_z02\",\"cepstrum_z03\",\"cepstrum_z04\",\"cepstrum_z05\",\"cepstrum_z06\",\"cepstrum_z07\",\"cepstrum_z08\",\"cepstrum_z09\",\"cepstrum_z10\",\"cepstrum_z11\",\"cepstrum_z12\",\"cepstrum_z13\",\"cepstrum_z14\",\"cepstrum_z15\",\"cepstrum_z16\",\"cepstrum_z17\",\"cepstrum_z18\",\"cepstrum_z19\",\"cepstrum_z20\",\"cepstrum_z21\",\"cepstrum_z22\",\"cepstrum_z23\",\"cepstrum_z24\",\"cepstrum_z25\",\"cepstrum_z26\",\"cepstrum_z27\",\"cepstrum_z28\",\"cepstrum_z29\"))\n",
    "gyroamb = pd.DataFrame(columns=(\"timestamp\",\"car_id\",\"cepstrum_x00\",\"cepstrum_x01\",\"cepstrum_x02\",\"cepstrum_x03\",\"cepstrum_x04\",\"cepstrum_x05\",\"cepstrum_x06\",\"cepstrum_x07\",\"cepstrum_x08\",\"cepstrum_x09\",\"cepstrum_x10\",\"cepstrum_x11\",\"cepstrum_x12\",\"cepstrum_x13\",\"cepstrum_x14\",\"cepstrum_x15\",\"cepstrum_x16\",\"cepstrum_x17\",\"cepstrum_x18\",\"cepstrum_x19\",\"cepstrum_x20\",\"cepstrum_x21\",\"cepstrum_x22\",\"cepstrum_x23\",\"cepstrum_x24\",\"cepstrum_x25\",\"cepstrum_x26\",\"cepstrum_x27\",\"cepstrum_x28\",\"cepstrum_x29\",\"cepstrum_y00\",\"cepstrum_y01\",\"cepstrum_y02\",\"cepstrum_y03\",\"cepstrum_y04\",\"cepstrum_y05\",\"cepstrum_y06\",\"cepstrum_y07\",\"cepstrum_y08\",\"cepstrum_y09\",\"cepstrum_y10\",\"cepstrum_y11\",\"cepstrum_y12\",\"cepstrum_y13\",\"cepstrum_y14\",\"cepstrum_y15\",\"cepstrum_y16\",\"cepstrum_y17\",\"cepstrum_y18\",\"cepstrum_y19\",\"cepstrum_y20\",\"cepstrum_y21\",\"cepstrum_y22\",\"cepstrum_y23\",\"cepstrum_y24\",\"cepstrum_y25\",\"cepstrum_y26\",\"cepstrum_y27\",\"cepstrum_y28\",\"cepstrum_y29\",\"cepstrum_z00\",\"cepstrum_z01\",\"cepstrum_z02\",\"cepstrum_z03\",\"cepstrum_z04\",\"cepstrum_z05\",\"cepstrum_z06\",\"cepstrum_z07\",\"cepstrum_z08\",\"cepstrum_z09\",\"cepstrum_z10\",\"cepstrum_z11\",\"cepstrum_z12\",\"cepstrum_z13\",\"cepstrum_z14\",\"cepstrum_z15\",\"cepstrum_z16\",\"cepstrum_z17\",\"cepstrum_z18\",\"cepstrum_z19\",\"cepstrum_z20\",\"cepstrum_z21\",\"cepstrum_z22\",\"cepstrum_z23\",\"cepstrum_z24\",\"cepstrum_z25\",\"cepstrum_z26\",\"cepstrum_z27\",\"cepstrum_z28\",\"cepstrum_z29\"))\n",
    "labelamb = pd.DataFrame(columns=(\"timestamp\",\"car_id\",\"NO_LABEL\",\"ROLL\",\"RUN\",\"DOOR\"))\n",
    "\n",
    "for index, row in classcsv.iterrows():\n",
    "    accelamb = accelamb.append(accel[accel[\"timestamp\"] == index])\n",
    "    gyroamb = gyroamb.append(gyro[gyro[\"timestamp\"] == index])\n",
    "    labelamb = labelamb.append(label[label[\"timestamp\"] == index])"
   ]
  },
  {
   "cell_type": "code",
   "execution_count": 17,
   "metadata": {
    "collapsed": false
   },
   "outputs": [],
   "source": [
    "accelamb = accelamb.set_index(\"timestamp\")\n",
    "gyroamb = gyroamb.set_index(\"timestamp\")\n",
    "labelamb = labelamb.set_index(\"timestamp\")\n",
    "accelamb.to_csv(\"./models/20180807/ambcepstrums/amb.accel.csv\")\n",
    "gyroamb.to_csv(\"./models/20180807/ambcepstrums/amb.gyro.csv\")\n",
    "labelamb.to_csv(\"./models/20180807/ambcepstrums/amb.label.csv\")"
   ]
  },
  {
   "cell_type": "markdown",
   "metadata": {},
   "source": [
    "### read_csv変換"
   ]
  },
  {
   "cell_type": "code",
   "execution_count": 1,
   "metadata": {
    "collapsed": false,
    "scrolled": true
   },
   "outputs": [
    {
     "name": "stderr",
     "output_type": "stream",
     "text": [
      "/home/aj1m0n/jupyter_notebook/Datamining/20180731/create_model.py:176: SyntaxWarning: name 'predicted' is assigned to before global declaration\n",
      "  global predicted #モジュールのグローバル化\n"
     ]
    },
    {
     "name": "stdout",
     "output_type": "stream",
     "text": [
      "['./models/20180807/ambcepstrums/*.label.csv']\n"
     ]
    },
    {
     "name": "stderr",
     "output_type": "stream",
     "text": [
      "Using TensorFlow backend.\n",
      "/home/aj1m0n/jupyter_notebook/Datamining/20180731/create_model.py:68: SettingWithCopyWarning: \n",
      "A value is trying to be set on a copy of a slice from a DataFrame.\n",
      "Try using .loc[row_indexer,col_indexer] = value instead\n",
      "\n",
      "See the caveats in the documentation: http://pandas.pydata.org/pandas-docs/stable/indexing.html#indexing-view-versus-copy\n",
      "  _labels[\"date\"] = np.datetime_as_string(labels.timestamp, \"D\")#timeごとに整列化\n"
     ]
    }
   ],
   "source": [
    "import create_model\n",
    "testcar = []\n",
    "xdata, xlabel, ydata, ylabel = create_model.read_datas(\"./models/20180807/ambcepstrums\",testcar,3,1)"
   ]
  },
  {
   "cell_type": "markdown",
   "metadata": {},
   "source": [
    "### 再学習"
   ]
  },
  {
   "cell_type": "code",
   "execution_count": 23,
   "metadata": {
    "collapsed": false,
    "scrolled": true
   },
   "outputs": [
    {
     "name": "stdout",
     "output_type": "stream",
     "text": [
      "_________________________________________________________________\n",
      "Layer (type)                 Output Shape              Param #   \n",
      "=================================================================\n",
      "Input (InputLayer)           (None, 3, 180)            0         \n",
      "_________________________________________________________________\n",
      "LSTM (LSTM)                  (None, 180)               259920    \n",
      "_________________________________________________________________\n",
      "Dense1 (Dense)               (None, 180)               32580     \n",
      "_________________________________________________________________\n",
      "Dense2 (Dense)               (None, 180)               32580     \n",
      "_________________________________________________________________\n",
      "Dense3 (Dense)               (None, 4)                 724       \n",
      "_________________________________________________________________\n",
      "out (Dense)                  (None, 4)                 20        \n",
      "=================================================================\n",
      "Total params: 325,824\n",
      "Trainable params: 325,824\n",
      "Non-trainable params: 0\n",
      "_________________________________________________________________\n",
      "Train on 84 samples, validate on 84 samples\n",
      "Epoch 1/40\n",
      " - 4s - loss: 2.9041 - acc: 0.5595 - val_loss: 1.7796 - val_acc: 0.6786\n",
      "Epoch 2/40\n",
      " - 0s - loss: 1.7796 - acc: 0.6786 - val_loss: 1.0564 - val_acc: 0.8095\n",
      "Epoch 3/40\n",
      " - 0s - loss: 1.0564 - acc: 0.8095 - val_loss: 0.7139 - val_acc: 0.8810\n",
      "Epoch 4/40\n",
      " - 0s - loss: 0.7139 - acc: 0.8810 - val_loss: 0.5291 - val_acc: 0.9048\n",
      "Epoch 5/40\n",
      " - 0s - loss: 0.5291 - acc: 0.9048 - val_loss: 0.3463 - val_acc: 0.9167\n",
      "Epoch 6/40\n",
      " - 0s - loss: 0.3463 - acc: 0.9167 - val_loss: 0.1833 - val_acc: 0.9524\n",
      "Epoch 7/40\n",
      " - 0s - loss: 0.1833 - acc: 0.9524 - val_loss: 0.1027 - val_acc: 0.9881\n",
      "Epoch 8/40\n",
      " - 0s - loss: 0.1027 - acc: 0.9881 - val_loss: 0.0707 - val_acc: 0.9881\n",
      "Epoch 9/40\n",
      " - 0s - loss: 0.0707 - acc: 0.9881 - val_loss: 0.0666 - val_acc: 0.9881\n",
      "Epoch 10/40\n",
      " - 0s - loss: 0.0666 - acc: 0.9881 - val_loss: 0.0596 - val_acc: 0.9881\n",
      "Epoch 11/40\n",
      " - 0s - loss: 0.0596 - acc: 0.9881 - val_loss: 0.0561 - val_acc: 0.9881\n",
      "Epoch 12/40\n",
      " - 0s - loss: 0.0561 - acc: 0.9881 - val_loss: 0.0543 - val_acc: 0.9881\n",
      "Epoch 13/40\n",
      " - 0s - loss: 0.0543 - acc: 0.9881 - val_loss: 0.0525 - val_acc: 0.9881\n",
      "Epoch 14/40\n",
      " - 0s - loss: 0.0525 - acc: 0.9881 - val_loss: 0.0514 - val_acc: 0.9881\n",
      "Epoch 15/40\n",
      " - 0s - loss: 0.0514 - acc: 0.9881 - val_loss: 0.0504 - val_acc: 0.9881\n",
      "Epoch 16/40\n",
      " - 0s - loss: 0.0504 - acc: 0.9881 - val_loss: 0.0496 - val_acc: 0.9881\n",
      "Epoch 17/40\n",
      " - 0s - loss: 0.0496 - acc: 0.9881 - val_loss: 0.0489 - val_acc: 0.9881\n",
      "Epoch 18/40\n",
      " - 0s - loss: 0.0489 - acc: 0.9881 - val_loss: 0.0484 - val_acc: 0.9881\n",
      "Epoch 19/40\n",
      " - 0s - loss: 0.0484 - acc: 0.9881 - val_loss: 0.0479 - val_acc: 0.9881\n",
      "Epoch 20/40\n",
      " - 0s - loss: 0.0479 - acc: 0.9881 - val_loss: 0.0474 - val_acc: 0.9881\n",
      "Epoch 21/40\n",
      " - 0s - loss: 0.0474 - acc: 0.9881 - val_loss: 0.0470 - val_acc: 0.9881\n",
      "Epoch 22/40\n",
      " - 0s - loss: 0.0470 - acc: 0.9881 - val_loss: 0.0466 - val_acc: 0.9881\n",
      "Epoch 23/40\n",
      " - 0s - loss: 0.0466 - acc: 0.9881 - val_loss: 0.0463 - val_acc: 0.9881\n",
      "Epoch 24/40\n",
      " - 0s - loss: 0.0463 - acc: 0.9881 - val_loss: 0.0459 - val_acc: 0.9881\n",
      "Epoch 25/40\n",
      " - 0s - loss: 0.0459 - acc: 0.9881 - val_loss: 0.0456 - val_acc: 0.9881\n",
      "Epoch 26/40\n",
      " - 0s - loss: 0.0456 - acc: 0.9881 - val_loss: 0.0453 - val_acc: 0.9881\n",
      "Epoch 27/40\n",
      " - 0s - loss: 0.0453 - acc: 0.9881 - val_loss: 0.0450 - val_acc: 0.9881\n",
      "Epoch 28/40\n",
      " - 0s - loss: 0.0450 - acc: 0.9881 - val_loss: 0.0447 - val_acc: 0.9881\n",
      "Epoch 29/40\n",
      " - 0s - loss: 0.0447 - acc: 0.9881 - val_loss: 0.0445 - val_acc: 0.9881\n",
      "Epoch 30/40\n",
      " - 0s - loss: 0.0445 - acc: 0.9881 - val_loss: 0.0442 - val_acc: 0.9881\n",
      "Epoch 31/40\n",
      " - 0s - loss: 0.0442 - acc: 0.9881 - val_loss: 0.0439 - val_acc: 0.9881\n",
      "Epoch 32/40\n",
      " - 0s - loss: 0.0439 - acc: 0.9881 - val_loss: 0.0437 - val_acc: 0.9881\n",
      "Epoch 33/40\n",
      " - 0s - loss: 0.0437 - acc: 0.9881 - val_loss: 0.0435 - val_acc: 0.9881\n",
      "Epoch 34/40\n",
      " - 0s - loss: 0.0435 - acc: 0.9881 - val_loss: 0.0432 - val_acc: 0.9881\n",
      "Epoch 35/40\n",
      " - 0s - loss: 0.0432 - acc: 0.9881 - val_loss: 0.0430 - val_acc: 0.9881\n",
      "Epoch 36/40\n",
      " - 0s - loss: 0.0430 - acc: 0.9881 - val_loss: 0.0428 - val_acc: 0.9881\n",
      "Epoch 37/40\n",
      " - 0s - loss: 0.0428 - acc: 0.9881 - val_loss: 0.0426 - val_acc: 0.9881\n",
      "Epoch 38/40\n",
      " - 0s - loss: 0.0426 - acc: 0.9881 - val_loss: 0.0424 - val_acc: 0.9881\n",
      "Epoch 39/40\n",
      " - 0s - loss: 0.0424 - acc: 0.9881 - val_loss: 0.0422 - val_acc: 0.9881\n",
      "Epoch 40/40\n",
      " - 0s - loss: 0.0422 - acc: 0.9881 - val_loss: 0.0420 - val_acc: 0.9881\n",
      "9549/9549 [==============================] - 1s 119us/step\n",
      "7796/7796 [==============================] - 1s 118us/step\n",
      "Goodbye, world!\n"
     ]
    }
   ],
   "source": [
    "import pandas as pd\n",
    "import numpy as np\n",
    "from keras.datasets import mnist\n",
    "from keras.models import model_from_json\n",
    "from keras.models import load_model\n",
    "from keras.utils import np_utils\n",
    "from keras.optimizers import Adam\n",
    "import keras.callbacks\n",
    "import keras.backend.tensorflow_backend as KTF\n",
    "import tensorflow as tf\n",
    "import os.path\n",
    "from os import path\n",
    "import random as rn\n",
    "import glob\n",
    "\n",
    "import create_model\n",
    "from create_model import read_csv\n",
    "from create_model import read_datas\n",
    "\n",
    "\n",
    "#pra\n",
    "batch_size = 100\n",
    "epochs = 40\n",
    "units = 180\n",
    "timestep = 3\n",
    "timeshift = 1\n",
    "\n",
    "#ファイルの読み込み\n",
    "indir = \"./cepstrums/\"\n",
    "eval_car_ids = [\"001\"]\n",
    "f_model = \"./models/20180806/model/\"\n",
    "model_filename = 'model005_010_011_013.model'\n",
    "f_weithts = \"./models/20180806/weight\"\n",
    "weights_filename = \"weight005_010_011_013.h5\"\n",
    "outeval = \"./models/20180807/act_eval/test.csv\"\n",
    "outmodel = \"./models/20180807/model/test.model\"\n",
    "outweights = \"./models/20180807/weight/test.h5\"\n",
    "outpredict = \"./\"\n",
    "#random seed を固定\n",
    "os.environ['PYTHONHASHSEED'] = '0'\n",
    "np.random.seed(1)\n",
    "rn.seed(1)\n",
    "session_conf = tf.ConfigProto(\n",
    "intra_op_parallelism_threads=1,\n",
    "inter_op_parallelism_threads=1\n",
    ")\n",
    "tf.set_random_seed(1)\n",
    "sess = tf.Session(graph=tf.get_default_graph(), config=session_conf)\n",
    "KTF.set_session(sess)#固定終わり\n",
    "\n",
    "##学習\n",
    "try:\n",
    "    json_string = f_model + model_filename\n",
    "    #model = model_from_json(json_string)    \n",
    "    model = load_model(json_string)\n",
    "    model.summary()\n",
    "\n",
    "    model.compile(loss='categorical_crossentropy', optimizer=Adam(lr=0.001, beta_1=0.5), metrics=['accuracy'])\n",
    "    model.load_weights(os.path.join(f_weithts,weights_filename))\n",
    "\n",
    "    cbks = []\n",
    "\n",
    "    history = model.fit(xdata, xlabel, batch_size = 100, epochs = epochs, callbacks = []\n",
    "                  , validation_data = [ydata, ylabel], \n",
    "                   verbose = 2)\n",
    "    #outdir = path.dirname(outmodel)\n",
    "    #if not outdir is None and len(outdir) > 0 and not path.isdir(outdir): os.makedirs(outdir)\n",
    "    model.save(outmodel)\n",
    "    model.save_weights(outweights)\n",
    "    #predicted = model.predict(ydata, batch_size = args.batch_size)\n",
    "    #predicted = np.argmax(predicted, axis = -1)\n",
    "    #add_predicted(metapath, predicted)\n",
    "        \n",
    "    with open(outeval, \"wt\") as f:#変更\n",
    "        _headers = [\"accel\", \"gyro\", \"label\",\"data_counts\", \"loss\", \"accuracy\", \"macro-fmesure\"]\n",
    "        _headers += [\"NO_LABEL\", \"ROLL\", \"RUN\", \"DOOR\"]\n",
    "        f.write(\",\".join(_headers))\n",
    "        f.write(\"\\n\")\n",
    "        #if args.eval_car_ids is None or len(args.eval_car_ids) == 0: file_ptns = [path.join(args.indir, \"*/*.label.csv\")]\n",
    "        if eval_car_ids is None or len(eval_car_ids) == 0: file_ptns = [os.path.join(indir, \"*/*.label.csv\")]\n",
    "        #else: file_ptns = [path.join(args.indir, \"%03d/*.label.csv\" % i) for i in args.eval_car_ids]\n",
    "        else: file_ptns = [os.path.join(indir, \"%s/*.label.csv\" % i) for i in eval_car_ids]\n",
    "        for _ptn in file_ptns:\n",
    "            for _label in glob.glob(_ptn, recursive = True):\n",
    "                # if \"20170406\" in _label or \"20170511\" in _label: continue # 20170406 もしくは 20170511を訓練データとする\n",
    "                _accel = _label.replace(\"label\", \"accel\")\n",
    "                _gyro = _label.replace(\"label\", \"gyro\")\n",
    "                #read_csv(accel_file: str, gyro_file: str, label_file: str, timestep: int, timeshift: int)\n",
    "                _edata, _elabel = read_csv(_accel, _gyro, _label, timestep, timeshift)#変更\n",
    "                _elabel = np_utils.to_categorical(np.argmax(_elabel[[\"NO_LABEL\", \"ROLL\", \"RUN\", \"DOOR\"]].values, axis = -1), num_classes = 4)\n",
    "\n",
    "                if len(_edata) == 0: continue\n",
    "                eval = model.evaluate(_edata, _elabel, batch_size = 100, verbose = 1)\n",
    "\n",
    "                counts = np.zeros((4, 3))\n",
    "\n",
    "                #predicted\n",
    "                predicted = model.predict(_edata)\n",
    "                #labeldata 読み込み\n",
    "                #labelcsv = pd.read_csv(\"./cepstrums/001/001_20170406_000.label.csv\")\n",
    "                #print(_label)\n",
    "                #_label = labelcsv.replace(\"/home/aj1m0n/jupyter_notebook/Datamining/20180731/cepstrums/\", \"-\").replace(\".label\", \"\").replace(\"/\",\"\")\n",
    "\n",
    "                #predictedcsv保存\n",
    "                #predicted_csv = pd.DataFrame(predicted)\n",
    "                #predicted_csv.columns = [\"NO_LABEL\", \"ROLL\", \"RUN\", \"DOOR\"]\n",
    "                #predicted_csv[\"timestamp\"] = labelcsv[\"timestamp\"]\n",
    "                #predicted_csv = predicted_csv.set_index(\"timestamp\")\n",
    "                #predicted_csv.to_csv(\"./models/20180806/predict/predicted%s\" %_label, index=False)#csv保存\n",
    "                #predicted_csv.to_csv(\"%spredicted%s\" %(outpredict,_label), index=False)#csv保存\n",
    "                #global predicted #モジュールのグローバル化\n",
    "\n",
    "                #F値の処理\n",
    "                try:\n",
    "                    _tlabel = np.argmax(_elabel, axis = -1)\n",
    "                    _plabel = np.argmax(predicted, axis = -1)\n",
    "                    for _t, _p in zip(_tlabel, _plabel):\n",
    "                        if _t == _p: counts[_p, 0] += 1\n",
    "                        counts[_p, 1] += 1\n",
    "                        counts[_t, 2] += 1\n",
    "                    _macro_fmesure = 0.0\n",
    "                    _fmesures = []\n",
    "                    for _i in range(4):\n",
    "                        if counts[_i, 1] == 0 or counts[_i, 2] == 0: continue\n",
    "                        _precision = counts[_i, 0] / counts[_i, 1]\n",
    "                        _recall = counts[_i, 0] / counts[_i, 2]\n",
    "                        _fmesure = 2 * (_precision * _recall) / (_precision + _recall)\n",
    "                        _macro_fmesure += _fmesure\n",
    "                        _fmesures.append(_fmesure)\n",
    "                    _macro_fmesure /= 4\n",
    "\n",
    "                    line = [path.basename(_accel), path.basename(_gyro), path.basename(_label), str(_edata.shape[0])\n",
    "                            , \"{:0.8f}\".format(eval[0]), \"{:0.8f}\".format(eval[1]), \"{:0.8f}\".format(_macro_fmesure)]\n",
    "                    line += [\"{:0.8f}\".format(v) for v in _fmesures]\n",
    "                    f.write(\",\".join(line))\n",
    "                    f.write(\"\\n\")\n",
    "                except:\n",
    "                    print(\"ERROR\", _edata, predicted)\n",
    "                    _macro_fmesure = 0.0\n",
    "                    line = [path.basename(_accel), path.basename(_gyro), path.basename(_label), str(_edata.shape[0])\n",
    "                            , \"{:0.8f}\".format(eval[0]), \"{:0.8f}\".format(eval[1]), \"{:0.8f}\".format(_macro_fmesure)]\n",
    "                    f.write(\",\".join(line))\n",
    "                    f.write(\"\\n\")\n",
    "finally:\n",
    "    sess.close()\n",
    "    print('Goodbye, world!')\n"
   ]
  },
  {
   "cell_type": "code",
   "execution_count": 4,
   "metadata": {
    "collapsed": false
   },
   "outputs": [],
   "source": [
    "import glob\n",
    "cid = \"-001\"\n",
    "file_list = glob.glob(\"./models/20180806/class/\" + \"*%s*\" %cid)"
   ]
  },
  {
   "cell_type": "code",
   "execution_count": 5,
   "metadata": {
    "collapsed": false
   },
   "outputs": [
    {
     "data": {
      "text/plain": [
       "['./models/20180806/class/0.2-001001_20170407_000.csv',\n",
       " './models/20180806/class/0.2-001001_20170406_000.csv',\n",
       " './models/20180806/class/0.1-001001_20170406_000.csv',\n",
       " './models/20180806/class/0.1-001001_20170407_000.csv']"
      ]
     },
     "execution_count": 5,
     "metadata": {},
     "output_type": "execute_result"
    }
   ],
   "source": [
    "file_list"
   ]
  },
  {
   "cell_type": "code",
   "execution_count": 1,
   "metadata": {
    "collapsed": false
   },
   "outputs": [
    {
     "name": "stderr",
     "output_type": "stream",
     "text": [
      "Using TensorFlow backend.\n"
     ]
    },
    {
     "name": "stdout",
     "output_type": "stream",
     "text": [
      "['./models/20180806/model/model005_010_011_013.model']\n",
      "['./models/20180820/data/add/20170406/001/0022.label.csv', './models/20180820/data/add/20170406/001/0011.label.csv', './models/20180820/data/add/20170406/001/0023.label.csv', './models/20180820/data/add/20170406/001/0032.label.csv', './models/20180820/data/add/20170406/001/0033.label.csv', './models/20180820/data/add/20170406/001/0020.label.csv', './models/20180820/data/add/20170406/001/0036.label.csv', './models/20180820/data/add/20170406/001/0002.label.csv', './models/20180820/data/add/20170406/001/0021.label.csv', './models/20180820/data/add/20170406/001/0006.label.csv', './models/20180820/data/add/20170406/001/0000.label.csv', './models/20180820/data/add/20170406/001/0009.label.csv', './models/20180820/data/add/20170406/001/0016.label.csv', './models/20180820/data/add/20170406/001/0029.label.csv', './models/20180820/data/add/20170406/001/0028.label.csv', './models/20180820/data/add/20170406/001/0034.label.csv', './models/20180820/data/add/20170406/001/0004.label.csv', './models/20180820/data/add/20170406/001/0007.label.csv', './models/20180820/data/add/20170406/001/0005.label.csv', './models/20180820/data/add/20170406/001/0010.label.csv', './models/20180820/data/add/20170406/001/0014.label.csv', './models/20180820/data/add/20170406/001/0038.label.csv', './models/20180820/data/add/20170406/001/0025.label.csv', './models/20180820/data/add/20170406/001/0012.label.csv', './models/20180820/data/add/20170406/001/0035.label.csv', './models/20180820/data/add/20170406/001/0019.label.csv', './models/20180820/data/add/20170406/001/0017.label.csv', './models/20180820/data/add/20170406/001/0018.label.csv', './models/20180820/data/add/20170406/001/0026.label.csv', './models/20180820/data/add/20170406/001/0030.label.csv', './models/20180820/data/add/20170406/001/0013.label.csv', './models/20180820/data/add/20170406/001/0003.label.csv', './models/20180820/data/add/20170406/001/0008.label.csv', './models/20180820/data/add/20170406/001/0037.label.csv', './models/20180820/data/add/20170406/001/0015.label.csv', './models/20180820/data/add/20170406/001/0024.label.csv', './models/20180820/data/add/20170406/001/0001.label.csv', './models/20180820/data/add/20170406/001/0031.label.csv', './models/20180820/data/add/20170406/001/0027.label.csv']\n",
      "./models/20180820/data/add/20170406/001/0022.label.csv\n",
      "0022\n",
      "['./models/20180820/data/add/20170406/001/0022.label.csv']\n"
     ]
    },
    {
     "name": "stderr",
     "output_type": "stream",
     "text": [
      "/home/aj1m0n/jupyter_notebook/Datamining/20180731/create_model.py:69: SettingWithCopyWarning: \n",
      "A value is trying to be set on a copy of a slice from a DataFrame.\n",
      "Try using .loc[row_indexer,col_indexer] = value instead\n",
      "\n",
      "See the caveats in the documentation: http://pandas.pydata.org/pandas-docs/stable/indexing.html#indexing-view-versus-copy\n",
      "  _labels[\"date\"] = np.datetime_as_string(labels.timestamp, \"D\")#timeごとに整列化\n"
     ]
    },
    {
     "name": "stdout",
     "output_type": "stream",
     "text": [
      "./models/20180806/model/model005_010_011_013.model\n",
      "_________________________________________________________________\n",
      "Layer (type)                 Output Shape              Param #   \n",
      "=================================================================\n",
      "Input (InputLayer)           (None, 3, 180)            0         \n",
      "_________________________________________________________________\n",
      "LSTM (LSTM)                  (None, 180)               259920    \n",
      "_________________________________________________________________\n",
      "Dense1 (Dense)               (None, 180)               32580     \n",
      "_________________________________________________________________\n",
      "Dense2 (Dense)               (None, 180)               32580     \n",
      "_________________________________________________________________\n",
      "Dense3 (Dense)               (None, 4)                 724       \n",
      "_________________________________________________________________\n",
      "out (Dense)                  (None, 4)                 20        \n",
      "=================================================================\n",
      "Total params: 325,824\n",
      "Trainable params: 325,824\n",
      "Non-trainable params: 0\n",
      "_________________________________________________________________\n",
      "Train on 3396 samples, validate on 3396 samples\n",
      "Epoch 1/10\n",
      "Goodbye, world!\n"
     ]
    },
    {
     "ename": "KeyboardInterrupt",
     "evalue": "",
     "output_type": "error",
     "traceback": [
      "\u001b[0;31m---------------------------------------------------------------------------\u001b[0m",
      "\u001b[0;31mKeyboardInterrupt\u001b[0m                         Traceback (most recent call last)",
      "\u001b[0;32m<ipython-input-1-ac7a3f51adaa>\u001b[0m in \u001b[0;36m<module>\u001b[0;34m()\u001b[0m\n\u001b[1;32m     16\u001b[0m                             \u001b[0munits\u001b[0m \u001b[0;34m=\u001b[0m \u001b[0;36m180\u001b[0m\u001b[0;34m,\u001b[0m\u001b[0;34m\u001b[0m\u001b[0m\n\u001b[1;32m     17\u001b[0m                             \u001b[0mtimestep\u001b[0m \u001b[0;34m=\u001b[0m \u001b[0;36m3\u001b[0m\u001b[0;34m,\u001b[0m\u001b[0;34m\u001b[0m\u001b[0m\n\u001b[0;32m---> 18\u001b[0;31m                             \u001b[0mtimeshift\u001b[0m \u001b[0;34m=\u001b[0m \u001b[0;36m1\u001b[0m\u001b[0;34m,\u001b[0m\u001b[0;34m\u001b[0m\u001b[0m\n\u001b[0m\u001b[1;32m     19\u001b[0m                         )\n",
      "\u001b[0;32m/home/aj1m0n/jupyter_notebook/Datamining/20180731/relearning.py\u001b[0m in \u001b[0;36mrelearning\u001b[0;34m(f_cep, f_model, f_weight, car_ids, eval_car_ids, outeval, outmodel, outweights, outpredict, batch_size, epochs, units, timestep, timeshift)\u001b[0m\n\u001b[1;32m     77\u001b[0m                     model.fit(xdata, xlabel, batch_size = 100, epochs = epochs, callbacks = [],\n\u001b[1;32m     78\u001b[0m                             \u001b[0mvalidation_data\u001b[0m \u001b[0;34m=\u001b[0m \u001b[0;34m[\u001b[0m\u001b[0mydata\u001b[0m\u001b[0;34m,\u001b[0m \u001b[0mylabel\u001b[0m\u001b[0;34m]\u001b[0m\u001b[0;34m,\u001b[0m\u001b[0;31m#変えるべき\u001b[0m\u001b[0;34m\u001b[0m\u001b[0m\n\u001b[0;32m---> 79\u001b[0;31m                             verbose = 2)\n\u001b[0m\u001b[1;32m     80\u001b[0m                     \u001b[0;32mif\u001b[0m \u001b[0mos\u001b[0m\u001b[0;34m.\u001b[0m\u001b[0mpath\u001b[0m\u001b[0;34m.\u001b[0m\u001b[0mexists\u001b[0m\u001b[0;34m(\u001b[0m\u001b[0moutmodel\u001b[0m \u001b[0;34m+\u001b[0m \u001b[0mstr\u001b[0m\u001b[0;34m(\u001b[0m\u001b[0mday\u001b[0m\u001b[0;34m)\u001b[0m\u001b[0;34m)\u001b[0m \u001b[0;34m==\u001b[0m \u001b[0;32mFalse\u001b[0m\u001b[0;34m:\u001b[0m\u001b[0mos\u001b[0m\u001b[0;34m.\u001b[0m\u001b[0mmkdir\u001b[0m\u001b[0;34m(\u001b[0m\u001b[0moutmodel\u001b[0m \u001b[0;34m+\u001b[0m \u001b[0mstr\u001b[0m\u001b[0;34m(\u001b[0m\u001b[0mday\u001b[0m\u001b[0;34m)\u001b[0m\u001b[0;34m)\u001b[0m\u001b[0;31m#フォルダ作成\u001b[0m\u001b[0;34m\u001b[0m\u001b[0m\n\u001b[1;32m     81\u001b[0m                     \u001b[0mmodel\u001b[0m\u001b[0;34m.\u001b[0m\u001b[0msave\u001b[0m\u001b[0;34m(\u001b[0m\u001b[0moutmodel\u001b[0m \u001b[0;34m+\u001b[0m \u001b[0;34m\"%s/\"\u001b[0m \u001b[0;34m%\u001b[0m\u001b[0mday\u001b[0m \u001b[0;34m+\u001b[0m \u001b[0;34m\"re-\"\u001b[0m \u001b[0;34m+\u001b[0m \u001b[0mmfn\u001b[0m\u001b[0;34m.\u001b[0m\u001b[0mreplace\u001b[0m\u001b[0;34m(\u001b[0m\u001b[0mf_model\u001b[0m\u001b[0;34m,\u001b[0m\u001b[0;34m\"\"\u001b[0m\u001b[0;34m)\u001b[0m\u001b[0;34m)\u001b[0m\u001b[0;31m#変えるべき\u001b[0m\u001b[0;34m\u001b[0m\u001b[0m\n",
      "\u001b[0;32m/home/aj1m0n/.pyenv/versions/anaconda3-4.2.0/lib/python3.5/site-packages/keras/engine/training.py\u001b[0m in \u001b[0;36mfit\u001b[0;34m(self, x, y, batch_size, epochs, verbose, callbacks, validation_split, validation_data, shuffle, class_weight, sample_weight, initial_epoch, steps_per_epoch, validation_steps, **kwargs)\u001b[0m\n\u001b[1;32m   1035\u001b[0m                                         \u001b[0minitial_epoch\u001b[0m\u001b[0;34m=\u001b[0m\u001b[0minitial_epoch\u001b[0m\u001b[0;34m,\u001b[0m\u001b[0;34m\u001b[0m\u001b[0m\n\u001b[1;32m   1036\u001b[0m                                         \u001b[0msteps_per_epoch\u001b[0m\u001b[0;34m=\u001b[0m\u001b[0msteps_per_epoch\u001b[0m\u001b[0;34m,\u001b[0m\u001b[0;34m\u001b[0m\u001b[0m\n\u001b[0;32m-> 1037\u001b[0;31m                                         validation_steps=validation_steps)\n\u001b[0m\u001b[1;32m   1038\u001b[0m \u001b[0;34m\u001b[0m\u001b[0m\n\u001b[1;32m   1039\u001b[0m     def evaluate(self, x=None, y=None,\n",
      "\u001b[0;32m/home/aj1m0n/.pyenv/versions/anaconda3-4.2.0/lib/python3.5/site-packages/keras/engine/training_arrays.py\u001b[0m in \u001b[0;36mfit_loop\u001b[0;34m(model, f, ins, out_labels, batch_size, epochs, verbose, callbacks, val_f, val_ins, shuffle, callback_metrics, initial_epoch, steps_per_epoch, validation_steps)\u001b[0m\n\u001b[1;32m    197\u001b[0m                     \u001b[0mins_batch\u001b[0m\u001b[0;34m[\u001b[0m\u001b[0mi\u001b[0m\u001b[0;34m]\u001b[0m \u001b[0;34m=\u001b[0m \u001b[0mins_batch\u001b[0m\u001b[0;34m[\u001b[0m\u001b[0mi\u001b[0m\u001b[0;34m]\u001b[0m\u001b[0;34m.\u001b[0m\u001b[0mtoarray\u001b[0m\u001b[0;34m(\u001b[0m\u001b[0;34m)\u001b[0m\u001b[0;34m\u001b[0m\u001b[0m\n\u001b[1;32m    198\u001b[0m \u001b[0;34m\u001b[0m\u001b[0m\n\u001b[0;32m--> 199\u001b[0;31m                 \u001b[0mouts\u001b[0m \u001b[0;34m=\u001b[0m \u001b[0mf\u001b[0m\u001b[0;34m(\u001b[0m\u001b[0mins_batch\u001b[0m\u001b[0;34m)\u001b[0m\u001b[0;34m\u001b[0m\u001b[0m\n\u001b[0m\u001b[1;32m    200\u001b[0m                 \u001b[0mouts\u001b[0m \u001b[0;34m=\u001b[0m \u001b[0mto_list\u001b[0m\u001b[0;34m(\u001b[0m\u001b[0mouts\u001b[0m\u001b[0;34m)\u001b[0m\u001b[0;34m\u001b[0m\u001b[0m\n\u001b[1;32m    201\u001b[0m                 \u001b[0;32mfor\u001b[0m \u001b[0ml\u001b[0m\u001b[0;34m,\u001b[0m \u001b[0mo\u001b[0m \u001b[0;32min\u001b[0m \u001b[0mzip\u001b[0m\u001b[0;34m(\u001b[0m\u001b[0mout_labels\u001b[0m\u001b[0;34m,\u001b[0m \u001b[0mouts\u001b[0m\u001b[0;34m)\u001b[0m\u001b[0;34m:\u001b[0m\u001b[0;34m\u001b[0m\u001b[0m\n",
      "\u001b[0;32m/home/aj1m0n/.pyenv/versions/anaconda3-4.2.0/lib/python3.5/site-packages/keras/backend/tensorflow_backend.py\u001b[0m in \u001b[0;36m__call__\u001b[0;34m(self, inputs)\u001b[0m\n\u001b[1;32m   2664\u001b[0m                 \u001b[0;32mreturn\u001b[0m \u001b[0mself\u001b[0m\u001b[0;34m.\u001b[0m\u001b[0m_legacy_call\u001b[0m\u001b[0;34m(\u001b[0m\u001b[0minputs\u001b[0m\u001b[0;34m)\u001b[0m\u001b[0;34m\u001b[0m\u001b[0m\n\u001b[1;32m   2665\u001b[0m \u001b[0;34m\u001b[0m\u001b[0m\n\u001b[0;32m-> 2666\u001b[0;31m             \u001b[0;32mreturn\u001b[0m \u001b[0mself\u001b[0m\u001b[0;34m.\u001b[0m\u001b[0m_call\u001b[0m\u001b[0;34m(\u001b[0m\u001b[0minputs\u001b[0m\u001b[0;34m)\u001b[0m\u001b[0;34m\u001b[0m\u001b[0m\n\u001b[0m\u001b[1;32m   2667\u001b[0m         \u001b[0;32melse\u001b[0m\u001b[0;34m:\u001b[0m\u001b[0;34m\u001b[0m\u001b[0m\n\u001b[1;32m   2668\u001b[0m             \u001b[0;32mif\u001b[0m \u001b[0mpy_any\u001b[0m\u001b[0;34m(\u001b[0m\u001b[0mis_tensor\u001b[0m\u001b[0;34m(\u001b[0m\u001b[0mx\u001b[0m\u001b[0;34m)\u001b[0m \u001b[0;32mfor\u001b[0m \u001b[0mx\u001b[0m \u001b[0;32min\u001b[0m \u001b[0minputs\u001b[0m\u001b[0;34m)\u001b[0m\u001b[0;34m:\u001b[0m\u001b[0;34m\u001b[0m\u001b[0m\n",
      "\u001b[0;32m/home/aj1m0n/.pyenv/versions/anaconda3-4.2.0/lib/python3.5/site-packages/keras/backend/tensorflow_backend.py\u001b[0m in \u001b[0;36m_call\u001b[0;34m(self, inputs)\u001b[0m\n\u001b[1;32m   2634\u001b[0m                                 \u001b[0msymbol_vals\u001b[0m\u001b[0;34m,\u001b[0m\u001b[0;34m\u001b[0m\u001b[0m\n\u001b[1;32m   2635\u001b[0m                                 session)\n\u001b[0;32m-> 2636\u001b[0;31m         \u001b[0mfetched\u001b[0m \u001b[0;34m=\u001b[0m \u001b[0mself\u001b[0m\u001b[0;34m.\u001b[0m\u001b[0m_callable_fn\u001b[0m\u001b[0;34m(\u001b[0m\u001b[0;34m*\u001b[0m\u001b[0marray_vals\u001b[0m\u001b[0;34m)\u001b[0m\u001b[0;34m\u001b[0m\u001b[0m\n\u001b[0m\u001b[1;32m   2637\u001b[0m         \u001b[0;32mreturn\u001b[0m \u001b[0mfetched\u001b[0m\u001b[0;34m[\u001b[0m\u001b[0;34m:\u001b[0m\u001b[0mlen\u001b[0m\u001b[0;34m(\u001b[0m\u001b[0mself\u001b[0m\u001b[0;34m.\u001b[0m\u001b[0moutputs\u001b[0m\u001b[0;34m)\u001b[0m\u001b[0;34m]\u001b[0m\u001b[0;34m\u001b[0m\u001b[0m\n\u001b[1;32m   2638\u001b[0m \u001b[0;34m\u001b[0m\u001b[0m\n",
      "\u001b[0;32m/home/aj1m0n/.pyenv/versions/anaconda3-4.2.0/lib/python3.5/site-packages/tensorflow/python/client/session.py\u001b[0m in \u001b[0;36m__call__\u001b[0;34m(self, *args)\u001b[0m\n\u001b[1;32m   1449\u001b[0m         \u001b[0;32mif\u001b[0m \u001b[0mself\u001b[0m\u001b[0;34m.\u001b[0m\u001b[0m_session\u001b[0m\u001b[0;34m.\u001b[0m\u001b[0m_created_with_new_api\u001b[0m\u001b[0;34m:\u001b[0m\u001b[0;34m\u001b[0m\u001b[0m\n\u001b[1;32m   1450\u001b[0m           return tf_session.TF_SessionRunCallable(\n\u001b[0;32m-> 1451\u001b[0;31m               self._session._session, self._handle, args, status, None)\n\u001b[0m\u001b[1;32m   1452\u001b[0m         \u001b[0;32melse\u001b[0m\u001b[0;34m:\u001b[0m\u001b[0;34m\u001b[0m\u001b[0m\n\u001b[1;32m   1453\u001b[0m           return tf_session.TF_DeprecatedSessionRunCallable(\n",
      "\u001b[0;31mKeyboardInterrupt\u001b[0m: "
     ]
    }
   ],
   "source": [
    "from relearning import relearning\n",
    "\n",
    "for day in [\"20170406\",\"20170407\"]:\n",
    "    for carid in [\"001\"]:\n",
    "        relearning(f_cep = \"./models/20180820/data/add/%s/\"%day,\n",
    "                            f_model = \"./models/20180806/model/\",\n",
    "                            f_weight = \"./models/20180806/weight/\",\n",
    "                            car_ids =  [carid],\n",
    "                            eval_car_ids = [carid],\n",
    "                            outeval = \"./models/20180820/eval/reeval/%s/\"%day,\n",
    "                            outmodel = \"./models/20180820/model/%s/\"%day,\n",
    "                            outweights = \"./models/20180820/weight/%s/\"%day,\n",
    "                            outpredict = \"./models/20180820/predict/%s\"%day,\n",
    "                            batch_size = 50,\n",
    "                            epochs = 10,\n",
    "                            units = 180,\n",
    "                            timestep = 3,\n",
    "                            timeshift = 1,\n",
    "                        )"
   ]
  }
 ],
 "metadata": {
  "anaconda-cloud": {},
  "kernelspec": {
   "display_name": "Python [conda root]",
   "language": "python",
   "name": "conda-root-py"
  },
  "language_info": {
   "codemirror_mode": {
    "name": "ipython",
    "version": 3
   },
   "file_extension": ".py",
   "mimetype": "text/x-python",
   "name": "python",
   "nbconvert_exporter": "python",
   "pygments_lexer": "ipython3",
   "version": "3.5.2"
  }
 },
 "nbformat": 4,
 "nbformat_minor": 1
}
