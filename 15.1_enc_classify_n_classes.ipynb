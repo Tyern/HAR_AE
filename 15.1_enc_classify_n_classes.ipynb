{
 "cells": [
  {
   "cell_type": "code",
   "execution_count": 8,
   "metadata": {},
   "outputs": [],
   "source": [
    "import os\n",
    "import sys\n",
    "import json\n",
    "import glob\n",
    "\n",
    "import numpy as np\n",
    "import pandas as pd\n",
    "\n",
    "import torch\n",
    "import torchvision\n",
    "\n",
    "import matplotlib.pyplot as plt\n",
    "import lightning as L\n",
    "\n",
    "import torch.nn as nn\n",
    "import torch.nn.functional as F\n",
    "import torch.optim as optim\n",
    "\n",
    "import seaborn as sns\n",
    "from sklearn.metrics import confusion_matrix, accuracy_score, f1_score\n",
    "\n",
    "from utils.model_utils import unwrap_model\n",
    "from config.optimizer_param_config import optimizer_param_dict\n",
    "from config.channel_param_config import channel_param_dict, enc_linear_param_dict\n",
    "from config.data_param_config import data_merge_config\n",
    "\n",
    "from data_module.data_module import ALDataModule_v1\n",
    "from model.enc_classifier_model import AE1DClassifier, AE1DMaxPoolBNClassifierModel\n",
    "from model.AE_model import AECNN1DBNModel, AE1DMaxPoolBNModel"
   ]
  },
  {
   "cell_type": "code",
   "execution_count": 9,
   "metadata": {},
   "outputs": [],
   "source": [
    "import argparse\n",
    "\n",
    "parser = argparse.ArgumentParser(description=\"\", formatter_class=argparse.ArgumentDefaultsHelpFormatter)\n",
    "\n",
    "parser.add_argument(\"-tl\", \"--train_limit_data\", type=int, default=1000,\n",
    "                    help=f\"Used for limit the number of data in train data, -1 mean no limit\")\n",
    "\n",
    "parser.add_argument(\"-cn\", \"--class_num\", type=int, default=8,\n",
    "                    help=f\"Number of class num use to train\")\n",
    "\n",
    "parser.add_argument(\"--model_name\", type=str, default=\"4cnn_64\",\n",
    "                    help=f\"Config name of model used for training\")\n",
    "\n",
    "parser.add_argument(\"--AE_ckpt_path\", type=str, default=\"\",\n",
    "                    help=f\"Config name of model used for training\")\n",
    "\n",
    "parser.add_argument(\"--linear_param\", type=str, default=\"32\",\n",
    "                    help=f\"Linear config name of model used for training\")\n",
    "\n",
    "parser.add_argument(\"-r\", \"--random_seed\", type=int, default=42,\n",
    "                    help=f\"Random Seed\")\n",
    "\n",
    "parser.add_argument(\"--eval_mode\", type=int, default=0,\n",
    "                    help=f\"Eval all models\")\n",
    "\n",
    "if os.path.basename(sys.argv[0]) == 'ipykernel_launcher.py':\n",
    "    args = parser.parse_args(args=[])\n",
    "else:\n",
    "    args = parser.parse_args()"
   ]
  },
  {
   "cell_type": "code",
   "execution_count": 10,
   "metadata": {},
   "outputs": [
    {
     "name": "stderr",
     "output_type": "stream",
     "text": [
      "Seed set to 42\n"
     ]
    },
    {
     "data": {
      "text/plain": [
       "42"
      ]
     },
     "execution_count": 10,
     "metadata": {},
     "output_type": "execute_result"
    }
   ],
   "source": [
    "random_seed = 42\n",
    "L.seed_everything(random_seed)"
   ]
  },
  {
   "cell_type": "code",
   "execution_count": 4,
   "metadata": {},
   "outputs": [],
   "source": [
    "n_epochs = 200000\n",
    "patience = n_epochs//500\n",
    "\n",
    "batch_size = 512\n",
    "optimizer, optimizer_param = optimizer_param_dict[\"Adam\"]\n",
    "dataset_path = f\"dataset/processed_concat_data_{args.class_num}_labels\"\n",
    "\n",
    "model_name = f\"{args.model_name}-8-1000-64\"\n",
    "AE_ckpt_abs_path = f\"/nfs/ksdata/tran/HAR_AE/lightning_logs/11.1_AE/{model_name}/version_0/checkpoints/*.ckpt\"\n",
    "args.AE_ckpt_path = glob.glob(AE_ckpt_abs_path)[0]\n",
    "\n",
    "log_save_dir = \"lightning_logs\"\n",
    "log_save_name = f\"15.1_enc_classify/{model_name}-{args.class_num}-{args.train_limit_data}-{args.random_seed}\""
   ]
  },
  {
   "cell_type": "code",
   "execution_count": 5,
   "metadata": {},
   "outputs": [
    {
     "data": {
      "text/plain": [
       "AE1DMaxPoolBNModel(\n",
       "  (enc_cnn): Sequential(\n",
       "    (0): Conv1d(6, 32, kernel_size=(8,), stride=(3,))\n",
       "    (1): BatchNorm1d(32, eps=1e-05, momentum=0.1, affine=True, track_running_stats=True)\n",
       "    (2): ReLU()\n",
       "    (3): Conv1d(32, 64, kernel_size=(9,), stride=(3,))\n",
       "    (4): BatchNorm1d(64, eps=1e-05, momentum=0.1, affine=True, track_running_stats=True)\n",
       "    (5): ReLU()\n",
       "    (6): Conv1d(64, 128, kernel_size=(8,), stride=(3,))\n",
       "    (7): BatchNorm1d(128, eps=1e-05, momentum=0.1, affine=True, track_running_stats=True)\n",
       "    (8): ReLU()\n",
       "    (9): Conv1d(128, 256, kernel_size=(7,), stride=(3,))\n",
       "    (10): BatchNorm1d(256, eps=1e-05, momentum=0.1, affine=True, track_running_stats=True)\n",
       "    (11): ReLU()\n",
       "  )\n",
       "  (enc_linear): Sequential(\n",
       "    (0): Linear(in_features=256, out_features=64, bias=True)\n",
       "    (1): BatchNorm1d(64, eps=1e-05, momentum=0.1, affine=True, track_running_stats=True)\n",
       "    (2): ReLU()\n",
       "  )\n",
       "  (dec_linear): Sequential(\n",
       "    (0): Sequential(\n",
       "      (0): Linear(in_features=64, out_features=256, bias=True)\n",
       "      (1): BatchNorm1d(256, eps=1e-05, momentum=0.1, affine=True, track_running_stats=True)\n",
       "      (2): ReLU()\n",
       "    )\n",
       "  )\n",
       "  (dec_cnn): Sequential(\n",
       "    (0): ConvTranspose1d(256, 128, kernel_size=(7,), stride=(3,))\n",
       "    (1): BatchNorm1d(128, eps=1e-05, momentum=0.1, affine=True, track_running_stats=True)\n",
       "    (2): ReLU()\n",
       "    (3): ConvTranspose1d(128, 64, kernel_size=(8,), stride=(3,))\n",
       "    (4): BatchNorm1d(64, eps=1e-05, momentum=0.1, affine=True, track_running_stats=True)\n",
       "    (5): ReLU()\n",
       "    (6): ConvTranspose1d(64, 32, kernel_size=(9,), stride=(3,))\n",
       "    (7): BatchNorm1d(32, eps=1e-05, momentum=0.1, affine=True, track_running_stats=True)\n",
       "    (8): ReLU()\n",
       "    (9): ConvTranspose1d(32, 6, kernel_size=(8,), stride=(3,))\n",
       "    (10): BatchNorm1d(6, eps=1e-05, momentum=0.1, affine=True, track_running_stats=True)\n",
       "    (11): ReLU()\n",
       "  )\n",
       ")"
      ]
     },
     "execution_count": 5,
     "metadata": {},
     "output_type": "execute_result"
    }
   ],
   "source": [
    "from model.AE_model import AE1D_simple, AECNN1DModel, AE1DMaxPoolBNModel\n",
    "AE1DMaxPoolBNModel.load_from_checkpoint(args.AE_ckpt_path)"
   ]
  },
  {
   "cell_type": "code",
   "execution_count": 6,
   "metadata": {},
   "outputs": [
    {
     "name": "stdout",
     "output_type": "stream",
     "text": [
      "limit_and_set_train_data limit_number= 1000\n",
      "limit_and_set_train_data limit_number= 1000\n",
      "limit_filter_data_by_class:  (array([1., 2., 3., 4., 5., 6., 7., 8.]), array([1000, 1000, 1000, 1000, 1000, 1000, 1000, 1000]))\n",
      "before merge train (array([1., 2., 3., 4., 5., 6., 7., 8.]), array([1000, 1000, 1000, 1000, 1000, 1000, 1000, 1000]))\n",
      "before merge val (array([1., 2., 3., 4., 5., 6., 7., 8.]), array([1000, 1001,  869, 1000, 1000, 1000, 1000, 1000]))\n",
      "before merge test (array([1., 2., 3., 4., 5., 6., 7., 8.]), array([1000, 1000,  869, 1000, 1000, 1000, 1000, 1000]))\n",
      "set_train_val_test_pred_merge_data\n",
      "limit_and_set_train_data limit_number= 1000\n",
      "limit_filter_data_by_class:  (array([1., 2., 3., 4., 5.]), array([1000, 1000, 1000, 1000, 1000]))\n",
      "limit_and_set_train_data limit_number= 1000\n",
      "limit_filter_data_by_class:  (array([1., 2., 3., 4., 5.]), array([1000, 1000,  869, 1000, 1000]))\n",
      "limit_and_set_train_data limit_number= 1000\n",
      "limit_filter_data_by_class:  (array([1., 2., 3., 4., 5.]), array([1000, 1000,  869, 1000, 1000]))\n",
      "before merge train (array([1., 2., 3., 4., 5.]), array([1000, 1000, 1000, 1000, 1000]))\n",
      "before merge val (array([1., 2., 3., 4., 5.]), array([1000, 1000,  869, 1000, 1000]))\n",
      "before merge test (array([1., 2., 3., 4., 5.]), array([1000, 1000,  869, 1000, 1000]))\n"
     ]
    }
   ],
   "source": [
    "data_module = ALDataModule_v1.load_from_checkpoint(args.AE_ckpt_path, dataset_path=dataset_path)\n",
    "data_module.limit_and_set_train_data(data_module._train_data, data_module._train_label, limit_number=args.train_limit_data)\n"
   ]
  },
  {
   "cell_type": "code",
   "execution_count": 12,
   "metadata": {},
   "outputs": [
    {
     "name": "stderr",
     "output_type": "stream",
     "text": [
      "Seed set to 42\n"
     ]
    }
   ],
   "source": [
    "L.seed_everything(args.random_seed)\n",
    "\n",
    "net = AE1DMaxPoolBNClassifierModel(\n",
    "    AE1DMaxPoolBN_ckpt_path=args.AE_ckpt_path,\n",
    "    optimizer = optimizer,\n",
    "    optimizer_param = optimizer_param, \n",
    "    linear_channel_param = enc_linear_param_dict[args.linear_param],\n",
    "    out_features=args.class_num,\n",
    ")"
   ]
  },
  {
   "cell_type": "code",
   "execution_count": null,
   "metadata": {},
   "outputs": [],
   "source": [
    "print(\" ----------------------start training---------------------------\")\n",
    "from lightning.pytorch.callbacks.early_stopping import EarlyStopping\n",
    "from lightning.pytorch.callbacks import ModelCheckpoint\n",
    "from lightning.pytorch.loggers import TensorBoardLogger, CSVLogger\n",
    "from lightning.pytorch.utilities.model_summary import ModelSummary\n",
    "\n",
    "tensorboard_logger = TensorBoardLogger(save_dir=log_save_dir, name=log_save_name,)\n",
    "csv_logger = CSVLogger(save_dir=log_save_dir, name=log_save_name,)\n",
    "checkpoint_callback = ModelCheckpoint(\n",
    "    dirpath=None,\n",
    "    save_top_k=1,\n",
    "    monitor=\"val_loss\",\n",
    "    mode=\"min\",\n",
    "    filename=\"sample_{epoch:02d}-{step:02d}-{val_loss:02f}\"\n",
    ")\n",
    "\n",
    "trainer = L.Trainer(\n",
    "    logger=[tensorboard_logger, csv_logger],\n",
    "    callbacks=[EarlyStopping(monitor=\"val_loss\", patience=patience), checkpoint_callback],\n",
    "    max_epochs=n_epochs,\n",
    "    check_val_every_n_epoch=10,\n",
    "    accelerator=\"gpu\", \n",
    "    )\n",
    "\n",
    "trainer.fit(model=net, datamodule=data_module)\n",
    "trainer_test_dict = trainer.logged_metrics\n",
    "\n",
    "trainer.test(model=net, datamodule=data_module)\n",
    "trainer_test_dict.update(trainer.logged_metrics)\n",
    "\n",
    "for key in trainer_test_dict.keys():\n",
    "    trainer_test_dict[key] = trainer_test_dict[key].item()\n",
    "\n",
    "with open(os.path.join(trainer.logger.log_dir, \"result.json\"), \"w\") as f:\n",
    "    json.dump(trainer_test_dict, f)\n",
    "\n",
    "with open(os.path.join(trainer.logger.log_dir, \"argparse_params.json\"), \"w\") as f:\n",
    "    json.dump(args.__dict__, f, indent=4)"
   ]
  },
  {
   "cell_type": "code",
   "execution_count": null,
   "metadata": {},
   "outputs": [],
   "source": [
    "checkpoint_path = \"/nfs/ksdata/tran/HAR_AE/lightning_logs/15.1_enc_classify/4cnn_64-8-1000-64-8-1000-42/version_0/checkpoints/sample_epoch=599-step=2400-val_loss=0.636736.ckpt\"\n",
    "\n",
    "data_module = ALDataModule_v1.load_from_checkpoint(checkpoint_path)\n",
    "data_module.set_normal_train()\n",
    "net = AE1DMaxPoolBNClassifierModel.load_from_checkpoint(checkpoint_path)\n",
    "\n",
    "trainer = L.Trainer()\n",
    "\n",
    "trainer.test(model=net, datamodule=data_module)\n",
    "output = trainer.predict(model=net, datamodule=data_module)\n",
    "pred = torch.argmax(torch.concat(output), dim=1)\n",
    "gt = list(map(lambda x: x[1], iter(data_module.test_dataloader())))"
   ]
  },
  {
   "cell_type": "code",
   "execution_count": 32,
   "metadata": {
    "scrolled": true
   },
   "outputs": [
    {
     "name": "stdout",
     "output_type": "stream",
     "text": [
      "15.1_enc_classify/4cnn_128-8-1000-64-5-5000-42\n",
      "15.1_enc_classify/4cnn_128-8-1000-64-5-5000-42 lightning_logs/15.1_enc_classify/4cnn_128-8-1000-64-5-5000-42/version_0/checkpoints/sample_epoch=219-step=2860-val_loss=0.176427.ckpt\n"
     ]
    },
    {
     "name": "stderr",
     "output_type": "stream",
     "text": [
      "Trainer will use only 1 of 2 GPUs because it is running inside an interactive / notebook environment. You may try to set `Trainer(devices=2)` but please note that multi-GPU inside interactive / notebook environments is considered experimental and unstable. Your mileage may vary.\n",
      "/nfs/ksdata/tran/miniconda3/envs/python_3.8/lib/python3.8/site-packages/lightning/fabric/plugins/environments/slurm.py:191: The `srun` command is available on your system but is not used. HINT: If your intention is to run Lightning on SLURM, prepend your python command with `srun` like so: srun python /nfs/ksdata/tran/miniconda3/envs/python_3.8/lib/pyth ...\n",
      "GPU available: True (cuda), used: True\n",
      "TPU available: False, using: 0 TPU cores\n",
      "IPU available: False, using: 0 IPUs\n",
      "HPU available: False, using: 0 HPUs\n"
     ]
    },
    {
     "name": "stdout",
     "output_type": "stream",
     "text": [
      "set_normal_train\n"
     ]
    },
    {
     "name": "stderr",
     "output_type": "stream",
     "text": [
      "LOCAL_RANK: 0 - CUDA_VISIBLE_DEVICES: [0,1]\n",
      "/nfs/ksdata/tran/miniconda3/envs/python_3.8/lib/python3.8/site-packages/lightning/pytorch/trainer/connectors/data_connector.py:441: The 'test_dataloader' does not have many workers which may be a bottleneck. Consider increasing the value of the `num_workers` argument` to `num_workers=55` in the `DataLoader` to improve performance.\n"
     ]
    },
    {
     "name": "stdout",
     "output_type": "stream",
     "text": [
      "Testing DataLoader 0: 100%|██████████████████████████████████| 10/10 [00:00<00:00, 162.67it/s]\n"
     ]
    },
    {
     "name": "stderr",
     "output_type": "stream",
     "text": [
      "LOCAL_RANK: 0 - CUDA_VISIBLE_DEVICES: [0,1]\n",
      "/nfs/ksdata/tran/miniconda3/envs/python_3.8/lib/python3.8/site-packages/lightning/pytorch/trainer/connectors/data_connector.py:441: The 'predict_dataloader' does not have many workers which may be a bottleneck. Consider increasing the value of the `num_workers` argument` to `num_workers=55` in the `DataLoader` to improve performance.\n"
     ]
    },
    {
     "name": "stdout",
     "output_type": "stream",
     "text": [
      "Predicting DataLoader 0: 100%|███████████████████████████████| 10/10 [00:00<00:00, 180.37it/s]\n",
      "15.1_enc_classify/4cnn_128-8-1000-64-8-5000-42\n",
      "15.1_enc_classify/4cnn_128-8-1000-64-8-5000-42 lightning_logs/15.1_enc_classify/4cnn_128-8-1000-64-8-5000-42/version_0/checkpoints/sample_epoch=229-step=4600-val_loss=0.554769.ckpt\n"
     ]
    },
    {
     "name": "stderr",
     "output_type": "stream",
     "text": [
      "Trainer will use only 1 of 2 GPUs because it is running inside an interactive / notebook environment. You may try to set `Trainer(devices=2)` but please note that multi-GPU inside interactive / notebook environments is considered experimental and unstable. Your mileage may vary.\n",
      "/nfs/ksdata/tran/miniconda3/envs/python_3.8/lib/python3.8/site-packages/lightning/fabric/plugins/environments/slurm.py:191: The `srun` command is available on your system but is not used. HINT: If your intention is to run Lightning on SLURM, prepend your python command with `srun` like so: srun python /nfs/ksdata/tran/miniconda3/envs/python_3.8/lib/pyth ...\n",
      "GPU available: True (cuda), used: True\n",
      "TPU available: False, using: 0 TPU cores\n",
      "IPU available: False, using: 0 IPUs\n",
      "HPU available: False, using: 0 HPUs\n"
     ]
    },
    {
     "name": "stdout",
     "output_type": "stream",
     "text": [
      "set_normal_train\n"
     ]
    },
    {
     "name": "stderr",
     "output_type": "stream",
     "text": [
      "LOCAL_RANK: 0 - CUDA_VISIBLE_DEVICES: [0,1]\n",
      "/nfs/ksdata/tran/miniconda3/envs/python_3.8/lib/python3.8/site-packages/lightning/pytorch/trainer/connectors/data_connector.py:441: The 'test_dataloader' does not have many workers which may be a bottleneck. Consider increasing the value of the `num_workers` argument` to `num_workers=55` in the `DataLoader` to improve performance.\n"
     ]
    },
    {
     "name": "stdout",
     "output_type": "stream",
     "text": [
      "Testing DataLoader 0: 100%|██████████████████████████████████| 16/16 [00:00<00:00, 143.89it/s]\n"
     ]
    },
    {
     "name": "stderr",
     "output_type": "stream",
     "text": [
      "LOCAL_RANK: 0 - CUDA_VISIBLE_DEVICES: [0,1]\n",
      "/nfs/ksdata/tran/miniconda3/envs/python_3.8/lib/python3.8/site-packages/lightning/pytorch/trainer/connectors/data_connector.py:441: The 'predict_dataloader' does not have many workers which may be a bottleneck. Consider increasing the value of the `num_workers` argument` to `num_workers=55` in the `DataLoader` to improve performance.\n"
     ]
    },
    {
     "name": "stdout",
     "output_type": "stream",
     "text": [
      "Predicting DataLoader 0: 100%|███████████████████████████████| 16/16 [00:00<00:00, 179.37it/s]\n",
      "15.1_enc_classify/4cnn_64-8-1000-64-5-5000-42\n",
      "15.1_enc_classify/4cnn_64-8-1000-64-5-5000-42 lightning_logs/15.1_enc_classify/4cnn_64-8-1000-64-5-5000-42/version_0/checkpoints/sample_epoch=299-step=3900-val_loss=0.170794.ckpt\n"
     ]
    },
    {
     "name": "stderr",
     "output_type": "stream",
     "text": [
      "Trainer will use only 1 of 2 GPUs because it is running inside an interactive / notebook environment. You may try to set `Trainer(devices=2)` but please note that multi-GPU inside interactive / notebook environments is considered experimental and unstable. Your mileage may vary.\n",
      "/nfs/ksdata/tran/miniconda3/envs/python_3.8/lib/python3.8/site-packages/lightning/fabric/plugins/environments/slurm.py:191: The `srun` command is available on your system but is not used. HINT: If your intention is to run Lightning on SLURM, prepend your python command with `srun` like so: srun python /nfs/ksdata/tran/miniconda3/envs/python_3.8/lib/pyth ...\n",
      "GPU available: True (cuda), used: True\n",
      "TPU available: False, using: 0 TPU cores\n",
      "IPU available: False, using: 0 IPUs\n",
      "HPU available: False, using: 0 HPUs\n"
     ]
    },
    {
     "name": "stdout",
     "output_type": "stream",
     "text": [
      "set_normal_train\n"
     ]
    },
    {
     "name": "stderr",
     "output_type": "stream",
     "text": [
      "LOCAL_RANK: 0 - CUDA_VISIBLE_DEVICES: [0,1]\n",
      "/nfs/ksdata/tran/miniconda3/envs/python_3.8/lib/python3.8/site-packages/lightning/pytorch/trainer/connectors/data_connector.py:441: The 'test_dataloader' does not have many workers which may be a bottleneck. Consider increasing the value of the `num_workers` argument` to `num_workers=55` in the `DataLoader` to improve performance.\n"
     ]
    },
    {
     "name": "stdout",
     "output_type": "stream",
     "text": [
      "Testing DataLoader 0: 100%|██████████████████████████████████| 10/10 [00:00<00:00, 147.13it/s]\n"
     ]
    },
    {
     "name": "stderr",
     "output_type": "stream",
     "text": [
      "LOCAL_RANK: 0 - CUDA_VISIBLE_DEVICES: [0,1]\n",
      "/nfs/ksdata/tran/miniconda3/envs/python_3.8/lib/python3.8/site-packages/lightning/pytorch/trainer/connectors/data_connector.py:441: The 'predict_dataloader' does not have many workers which may be a bottleneck. Consider increasing the value of the `num_workers` argument` to `num_workers=55` in the `DataLoader` to improve performance.\n"
     ]
    },
    {
     "name": "stdout",
     "output_type": "stream",
     "text": [
      "Predicting DataLoader 0: 100%|███████████████████████████████| 10/10 [00:00<00:00, 179.26it/s]\n",
      "15.1_enc_classify/4cnn_64-8-1000-64-8-5000-42\n",
      "15.1_enc_classify/4cnn_64-8-1000-64-8-5000-42 lightning_logs/15.1_enc_classify/4cnn_64-8-1000-64-8-5000-42/version_0/checkpoints/sample_epoch=6939-step=138800-val_loss=0.551944.ckpt\n"
     ]
    },
    {
     "name": "stderr",
     "output_type": "stream",
     "text": [
      "Trainer will use only 1 of 2 GPUs because it is running inside an interactive / notebook environment. You may try to set `Trainer(devices=2)` but please note that multi-GPU inside interactive / notebook environments is considered experimental and unstable. Your mileage may vary.\n",
      "/nfs/ksdata/tran/miniconda3/envs/python_3.8/lib/python3.8/site-packages/lightning/fabric/plugins/environments/slurm.py:191: The `srun` command is available on your system but is not used. HINT: If your intention is to run Lightning on SLURM, prepend your python command with `srun` like so: srun python /nfs/ksdata/tran/miniconda3/envs/python_3.8/lib/pyth ...\n",
      "GPU available: True (cuda), used: True\n",
      "TPU available: False, using: 0 TPU cores\n",
      "IPU available: False, using: 0 IPUs\n",
      "HPU available: False, using: 0 HPUs\n"
     ]
    },
    {
     "name": "stdout",
     "output_type": "stream",
     "text": [
      "set_normal_train\n"
     ]
    },
    {
     "name": "stderr",
     "output_type": "stream",
     "text": [
      "LOCAL_RANK: 0 - CUDA_VISIBLE_DEVICES: [0,1]\n",
      "/nfs/ksdata/tran/miniconda3/envs/python_3.8/lib/python3.8/site-packages/lightning/pytorch/trainer/connectors/data_connector.py:441: The 'test_dataloader' does not have many workers which may be a bottleneck. Consider increasing the value of the `num_workers` argument` to `num_workers=55` in the `DataLoader` to improve performance.\n"
     ]
    },
    {
     "name": "stdout",
     "output_type": "stream",
     "text": [
      "Testing DataLoader 0: 100%|██████████████████████████████████| 16/16 [00:00<00:00, 142.46it/s]\n"
     ]
    },
    {
     "name": "stderr",
     "output_type": "stream",
     "text": [
      "LOCAL_RANK: 0 - CUDA_VISIBLE_DEVICES: [0,1]\n",
      "/nfs/ksdata/tran/miniconda3/envs/python_3.8/lib/python3.8/site-packages/lightning/pytorch/trainer/connectors/data_connector.py:441: The 'predict_dataloader' does not have many workers which may be a bottleneck. Consider increasing the value of the `num_workers` argument` to `num_workers=55` in the `DataLoader` to improve performance.\n"
     ]
    },
    {
     "name": "stdout",
     "output_type": "stream",
     "text": [
      "Predicting DataLoader 0: 100%|███████████████████████████████| 16/16 [00:00<00:00, 182.83it/s]\n"
     ]
    }
   ],
   "source": [
    "if args.eval_mode:\n",
    "    log_save_dir = \"lightning_logs\"\n",
    "    log_save_name = \"15.1_enc_classify/{}-{}-{}-{}\"\n",
    "    args.random_seed = \"42\"\n",
    "    result_save_dict = {}\n",
    "    raw_result_save_dict = {}\n",
    "    \n",
    "    for args.model_name in \"4cnn_128 4cnn_64\".split(\" \"):\n",
    "        for args.train_limit_data in \"5000\".split(\" \"):\n",
    "            for args.class_num in [5, 8]:\n",
    "                model_name = f\"{args.model_name}-8-1000-64\"\n",
    "                \n",
    "                save_model_folder = log_save_name.format(model_name, args.class_num, args.train_limit_data, args.random_seed)\n",
    "                save_model_dir = os.path.join(log_save_dir, save_model_folder)\n",
    "                print(save_model_folder)\n",
    "                \n",
    "                weight = glob.glob(os.path.join(save_model_dir, \"version_0\", \"checkpoints\", \"*.ckpt\"))[0]\n",
    "                print(save_model_folder, weight)\n",
    "\n",
    "                net = AE1DMaxPoolBNClassifierModel.load_from_checkpoint(weight)\n",
    "                data_module = ALDataModule_v1.load_from_checkpoint(weight)\n",
    "                data_module.set_normal_train()\n",
    "\n",
    "                trainer = L.Trainer()\n",
    "                trainer.test(model=net, datamodule=data_module, verbose=False)\n",
    "                \n",
    "                test_acc = trainer.logged_metrics[\"test_acc\"]\n",
    "                result_save_dict[save_model_folder] = test_acc\n",
    "\n",
    "                output = trainer.predict(model=net, datamodule=data_module)\n",
    "                pred = torch.argmax(torch.concat(output), dim=1)\n",
    "                gt = list(map(lambda x: x[1], iter(data_module.test_dataloader())))\n",
    "\n",
    "                pred_ravel = pred.numpy()\n",
    "                gt_ravel = np.concatenate(list(map(lambda x: x.numpy(), gt)))\n",
    "\n",
    "                cf = confusion_matrix(gt_ravel, pred_ravel)\n",
    "                \n",
    "                raw_result_save_dict[save_model_folder] = cf.tolist()\n"
   ]
  },
  {
   "cell_type": "code",
   "execution_count": 33,
   "metadata": {},
   "outputs": [
    {
     "data": {
      "text/plain": [
       "{'15.1_enc_classify/4cnn_128-8-1000-64-5-5000-42': [[945, 5, 0, 10, 40],\n",
       "  [24, 951, 1, 19, 5],\n",
       "  [1, 2, 863, 3, 0],\n",
       "  [17, 8, 0, 953, 22],\n",
       "  [74, 1, 0, 12, 913]],\n",
       " '15.1_enc_classify/4cnn_128-8-1000-64-8-5000-42': [[833,\n",
       "   1,\n",
       "   0,\n",
       "   1,\n",
       "   8,\n",
       "   24,\n",
       "   63,\n",
       "   70],\n",
       "  [16, 941, 1, 22, 1, 7, 3, 9],\n",
       "  [3, 3, 860, 3, 0, 0, 0, 0],\n",
       "  [11, 12, 2, 921, 13, 27, 5, 9],\n",
       "  [55, 0, 0, 10, 847, 59, 6, 23],\n",
       "  [79, 2, 0, 17, 62, 724, 42, 74],\n",
       "  [234, 4, 0, 5, 12, 37, 510, 198],\n",
       "  [210, 3, 1, 1, 17, 56, 219, 493]],\n",
       " '15.1_enc_classify/4cnn_64-8-1000-64-5-5000-42': [[969, 5, 0, 8, 18],\n",
       "  [24, 961, 0, 10, 5],\n",
       "  [1, 4, 864, 0, 0],\n",
       "  [22, 12, 0, 944, 22],\n",
       "  [91, 0, 0, 16, 893]],\n",
       " '15.1_enc_classify/4cnn_64-8-1000-64-8-5000-42': [[891,\n",
       "   1,\n",
       "   0,\n",
       "   1,\n",
       "   14,\n",
       "   17,\n",
       "   30,\n",
       "   46],\n",
       "  [16, 948, 0, 20, 2, 3, 3, 8],\n",
       "  [3, 6, 857, 2, 0, 1, 0, 0],\n",
       "  [19, 10, 0, 918, 12, 30, 2, 9],\n",
       "  [63, 0, 0, 10, 860, 46, 4, 17],\n",
       "  [79, 5, 0, 13, 74, 697, 38, 94],\n",
       "  [186, 1, 0, 5, 18, 40, 492, 258],\n",
       "  [186, 2, 0, 3, 25, 72, 176, 536]]}"
      ]
     },
     "execution_count": 33,
     "metadata": {},
     "output_type": "execute_result"
    }
   ],
   "source": [
    "raw_result_save_dict"
   ]
  },
  {
   "cell_type": "code",
   "execution_count": 34,
   "metadata": {},
   "outputs": [],
   "source": [
    "with open(\"save_data/AE1000+classifier5000_result.json\", \"w\") as f:\n",
    "    json.dump(raw_result_save_dict, f, indent=2)"
   ]
  },
  {
   "cell_type": "code",
   "execution_count": 37,
   "metadata": {},
   "outputs": [],
   "source": [
    "result_save_dict2 =  {'15.2_enc_classify/4cnn_128-8-1000-64-8-1-5000-42': torch.tensor(0.9053),\n",
    " '15.2_enc_classify/4cnn_64-8-1000-64-8-1-5000-42': torch.tensor(0.9189)}\n",
    "\n",
    "log_save_name2 = \"15.2_enc_classify/{}-{}-{}-{}-{}\"\n",
    "args.data_merge_param = \"1\""
   ]
  },
  {
   "cell_type": "code",
   "execution_count": 38,
   "metadata": {},
   "outputs": [
    {
     "name": "stdout",
     "output_type": "stream",
     "text": [
      "15.1_enc_classify/4cnn_128-8-1000-64-5-5000-42\n",
      "15.1_enc_classify/4cnn_64-8-1000-64-5-5000-42\n",
      "15.1_enc_classify/4cnn_128-8-1000-64-8-5000-42\n",
      "15.1_enc_classify/4cnn_64-8-1000-64-8-5000-42\n",
      "15.2_enc_classify/4cnn_128-8-1000-64-8-1-5000-42\n",
      "15.2_enc_classify/4cnn_64-8-1000-64-8-1-5000-42\n"
     ]
    },
    {
     "name": "stderr",
     "output_type": "stream",
     "text": [
      "/tmp/ipykernel_17807/121818549.py:40: UserWarning: The figure layout has changed to tight\n",
      "  plt.tight_layout()\n"
     ]
    },
    {
     "data": {
      "image/png": "[encoded data removed]",
      "text/plain": [
       "<Figure size 400x250 with 1 Axes>"
      ]
     },
     "metadata": {},
     "output_type": "display_data"
    }
   ],
   "source": [
    "if args.eval_mode:\n",
    "    fig, ax = plt.subplots(layout='constrained', figsize=(4, 2.5))\n",
    "    args.random_seed = 42\n",
    "    args.train_limit_data = \"5000\"\n",
    "    \n",
    "    for args.class_num in [5, 8]:\n",
    "        x = []\n",
    "        for args.model_name in \"4cnn_128 4cnn_64\".split(\" \"):\n",
    "            model_name = f\"{args.model_name}-8-1000-64\"\n",
    "            save_model_folder = log_save_name.format(model_name, args.class_num, args.train_limit_data, args.random_seed)\n",
    "            print(save_model_folder)\n",
    "            x.append(round(result_save_dict[save_model_folder].item(), 3))\n",
    "\n",
    "        ax.plot(x, label=f\"{args.class_num} classes\", marker=\"o\")\n",
    "        for i, j in enumerate(x):\n",
    "            ax.annotate(str(j),xy=(i-0.04,j+0.01))\n",
    "\n",
    "    \n",
    "    for args.class_num in [8]:\n",
    "        x = []\n",
    "        for args.model_name in \"4cnn_128 4cnn_64\".split(\" \"):\n",
    "            model_name = f\"{args.model_name}-8-1000-64\"\n",
    "            save_model_folder = log_save_name2.format(model_name, args.class_num, args.data_merge_param, args.train_limit_data, args.random_seed)\n",
    "            print(save_model_folder)\n",
    "            x.append(round(result_save_dict2[save_model_folder].item(), 3))\n",
    "\n",
    "        ax.plot(x, label=f\"merged 5 classes\", color=\"red\", marker=\"o\")\n",
    "        for i, j in enumerate(x):\n",
    "            ax.annotate(str(j),xy=(i-0.04,j+0.01))\n",
    "        \n",
    "    # ax.set_title(f'Accuracy of Classifier class_num={args.class_num} train_data_number={args.train_limit_data}')\n",
    "    \n",
    "    ax.set_ylabel('Accuracy')\n",
    "    ax.set_xlabel('Model name')\n",
    "    \n",
    "    ax.set_xticks([0, 1], [\"4cnn_64\", \"4cnn_128\"])\n",
    "    ax.set_ylim(0.5, 1)\n",
    "    \n",
    "    ax.legend()\n",
    "    plt.tight_layout()"
   ]
  },
  {
   "cell_type": "code",
   "execution_count": null,
   "metadata": {},
   "outputs": [],
   "source": []
  }
 ],
 "metadata": {
  "kernelspec": {
   "display_name": "Python 3 (ipykernel)",
   "language": "python",
   "name": "python3"
  },
  "language_info": {
   "codemirror_mode": {
    "name": "ipython",
    "version": 3
   },
   "file_extension": ".py",
   "mimetype": "text/x-python",
   "name": "python",
   "nbconvert_exporter": "python",
   "pygments_lexer": "ipython3",
   "version": "3.8.18"
  }
 },
 "nbformat": 4,
 "nbformat_minor": 4
}
