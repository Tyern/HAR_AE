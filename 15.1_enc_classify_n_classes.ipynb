{
 "cells": [
  {
   "cell_type": "code",
   "execution_count": 10,
   "metadata": {},
   "outputs": [],
   "source": [
    "import os\n",
    "import sys\n",
    "import json\n",
    "import glob\n",
    "\n",
    "import numpy as np\n",
    "import pandas as pd\n",
    "\n",
    "import torch\n",
    "import torchvision\n",
    "\n",
    "import matplotlib.pyplot as plt\n",
    "import lightning as L\n",
    "\n",
    "import torch.nn as nn\n",
    "import torch.nn.functional as F\n",
    "import torch.optim as optim\n",
    "\n",
    "import seaborn as sns\n",
    "from sklearn.metrics import confusion_matrix, accuracy_score, f1_score\n",
    "\n",
    "from utils.model_utils import unwrap_model\n",
    "from config.optimizer_param_config import optimizer_param_dict\n",
    "from config.channel_param_config import channel_param_dict, enc_linear_param_dict\n",
    "\n",
    "from data_module.data_module import ALDataModule_v1\n",
    "from model.enc_classifier_model import AE1DClassifier, AE1DMaxPoolBNClassifierModel\n",
    "from model.AE_model import AECNN1DBNModel, AE1DMaxPoolBNModel"
   ]
  },
  {
   "cell_type": "code",
   "execution_count": 11,
   "metadata": {},
   "outputs": [],
   "source": [
    "import argparse\n",
    "\n",
    "parser = argparse.ArgumentParser(description=\"\", formatter_class=argparse.ArgumentDefaultsHelpFormatter)\n",
    "\n",
    "parser.add_argument(\"-tl\", \"--train_limit_data\", type=int, default=1000,\n",
    "                    help=f\"Used for limit the number of data in train data, -1 mean no limit\")\n",
    "\n",
    "parser.add_argument(\"-cn\", \"--class_num\", type=int, default=5,\n",
    "                    help=f\"Number of class num use to train\")\n",
    "\n",
    "parser.add_argument(\"--model_name\", type=str, default=\"4cnn_64\",\n",
    "                    help=f\"Config name of model used for training\")\n",
    "\n",
    "parser.add_argument(\"--AE_ckpt_path\", type=str, default=\"\",\n",
    "                    help=f\"Config name of model used for training\")\n",
    "\n",
    "parser.add_argument(\"--linear_param\", type=str, default=\"32\",\n",
    "                    help=f\"Linear config name of model used for training\")\n",
    "\n",
    "parser.add_argument(\"-r\", \"--random_seed\", type=int, default=42,\n",
    "                    help=f\"Random Seed\")\n",
    "\n",
    "parser.add_argument(\"--eval_mode\", type=int, default=0,\n",
    "                    help=f\"Eval all models\")\n",
    "\n",
    "if os.path.basename(sys.argv[0]) == 'ipykernel_launcher.py':\n",
    "    args = parser.parse_args(args=[])\n",
    "else:\n",
    "    args = parser.parse_args()"
   ]
  },
  {
   "cell_type": "code",
   "execution_count": 12,
   "metadata": {},
   "outputs": [
    {
     "name": "stderr",
     "output_type": "stream",
     "text": [
      "Seed set to 42\n"
     ]
    },
    {
     "data": {
      "text/plain": [
       "42"
      ]
     },
     "execution_count": 12,
     "metadata": {},
     "output_type": "execute_result"
    }
   ],
   "source": [
    "random_seed = 42\n",
    "L.seed_everything(random_seed)"
   ]
  },
  {
   "cell_type": "code",
   "execution_count": 13,
   "metadata": {},
   "outputs": [],
   "source": [
    "n_epochs = 4000000\n",
    "patience = n_epochs//100\n",
    "\n",
    "batch_size = 512\n",
    "optimizer, optimizer_param = optimizer_param_dict[\"Adam\"]\n",
    "dataset_path = f\"dataset/processed_concat_data_{args.class_num}_labels\"\n",
    "\n",
    "model_name = f\"{args.model_name}-8-{args.train_limit_data}-64\"\n",
    "AE_ckpt_abs_path = f\"/nfs/ksdata/tran/HAR_AE/lightning_logs/11.1_AE/{model_name}/version_0/checkpoints/*.ckpt\"\n",
    "args.AE_ckpt_path = glob.glob(AE_ckpt_abs_path)[0]\n",
    "\n",
    "log_save_dir = \"lightning_logs\"\n",
    "log_save_name = f\"15.1_enc_classify/{model_name}-{args.class_num}-{args.train_limit_data}-{args.random_seed}\""
   ]
  },
  {
   "cell_type": "code",
   "execution_count": 5,
   "metadata": {},
   "outputs": [
    {
     "data": {
      "text/plain": [
       "AE1DMaxPoolBNModel(\n",
       "  (enc_cnn): Sequential(\n",
       "    (0): Conv1d(6, 32, kernel_size=(8,), stride=(3,))\n",
       "    (1): BatchNorm1d(32, eps=1e-05, momentum=0.1, affine=True, track_running_stats=True)\n",
       "    (2): ReLU()\n",
       "    (3): Conv1d(32, 64, kernel_size=(9,), stride=(3,))\n",
       "    (4): BatchNorm1d(64, eps=1e-05, momentum=0.1, affine=True, track_running_stats=True)\n",
       "    (5): ReLU()\n",
       "    (6): Conv1d(64, 128, kernel_size=(8,), stride=(3,))\n",
       "    (7): BatchNorm1d(128, eps=1e-05, momentum=0.1, affine=True, track_running_stats=True)\n",
       "    (8): ReLU()\n",
       "    (9): Conv1d(128, 256, kernel_size=(7,), stride=(3,))\n",
       "    (10): BatchNorm1d(256, eps=1e-05, momentum=0.1, affine=True, track_running_stats=True)\n",
       "    (11): ReLU()\n",
       "  )\n",
       "  (enc_linear): Sequential(\n",
       "    (0): Linear(in_features=256, out_features=64, bias=True)\n",
       "    (1): BatchNorm1d(64, eps=1e-05, momentum=0.1, affine=True, track_running_stats=True)\n",
       "    (2): ReLU()\n",
       "  )\n",
       "  (dec_linear): Sequential(\n",
       "    (0): Sequential(\n",
       "      (0): Linear(in_features=64, out_features=256, bias=True)\n",
       "      (1): BatchNorm1d(256, eps=1e-05, momentum=0.1, affine=True, track_running_stats=True)\n",
       "      (2): ReLU()\n",
       "    )\n",
       "  )\n",
       "  (dec_cnn): Sequential(\n",
       "    (0): ConvTranspose1d(256, 128, kernel_size=(7,), stride=(3,))\n",
       "    (1): BatchNorm1d(128, eps=1e-05, momentum=0.1, affine=True, track_running_stats=True)\n",
       "    (2): ReLU()\n",
       "    (3): ConvTranspose1d(128, 64, kernel_size=(8,), stride=(3,))\n",
       "    (4): BatchNorm1d(64, eps=1e-05, momentum=0.1, affine=True, track_running_stats=True)\n",
       "    (5): ReLU()\n",
       "    (6): ConvTranspose1d(64, 32, kernel_size=(9,), stride=(3,))\n",
       "    (7): BatchNorm1d(32, eps=1e-05, momentum=0.1, affine=True, track_running_stats=True)\n",
       "    (8): ReLU()\n",
       "    (9): ConvTranspose1d(32, 6, kernel_size=(8,), stride=(3,))\n",
       "    (10): BatchNorm1d(6, eps=1e-05, momentum=0.1, affine=True, track_running_stats=True)\n",
       "    (11): ReLU()\n",
       "  )\n",
       ")"
      ]
     },
     "execution_count": 5,
     "metadata": {},
     "output_type": "execute_result"
    }
   ],
   "source": [
    "from model.AE_model import AE1D_simple, AECNN1DModel, AE1DMaxPoolBNModel\n",
    "AE1DMaxPoolBNModel.load_from_checkpoint(args.AE_ckpt_path)"
   ]
  },
  {
   "cell_type": "code",
   "execution_count": 7,
   "metadata": {},
   "outputs": [
    {
     "name": "stdout",
     "output_type": "stream",
     "text": [
      "limit_and_set_train_data limit_number= 1000\n"
     ]
    }
   ],
   "source": [
    "data_module = ALDataModule_v1.load_from_checkpoint(args.AE_ckpt_path, dataset_path=dataset_path)\n",
    "data_module.limit_and_set_train_data(data_module._train_data, data_module._train_label, limit_number=args.train_limit_data)"
   ]
  },
  {
   "cell_type": "code",
   "execution_count": 8,
   "metadata": {},
   "outputs": [
    {
     "name": "stderr",
     "output_type": "stream",
     "text": [
      "Seed set to 42\n"
     ]
    }
   ],
   "source": [
    "L.seed_everything(args.random_seed)\n",
    "\n",
    "net = AE1DMaxPoolBNClassifierModel(\n",
    "    AE1DMaxPoolBN_ckpt_path=args.AE_ckpt_path,\n",
    "    optimizer = optimizer,\n",
    "    optimizer_param = optimizer_param, \n",
    "    linear_channel_param = enc_linear_param_dict[args.linear_param],\n",
    "    out_features=args.class_num,\n",
    ")"
   ]
  },
  {
   "cell_type": "code",
   "execution_count": null,
   "metadata": {},
   "outputs": [],
   "source": [
    "print(\" ----------------------start training---------------------------\")\n",
    "from lightning.pytorch.callbacks.early_stopping import EarlyStopping\n",
    "from lightning.pytorch.callbacks import ModelCheckpoint\n",
    "from lightning.pytorch.loggers import TensorBoardLogger, CSVLogger\n",
    "from lightning.pytorch.utilities.model_summary import ModelSummary\n",
    "\n",
    "tensorboard_logger = TensorBoardLogger(save_dir=log_save_dir, name=log_save_name,)\n",
    "csv_logger = CSVLogger(save_dir=log_save_dir, name=log_save_name,)\n",
    "checkpoint_callback = ModelCheckpoint(\n",
    "    dirpath=None,\n",
    "    save_top_k=1,\n",
    "    monitor=\"val_loss\",\n",
    "    mode=\"min\",\n",
    "    filename=\"sample_{epoch:02d}-{step:02d}-{val_loss:02f}\"\n",
    ")\n",
    "\n",
    "trainer = L.Trainer(\n",
    "    logger=[tensorboard_logger, csv_logger],\n",
    "    callbacks=[EarlyStopping(monitor=\"val_loss\", patience=patience), checkpoint_callback],\n",
    "    max_epochs=n_epochs,\n",
    "    check_val_every_n_epoch=10,\n",
    "    accelerator=\"gpu\", \n",
    "    )\n",
    "\n",
    "trainer.fit(model=net, datamodule=data_module)\n",
    "trainer_test_dict = trainer.logged_metrics\n",
    "\n",
    "trainer.test(model=net, datamodule=data_module)\n",
    "trainer_test_dict.update(trainer.logged_metrics)\n",
    "\n",
    "for key in trainer_test_dict.keys():\n",
    "    trainer_test_dict[key] = trainer_test_dict[key].item()\n",
    "\n",
    "with open(os.path.join(trainer.logger.log_dir, \"result.json\"), \"w\") as f:\n",
    "    json.dump(trainer_test_dict, f)\n",
    "\n",
    "with open(os.path.join(trainer.logger.log_dir, \"argparse_params.json\"), \"w\") as f:\n",
    "    json.dump(args.__dict__, f, indent=4)"
   ]
  },
  {
   "cell_type": "code",
   "execution_count": null,
   "metadata": {},
   "outputs": [],
   "source": [
    "checkpoint_path = \"/nfs/ksdata/tran/HAR_AE/lightning_logs/15.1_enc_classify/4cnn_64-8-1000-64-8-1000-42/version_0/checkpoints/sample_epoch=599-step=2400-val_loss=0.636736.ckpt\"\n",
    "\n",
    "data_module = ALDataModule_v1.load_from_checkpoint(checkpoint_path)\n",
    "data_module.set_normal_train()\n",
    "net = AE1DMaxPoolBNClassifierModel.load_from_checkpoint(checkpoint_path)\n",
    "\n",
    "trainer = L.Trainer()\n",
    "\n",
    "trainer.test(model=net, datamodule=data_module)\n",
    "output = trainer.predict(model=net, datamodule=data_module)\n",
    "pred = torch.argmax(torch.concat(output), dim=1)\n",
    "gt = list(map(lambda x: x[1], iter(data_module.test_dataloader())))"
   ]
  },
  {
   "cell_type": "code",
   "execution_count": 25,
   "metadata": {
    "scrolled": true
   },
   "outputs": [
    {
     "name": "stdout",
     "output_type": "stream",
     "text": [
      "15.1_enc_classify/4cnn_128-8-1000-64-5-1000-42\n",
      "15.1_enc_classify/4cnn_128-8-1000-64-5-1000-42 lightning_logs/15.1_enc_classify/4cnn_128-8-1000-64-5-1000-42/version_0/checkpoints/sample_epoch=409-step=1230-val_loss=0.195895.ckpt\n"
     ]
    },
    {
     "name": "stderr",
     "output_type": "stream",
     "text": [
      "Trainer will use only 1 of 2 GPUs because it is running inside an interactive / notebook environment. You may try to set `Trainer(devices=2)` but please note that multi-GPU inside interactive / notebook environments is considered experimental and unstable. Your mileage may vary.\n",
      "GPU available: True (cuda), used: True\n",
      "TPU available: False, using: 0 TPU cores\n",
      "IPU available: False, using: 0 IPUs\n",
      "HPU available: False, using: 0 HPUs\n"
     ]
    },
    {
     "name": "stdout",
     "output_type": "stream",
     "text": [
      "set_normal_train\n"
     ]
    },
    {
     "name": "stderr",
     "output_type": "stream",
     "text": [
      "LOCAL_RANK: 0 - CUDA_VISIBLE_DEVICES: [0,1]\n"
     ]
    },
    {
     "name": "stdout",
     "output_type": "stream",
     "text": [
      "Testing DataLoader 0: 100%|█████████████████████████████████| 10/10 [00:00<00:00, 141.64it/s]\n",
      "15.1_enc_classify/4cnn_128-8-1000-64-8-1000-42\n",
      "15.1_enc_classify/4cnn_128-8-1000-64-8-1000-42 lightning_logs/15.1_enc_classify/4cnn_128-8-1000-64-8-1000-42/version_0/checkpoints/sample_epoch=409-step=1640-val_loss=0.606796.ckpt\n"
     ]
    },
    {
     "name": "stderr",
     "output_type": "stream",
     "text": [
      "Trainer will use only 1 of 2 GPUs because it is running inside an interactive / notebook environment. You may try to set `Trainer(devices=2)` but please note that multi-GPU inside interactive / notebook environments is considered experimental and unstable. Your mileage may vary.\n",
      "GPU available: True (cuda), used: True\n",
      "TPU available: False, using: 0 TPU cores\n",
      "IPU available: False, using: 0 IPUs\n",
      "HPU available: False, using: 0 HPUs\n"
     ]
    },
    {
     "name": "stdout",
     "output_type": "stream",
     "text": [
      "set_normal_train\n"
     ]
    },
    {
     "name": "stderr",
     "output_type": "stream",
     "text": [
      "LOCAL_RANK: 0 - CUDA_VISIBLE_DEVICES: [0,1]\n"
     ]
    },
    {
     "name": "stdout",
     "output_type": "stream",
     "text": [
      "Testing DataLoader 0: 100%|█████████████████████████████████| 16/16 [00:00<00:00, 138.94it/s]\n",
      "15.1_enc_classify/4cnn_128-8-5000-64-5-5000-42\n",
      "15.1_enc_classify/4cnn_128-8-5000-64-5-5000-42 lightning_logs/15.1_enc_classify/4cnn_128-8-5000-64-5-5000-42/version_0/checkpoints/sample_epoch=179-step=2340-val_loss=0.129157.ckpt\n"
     ]
    },
    {
     "name": "stderr",
     "output_type": "stream",
     "text": [
      "Trainer will use only 1 of 2 GPUs because it is running inside an interactive / notebook environment. You may try to set `Trainer(devices=2)` but please note that multi-GPU inside interactive / notebook environments is considered experimental and unstable. Your mileage may vary.\n",
      "GPU available: True (cuda), used: True\n",
      "TPU available: False, using: 0 TPU cores\n",
      "IPU available: False, using: 0 IPUs\n",
      "HPU available: False, using: 0 HPUs\n"
     ]
    },
    {
     "name": "stdout",
     "output_type": "stream",
     "text": [
      "set_normal_train\n"
     ]
    },
    {
     "name": "stderr",
     "output_type": "stream",
     "text": [
      "LOCAL_RANK: 0 - CUDA_VISIBLE_DEVICES: [0,1]\n"
     ]
    },
    {
     "name": "stdout",
     "output_type": "stream",
     "text": [
      "Testing DataLoader 0: 100%|█████████████████████████████████| 10/10 [00:00<00:00, 103.49it/s]\n",
      "15.1_enc_classify/4cnn_128-8-5000-64-8-5000-42\n",
      "15.1_enc_classify/4cnn_128-8-5000-64-8-5000-42 lightning_logs/15.1_enc_classify/4cnn_128-8-5000-64-8-5000-42/version_0/checkpoints/sample_epoch=249-step=5000-val_loss=0.484800.ckpt\n"
     ]
    },
    {
     "name": "stderr",
     "output_type": "stream",
     "text": [
      "Trainer will use only 1 of 2 GPUs because it is running inside an interactive / notebook environment. You may try to set `Trainer(devices=2)` but please note that multi-GPU inside interactive / notebook environments is considered experimental and unstable. Your mileage may vary.\n",
      "GPU available: True (cuda), used: True\n",
      "TPU available: False, using: 0 TPU cores\n",
      "IPU available: False, using: 0 IPUs\n",
      "HPU available: False, using: 0 HPUs\n"
     ]
    },
    {
     "name": "stdout",
     "output_type": "stream",
     "text": [
      "set_normal_train\n"
     ]
    },
    {
     "name": "stderr",
     "output_type": "stream",
     "text": [
      "LOCAL_RANK: 0 - CUDA_VISIBLE_DEVICES: [0,1]\n"
     ]
    },
    {
     "name": "stdout",
     "output_type": "stream",
     "text": [
      "Testing DataLoader 0: 100%|█████████████████████████████████| 16/16 [00:00<00:00, 153.98it/s]\n",
      "15.1_enc_classify/4cnn_64-8-1000-64-5-1000-42\n",
      "15.1_enc_classify/4cnn_64-8-1000-64-5-1000-42 lightning_logs/15.1_enc_classify/4cnn_64-8-1000-64-5-1000-42/version_0/checkpoints/sample_epoch=469-step=1410-val_loss=0.187414.ckpt\n"
     ]
    },
    {
     "name": "stderr",
     "output_type": "stream",
     "text": [
      "Trainer will use only 1 of 2 GPUs because it is running inside an interactive / notebook environment. You may try to set `Trainer(devices=2)` but please note that multi-GPU inside interactive / notebook environments is considered experimental and unstable. Your mileage may vary.\n",
      "GPU available: True (cuda), used: True\n",
      "TPU available: False, using: 0 TPU cores\n",
      "IPU available: False, using: 0 IPUs\n",
      "HPU available: False, using: 0 HPUs\n"
     ]
    },
    {
     "name": "stdout",
     "output_type": "stream",
     "text": [
      "set_normal_train\n"
     ]
    },
    {
     "name": "stderr",
     "output_type": "stream",
     "text": [
      "LOCAL_RANK: 0 - CUDA_VISIBLE_DEVICES: [0,1]\n"
     ]
    },
    {
     "name": "stdout",
     "output_type": "stream",
     "text": [
      "Testing DataLoader 0: 100%|█████████████████████████████████| 10/10 [00:00<00:00, 160.44it/s]\n",
      "15.1_enc_classify/4cnn_64-8-1000-64-8-1000-42\n",
      "15.1_enc_classify/4cnn_64-8-1000-64-8-1000-42 lightning_logs/15.1_enc_classify/4cnn_64-8-1000-64-8-1000-42/version_0/checkpoints/sample_epoch=599-step=2400-val_loss=0.637562.ckpt\n"
     ]
    },
    {
     "name": "stderr",
     "output_type": "stream",
     "text": [
      "Trainer will use only 1 of 2 GPUs because it is running inside an interactive / notebook environment. You may try to set `Trainer(devices=2)` but please note that multi-GPU inside interactive / notebook environments is considered experimental and unstable. Your mileage may vary.\n",
      "GPU available: True (cuda), used: True\n",
      "TPU available: False, using: 0 TPU cores\n",
      "IPU available: False, using: 0 IPUs\n",
      "HPU available: False, using: 0 HPUs\n"
     ]
    },
    {
     "name": "stdout",
     "output_type": "stream",
     "text": [
      "set_normal_train\n"
     ]
    },
    {
     "name": "stderr",
     "output_type": "stream",
     "text": [
      "LOCAL_RANK: 0 - CUDA_VISIBLE_DEVICES: [0,1]\n"
     ]
    },
    {
     "name": "stdout",
     "output_type": "stream",
     "text": [
      "Testing DataLoader 0: 100%|█████████████████████████████████| 16/16 [00:00<00:00, 157.18it/s]\n",
      "15.1_enc_classify/4cnn_64-8-5000-64-5-5000-42\n",
      "15.1_enc_classify/4cnn_64-8-5000-64-5-5000-42 lightning_logs/15.1_enc_classify/4cnn_64-8-5000-64-5-5000-42/version_0/checkpoints/sample_epoch=249-step=3250-val_loss=0.136883.ckpt\n"
     ]
    },
    {
     "name": "stderr",
     "output_type": "stream",
     "text": [
      "Trainer will use only 1 of 2 GPUs because it is running inside an interactive / notebook environment. You may try to set `Trainer(devices=2)` but please note that multi-GPU inside interactive / notebook environments is considered experimental and unstable. Your mileage may vary.\n",
      "GPU available: True (cuda), used: True\n",
      "TPU available: False, using: 0 TPU cores\n",
      "IPU available: False, using: 0 IPUs\n",
      "HPU available: False, using: 0 HPUs\n"
     ]
    },
    {
     "name": "stdout",
     "output_type": "stream",
     "text": [
      "set_normal_train\n"
     ]
    },
    {
     "name": "stderr",
     "output_type": "stream",
     "text": [
      "LOCAL_RANK: 0 - CUDA_VISIBLE_DEVICES: [0,1]\n"
     ]
    },
    {
     "name": "stdout",
     "output_type": "stream",
     "text": [
      "Testing DataLoader 0: 100%|█████████████████████████████████| 10/10 [00:00<00:00, 139.03it/s]\n",
      "15.1_enc_classify/4cnn_64-8-5000-64-8-5000-42\n",
      "15.1_enc_classify/4cnn_64-8-5000-64-8-5000-42 lightning_logs/15.1_enc_classify/4cnn_64-8-5000-64-8-5000-42/version_0/checkpoints/sample_epoch=479-step=9600-val_loss=0.501924.ckpt\n"
     ]
    },
    {
     "name": "stderr",
     "output_type": "stream",
     "text": [
      "Trainer will use only 1 of 2 GPUs because it is running inside an interactive / notebook environment. You may try to set `Trainer(devices=2)` but please note that multi-GPU inside interactive / notebook environments is considered experimental and unstable. Your mileage may vary.\n",
      "GPU available: True (cuda), used: True\n",
      "TPU available: False, using: 0 TPU cores\n",
      "IPU available: False, using: 0 IPUs\n",
      "HPU available: False, using: 0 HPUs\n"
     ]
    },
    {
     "name": "stdout",
     "output_type": "stream",
     "text": [
      "set_normal_train\n"
     ]
    },
    {
     "name": "stderr",
     "output_type": "stream",
     "text": [
      "LOCAL_RANK: 0 - CUDA_VISIBLE_DEVICES: [0,1]\n"
     ]
    },
    {
     "name": "stdout",
     "output_type": "stream",
     "text": [
      "Testing DataLoader 0: 100%|█████████████████████████████████| 16/16 [00:00<00:00, 142.35it/s]\n"
     ]
    }
   ],
   "source": [
    "args.eval_mode = 1\n",
    "\n",
    "if args.eval_mode:\n",
    "    log_save_dir = \"lightning_logs\"\n",
    "    log_save_name = \"15.1_enc_classify/{}-{}-{}-{}\"\n",
    "    args.random_seed = \"42\"\n",
    "    result_save_dict = {}\n",
    "    \n",
    "    for args.model_name in \"4cnn_128 4cnn_64\".split(\" \"):\n",
    "        for args.train_limit_data in \"1000 5000\".split(\" \"):\n",
    "            for args.class_num in [5, 8]:\n",
    "                model_name = f\"{args.model_name}-8-{args.train_limit_data}-64\"\n",
    "                \n",
    "                save_model_folder = log_save_name.format(model_name, args.class_num, args.train_limit_data, args.random_seed)\n",
    "                save_model_dir = os.path.join(log_save_dir, save_model_folder)\n",
    "                print(save_model_folder)\n",
    "                \n",
    "                weight = glob.glob(os.path.join(save_model_dir, \"version_0\", \"checkpoints\", \"*.ckpt\"))[0]\n",
    "                print(save_model_folder, weight)\n",
    "\n",
    "                net = AE1DMaxPoolBNClassifierModel.load_from_checkpoint(weight)\n",
    "                data_module = ALDataModule_v1.load_from_checkpoint(weight)\n",
    "                data_module.set_normal_train()\n",
    "\n",
    "                trainer = L.Trainer()\n",
    "                trainer.test(model=net, datamodule=data_module, verbose=False)\n",
    "                \n",
    "                test_acc = trainer.logged_metrics[\"test_acc\"]\n",
    "                result_save_dict[save_model_folder] = test_acc\n"
   ]
  },
  {
   "cell_type": "code",
   "execution_count": 26,
   "metadata": {},
   "outputs": [
    {
     "name": "stdout",
     "output_type": "stream",
     "text": [
      "dict_keys(['15.1_enc_classify/4cnn_128-8-1000-64-5-1000-42', '15.1_enc_classify/4cnn_128-8-1000-64-8-1000-42', '15.1_enc_classify/4cnn_128-8-5000-64-5-5000-42', '15.1_enc_classify/4cnn_128-8-5000-64-8-5000-42', '15.1_enc_classify/4cnn_64-8-1000-64-5-1000-42', '15.1_enc_classify/4cnn_64-8-1000-64-8-1000-42', '15.1_enc_classify/4cnn_64-8-5000-64-5-5000-42', '15.1_enc_classify/4cnn_64-8-5000-64-8-5000-42'])\n"
     ]
    }
   ],
   "source": [
    "print(result_save_dict.keys())"
   ]
  },
  {
   "cell_type": "code",
   "execution_count": 33,
   "metadata": {},
   "outputs": [
    {
     "name": "stdout",
     "output_type": "stream",
     "text": [
      "15.1_enc_classify/4cnn_128-8-5000-64-5-5000-42\n",
      "15.1_enc_classify/4cnn_64-8-5000-64-5-5000-42\n",
      "15.1_enc_classify/4cnn_128-8-5000-64-8-5000-42\n",
      "15.1_enc_classify/4cnn_64-8-5000-64-8-5000-42\n"
     ]
    },
    {
     "name": "stderr",
     "output_type": "stream",
     "text": [
      "/tmp/ipykernel_100109/473093920.py:27: UserWarning: The figure layout has changed to tight\n",
      "  plt.tight_layout()\n"
     ]
    },
    {
     "data": {
      "image/png": "[encoded data removed]",
      "text/plain": [
       "<Figure size 400x250 with 1 Axes>"
      ]
     },
     "metadata": {},
     "output_type": "display_data"
    }
   ],
   "source": [
    "if args.eval_mode:\n",
    "    fig, ax = plt.subplots(layout='constrained', figsize=(4, 2.5))\n",
    "    args.random_seed = 42\n",
    "    args.train_limit_data = \"5000\"\n",
    "    \n",
    "    for args.class_num in [5, 8]:\n",
    "        x = []\n",
    "        for args.model_name in \"4cnn_128 4cnn_64\".split(\" \"):\n",
    "            model_name = f\"{args.model_name}-8-{args.train_limit_data}-64\"\n",
    "            save_model_folder = log_save_name.format(model_name, args.class_num, args.train_limit_data, args.random_seed)\n",
    "            print(save_model_folder)\n",
    "            x.append(round(result_save_dict[save_model_folder].item(), 3))\n",
    "\n",
    "        ax.plot(x, label=f\"{args.class_num} classes\", marker=\"o\")\n",
    "        for i, j in enumerate(x):\n",
    "            ax.annotate(str(j),xy=(i-0.04,j+0.01))\n",
    "        \n",
    "    # ax.set_title(f'Accuracy of Classifier class_num={args.class_num} train_data_number={args.train_limit_data}')\n",
    "    \n",
    "    ax.set_ylabel('Accuracy')\n",
    "    ax.set_xlabel('Model name')\n",
    "    \n",
    "    ax.set_xticks([0, 1], [\"4cnn_64\", \"4cnn_128\"])\n",
    "    ax.set_ylim(0.5, 1)\n",
    "    \n",
    "    ax.legend()\n",
    "    plt.tight_layout()"
   ]
  },
  {
   "cell_type": "code",
   "execution_count": null,
   "metadata": {},
   "outputs": [],
   "source": []
  }
 ],
 "metadata": {
  "kernelspec": {
   "display_name": "Python 3 (ipykernel)",
   "language": "python",
   "name": "python3"
  },
  "language_info": {
   "codemirror_mode": {
    "name": "ipython",
    "version": 3
   },
   "file_extension": ".py",
   "mimetype": "text/x-python",
   "name": "python",
   "nbconvert_exporter": "python",
   "pygments_lexer": "ipython3",
   "version": "3.8.18"
  }
 },
 "nbformat": 4,
 "nbformat_minor": 4
}
